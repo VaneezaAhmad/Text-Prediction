{
  "nbformat": 4,
  "nbformat_minor": 0,
  "metadata": {
    "kernelspec": {
      "display_name": "Python 3",
      "language": "python",
      "name": "python3"
    },
    "language_info": {
      "codemirror_mode": {
        "name": "ipython",
        "version": 3
      },
      "file_extension": ".py",
      "mimetype": "text/x-python",
      "name": "python",
      "nbconvert_exporter": "python",
      "pygments_lexer": "ipython3",
      "version": "3.8.5"
    },
    "toc": {
      "base_numbering": 1,
      "nav_menu": {},
      "number_sections": true,
      "sideBar": true,
      "skip_h1_title": false,
      "title_cell": "Table of Contents",
      "title_sidebar": "Contents",
      "toc_cell": false,
      "toc_position": {
        "height": "calc(100% - 180px)",
        "left": "10px",
        "top": "150px",
        "width": "288px"
      },
      "toc_section_display": true,
      "toc_window_display": true
    },
    "colab": {
      "name": "Urdu-predictive_text.ipynb",
      "provenance": [],
      "collapsed_sections": [],
      "toc_visible": true,
      "include_colab_link": true
    },
    "accelerator": "GPU"
  },
  "cells": [
    {
      "cell_type": "markdown",
      "metadata": {
        "id": "view-in-github",
        "colab_type": "text"
      },
      "source": [
        "<a href=\"https://colab.research.google.com/github/VaneezaAhmad/Text-Prediction/blob/main/Urdu_predictive_text.ipynb\" target=\"_parent\"><img src=\"https://colab.research.google.com/assets/colab-badge.svg\" alt=\"Open In Colab\"/></a>"
      ]
    },
    {
      "cell_type": "markdown",
      "metadata": {
        "id": "Or3TwvUGz_ax"
      },
      "source": [
        "## Import in relevant libraries"
      ]
    },
    {
      "cell_type": "code",
      "metadata": {
        "ExecuteTime": {
          "end_time": "2021-07-25T21:39:18.093821Z",
          "start_time": "2021-07-25T21:39:17.095490Z"
        },
        "id": "lMvy_gWYz_az"
      },
      "source": [
        "import pandas as pd\n",
        "import matplotlib.pyplot as plt\n",
        "import numpy as np"
      ],
      "execution_count": 1,
      "outputs": []
    },
    {
      "cell_type": "code",
      "metadata": {
        "ExecuteTime": {
          "end_time": "2021-07-25T21:41:23.747355Z",
          "start_time": "2021-07-25T21:41:22.367221Z"
        },
        "id": "YVsk4b_Vz_a0"
      },
      "source": [
        "import nltk"
      ],
      "execution_count": 2,
      "outputs": []
    },
    {
      "cell_type": "code",
      "metadata": {
        "ExecuteTime": {
          "end_time": "2021-07-26T15:16:51.594395Z",
          "start_time": "2021-07-26T15:16:38.168388Z"
        },
        "id": "hosbJEO1z_a1"
      },
      "source": [
        "import spacy"
      ],
      "execution_count": 3,
      "outputs": []
    },
    {
      "cell_type": "code",
      "metadata": {
        "id": "WV3LlP3Uz_a_"
      },
      "source": [
        "import tensorflow as tf\n"
      ],
      "execution_count": 38,
      "outputs": []
    },
    {
      "cell_type": "code",
      "metadata": {
        "ExecuteTime": {
          "end_time": "2021-07-27T15:47:48.654719Z",
          "start_time": "2021-07-27T15:47:48.651865Z"
        },
        "id": "2utyg_--z_a8"
      },
      "source": [
        "from nltk.probability import FreqDist"
      ],
      "execution_count": 23,
      "outputs": []
    },
    {
      "cell_type": "code",
      "metadata": {
        "id": "hOIBi-AD6XAC"
      },
      "source": [
        "from keras.wrappers.scikit_learn import KerasClassifier\n",
        "from sklearn.model_selection import GridSearchCV"
      ],
      "execution_count": 39,
      "outputs": []
    },
    {
      "cell_type": "code",
      "metadata": {
        "ExecuteTime": {
          "end_time": "2021-07-27T16:11:46.898359Z",
          "start_time": "2021-07-27T16:11:46.829620Z"
        },
        "id": "s1qI540wz_bA"
      },
      "source": [
        "import pickle\n",
        "from keras.models import load_model\n",
        "from tensorflow.keras.callbacks import EarlyStopping\n",
        "from keras.models import Sequential, load_model\n",
        "from keras.layers import LSTM\n",
        "from keras.layers.core import Dense, Activation, Dropout\n",
        "from keras.optimizers import RMSprop"
      ],
      "execution_count": 46,
      "outputs": []
    },
    {
      "cell_type": "markdown",
      "metadata": {
        "id": "rAkCRuk9z_a1"
      },
      "source": [
        "# Read in data"
      ]
    },
    {
      "cell_type": "code",
      "metadata": {
        "ExecuteTime": {
          "end_time": "2021-07-27T15:39:13.470224Z",
          "start_time": "2021-07-27T15:39:13.450645Z"
        },
        "id": "yZvY6xlAz_a1"
      },
      "source": [
        "import glob\n",
        "\n",
        "def read_first_line(file):\n",
        "    \"\"\"Gets the first line from a file.\n",
        "\n",
        "    Returns\n",
        "    -------\n",
        "    str\n",
        "        the first line text of the input file\n",
        "    \"\"\"\n",
        "    with open(file, 'rt') as fd:\n",
        "        first_line = fd.readline()\n",
        "    return first_line\n",
        "\n",
        "def merge_per_folder(folder_path, output_filename):\n",
        "    \"\"\"Merges first lines of text files in one folder, and\n",
        "    writes combined lines into new output file\n",
        "\n",
        "    Parameters\n",
        "    ----------\n",
        "    folder_path : str\n",
        "        String representation of the folder path containing the text files.\n",
        "    output_filename : str\n",
        "        Name of the output file the merged lines will be written to.\n",
        "    \"\"\"\n",
        "    # make sure there's a slash to the folder path \n",
        "    folder_path += \"\" if folder_path[-1] == \"/\" else \"/\"\n",
        "    # get all text files\n",
        "    txt_files = glob.glob(folder_path + \"*.txt\")\n",
        "    # get first lines; map to each text file (sorted)\n",
        "    output_strings = map(read_first_line, sorted(txt_files))\n",
        "    output_content = \"\".join(output_strings)\n",
        "    # write to file\n",
        "    with open(folder_path + output_filename, 'wt') as outfile:\n",
        "        outfile.write(output_content)"
      ],
      "execution_count": null,
      "outputs": []
    },
    {
      "cell_type": "code",
      "metadata": {
        "colab": {
          "resources": {
            "http://localhost:8080/nbextensions/google.colab/files.js": {
              "data": "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",
              "ok": true,
              "headers": [
                [
                  "content-type",
                  "application/javascript"
                ]
              ],
              "status": 200,
              "status_text": ""
            }
          },
          "base_uri": "https://localhost:8080/",
          "height": 72
        },
        "id": "t9xB1rK00CvA",
        "outputId": "fe8699e6-e968-489f-b94b-38915011f0e1"
      },
      "source": [
        "from google.colab import files\n",
        "uploaded = files.upload()\n"
      ],
      "execution_count": 4,
      "outputs": [
        {
          "output_type": "display_data",
          "data": {
            "text/html": [
              "\n",
              "     <input type=\"file\" id=\"files-b5bcc6c4-3159-4445-a2c4-1c1f804d2229\" name=\"files[]\" multiple disabled\n",
              "        style=\"border:none\" />\n",
              "     <output id=\"result-b5bcc6c4-3159-4445-a2c4-1c1f804d2229\">\n",
              "      Upload widget is only available when the cell has been executed in the\n",
              "      current browser session. Please rerun this cell to enable.\n",
              "      </output>\n",
              "      <script src=\"/nbextensions/google.colab/files.js\"></script> "
            ],
            "text/plain": [
              "<IPython.core.display.HTML object>"
            ]
          },
          "metadata": {
            "tags": []
          }
        },
        {
          "output_type": "stream",
          "text": [
            "Saving data.txt to data.txt\n"
          ],
          "name": "stdout"
        }
      ]
    },
    {
      "cell_type": "code",
      "metadata": {
        "ExecuteTime": {
          "end_time": "2021-07-27T15:39:14.777523Z",
          "start_time": "2021-07-27T15:39:14.771448Z"
        },
        "id": "PGrqqUqWz_a2"
      },
      "source": [
        "# read_first_line(\"urdu-data/1.txt\")"
      ],
      "execution_count": null,
      "outputs": []
    },
    {
      "cell_type": "code",
      "metadata": {
        "ExecuteTime": {
          "end_time": "2021-07-27T15:39:16.129241Z",
          "start_time": "2021-07-27T15:39:15.715556Z"
        },
        "colab": {
          "base_uri": "https://localhost:8080/",
          "height": 266
        },
        "id": "fhG870ZXz_a2",
        "outputId": "56e5e3ec-7a60-48e2-e93e-da4b8b7d23ad"
      },
      "source": [
        "merge_per_folder(\"urdu-data\", \"data.txt\")"
      ],
      "execution_count": null,
      "outputs": [
        {
          "output_type": "error",
          "ename": "FileNotFoundError",
          "evalue": "ignored",
          "traceback": [
            "\u001b[0;31m---------------------------------------------------------------------------\u001b[0m",
            "\u001b[0;31mFileNotFoundError\u001b[0m                         Traceback (most recent call last)",
            "\u001b[0;32m<ipython-input-54-bb7656451a58>\u001b[0m in \u001b[0;36m<module>\u001b[0;34m()\u001b[0m\n\u001b[0;32m----> 1\u001b[0;31m \u001b[0mmerge_per_folder\u001b[0m\u001b[0;34m(\u001b[0m\u001b[0;34m\"urdu-data\"\u001b[0m\u001b[0;34m,\u001b[0m \u001b[0;34m\"data.txt\"\u001b[0m\u001b[0;34m)\u001b[0m\u001b[0;34m\u001b[0m\u001b[0;34m\u001b[0m\u001b[0m\n\u001b[0m",
            "\u001b[0;32m<ipython-input-52-9a6bcabc09e5>\u001b[0m in \u001b[0;36mmerge_per_folder\u001b[0;34m(folder_path, output_filename)\u001b[0m\n\u001b[1;32m     32\u001b[0m     \u001b[0moutput_content\u001b[0m \u001b[0;34m=\u001b[0m \u001b[0;34m\"\"\u001b[0m\u001b[0;34m.\u001b[0m\u001b[0mjoin\u001b[0m\u001b[0;34m(\u001b[0m\u001b[0moutput_strings\u001b[0m\u001b[0;34m)\u001b[0m\u001b[0;34m\u001b[0m\u001b[0;34m\u001b[0m\u001b[0m\n\u001b[1;32m     33\u001b[0m     \u001b[0;31m# write to file\u001b[0m\u001b[0;34m\u001b[0m\u001b[0;34m\u001b[0m\u001b[0;34m\u001b[0m\u001b[0m\n\u001b[0;32m---> 34\u001b[0;31m     \u001b[0;32mwith\u001b[0m \u001b[0mopen\u001b[0m\u001b[0;34m(\u001b[0m\u001b[0mfolder_path\u001b[0m \u001b[0;34m+\u001b[0m \u001b[0moutput_filename\u001b[0m\u001b[0;34m,\u001b[0m \u001b[0;34m'wt'\u001b[0m\u001b[0;34m)\u001b[0m \u001b[0;32mas\u001b[0m \u001b[0moutfile\u001b[0m\u001b[0;34m:\u001b[0m\u001b[0;34m\u001b[0m\u001b[0;34m\u001b[0m\u001b[0m\n\u001b[0m\u001b[1;32m     35\u001b[0m         \u001b[0moutfile\u001b[0m\u001b[0;34m.\u001b[0m\u001b[0mwrite\u001b[0m\u001b[0;34m(\u001b[0m\u001b[0moutput_content\u001b[0m\u001b[0;34m)\u001b[0m\u001b[0;34m\u001b[0m\u001b[0;34m\u001b[0m\u001b[0m\n",
            "\u001b[0;31mFileNotFoundError\u001b[0m: [Errno 2] No such file or directory: 'urdu-data/data.txt'"
          ]
        }
      ]
    },
    {
      "cell_type": "code",
      "metadata": {
        "ExecuteTime": {
          "end_time": "2021-07-27T15:39:16.180379Z",
          "start_time": "2021-07-27T15:39:16.172764Z"
        },
        "id": "VUf_NnYLz_a2"
      },
      "source": [
        "urdu =  open(\"data.txt\", \"r\", encoding=\"utf_8\").read()"
      ],
      "execution_count": 5,
      "outputs": []
    },
    {
      "cell_type": "code",
      "metadata": {
        "ExecuteTime": {
          "end_time": "2021-07-26T21:11:44.017607Z",
          "start_time": "2021-07-26T21:11:43.999898Z"
        },
        "colab": {
          "base_uri": "https://localhost:8080/"
        },
        "id": "y1waUYdAz_a3",
        "outputId": "5185d8b2-b00a-4aa0-8e87-9ac58468199d"
      },
      "source": [
        "len(urdu)"
      ],
      "execution_count": 6,
      "outputs": [
        {
          "output_type": "execute_result",
          "data": {
            "text/plain": [
              "147477"
            ]
          },
          "metadata": {
            "tags": []
          },
          "execution_count": 6
        }
      ]
    },
    {
      "cell_type": "markdown",
      "metadata": {
        "id": "xDWXKrwOz_a4"
      },
      "source": [
        "# Preprocessing"
      ]
    },
    {
      "cell_type": "markdown",
      "metadata": {
        "id": "WhC42poiz_a4"
      },
      "source": [
        "## Spacy"
      ]
    },
    {
      "cell_type": "code",
      "metadata": {
        "ExecuteTime": {
          "end_time": "2021-07-27T15:39:20.266311Z",
          "start_time": "2021-07-27T15:39:20.088076Z"
        },
        "id": "JhFTirpoz_a5"
      },
      "source": [
        "nlp = spacy.blank(\"ur\")"
      ],
      "execution_count": 7,
      "outputs": []
    },
    {
      "cell_type": "code",
      "metadata": {
        "ExecuteTime": {
          "end_time": "2021-07-27T15:39:20.777735Z",
          "start_time": "2021-07-27T15:39:20.477650Z"
        },
        "id": "vSfKxpamz_a5"
      },
      "source": [
        "doc = nlp(urdu)"
      ],
      "execution_count": 8,
      "outputs": []
    },
    {
      "cell_type": "code",
      "metadata": {
        "ExecuteTime": {
          "end_time": "2021-07-27T15:39:20.879007Z",
          "start_time": "2021-07-27T15:39:20.874861Z"
        },
        "id": "f0B0wI46z_a5"
      },
      "source": [
        "punctuation=[\"۔؟،\\nn\\1234567890\"]"
      ],
      "execution_count": 9,
      "outputs": []
    },
    {
      "cell_type": "code",
      "metadata": {
        "ExecuteTime": {
          "end_time": "2021-07-27T15:44:50.043374Z",
          "start_time": "2021-07-27T15:44:50.039205Z"
        },
        "colab": {
          "base_uri": "https://localhost:8080/",
          "height": 35
        },
        "id": "Xy57Vmhez_a5",
        "outputId": "9b001f5a-1313-42e8-c9be-d19cb6388924"
      },
      "source": [
        "import string\n",
        "string.punctuation"
      ],
      "execution_count": 10,
      "outputs": [
        {
          "output_type": "execute_result",
          "data": {
            "application/vnd.google.colaboratory.intrinsic+json": {
              "type": "string"
            },
            "text/plain": [
              "'!\"#$%&\\'()*+,-./:;<=>?@[\\\\]^_`{|}~'"
            ]
          },
          "metadata": {
            "tags": []
          },
          "execution_count": 10
        }
      ]
    },
    {
      "cell_type": "code",
      "metadata": {
        "ExecuteTime": {
          "end_time": "2021-07-27T15:44:50.484997Z",
          "start_time": "2021-07-27T15:44:50.434146Z"
        },
        "id": "TCnxoZANz_a6"
      },
      "source": [
        "urdu_words = [token.text for token in doc if token.text not in \"′″،۔؟،ء\\n-\\n\\n-.\\n ./;:°،ء'\"]\n"
      ],
      "execution_count": 11,
      "outputs": []
    },
    {
      "cell_type": "code",
      "metadata": {
        "ExecuteTime": {
          "end_time": "2021-07-27T15:45:43.421960Z",
          "start_time": "2021-07-27T15:45:43.413704Z"
        },
        "id": "wJ4y6tR_z_a6"
      },
      "source": [
        "urdu_words = [token for token in urdu_words if token not in \"،‘‘..{.,′″،/،ء'،./°،ء'.-\"\"'-.[\\‘‘؎،)‘\"]\n"
      ],
      "execution_count": 13,
      "outputs": []
    },
    {
      "cell_type": "code",
      "metadata": {
        "ExecuteTime": {
          "end_time": "2021-07-27T15:45:43.842628Z",
          "start_time": "2021-07-27T15:45:43.837963Z"
        },
        "id": "v39PO5Umz_a6"
      },
      "source": [
        "urdu_words = [token for token in urdu_words if token not in \"·èøēŁłąśóżóțŁ'ù'ó'à'Î'é\"]"
      ],
      "execution_count": 24,
      "outputs": []
    },
    {
      "cell_type": "code",
      "metadata": {
        "ExecuteTime": {
          "end_time": "2021-07-27T15:45:44.805441Z",
          "start_time": "2021-07-27T15:45:44.800878Z"
        },
        "id": "VQK1idnsz_a6"
      },
      "source": [
        "urdu_words = [token for token in urdu_words if token not in \"،،\\n \\n،,\\n,,\\n\\n,,,\\n\\n\\n,,,,\\n\\n\\n\\n\\t\\t\\t\\t\\t\\t\\t\\t\\n\"]"
      ],
      "execution_count": 27,
      "outputs": []
    },
    {
      "cell_type": "code",
      "metadata": {
        "ExecuteTime": {
          "end_time": "2021-07-27T15:47:31.719026Z",
          "start_time": "2021-07-27T15:47:31.713538Z"
        },
        "id": "uawnC_oFz_a7"
      },
      "source": [
        "urdu_words = [token for token in urdu_words if token not in \")‘‘کوما': 2؛)‘‘کوما)‘‘شونین)‘‘شونین': 1\"]"
      ],
      "execution_count": 30,
      "outputs": []
    },
    {
      "cell_type": "code",
      "metadata": {
        "ExecuteTime": {
          "end_time": "2021-07-27T15:47:32.340784Z",
          "start_time": "2021-07-27T15:47:32.333504Z"
        },
        "id": "RVg2aqA4z_a7"
      },
      "source": [
        "urdu_words = [token for token in urdu_words if token not in string.punctuation]"
      ],
      "execution_count": 17,
      "outputs": []
    },
    {
      "cell_type": "code",
      "metadata": {
        "ExecuteTime": {
          "end_time": "2021-07-27T15:47:32.968585Z",
          "start_time": "2021-07-27T15:47:32.929055Z"
        },
        "id": "FuUDynRjz_a7"
      },
      "source": [
        "urdu_words = [word.translate(str.maketrans('', '', '...\"0123456789!+-')) \\\n",
        "                  for word in urdu_words]"
      ],
      "execution_count": 18,
      "outputs": []
    },
    {
      "cell_type": "code",
      "metadata": {
        "ExecuteTime": {
          "end_time": "2021-07-27T15:47:33.590192Z",
          "start_time": "2021-07-27T15:47:33.540571Z"
        },
        "id": "meD0Lkv8z_a7"
      },
      "source": [
        "urdu_words = [word.translate(str.maketrans('', '', 'abcdefghijklmnopqrstuvwxyzABCDEFGHIJKLMNOPQRSTUVWXYZ')) \\\n",
        "                  for word in urdu_words]"
      ],
      "execution_count": 19,
      "outputs": []
    },
    {
      "cell_type": "code",
      "metadata": {
        "ExecuteTime": {
          "end_time": "2021-07-27T15:47:34.129756Z",
          "start_time": "2021-07-27T15:47:34.125135Z"
        },
        "id": "jMKGnpx3z_a7"
      },
      "source": [
        "urdu_words=[word for word in urdu_words if word != '']"
      ],
      "execution_count": 20,
      "outputs": []
    },
    {
      "cell_type": "code",
      "metadata": {
        "ExecuteTime": {
          "end_time": "2021-07-27T15:47:34.798366Z",
          "start_time": "2021-07-27T15:47:34.794896Z"
        },
        "colab": {
          "base_uri": "https://localhost:8080/"
        },
        "id": "n5keaz2az_a8",
        "outputId": "c5c0b206-c878-47f5-96d6-20aed9ba599c"
      },
      "source": [
        "len(urdu_words)"
      ],
      "execution_count": 21,
      "outputs": [
        {
          "output_type": "execute_result",
          "data": {
            "text/plain": [
              "29192"
            ]
          },
          "metadata": {
            "tags": []
          },
          "execution_count": 21
        }
      ]
    },
    {
      "cell_type": "code",
      "metadata": {
        "ExecuteTime": {
          "end_time": "2021-07-27T15:47:49.815180Z",
          "start_time": "2021-07-27T15:47:49.100900Z"
        },
        "colab": {
          "base_uri": "https://localhost:8080/",
          "height": 726
        },
        "id": "ES1VGiPjz_a8",
        "outputId": "43997965-120e-4d25-bbed-cd52ef14c95a"
      },
      "source": [
        "fdist = FreqDist(urdu_words)\n",
        "plt.figure(figsize=(20, 10))\n",
        "fdist.plot(50);"
      ],
      "execution_count": 24,
      "outputs": [
        {
          "output_type": "stream",
          "text": [
            "/usr/local/lib/python3.7/dist-packages/matplotlib/backends/backend_agg.py:214: RuntimeWarning: Glyph 1729 missing from current font.\n",
            "  font.set_text(s, 0.0, flags=flags)\n",
            "/usr/local/lib/python3.7/dist-packages/matplotlib/backends/backend_agg.py:214: RuntimeWarning: Glyph 1746 missing from current font.\n",
            "  font.set_text(s, 0.0, flags=flags)\n",
            "/usr/local/lib/python3.7/dist-packages/matplotlib/backends/backend_agg.py:183: RuntimeWarning: Glyph 1729 missing from current font.\n",
            "  font.set_text(s, 0, flags=flags)\n",
            "/usr/local/lib/python3.7/dist-packages/matplotlib/backends/backend_agg.py:183: RuntimeWarning: Glyph 1746 missing from current font.\n",
            "  font.set_text(s, 0, flags=flags)\n"
          ],
          "name": "stderr"
        },
        {
          "output_type": "display_data",
          "data": {
            "image/png": "[encoded data removed]",
            "text/plain": [
              "<Figure size 1440x720 with 1 Axes>"
            ]
          },
          "metadata": {
            "tags": [],
            "needs_background": "light"
          }
        }
      ]
    },
    {
      "cell_type": "code",
      "metadata": {
        "ExecuteTime": {
          "end_time": "2021-07-27T15:45:04.111538Z",
          "start_time": "2021-07-27T15:45:04.106567Z"
        },
        "colab": {
          "base_uri": "https://localhost:8080/"
        },
        "id": "HMRA9y1wz_a8",
        "outputId": "257f9f69-73d0-4daa-c1ae-69c1cbb03b8c"
      },
      "source": [
        "urdu_words[:10]"
      ],
      "execution_count": 25,
      "outputs": [
        {
          "output_type": "execute_result",
          "data": {
            "text/plain": [
              "['زیورخ',\n",
              " 'کیلیفورنیا',\n",
              " 'ریاستہائے',\n",
              " 'متحدہ',\n",
              " 'امریکا',\n",
              " 'کا',\n",
              " 'ایک',\n",
              " 'انانکارپوریٹڈ',\n",
              " 'علاقہ',\n",
              " 'جو']"
            ]
          },
          "metadata": {
            "tags": []
          },
          "execution_count": 25
        }
      ]
    },
    {
      "cell_type": "code",
      "metadata": {
        "ExecuteTime": {
          "end_time": "2021-07-27T15:47:39.310445Z",
          "start_time": "2021-07-27T15:47:39.296320Z"
        },
        "id": "LHE5X3mxz_a9"
      },
      "source": [
        "unique_words = np.unique(urdu_words)\n",
        "unique_word_index = dict((c, i) for i, c in enumerate(unique_words))"
      ],
      "execution_count": 31,
      "outputs": []
    },
    {
      "cell_type": "code",
      "metadata": {
        "ExecuteTime": {
          "end_time": "2021-07-27T15:47:39.827321Z",
          "start_time": "2021-07-27T15:47:39.786618Z"
        },
        "colab": {
          "base_uri": "https://localhost:8080/"
        },
        "id": "yUsyWrx5z_a9",
        "outputId": "a9985b17-0d18-4d09-fb68-dca3ca0e1165"
      },
      "source": [
        "unique_word_index"
      ],
      "execution_count": 32,
      "outputs": [
        {
          "output_type": "execute_result",
          "data": {
            "text/plain": [
              "{'ء': 0,\n",
              " 'آ': 1,\n",
              " 'آئر': 2,\n",
              " 'آئرائی': 3,\n",
              " 'آئرس': 4,\n",
              " 'آئرش': 5,\n",
              " 'آئرلینڈ': 6,\n",
              " 'آئس': 7,\n",
              " 'آئن': 8,\n",
              " 'آئون': 9,\n",
              " 'آئی': 10,\n",
              " 'آئینہ': 11,\n",
              " 'آئیوس': 12,\n",
              " 'آئیووا': 13,\n",
              " 'آئیں': 14,\n",
              " 'آئے': 15,\n",
              " 'آب': 16,\n",
              " 'آباد': 17,\n",
              " 'آبادی': 18,\n",
              " 'آبادیات': 19,\n",
              " 'آبادیاتی': 20,\n",
              " 'آبادیوں': 21,\n",
              " 'آبرود': 22,\n",
              " 'آبشار': 23,\n",
              " 'آبشاروں': 24,\n",
              " 'آبنائے': 25,\n",
              " 'آتا': 26,\n",
              " 'آتش': 27,\n",
              " 'آتشزدگی': 28,\n",
              " 'آتشی': 29,\n",
              " 'آتی': 30,\n",
              " 'آتیں': 31,\n",
              " 'آتے': 32,\n",
              " 'آثار': 33,\n",
              " 'آج': 34,\n",
              " 'آجائیں': 35,\n",
              " 'آجاتا': 36,\n",
              " 'آجانا': 37,\n",
              " 'آخر': 38,\n",
              " 'آخری': 39,\n",
              " 'آدبودووا': 40,\n",
              " 'آدمز': 41,\n",
              " 'آدمی': 42,\n",
              " 'آدھی': 43,\n",
              " 'آدیامان': 44,\n",
              " 'آذربائجان': 45,\n",
              " 'آذربائیجان': 46,\n",
              " 'آر': 47,\n",
              " 'آرائش': 48,\n",
              " 'آرادان': 49,\n",
              " 'آرال': 50,\n",
              " 'آرام': 51,\n",
              " 'آراین': 52,\n",
              " 'آرایک': 53,\n",
              " 'آرتوین': 54,\n",
              " 'آرتھر': 55,\n",
              " 'آرتھوڈوکس': 56,\n",
              " 'آرزو': 57,\n",
              " 'آرمینیا': 58,\n",
              " 'آرٹسشعبہ': 59,\n",
              " 'آرکنساس': 60,\n",
              " 'آریہ': 61,\n",
              " 'آزاد': 62,\n",
              " 'آزادی': 63,\n",
              " 'آزار': 64,\n",
              " 'آزما': 65,\n",
              " 'آزہیگوڈی': 66,\n",
              " 'آسام': 67,\n",
              " 'آسان': 68,\n",
              " 'آسمان': 69,\n",
              " 'آسٹریلیا': 70,\n",
              " 'آسگوڈ': 71,\n",
              " 'آغاز': 72,\n",
              " 'آف': 73,\n",
              " 'آفات': 74,\n",
              " 'آفاق': 75,\n",
              " 'آفاقی': 76,\n",
              " 'آفت': 77,\n",
              " 'آفس': 78,\n",
              " 'آقا/': 79,\n",
              " 'آقائے': 80,\n",
              " 'آقسو': 81,\n",
              " 'آل': 82,\n",
              " 'آلات': 83,\n",
              " 'آلاشت': 84,\n",
              " 'آلٹیر': 85,\n",
              " 'آلڈن': 86,\n",
              " 'آلہ': 87,\n",
              " 'آمل': 88,\n",
              " 'آموجود': 89,\n",
              " 'آن': 90,\n",
              " 'آنا': 91,\n",
              " 'آناتاہان': 92,\n",
              " 'آنا۔مطلب': 93,\n",
              " 'آنتوں': 94,\n",
              " 'آنحضرت': 95,\n",
              " 'آنحضرتﷺ': 96,\n",
              " 'آندھرا': 97,\n",
              " 'آنند': 98,\n",
              " 'آنکھ': 99,\n",
              " 'آنگن': 100,\n",
              " 'آنہ': 101,\n",
              " 'آنے': 102,\n",
              " 'آوات': 103,\n",
              " 'آواز': 104,\n",
              " 'آور': 105,\n",
              " 'آوٹ': 106,\n",
              " 'آٹھ': 107,\n",
              " 'آٹھواں': 108,\n",
              " 'آٹھویں': 109,\n",
              " 'آپ': 110,\n",
              " 'آپریٹنگ': 111,\n",
              " 'آپس': 112,\n",
              " 'آپٹیمس': 113,\n",
              " 'آپکہ': 114,\n",
              " 'آپکی': 115,\n",
              " 'آکائی': 116,\n",
              " 'آکر': 117,\n",
              " 'آکسائیڈ': 118,\n",
              " 'آکسی': 119,\n",
              " 'آکسیجن': 120,\n",
              " 'آگ': 121,\n",
              " 'آگریجنتو': 122,\n",
              " 'آگسٹا': 123,\n",
              " 'آگے': 124,\n",
              " 'آہ': 125,\n",
              " 'آہستہ': 126,\n",
              " 'آہنگ': 127,\n",
              " 'آہو': 128,\n",
              " 'آیا': 129,\n",
              " 'آیات': 130,\n",
              " 'آیت': 131,\n",
              " 'آیزو': 132,\n",
              " 'آین': 133,\n",
              " 'آیوپاک': 134,\n",
              " 'آے': 135,\n",
              " 'ؤستروویک': 136,\n",
              " 'ئی': 137,\n",
              " 'ئیے': 138,\n",
              " 'اؤیمے': 139,\n",
              " 'ائیر': 140,\n",
              " 'ااینڈریوز': 141,\n",
              " 'اب': 142,\n",
              " 'اباقا': 143,\n",
              " 'اباوا': 144,\n",
              " 'ابتدا': 145,\n",
              " 'ابتداء': 146,\n",
              " 'ابتدائی': 147,\n",
              " 'ابتدائیییییییی': 148,\n",
              " 'ابراہیم': 149,\n",
              " 'ابراہیمی': 150,\n",
              " 'ابن': 151,\n",
              " 'ابو': 152,\n",
              " 'ابوالبشر': 153,\n",
              " 'ابوظبی': 154,\n",
              " 'ابونصر': 155,\n",
              " 'ابھارنے': 156,\n",
              " 'ابھرا': 157,\n",
              " 'ابھرتی': 158,\n",
              " 'ابھرے': 159,\n",
              " 'ابھی': 160,\n",
              " 'ابی': 161,\n",
              " 'ابیض': 162,\n",
              " 'ابیضاض': 163,\n",
              " 'ابیضیات': 164,\n",
              " 'اتاترک': 165,\n",
              " 'اتارا': 166,\n",
              " 'اتاکپامے': 167,\n",
              " 'اتباع': 168,\n",
              " 'اتحاد': 169,\n",
              " 'اتر': 170,\n",
              " 'اتراکھنڈ': 171,\n",
              " 'اترنا': 172,\n",
              " 'اترپردیش': 173,\n",
              " 'اتفاقی': 174,\n",
              " 'اتنا': 175,\n",
              " 'اتنی': 176,\n",
              " 'اتوار': 177,\n",
              " 'اتَّبِعْ': 178,\n",
              " 'اتیمدائی': 179,\n",
              " 'اثر': 180,\n",
              " 'اثرات': 181,\n",
              " 'اجازت': 182,\n",
              " 'اجتماعی': 183,\n",
              " 'اجرا': 184,\n",
              " 'اجرت': 185,\n",
              " 'اجزا': 186,\n",
              " 'اجزائے': 187,\n",
              " 'اجسام': 188,\n",
              " 'اجلاس': 189,\n",
              " 'اجمالی': 190,\n",
              " 'اجمیر': 191,\n",
              " 'احادیث': 192,\n",
              " 'احاطہ': 193,\n",
              " 'احباب': 194,\n",
              " 'احترام': 195,\n",
              " 'احد': 196,\n",
              " 'احساس': 197,\n",
              " 'احسان': 198,\n",
              " 'احمد': 199,\n",
              " 'احمر': 200,\n",
              " 'احمق': 201,\n",
              " 'احکام': 202,\n",
              " 'احکامات': 203,\n",
              " 'اخبار': 204,\n",
              " 'اخبارات': 205,\n",
              " 'اخبارات،میگزین،ریڈیو': 206,\n",
              " 'اختتام': 207,\n",
              " 'اختر': 208,\n",
              " 'اختصار': 209,\n",
              " 'اختصاصی': 210,\n",
              " 'اختلاف': 211,\n",
              " 'اختلافات': 212,\n",
              " 'اختیار': 213,\n",
              " 'اخذ': 214,\n",
              " 'اخراج': 215,\n",
              " 'اخلافی': 216,\n",
              " 'اخلاق': 217,\n",
              " 'اخلاقی': 218,\n",
              " 'اخلاقیات': 219,\n",
              " 'ادا': 220,\n",
              " 'ادائیگی': 221,\n",
              " 'ادارت': 222,\n",
              " 'اداروں': 223,\n",
              " 'ادارہ': 224,\n",
              " 'ادارے': 225,\n",
              " 'اداکار': 226,\n",
              " 'اداکارائوں': 227,\n",
              " 'اداکاروں': 228,\n",
              " 'اداکارہ': 229,\n",
              " 'اداکاری': 230,\n",
              " 'ادب': 231,\n",
              " 'ادبی': 232,\n",
              " 'ادبیات': 233,\n",
              " 'ادراک': 234,\n",
              " 'ادوار': 235,\n",
              " 'ادویات': 236,\n",
              " 'ادھر': 237,\n",
              " 'ادیب': 238,\n",
              " 'ادیبوں': 239,\n",
              " 'ادیسر': 240,\n",
              " 'اراؤنڈڈسمنٹ': 241,\n",
              " 'ارائیں': 242,\n",
              " 'اراک': 243,\n",
              " 'اراکین': 244,\n",
              " 'ارب': 245,\n",
              " 'ارباب': 246,\n",
              " 'ارتخششتا': 247,\n",
              " 'ارجنٹائن': 248,\n",
              " 'اردن': 249,\n",
              " 'اردو': 250,\n",
              " 'اردگرد': 251,\n",
              " 'ارضیات': 252,\n",
              " 'ارل': 253,\n",
              " 'ارمنی': 254,\n",
              " 'ارومچی': 255,\n",
              " 'ارکان': 256,\n",
              " 'از': 257,\n",
              " 'ازاں': 258,\n",
              " 'ازبکستان': 259,\n",
              " 'ازسر': 260,\n",
              " 'ازمیر': 261,\n",
              " 'ازکابان': 262,\n",
              " 'اس': 263,\n",
              " 'اساتذہ': 264,\n",
              " 'اساس': 265,\n",
              " 'استاد': 266,\n",
              " 'استحصال': 267,\n",
              " 'استحکام': 268,\n",
              " 'استرداد': 269,\n",
              " 'استرو': 270,\n",
              " 'استشناء': 271,\n",
              " 'استعمال': 272,\n",
              " 'استفادہ': 273,\n",
              " 'استفسار': 274,\n",
              " 'استنبول': 275,\n",
              " 'استونیا': 276,\n",
              " 'اسد': 277,\n",
              " 'اسدیہ': 278,\n",
              " 'اسرائیل': 279,\n",
              " 'اسرائیلی': 280,\n",
              " 'اسراراحمد': 281,\n",
              " 'اسلام': 282,\n",
              " 'اسلامی': 283,\n",
              " 'اسلامیہ': 284,\n",
              " 'اسلحہ': 285,\n",
              " 'اسلیم': 286,\n",
              " 'اسمارٹ': 287,\n",
              " 'اسماعیل': 288,\n",
              " 'اسمبلی': 289,\n",
              " 'اسناد': 290,\n",
              " 'اسنے': 291,\n",
              " 'اسود': 292,\n",
              " 'اسودینومہ': 293,\n",
              " 'اسودینہ': 294,\n",
              " 'اسوۂ': 295,\n",
              " 'اسٹار': 296,\n",
              " 'اسٹیج': 297,\n",
              " 'اسٹیشن': 298,\n",
              " 'اسٹیشنوں': 299,\n",
              " 'اسٹیفن': 300,\n",
              " 'اسٹیل': 301,\n",
              " 'اسٹینلی': 302,\n",
              " 'اسٹیون': 303,\n",
              " 'اسٹیڈیم': 304,\n",
              " 'اسپیرانزا': 305,\n",
              " 'اسپین': 306,\n",
              " 'اسکائنگ': 307,\n",
              " 'اسکاٹ': 308,\n",
              " 'اسکاٹلینبڈ': 309,\n",
              " 'اسکرین': 310,\n",
              " 'اسکلیرا': 311,\n",
              " 'اسکول': 312,\n",
              " 'اسکولوں': 313,\n",
              " 'اسکولی': 314,\n",
              " 'اسکیل': 315,\n",
              " 'اسکیلے': 316,\n",
              " 'اسی': 317,\n",
              " 'اسیری': 318,\n",
              " 'اسے': 319,\n",
              " 'اشاعیہ': 320,\n",
              " 'اشخاص': 321,\n",
              " 'اشرف': 322,\n",
              " 'اشعر': 323,\n",
              " 'اشوریوں': 324,\n",
              " 'اشکنازی': 325,\n",
              " 'اشیا': 326,\n",
              " 'اشیاء': 327,\n",
              " 'اصطلاح': 328,\n",
              " 'اصطلاحات': 329,\n",
              " 'اصغر': 330,\n",
              " 'اصفہان': 331,\n",
              " 'اصل': 332,\n",
              " 'اصلاح': 333,\n",
              " 'اصلی': 334,\n",
              " 'اصمعی': 335,\n",
              " 'اصول': 336,\n",
              " 'اضطرابی': 337,\n",
              " 'اضلاع': 338,\n",
              " 'اطاعت': 339,\n",
              " 'اطالوی': 340,\n",
              " 'اطالیہ': 341,\n",
              " 'اطراف': 342,\n",
              " 'اطلاع': 343,\n",
              " 'اطلاعات': 344,\n",
              " 'اطلاعاتی': 345,\n",
              " 'اطلاقی': 346,\n",
              " 'اطمینان': 347,\n",
              " 'اطور': 348,\n",
              " 'اظہار': 349,\n",
              " 'اعتماد': 350,\n",
              " 'اعجاز': 351,\n",
              " 'اعداد': 352,\n",
              " 'اعزاز': 353,\n",
              " 'اعزازی': 354,\n",
              " 'اعضا': 355,\n",
              " 'اعظم': 356,\n",
              " 'اعلان': 357,\n",
              " 'اعلٰی': 358,\n",
              " 'اعلیٰ': 359,\n",
              " 'اعمال': 360,\n",
              " 'اغاز': 361,\n",
              " 'افتتاح': 362,\n",
              " 'افراد': 363,\n",
              " 'افریقا': 364,\n",
              " 'افریقہ': 365,\n",
              " 'افزائش': 366,\n",
              " 'افسانوی': 367,\n",
              " 'افسانہ': 368,\n",
              " 'افسران': 369,\n",
              " 'افسربنا': 370,\n",
              " 'افضل': 371,\n",
              " 'افغان': 372,\n",
              " 'افغانستان': 373,\n",
              " 'افغانی': 374,\n",
              " 'افق': 375,\n",
              " 'افلاطون': 376,\n",
              " 'افواج': 377,\n",
              " 'اقامت': 378,\n",
              " 'اقبال': 379,\n",
              " 'اقتدار': 380,\n",
              " 'اقتصا': 381,\n",
              " 'اقتصادی': 382,\n",
              " 'اقتصادیات': 383,\n",
              " 'اقدار': 384,\n",
              " 'اقدامات': 385,\n",
              " 'اقدس': 386,\n",
              " 'اقسام': 387,\n",
              " 'اقلیتی': 388,\n",
              " 'اقوام': 389,\n",
              " 'الا': 390,\n",
              " 'الائنس': 391,\n",
              " 'الاباما': 392,\n",
              " 'الاحاطہ': 393,\n",
              " 'الادویات': 394,\n",
              " 'الازیغ': 395,\n",
              " 'الاسد': 396,\n",
              " 'الاسلام': 397,\n",
              " 'الاعتقاد': 398,\n",
              " 'الاغواط': 399,\n",
              " 'الاقوامی': 400,\n",
              " 'الامانۃ': 401,\n",
              " 'الانبیاء': 402,\n",
              " 'البانی': 403,\n",
              " 'البتہ': 404,\n",
              " 'البرٹا': 405,\n",
              " 'البغدادي': 406,\n",
              " 'البیلا': 407,\n",
              " 'التکاثر': 408,\n",
              " 'التی': 409,\n",
              " 'الجزائر': 410,\n",
              " 'الجلفہ': 411,\n",
              " 'الجوف': 412,\n",
              " 'الحاج': 413,\n",
              " 'الحارث': 414,\n",
              " 'الحانی': 415,\n",
              " 'الحاکم': 416,\n",
              " 'الحدیث': 417,\n",
              " 'الحدیدہ': 418,\n",
              " 'الحرام': 419,\n",
              " 'الحزن': 420,\n",
              " 'الحسیمہ': 421,\n",
              " 'الحفیظ': 422,\n",
              " 'الحق': 423,\n",
              " 'الحقیقت': 424,\n",
              " 'الحکومت': 425,\n",
              " 'الخط': 426,\n",
              " 'الخطاب': 427,\n",
              " 'الخلافہ': 428,\n",
              " 'الخوخاہ': 429,\n",
              " 'الدار': 430,\n",
              " 'الدین': 431,\n",
              " 'الرحمن': 432,\n",
              " 'الرزاق': 433,\n",
              " 'الرومی': 434,\n",
              " 'الزام': 435,\n",
              " 'الزیار': 436,\n",
              " 'السلام': 437,\n",
              " 'السنہ': 438,\n",
              " 'السَّمٰوٰاتِ': 439,\n",
              " 'السیارہ': 440,\n",
              " 'الشان': 441,\n",
              " 'الشرقیہ': 442,\n",
              " 'الصحیحین': 443,\n",
              " 'الصلاح': 444,\n",
              " 'الصلوۃ': 445,\n",
              " 'العاصمہ': 446,\n",
              " 'العربية\\u200e': 447,\n",
              " 'العزیز': 448,\n",
              " 'العظمٰی': 449,\n",
              " 'العلوم': 450,\n",
              " 'الفاظ': 451,\n",
              " 'الفونسو': 452,\n",
              " 'القادری': 453,\n",
              " 'القمری': 454,\n",
              " 'الله': 455,\n",
              " 'اللہ': 456,\n",
              " 'المؤمنین': 457,\n",
              " 'المجید': 458,\n",
              " 'المحصی': 459,\n",
              " 'المروزي': 460,\n",
              " 'المسائل': 461,\n",
              " 'المستدرک': 462,\n",
              " 'المسیح': 463,\n",
              " 'المعارف': 464,\n",
              " 'المعروف': 465,\n",
              " 'المقدس': 466,\n",
              " 'الملت': 467,\n",
              " 'الملوح': 468,\n",
              " 'الملک': 469,\n",
              " 'المنصور': 470,\n",
              " 'المکتبہ': 471,\n",
              " 'النسل': 472,\n",
              " 'النہار': 473,\n",
              " 'الوکستے': 474,\n",
              " 'الْمُشْرِکِیْنَ': 475,\n",
              " 'الٰہی': 476,\n",
              " 'الٹ': 477,\n",
              " 'الپینا': 478,\n",
              " 'الکاہل': 479,\n",
              " 'الکدیدسریہ': 480,\n",
              " 'الکلمات': 481,\n",
              " 'الکوثر': 482,\n",
              " 'الکونین': 483,\n",
              " 'الگ': 484,\n",
              " 'الہ': 485,\n",
              " 'الہٰ': 486,\n",
              " 'الہی': 487,\n",
              " 'الہیت': 488,\n",
              " 'الیاس': 489,\n",
              " 'الیثی': 490,\n",
              " 'الینوائے': 491,\n",
              " 'الیکسس': 492,\n",
              " 'الیکٹرانک': 493,\n",
              " 'الیکٹرونک': 494,\n",
              " 'الیکٹرونکس': 495,\n",
              " 'امائنو': 496,\n",
              " 'امارات': 497,\n",
              " 'امارت': 498,\n",
              " 'امارتوں': 499,\n",
              " 'امام': 500,\n",
              " 'امان': 501,\n",
              " 'امانس': 502,\n",
              " 'امباتورائی': 503,\n",
              " 'امبر': 504,\n",
              " 'امبورا': 505,\n",
              " 'امتحان': 506,\n",
              " 'امتحانات': 507,\n",
              " 'امتحانی': 508,\n",
              " 'امتيازي': 509,\n",
              " 'امداد': 510,\n",
              " 'امر': 511,\n",
              " 'امرا': 512,\n",
              " 'امرائو': 513,\n",
              " 'امراض': 514,\n",
              " 'امریکا': 515,\n",
              " 'امریکہ': 516,\n",
              " 'امریکی': 517,\n",
              " 'امن': 518,\n",
              " 'اموات': 519,\n",
              " 'امورِ': 520,\n",
              " 'اموی': 521,\n",
              " 'امپھؤ': 522,\n",
              " 'امپیریا': 523,\n",
              " 'امید': 524,\n",
              " 'امیدواروں': 525,\n",
              " 'امیر': 526,\n",
              " 'امیرالجر': 527,\n",
              " 'امین': 528,\n",
              " 'امینِ': 529,\n",
              " 'امیو': 530,\n",
              " 'ان': 531,\n",
              " 'انارکلی': 532,\n",
              " 'انالوگ': 533,\n",
              " 'انانوے': 534,\n",
              " 'انانکارپوریٹڈ': 535,\n",
              " 'انتخاب': 536,\n",
              " 'انتخابات': 537,\n",
              " 'انتخابی': 538,\n",
              " 'انتظآمی': 539,\n",
              " 'انتظار': 540,\n",
              " 'انتظام': 541,\n",
              " 'انتظامی': 542,\n",
              " 'انتظامیہ': 543,\n",
              " 'انتقال': 544,\n",
              " 'انتہا': 545,\n",
              " 'انتہائی': 546,\n",
              " 'انتیس': 547,\n",
              " 'انجام': 548,\n",
              " 'انجنئیر': 549,\n",
              " 'انجیل': 550,\n",
              " 'انحراف': 551,\n",
              " 'انحصار': 552,\n",
              " 'انداز': 553,\n",
              " 'اندازہ': 554,\n",
              " 'اندازہً': 555,\n",
              " 'اندازی': 556,\n",
              " 'اندازے': 557,\n",
              " 'انددیکھی': 558,\n",
              " 'اندر': 559,\n",
              " 'اندراج': 560,\n",
              " 'اندرون': 561,\n",
              " 'اندرونی': 562,\n",
              " 'اندوز': 563,\n",
              " 'اندھے': 564,\n",
              " 'اندیجان': 565,\n",
              " 'انس': 566,\n",
              " 'انسان': 567,\n",
              " 'انسانوں': 568,\n",
              " 'انسانی': 569,\n",
              " 'انسداد': 570,\n",
              " 'انسٹھ': 571,\n",
              " 'انشا': 572,\n",
              " 'انصاف': 573,\n",
              " 'انعام': 574,\n",
              " 'انعامجیتنے': 575,\n",
              " 'انفصام': 576,\n",
              " 'انقرہ': 577,\n",
              " 'انقلابی': 578,\n",
              " 'انُویا': 579,\n",
              " 'انٹاریو': 580,\n",
              " 'انٹرنل': 581,\n",
              " 'انٹرنیشنل': 582,\n",
              " 'انٹرٹینمنٹ': 583,\n",
              " 'انچ': 584,\n",
              " 'انچاس': 585,\n",
              " 'انچیون': 586,\n",
              " 'انڈسٹری': 587,\n",
              " 'انڈو': 588,\n",
              " 'انڈونیشیا': 589,\n",
              " 'انڈیا': 590,\n",
              " 'انڈیانا': 591,\n",
              " 'انڈین': 592,\n",
              " 'انکا': 593,\n",
              " 'انکار': 594,\n",
              " 'انکی': 595,\n",
              " 'انکینی': 596,\n",
              " 'انکے': 597,\n",
              " 'انگار': 598,\n",
              " 'انگریز': 599,\n",
              " 'انگریزوں': 600,\n",
              " 'انگریزی': 601,\n",
              " 'انگریزیہے': 602,\n",
              " 'انگلستان': 603,\n",
              " 'انگیز': 604,\n",
              " 'انھوں': 605,\n",
              " 'انھیں': 606,\n",
              " 'انہدام': 607,\n",
              " 'انہضام': 608,\n",
              " 'انہوئی': 609,\n",
              " 'انہوں': 610,\n",
              " 'انہی': 611,\n",
              " 'انہیں': 612,\n",
              " 'انیانگ': 613,\n",
              " 'انیس': 614,\n",
              " 'انیسویں': 615,\n",
              " 'انیو': 616,\n",
              " 'او': 617,\n",
              " 'اوائل': 618,\n",
              " 'اودار': 619,\n",
              " 'اودینے': 620,\n",
              " 'اور': 621,\n",
              " 'اوراس': 622,\n",
              " 'اورانسان': 623,\n",
              " 'اورایک': 624,\n",
              " 'اورخان': 625,\n",
              " 'اوردوس': 626,\n",
              " 'اورسلامتی': 627,\n",
              " 'اورسنسکرت': 628,\n",
              " 'اورضلع': 629,\n",
              " 'اورنج': 630,\n",
              " 'اورنعت': 631,\n",
              " 'اورنوبل': 632,\n",
              " 'اورنگ': 633,\n",
              " 'اوروسطی': 634,\n",
              " 'اورکفار': 635,\n",
              " 'اوریگون': 636,\n",
              " 'اوریہ': 637,\n",
              " 'اوزار': 638,\n",
              " 'اوستی': 639,\n",
              " 'اوسط': 640,\n",
              " 'اوسطا': 641,\n",
              " 'اوسی': 642,\n",
              " 'اوسیولا': 643,\n",
              " 'اوسیک': 644,\n",
              " 'اوش': 645,\n",
              " 'اوشین': 646,\n",
              " 'اوغ': 647,\n",
              " 'اوقات': 648,\n",
              " 'اوقیانوس': 649,\n",
              " 'اوقیانوسیہ': 650,\n",
              " 'اول': 651,\n",
              " 'اولا': 652,\n",
              " 'اولاد': 653,\n",
              " 'اولاً': 654,\n",
              " 'اولت': 655,\n",
              " 'اولین': 656,\n",
              " 'اولیک': 657,\n",
              " 'اونائیڈہ': 658,\n",
              " 'اونٹوں': 659,\n",
              " 'اونچا': 660,\n",
              " 'اوون': 661,\n",
              " 'اوپر': 662,\n",
              " 'اوپن': 663,\n",
              " 'اوچ': 664,\n",
              " 'اوڈیسی': 665,\n",
              " 'اوک': 666,\n",
              " 'اوکاڑہ': 667,\n",
              " 'اوکلاہوما': 668,\n",
              " 'اوکیناوا': 669,\n",
              " 'اوکیناوای': 670,\n",
              " 'اوھام': 671,\n",
              " 'اوہائیو': 672,\n",
              " 'ايك': 673,\n",
              " 'ايک': 674,\n",
              " 'اَمبر': 675,\n",
              " 'اَن': 676,\n",
              " 'اَنَا': 677,\n",
              " 'اَنِ': 678,\n",
              " 'اَنکھ': 679,\n",
              " 'اَنگ': 680,\n",
              " 'اَوْحَیْنَآ': 681,\n",
              " 'اُترائی': 682,\n",
              " 'اُدھار': 683,\n",
              " 'اُردو': 684,\n",
              " 'اُس': 685,\n",
              " 'اُمید': 686,\n",
              " 'اُمیدیں': 687,\n",
              " 'اُن': 688,\n",
              " 'اُنہونی': 689,\n",
              " 'اُنہوں': 690,\n",
              " 'اُنہیں': 691,\n",
              " 'اُٹھا': 692,\n",
              " 'اُٹھے': 693,\n",
              " 'اُگل': 694,\n",
              " 'اُگے': 695,\n",
              " 'اِبْرَاہِیْمَ': 696,\n",
              " 'اِس': 697,\n",
              " 'اِصطلاح': 698,\n",
              " 'اِضافی': 699,\n",
              " 'اِطلاع': 700,\n",
              " 'اِلَیْکَ': 701,\n",
              " 'اِنِّیْ': 702,\n",
              " 'اٹو': 703,\n",
              " 'اٹک': 704,\n",
              " 'اٹھائسویں': 705,\n",
              " 'اٹھائیس': 706,\n",
              " 'اٹھارہ': 707,\n",
              " 'اٹھاسی': 708,\n",
              " 'اٹھانوے': 709,\n",
              " 'اٹھانے': 710,\n",
              " 'اٹھاون': 711,\n",
              " 'اپریل': 712,\n",
              " 'اپلیکی': 713,\n",
              " 'اپنا': 714,\n",
              " 'اپنائی': 715,\n",
              " 'اپنی': 716,\n",
              " 'اپنے': 717,\n",
              " 'اپوزیشن': 718,\n",
              " 'اچاری': 719,\n",
              " 'اچاریہ': 720,\n",
              " 'اچانک': 721,\n",
              " 'اچھا': 722,\n",
              " 'اچھائیاں': 723,\n",
              " 'اچھی': 724,\n",
              " 'اچھے': 725,\n",
              " 'اڈا': 726,\n",
              " 'اڈیالہ': 727,\n",
              " 'اڑیسہ': 728,\n",
              " 'اک': 729,\n",
              " 'اکائی': 730,\n",
              " 'اکائیات': 731,\n",
              " 'اکادمی': 732,\n",
              " 'اکاون': 733,\n",
              " 'اکبر': 734,\n",
              " 'اکبرِ': 735,\n",
              " 'اکتوبر': 736,\n",
              " 'اکثر': 737,\n",
              " 'اکثریت': 738,\n",
              " 'اکثریتی': 739,\n",
              " 'اکرام': 740,\n",
              " 'اکرم': 741,\n",
              " 'اکسید': 742,\n",
              " 'اکودیا': 743,\n",
              " 'اکورن': 744,\n",
              " 'اکٹھا': 745,\n",
              " 'اکھاورا': 746,\n",
              " 'اکیانوے': 747,\n",
              " 'اکیس': 748,\n",
              " 'اکیشیا': 749,\n",
              " 'اکیلے': 750,\n",
              " 'اکیورت': 751,\n",
              " 'اکیچوء': 752,\n",
              " 'اکیڈمی': 753,\n",
              " 'اگر': 754,\n",
              " 'اگروال': 755,\n",
              " 'اگرچہ': 756,\n",
              " 'اگست': 757,\n",
              " 'اگلی': 758,\n",
              " 'اگکے': 759,\n",
              " 'اہتمام': 760,\n",
              " 'اہل': 761,\n",
              " 'اہم': 762,\n",
              " 'اہمیت': 763,\n",
              " 'اہیہ': 764,\n",
              " 'ای': 765,\n",
              " 'ایئر': 766,\n",
              " 'ایئرلائنز': 767,\n",
              " 'ایئرپارک': 768,\n",
              " 'ایئرپورٹ': 769,\n",
              " 'ایبٹ': 770,\n",
              " 'ایجنسی': 771,\n",
              " 'ایجیئن': 772,\n",
              " 'ایران': 773,\n",
              " 'ایرانی': 774,\n",
              " 'ایس': 775,\n",
              " 'ایسا': 776,\n",
              " 'ایسوسی': 777,\n",
              " 'ایسٹ': 778,\n",
              " 'ایسڈ': 779,\n",
              " 'ایسی': 780,\n",
              " 'ایسیٹائلکولین': 781,\n",
              " 'ایسے': 782,\n",
              " 'ایشن': 783,\n",
              " 'ایشیا': 784,\n",
              " 'ایشیاء': 785,\n",
              " 'ایشیائی': 786,\n",
              " 'ایصال': 787,\n",
              " 'ایصالی': 788,\n",
              " 'ایصالیت': 789,\n",
              " 'ایضًا': 790,\n",
              " 'ایف': 791,\n",
              " 'ایف۔': 792,\n",
              " 'ایل': 793,\n",
              " 'ایلبا': 794,\n",
              " 'ایلبانس': 795,\n",
              " 'ایلن': 796,\n",
              " 'ایلنڈیل': 797,\n",
              " 'ایلو': 798,\n",
              " 'ایلومینا': 799,\n",
              " 'ایلومینیئم': 800,\n",
              " 'ایلیمنٹ': 801,\n",
              " 'ایلیڈ': 802,\n",
              " 'ایلیگینی': 803,\n",
              " 'ایم': 804,\n",
              " 'ایمان': 805,\n",
              " 'این': 806,\n",
              " 'اینجلس': 807,\n",
              " 'اینٹوں': 808,\n",
              " 'اینڈ': 809,\n",
              " 'اینڈروئیڈ': 810,\n",
              " 'اینگورے': 811,\n",
              " 'اینیمی': 812,\n",
              " 'ایوارڈ': 813,\n",
              " 'ایوان': 814,\n",
              " 'ایوتتھایا': 815,\n",
              " 'ایونیو': 816,\n",
              " 'ایٹ': 817,\n",
              " 'ایٹم': 818,\n",
              " 'ایٹمز': 819,\n",
              " 'ایٹموں': 820,\n",
              " 'ایٹمی': 821,\n",
              " 'ایٹکنسن': 822,\n",
              " 'ایٹیینے': 823,\n",
              " 'ایچ': 824,\n",
              " 'ایچی': 825,\n",
              " 'ایڈاہو': 826,\n",
              " 'ایڈز': 827,\n",
              " 'ایڈسن': 828,\n",
              " 'ایڈلف': 829,\n",
              " 'ایڈمنسٹریشن': 830,\n",
              " 'ایڈنبرا': 831,\n",
              " 'ایڈوائزر': 832,\n",
              " 'ایڈولف': 833,\n",
              " 'ایڈیٹر': 834,\n",
              " 'ایک': 835,\n",
              " 'ایکزل': 836,\n",
              " 'ایکسپریشن': 837,\n",
              " 'ایکسیڈنٹ': 838,\n",
              " 'ایکشن': 839,\n",
              " 'ایکٹ': 840,\n",
              " 'ایگویر': 841,\n",
              " 'ایگویران': 842,\n",
              " 'اے': 843,\n",
              " 'اے۔': 844,\n",
              " 'اﷲ': 845,\n",
              " 'با': 846,\n",
              " 'باآسانی': 847,\n",
              " 'باؤ': 848,\n",
              " 'بائی': 849,\n",
              " 'بائیبل': 850,\n",
              " 'باالفاظ': 851,\n",
              " 'باب': 852,\n",
              " 'بابائے': 853,\n",
              " 'بابرہ': 854,\n",
              " 'بابری': 855,\n",
              " 'بابل': 856,\n",
              " 'بات': 857,\n",
              " 'باتوں': 858,\n",
              " 'باتیں': 859,\n",
              " 'بادشاہ': 860,\n",
              " 'بادشاہت': 861,\n",
              " 'بار': 862,\n",
              " 'بارش': 863,\n",
              " 'بارشوں': 864,\n",
              " 'بارڈی': 865,\n",
              " 'بارہ': 866,\n",
              " 'بارے': 867,\n",
              " 'باز': 868,\n",
              " 'بازار': 869,\n",
              " 'بازرگان': 870,\n",
              " 'بازو': 871,\n",
              " 'بازی': 872,\n",
              " 'بازیافتگی': 873,\n",
              " 'باسلید': 874,\n",
              " 'باسلیدی': 875,\n",
              " 'باسی': 876,\n",
              " 'باشندوں': 877,\n",
              " 'باشندے': 878,\n",
              " 'باطل': 879,\n",
              " 'باعث': 880,\n",
              " 'باغ': 881,\n",
              " 'باغات': 882,\n",
              " 'باقاعدگی': 883,\n",
              " 'باقاعدہ': 884,\n",
              " 'باقی': 885,\n",
              " 'بالا': 886,\n",
              " 'بالائی': 887,\n",
              " 'بالمقابل': 888,\n",
              " 'بالواسطہ': 889,\n",
              " 'بالکل': 890,\n",
              " 'بالی': 891,\n",
              " 'باند': 892,\n",
              " 'باندھ': 893,\n",
              " 'باندھنا': 894,\n",
              " 'باندھنا،)‘‘سینہ': 895,\n",
              " 'باندے': 896,\n",
              " 'بانٹ': 897,\n",
              " 'بانگور': 898,\n",
              " 'بانی': 899,\n",
              " 'باوجود': 900,\n",
              " 'باون': 901,\n",
              " 'باپ': 902,\n",
              " 'باہر': 903,\n",
              " 'باہلی': 904,\n",
              " 'باہم': 905,\n",
              " 'باہمی': 906,\n",
              " 'باہو': 907,\n",
              " 'بایار': 908,\n",
              " 'باﮈہ': 909,\n",
              " 'ببرالہ': 910,\n",
              " 'بت': 911,\n",
              " 'بتایا': 912,\n",
              " 'بجائے': 913,\n",
              " 'بجتی': 914,\n",
              " 'بجلی': 915,\n",
              " 'بجھانے': 916,\n",
              " 'بحث': 917,\n",
              " 'بحر': 918,\n",
              " 'بحرِ': 919,\n",
              " 'بحرین': 920,\n",
              " 'بحیرہ': 921,\n",
              " 'بخاری': 922,\n",
              " 'بخش': 923,\n",
              " 'بخشا': 924,\n",
              " 'بخشش': 925,\n",
              " 'بخشنے': 926,\n",
              " 'بد': 927,\n",
              " 'بدایونی': 928,\n",
              " 'بدایوں': 929,\n",
              " 'بدسلوکی': 930,\n",
              " 'بدعتی': 931,\n",
              " 'بدل': 932,\n",
              " 'بدلنے': 933,\n",
              " 'بدلی': 934,\n",
              " 'بدمعاش': 935,\n",
              " 'بدو': 936,\n",
              " 'بدولت': 937,\n",
              " 'بدون': 938,\n",
              " 'بدھ': 939,\n",
              " 'بدھا': 940,\n",
              " 'بدی': 941,\n",
              " 'بذریعہ': 942,\n",
              " 'بر': 943,\n",
              " 'برا': 944,\n",
              " 'برائیاں': 945,\n",
              " 'برائے': 946,\n",
              " 'برابر': 947,\n",
              " 'برادریاں': 948,\n",
              " 'برادریوں': 949,\n",
              " 'برادیاں': 950,\n",
              " 'برازیل': 951,\n",
              " 'براستہ': 952,\n",
              " 'براسو': 953,\n",
              " 'براعظم': 954,\n",
              " 'براٹیسلاوا': 955,\n",
              " 'براہ': 956,\n",
              " 'براہموس': 957,\n",
              " 'بربینک': 958,\n",
              " 'بربے': 959,\n",
              " 'برتن': 960,\n",
              " 'برج': 961,\n",
              " 'بردع': 962,\n",
              " 'برزیسکو': 963,\n",
              " 'برصغیر': 964,\n",
              " 'برطائی': 965,\n",
              " 'برطانوئی': 966,\n",
              " 'برطانوی': 967,\n",
              " 'برطانیا': 968,\n",
              " 'برطانیہ': 969,\n",
              " 'برعکس': 970,\n",
              " 'برفانی': 971,\n",
              " 'برق': 972,\n",
              " 'برقی': 973,\n",
              " 'برقیاتی': 974,\n",
              " 'برما': 975,\n",
              " 'برمنگھم': 976,\n",
              " 'برموغ': 977,\n",
              " 'برن': 978,\n",
              " 'برنامہ': 979,\n",
              " 'برنو': 980,\n",
              " 'بروئچینی': 981,\n",
              " 'بروز': 982,\n",
              " 'بروملی': 983,\n",
              " 'بروکفیلڈ': 984,\n",
              " 'برٹرینڈ': 985,\n",
              " 'برٹش': 986,\n",
              " 'برپا': 987,\n",
              " 'برکاتہ': 988,\n",
              " 'برکس': 989,\n",
              " 'برکینا': 990,\n",
              " 'برکے': 991,\n",
              " 'برگ': 992,\n",
              " 'برگن': 993,\n",
              " 'برہمنباریا': 994,\n",
              " 'بری': 995,\n",
              " 'بریلوی': 996,\n",
              " 'برینڈن': 997,\n",
              " 'بریکشہ': 998,\n",
              " 'بزرگوں': 999,\n",
              " ...}"
            ]
          },
          "metadata": {
            "tags": []
          },
          "execution_count": 32
        }
      ]
    },
    {
      "cell_type": "code",
      "metadata": {
        "ExecuteTime": {
          "end_time": "2021-07-27T15:47:56.430346Z",
          "start_time": "2021-07-27T15:47:56.424200Z"
        },
        "colab": {
          "base_uri": "https://localhost:8080/"
        },
        "id": "TcXuCpmjz_a9",
        "outputId": "ac7d9f11-afcd-4153-b1a6-179392087fa8"
      },
      "source": [
        "len(unique_word_index)"
      ],
      "execution_count": 33,
      "outputs": [
        {
          "output_type": "execute_result",
          "data": {
            "text/plain": [
              "5778"
            ]
          },
          "metadata": {
            "tags": []
          },
          "execution_count": 33
        }
      ]
    },
    {
      "cell_type": "code",
      "metadata": {
        "ExecuteTime": {
          "end_time": "2021-07-27T15:47:59.680017Z",
          "start_time": "2021-07-27T15:47:59.672917Z"
        },
        "colab": {
          "base_uri": "https://localhost:8080/"
        },
        "id": "jggJed_zz_a9",
        "outputId": "82c5316c-34cf-49ce-8f1c-08e89e97bfb3"
      },
      "source": [
        "unique_words[:20]"
      ],
      "execution_count": 34,
      "outputs": [
        {
          "output_type": "execute_result",
          "data": {
            "text/plain": [
              "array(['ء', 'آ', 'آئر', 'آئرائی', 'آئرس', 'آئرش', 'آئرلینڈ', 'آئس', 'آئن',\n",
              "       'آئون', 'آئی', 'آئینہ', 'آئیوس', 'آئیووا', 'آئیں', 'آئے', 'آب',\n",
              "       'آباد', 'آبادی', 'آبادیات'], dtype='<U24')"
            ]
          },
          "metadata": {
            "tags": []
          },
          "execution_count": 34
        }
      ]
    },
    {
      "cell_type": "markdown",
      "metadata": {
        "id": "ibtvFQnsz_a-"
      },
      "source": [
        "## Separation of Target and Variables "
      ]
    },
    {
      "cell_type": "code",
      "metadata": {
        "ExecuteTime": {
          "end_time": "2021-07-27T15:48:03.866552Z",
          "start_time": "2021-07-27T15:48:03.782183Z"
        },
        "colab": {
          "base_uri": "https://localhost:8080/"
        },
        "id": "KRWtWNhzz_a-",
        "outputId": "9f37003d-b50f-479b-a5fc-2978fe985c16"
      },
      "source": [
        "WORD_LENGTH = 3\n",
        "prev_words = []\n",
        "next_words = []\n",
        "for i in range(len(urdu_words) - WORD_LENGTH):\n",
        "    prev_words.append(urdu_words[i:i + WORD_LENGTH])\n",
        "    next_words.append(urdu_words[i + WORD_LENGTH])\n",
        "print(prev_words[:5])\n",
        "print(next_words[:5])"
      ],
      "execution_count": 35,
      "outputs": [
        {
          "output_type": "stream",
          "text": [
            "[['زیورخ', 'کیلیفورنیا', 'ریاستہائے'], ['کیلیفورنیا', 'ریاستہائے', 'متحدہ'], ['ریاستہائے', 'متحدہ', 'امریکا'], ['متحدہ', 'امریکا', 'کا'], ['امریکا', 'کا', 'ایک']]\n",
            "['متحدہ', 'امریکا', 'کا', 'ایک', 'انانکارپوریٹڈ']\n"
          ],
          "name": "stdout"
        }
      ]
    },
    {
      "cell_type": "code",
      "metadata": {
        "ExecuteTime": {
          "end_time": "2021-07-27T15:48:04.481362Z",
          "start_time": "2021-07-27T15:48:04.327037Z"
        },
        "id": "0ihY_gwUz_a-"
      },
      "source": [
        "X = np.zeros((len(prev_words), WORD_LENGTH, len(unique_words)), dtype=bool)\n",
        "y = np.zeros((len(next_words), len(unique_words)), dtype=bool)\n",
        "for i, each_words in enumerate(prev_words):\n",
        "    for j, each_word in enumerate(each_words):\n",
        "        X[i, j, unique_word_index[each_word]] = 1\n",
        "    y[i, unique_word_index[next_words[i]]] = 1"
      ],
      "execution_count": 36,
      "outputs": []
    },
    {
      "cell_type": "code",
      "metadata": {
        "ExecuteTime": {
          "end_time": "2021-07-27T15:48:06.578130Z",
          "start_time": "2021-07-27T15:48:06.571788Z"
        },
        "colab": {
          "base_uri": "https://localhost:8080/"
        },
        "id": "euAEZdFlz_a-",
        "outputId": "3f49e0c1-485c-455c-a8aa-1d0c3bdbff69"
      },
      "source": [
        "len(X), len(y), X.shape, y.shape"
      ],
      "execution_count": 37,
      "outputs": [
        {
          "output_type": "execute_result",
          "data": {
            "text/plain": [
              "(29150, 29150, (29150, 3, 5778), (29150, 5778))"
            ]
          },
          "metadata": {
            "tags": []
          },
          "execution_count": 37
        }
      ]
    },
    {
      "cell_type": "code",
      "metadata": {
        "id": "mPOyAWbvz_a_"
      },
      "source": [
        ""
      ],
      "execution_count": 146,
      "outputs": []
    },
    {
      "cell_type": "code",
      "metadata": {
        "ExecuteTime": {
          "end_time": "2021-07-26T20:26:48.170657Z",
          "start_time": "2021-07-26T20:26:48.168543Z"
        },
        "id": "01-u9UfKz_a_"
      },
      "source": [
        "# FSM"
      ],
      "execution_count": 148,
      "outputs": []
    },
    {
      "cell_type": "code",
      "metadata": {
        "ExecuteTime": {
          "end_time": "2021-07-27T15:56:27.897688Z",
          "start_time": "2021-07-27T15:50:47.521018Z"
        },
        "colab": {
          "base_uri": "https://localhost:8080/",
          "height": 232
        },
        "id": "V_0Uokadz_a_",
        "outputId": "a44c5c48-57a9-4c04-9d0c-84a8100f9c5a"
      },
      "source": [
        "model = Sequential()\n",
        "model.add(LSTM(32, input_shape=(WORD_LENGTH, len(unique_words))))\n",
        "model.add(Dense(len(unique_words)))\n",
        "model.add(Activation(\"softmax\"))\n",
        "\n",
        "optimizer = RMSprop(learning_rate=0.01)\n",
        "model.compile(optimizer=optimizer, loss=\"categorical_crossentropy\", metrics=[\"accuracy\", tf.keras.metrics.TopKCategoricalAccuracy(k=5)])\n",
        "history=model.fit(X,y, epochs=100, batch_size=64, validation_split=0.05).history"
      ],
      "execution_count": 45,
      "outputs": [
        {
          "output_type": "error",
          "ename": "NameError",
          "evalue": "ignored",
          "traceback": [
            "\u001b[0;31m---------------------------------------------------------------------------\u001b[0m",
            "\u001b[0;31mNameError\u001b[0m                                 Traceback (most recent call last)",
            "\u001b[0;32m<ipython-input-45-d478ccc128b2>\u001b[0m in \u001b[0;36m<module>\u001b[0;34m()\u001b[0m\n\u001b[0;32m----> 1\u001b[0;31m \u001b[0mmodel\u001b[0m \u001b[0;34m=\u001b[0m \u001b[0mSequential\u001b[0m\u001b[0;34m(\u001b[0m\u001b[0;34m)\u001b[0m\u001b[0;34m\u001b[0m\u001b[0;34m\u001b[0m\u001b[0m\n\u001b[0m\u001b[1;32m      2\u001b[0m \u001b[0mmodel\u001b[0m\u001b[0;34m.\u001b[0m\u001b[0madd\u001b[0m\u001b[0;34m(\u001b[0m\u001b[0mLSTM\u001b[0m\u001b[0;34m(\u001b[0m\u001b[0;36m32\u001b[0m\u001b[0;34m,\u001b[0m \u001b[0minput_shape\u001b[0m\u001b[0;34m=\u001b[0m\u001b[0;34m(\u001b[0m\u001b[0mWORD_LENGTH\u001b[0m\u001b[0;34m,\u001b[0m \u001b[0mlen\u001b[0m\u001b[0;34m(\u001b[0m\u001b[0munique_words\u001b[0m\u001b[0;34m)\u001b[0m\u001b[0;34m)\u001b[0m\u001b[0;34m)\u001b[0m\u001b[0;34m)\u001b[0m\u001b[0;34m\u001b[0m\u001b[0;34m\u001b[0m\u001b[0m\n\u001b[1;32m      3\u001b[0m \u001b[0mmodel\u001b[0m\u001b[0;34m.\u001b[0m\u001b[0madd\u001b[0m\u001b[0;34m(\u001b[0m\u001b[0mDense\u001b[0m\u001b[0;34m(\u001b[0m\u001b[0mlen\u001b[0m\u001b[0;34m(\u001b[0m\u001b[0munique_words\u001b[0m\u001b[0;34m)\u001b[0m\u001b[0;34m)\u001b[0m\u001b[0;34m)\u001b[0m\u001b[0;34m\u001b[0m\u001b[0;34m\u001b[0m\u001b[0m\n\u001b[1;32m      4\u001b[0m \u001b[0mmodel\u001b[0m\u001b[0;34m.\u001b[0m\u001b[0madd\u001b[0m\u001b[0;34m(\u001b[0m\u001b[0mActivation\u001b[0m\u001b[0;34m(\u001b[0m\u001b[0;34m\"softmax\"\u001b[0m\u001b[0;34m)\u001b[0m\u001b[0;34m)\u001b[0m\u001b[0;34m\u001b[0m\u001b[0;34m\u001b[0m\u001b[0m\n\u001b[1;32m      5\u001b[0m \u001b[0;34m\u001b[0m\u001b[0m\n",
            "\u001b[0;31mNameError\u001b[0m: name 'Sequential' is not defined"
          ]
        }
      ]
    },
    {
      "cell_type": "code",
      "metadata": {
        "ExecuteTime": {
          "end_time": "2021-07-27T15:56:47.478142Z",
          "start_time": "2021-07-27T15:56:46.528805Z"
        },
        "colab": {
          "base_uri": "https://localhost:8080/",
          "height": 554
        },
        "id": "nCDAeeO1z_bA",
        "outputId": "f9cd1853-e92f-494f-e1c8-5e270d8da481"
      },
      "source": [
        "train_loss = history['loss']\n",
        "train_acc = history['accuracy']\n",
        "val_loss =history['val_loss']\n",
        "val_acc = history['val_accuracy']\n",
        "train_top_acc = history[\"top_k_categorical_accuracy\"]\n",
        "val_top_acc = history[\"val_top_k_categorical_accuracy\"]\n",
        "\n",
        "fig, (ax1, ax2, ax3) = plt.subplots(1, 3, figsize=(20, 10))\n",
        "\n",
        "ax1.plot(train_loss, label='train_loss')\n",
        "ax1.plot(val_loss, label='validation_loss')\n",
        "ax1.set_title(\"Loss\")\n",
        "ax1.legend()\n",
        "\n",
        "ax2.plot(train_acc, label='train_accuracy')\n",
        "ax2.plot(val_acc, label='val_accuracy')\n",
        "ax2.set_title(\"Accuracy\")\n",
        "ax2.legend()\n",
        "\n",
        "ax3.plot(train_top_acc, label='top_10_categorical_acc')\n",
        "ax3.plot(val_top_acc, label='validation_top_10_categorical_accuracy')\n",
        "ax3.set_title(\"top 10 categorical accuracy\")\n",
        "ax3.legend()"
      ],
      "execution_count": 150,
      "outputs": [
        {
          "output_type": "execute_result",
          "data": {
            "text/plain": [
              "<matplotlib.legend.Legend at 0x7faa230a3110>"
            ]
          },
          "metadata": {
            "tags": []
          },
          "execution_count": 150
        },
        {
          "output_type": "display_data",
          "data": {
            "image/png": "[encoded data removed]",
            "text/plain": [
              "<Figure size 1440x720 with 3 Axes>"
            ]
          },
          "metadata": {
            "tags": [],
            "needs_background": "light"
          }
        }
      ]
    },
    {
      "cell_type": "code",
      "metadata": {
        "id": "ngK4NlpMz_bA"
      },
      "source": [
        ""
      ],
      "execution_count": 150,
      "outputs": []
    },
    {
      "cell_type": "code",
      "metadata": {
        "id": "oDPQ_pSxz_bA"
      },
      "source": [
        ""
      ],
      "execution_count": 150,
      "outputs": []
    },
    {
      "cell_type": "markdown",
      "metadata": {
        "ExecuteTime": {
          "end_time": "2021-07-26T17:35:18.048265Z",
          "start_time": "2021-07-26T17:35:18.045366Z"
        },
        "id": "c9QWA-B2z_bA"
      },
      "source": [
        "# First Model"
      ]
    },
    {
      "cell_type": "code",
      "metadata": {
        "ExecuteTime": {
          "end_time": "2021-07-27T16:11:48.927318Z",
          "start_time": "2021-07-27T16:11:47.063714Z"
        },
        "id": "zULec3M6z_bA",
        "colab": {
          "base_uri": "https://localhost:8080/"
        },
        "outputId": "7625dc36-8f72-4562-a798-1974722a0e0e"
      },
      "source": [
        "model = Sequential()\n",
        "model.add(LSTM(128, input_shape=(X.shape[1], X.shape[2]), return_sequences=True))\n",
        "model.add(Dropout(0.2))\n",
        "model.add(LSTM(128))\n",
        "model.add(Dropout(0.3))\n",
        "model.add(Dense(y.shape[1], activation='relu'))\n",
        "model.add(Activation(\"softmax\"))\n",
        "print(model.summary())\n",
        "\n",
        "optimizer = RMSprop(learning_rate=0.001)\n",
        "\n",
        "model.compile(optimizer=optimizer, loss=\"categorical_crossentropy\", metrics=[\"accuracy\", tf.keras.metrics.TopKCategoricalAccuracy(k=5)])\n",
        "\n",
        "early_stop = EarlyStopping(monitor='val_loss', min_delta=1e-1,\n",
        "                           verbose=1,\n",
        "                           mode='min', patience=5)\n"
      ],
      "execution_count": 152,
      "outputs": [
        {
          "output_type": "stream",
          "text": [
            "Model: \"sequential_3\"\n",
            "_________________________________________________________________\n",
            "Layer (type)                 Output Shape              Param #   \n",
            "=================================================================\n",
            "lstm_2 (LSTM)                (None, 3, 128)            3024384   \n",
            "_________________________________________________________________\n",
            "dropout (Dropout)            (None, 3, 128)            0         \n",
            "_________________________________________________________________\n",
            "lstm_3 (LSTM)                (None, 128)               131584    \n",
            "_________________________________________________________________\n",
            "dropout_1 (Dropout)          (None, 128)               0         \n",
            "_________________________________________________________________\n",
            "dense_2 (Dense)              (None, 5778)              745362    \n",
            "_________________________________________________________________\n",
            "activation_2 (Activation)    (None, 5778)              0         \n",
            "=================================================================\n",
            "Total params: 3,901,330\n",
            "Trainable params: 3,901,330\n",
            "Non-trainable params: 0\n",
            "_________________________________________________________________\n",
            "None\n"
          ],
          "name": "stdout"
        }
      ]
    },
    {
      "cell_type": "code",
      "metadata": {
        "ExecuteTime": {
          "end_time": "2021-07-27T16:25:41.927536Z",
          "start_time": "2021-07-27T16:11:48.931495Z"
        },
        "id": "YghHTKLcz_bB",
        "colab": {
          "base_uri": "https://localhost:8080/",
          "height": 164
        },
        "outputId": "77719c5c-092e-4359-c81f-7e7b182203ee"
      },
      "source": [
        "results=model.fit(X,y, epochs=100, batch_size=64, validation_split=0.05).history"
      ],
      "execution_count": 47,
      "outputs": [
        {
          "output_type": "error",
          "ename": "NameError",
          "evalue": "ignored",
          "traceback": [
            "\u001b[0;31m---------------------------------------------------------------------------\u001b[0m",
            "\u001b[0;31mNameError\u001b[0m                                 Traceback (most recent call last)",
            "\u001b[0;32m<ipython-input-47-0f35e3ce999a>\u001b[0m in \u001b[0;36m<module>\u001b[0;34m()\u001b[0m\n\u001b[0;32m----> 1\u001b[0;31m \u001b[0mresults\u001b[0m\u001b[0;34m=\u001b[0m\u001b[0mmodel\u001b[0m\u001b[0;34m.\u001b[0m\u001b[0mfit\u001b[0m\u001b[0;34m(\u001b[0m\u001b[0mX\u001b[0m\u001b[0;34m,\u001b[0m\u001b[0my\u001b[0m\u001b[0;34m,\u001b[0m \u001b[0mepochs\u001b[0m\u001b[0;34m=\u001b[0m\u001b[0;36m100\u001b[0m\u001b[0;34m,\u001b[0m \u001b[0mbatch_size\u001b[0m\u001b[0;34m=\u001b[0m\u001b[0;36m64\u001b[0m\u001b[0;34m,\u001b[0m \u001b[0mvalidation_split\u001b[0m\u001b[0;34m=\u001b[0m\u001b[0;36m0.05\u001b[0m\u001b[0;34m)\u001b[0m\u001b[0;34m.\u001b[0m\u001b[0mhistory\u001b[0m\u001b[0;34m\u001b[0m\u001b[0;34m\u001b[0m\u001b[0m\n\u001b[0m",
            "\u001b[0;31mNameError\u001b[0m: name 'model' is not defined"
          ]
        }
      ]
    },
    {
      "cell_type": "code",
      "metadata": {
        "ExecuteTime": {
          "end_time": "2021-07-27T16:25:42.617394Z",
          "start_time": "2021-07-27T16:25:41.934423Z"
        },
        "id": "w5buPNk7z_bB"
      },
      "source": [
        "def graph(results):\n",
        "  train_loss = results['loss']\n",
        "  train_acc = results['accuracy']\n",
        "  train_top_acc = results[\"top_k_categorical_accuracy\"]\n",
        "  val_loss =results['val_loss']\n",
        "  val_acc = results['val_accuracy']\n",
        "  val_top_acc = results[\"val_top_k_categorical_accuracy\"]\n",
        "\n",
        "  fig, (ax1, ax2, ax3) = plt.subplots(1, 3, figsize=(20, 10))\n",
        "\n",
        "  ax1.plot(train_loss, label='train_loss')\n",
        "  ax1.plot(val_loss, label='validation_loss')\n",
        "  ax1.set_title(\"Loss\")\n",
        "  ax1.legend()\n",
        "\n",
        "  ax2.plot(train_acc, label='train_accuracy')\n",
        "  ax2.plot(val_acc, label='val_accuracy')\n",
        "  ax2.set_title(\"Accuracy\")\n",
        "  ax2.legend()\n",
        "\n",
        "  ax3.plot(train_top_acc, label='top_10_categorical_acc')\n",
        "  ax3.plot(val_top_acc, label='validation_top_10_categorical_accuracy')\n",
        "  ax3.set_title(\"Top 10 categorical accuracy\")\n",
        "  ax3.legend()"
      ],
      "execution_count": 51,
      "outputs": []
    },
    {
      "cell_type": "code",
      "metadata": {
        "id": "38pDNw1C6XOR"
      },
      "source": [
        "# change learning rate and number of nodes"
      ],
      "execution_count": null,
      "outputs": []
    },
    {
      "cell_type": "code",
      "metadata": {
        "colab": {
          "base_uri": "https://localhost:8080/"
        },
        "id": "pX74vpsD6XMP",
        "outputId": "bd5896d3-4484-438b-c518-c3ca075b7fd2"
      },
      "source": [
        "model = Sequential()\n",
        "model.add(LSTM(256, input_shape=(X.shape[1], X.shape[2]), return_sequences=True))\n",
        "model.add(Dropout(0.2))\n",
        "model.add(LSTM(256))\n",
        "model.add(Dropout(0.3))\n",
        "model.add(Dense(y.shape[1], activation='relu'))\n",
        "model.add(Activation(\"softmax\"))\n",
        "print(model.summary())\n",
        "\n",
        "optimizer = RMSprop(learning_rate=0.01)\n",
        "\n",
        "model.compile(optimizer=optimizer, loss=\"categorical_crossentropy\", metrics=[\"accuracy\", tf.keras.metrics.TopKCategoricalAccuracy(k=5)])\n",
        "\n",
        "early_stop = EarlyStopping(monitor='val_loss', min_delta=1e-1,\n",
        "                           verbose=1,\n",
        "                           mode='min', patience=5)\n",
        "results=model.fit(X,y, epochs=100, batch_size=64, validation_split=0.05).history"
      ],
      "execution_count": 50,
      "outputs": [
        {
          "output_type": "stream",
          "text": [
            "Model: \"sequential\"\n",
            "_________________________________________________________________\n",
            "Layer (type)                 Output Shape              Param #   \n",
            "=================================================================\n",
            "lstm (LSTM)                  (None, 3, 256)            6179840   \n",
            "_________________________________________________________________\n",
            "dropout (Dropout)            (None, 3, 256)            0         \n",
            "_________________________________________________________________\n",
            "lstm_1 (LSTM)                (None, 256)               525312    \n",
            "_________________________________________________________________\n",
            "dropout_1 (Dropout)          (None, 256)               0         \n",
            "_________________________________________________________________\n",
            "dense (Dense)                (None, 5778)              1484946   \n",
            "_________________________________________________________________\n",
            "activation (Activation)      (None, 5778)              0         \n",
            "=================================================================\n",
            "Total params: 8,190,098\n",
            "Trainable params: 8,190,098\n",
            "Non-trainable params: 0\n",
            "_________________________________________________________________\n",
            "None\n",
            "Epoch 1/100\n",
            "433/433 [==============================] - 30s 15ms/step - loss: 7.8144 - accuracy: 0.0637 - top_k_categorical_accuracy: 0.1300 - val_loss: 7.0660 - val_accuracy: 0.1310 - val_top_k_categorical_accuracy: 0.1893\n",
            "Epoch 2/100\n",
            "433/433 [==============================] - 5s 11ms/step - loss: 7.0837 - accuracy: 0.1425 - top_k_categorical_accuracy: 0.2023 - val_loss: 7.0055 - val_accuracy: 0.1605 - val_top_k_categorical_accuracy: 0.2215\n",
            "Epoch 3/100\n",
            "433/433 [==============================] - 5s 11ms/step - loss: 6.8858 - accuracy: 0.1733 - top_k_categorical_accuracy: 0.2281 - val_loss: 7.0398 - val_accuracy: 0.1612 - val_top_k_categorical_accuracy: 0.2411\n",
            "Epoch 4/100\n",
            "433/433 [==============================] - 5s 11ms/step - loss: 6.7514 - accuracy: 0.1957 - top_k_categorical_accuracy: 0.2489 - val_loss: 7.1728 - val_accuracy: 0.1578 - val_top_k_categorical_accuracy: 0.2658\n",
            "Epoch 5/100\n",
            "433/433 [==============================] - 5s 11ms/step - loss: 6.6285 - accuracy: 0.2179 - top_k_categorical_accuracy: 0.2767 - val_loss: 7.1903 - val_accuracy: 0.1653 - val_top_k_categorical_accuracy: 0.3003\n",
            "Epoch 6/100\n",
            "433/433 [==============================] - 5s 11ms/step - loss: 6.5836 - accuracy: 0.2311 - top_k_categorical_accuracy: 0.3133 - val_loss: 7.2913 - val_accuracy: 0.1571 - val_top_k_categorical_accuracy: 0.3418\n",
            "Epoch 7/100\n",
            "433/433 [==============================] - 5s 11ms/step - loss: 6.4880 - accuracy: 0.2477 - top_k_categorical_accuracy: 0.3541 - val_loss: 7.3938 - val_accuracy: 0.1543 - val_top_k_categorical_accuracy: 0.3813\n",
            "Epoch 8/100\n",
            "433/433 [==============================] - 5s 11ms/step - loss: 6.4767 - accuracy: 0.2524 - top_k_categorical_accuracy: 0.3922 - val_loss: 7.4594 - val_accuracy: 0.1481 - val_top_k_categorical_accuracy: 0.4162\n",
            "Epoch 9/100\n",
            "433/433 [==============================] - 5s 11ms/step - loss: 6.4956 - accuracy: 0.2502 - top_k_categorical_accuracy: 0.4258 - val_loss: 7.5748 - val_accuracy: 0.1516 - val_top_k_categorical_accuracy: 0.4511\n",
            "Epoch 10/100\n",
            "433/433 [==============================] - 5s 11ms/step - loss: 6.4397 - accuracy: 0.2569 - top_k_categorical_accuracy: 0.4603 - val_loss: 7.5821 - val_accuracy: 0.1481 - val_top_k_categorical_accuracy: 0.4841\n",
            "Epoch 11/100\n",
            "433/433 [==============================] - 5s 11ms/step - loss: 6.4402 - accuracy: 0.2595 - top_k_categorical_accuracy: 0.4929 - val_loss: 7.6467 - val_accuracy: 0.1461 - val_top_k_categorical_accuracy: 0.5141\n",
            "Epoch 12/100\n",
            "433/433 [==============================] - 5s 11ms/step - loss: 6.4280 - accuracy: 0.2606 - top_k_categorical_accuracy: 0.5221 - val_loss: 7.5270 - val_accuracy: 0.1571 - val_top_k_categorical_accuracy: 0.5413\n",
            "Epoch 13/100\n",
            "433/433 [==============================] - 5s 11ms/step - loss: 6.3860 - accuracy: 0.2658 - top_k_categorical_accuracy: 0.5480 - val_loss: 7.5795 - val_accuracy: 0.1550 - val_top_k_categorical_accuracy: 0.5650\n",
            "Epoch 14/100\n",
            "433/433 [==============================] - 5s 11ms/step - loss: 6.4002 - accuracy: 0.2651 - top_k_categorical_accuracy: 0.5711 - val_loss: 7.5915 - val_accuracy: 0.1509 - val_top_k_categorical_accuracy: 0.5867\n",
            "Epoch 15/100\n",
            "433/433 [==============================] - 5s 11ms/step - loss: 6.4194 - accuracy: 0.2620 - top_k_categorical_accuracy: 0.5917 - val_loss: 7.6444 - val_accuracy: 0.1427 - val_top_k_categorical_accuracy: 0.6048\n",
            "Epoch 16/100\n",
            "433/433 [==============================] - 5s 11ms/step - loss: 6.3683 - accuracy: 0.2684 - top_k_categorical_accuracy: 0.6094 - val_loss: 7.5997 - val_accuracy: 0.1324 - val_top_k_categorical_accuracy: 0.6209\n",
            "Epoch 17/100\n",
            "433/433 [==============================] - 5s 12ms/step - loss: 6.3962 - accuracy: 0.2652 - top_k_categorical_accuracy: 0.6250 - val_loss: 7.7138 - val_accuracy: 0.1440 - val_top_k_categorical_accuracy: 0.6360\n",
            "Epoch 18/100\n",
            "433/433 [==============================] - 5s 12ms/step - loss: 6.3719 - accuracy: 0.2688 - top_k_categorical_accuracy: 0.6400 - val_loss: 7.6715 - val_accuracy: 0.1420 - val_top_k_categorical_accuracy: 0.6501\n",
            "Epoch 19/100\n",
            "433/433 [==============================] - 5s 12ms/step - loss: 6.3751 - accuracy: 0.2696 - top_k_categorical_accuracy: 0.6538 - val_loss: 7.6557 - val_accuracy: 0.1454 - val_top_k_categorical_accuracy: 0.6634\n",
            "Epoch 20/100\n",
            "433/433 [==============================] - 5s 11ms/step - loss: 6.3863 - accuracy: 0.2676 - top_k_categorical_accuracy: 0.6666 - val_loss: 7.7464 - val_accuracy: 0.1427 - val_top_k_categorical_accuracy: 0.6756\n",
            "Epoch 21/100\n",
            "433/433 [==============================] - 5s 12ms/step - loss: 6.3825 - accuracy: 0.2670 - top_k_categorical_accuracy: 0.6786 - val_loss: 7.7627 - val_accuracy: 0.1420 - val_top_k_categorical_accuracy: 0.6868\n",
            "Epoch 22/100\n",
            "433/433 [==============================] - 5s 11ms/step - loss: 6.3837 - accuracy: 0.2671 - top_k_categorical_accuracy: 0.6896 - val_loss: 7.6608 - val_accuracy: 0.1433 - val_top_k_categorical_accuracy: 0.6973\n",
            "Epoch 23/100\n",
            "433/433 [==============================] - 5s 11ms/step - loss: 6.3483 - accuracy: 0.2711 - top_k_categorical_accuracy: 0.6998 - val_loss: 7.7840 - val_accuracy: 0.1461 - val_top_k_categorical_accuracy: 0.7067\n",
            "Epoch 24/100\n",
            "433/433 [==============================] - 5s 11ms/step - loss: 6.3976 - accuracy: 0.2659 - top_k_categorical_accuracy: 0.7091 - val_loss: 7.7366 - val_accuracy: 0.1461 - val_top_k_categorical_accuracy: 0.7156\n",
            "Epoch 25/100\n",
            "433/433 [==============================] - 5s 12ms/step - loss: 6.3502 - accuracy: 0.2711 - top_k_categorical_accuracy: 0.7178 - val_loss: 7.7605 - val_accuracy: 0.1427 - val_top_k_categorical_accuracy: 0.7238\n",
            "Epoch 26/100\n",
            "433/433 [==============================] - 5s 11ms/step - loss: 6.3620 - accuracy: 0.2707 - top_k_categorical_accuracy: 0.7258 - val_loss: 7.8310 - val_accuracy: 0.1406 - val_top_k_categorical_accuracy: 0.7313\n",
            "Epoch 27/100\n",
            "433/433 [==============================] - 5s 11ms/step - loss: 6.3930 - accuracy: 0.2676 - top_k_categorical_accuracy: 0.7332 - val_loss: 7.7619 - val_accuracy: 0.1420 - val_top_k_categorical_accuracy: 0.7384\n",
            "Epoch 28/100\n",
            "433/433 [==============================] - 5s 11ms/step - loss: 6.3878 - accuracy: 0.2664 - top_k_categorical_accuracy: 0.7402 - val_loss: 7.8387 - val_accuracy: 0.1413 - val_top_k_categorical_accuracy: 0.7448\n",
            "Epoch 29/100\n",
            "433/433 [==============================] - 5s 11ms/step - loss: 6.4000 - accuracy: 0.2656 - top_k_categorical_accuracy: 0.7465 - val_loss: 7.8759 - val_accuracy: 0.1337 - val_top_k_categorical_accuracy: 0.7511\n",
            "Epoch 30/100\n",
            "433/433 [==============================] - 5s 11ms/step - loss: 6.3654 - accuracy: 0.2691 - top_k_categorical_accuracy: 0.7527 - val_loss: 7.8736 - val_accuracy: 0.1365 - val_top_k_categorical_accuracy: 0.7573\n",
            "Epoch 31/100\n",
            "433/433 [==============================] - 5s 11ms/step - loss: 6.3929 - accuracy: 0.2669 - top_k_categorical_accuracy: 0.7587 - val_loss: 7.9407 - val_accuracy: 0.1420 - val_top_k_categorical_accuracy: 0.7631\n",
            "Epoch 32/100\n",
            "433/433 [==============================] - 5s 11ms/step - loss: 6.4068 - accuracy: 0.2647 - top_k_categorical_accuracy: 0.7645 - val_loss: 7.8707 - val_accuracy: 0.1385 - val_top_k_categorical_accuracy: 0.7686\n",
            "Epoch 33/100\n",
            "433/433 [==============================] - 5s 11ms/step - loss: 6.3757 - accuracy: 0.2695 - top_k_categorical_accuracy: 0.7700 - val_loss: 7.8793 - val_accuracy: 0.1289 - val_top_k_categorical_accuracy: 0.7740\n",
            "Epoch 34/100\n",
            "433/433 [==============================] - 5s 11ms/step - loss: 6.3614 - accuracy: 0.2706 - top_k_categorical_accuracy: 0.7753 - val_loss: 7.8016 - val_accuracy: 0.1413 - val_top_k_categorical_accuracy: 0.7788\n",
            "Epoch 35/100\n",
            "433/433 [==============================] - 5s 12ms/step - loss: 6.3798 - accuracy: 0.2682 - top_k_categorical_accuracy: 0.7801 - val_loss: 7.9023 - val_accuracy: 0.1269 - val_top_k_categorical_accuracy: 0.7838\n",
            "Epoch 36/100\n",
            "433/433 [==============================] - 5s 11ms/step - loss: 6.4103 - accuracy: 0.2645 - top_k_categorical_accuracy: 0.7849 - val_loss: 8.0412 - val_accuracy: 0.1413 - val_top_k_categorical_accuracy: 0.7884\n",
            "Epoch 37/100\n",
            "433/433 [==============================] - 5s 11ms/step - loss: 6.3542 - accuracy: 0.2702 - top_k_categorical_accuracy: 0.7896 - val_loss: 7.9725 - val_accuracy: 0.1399 - val_top_k_categorical_accuracy: 0.7927\n",
            "Epoch 38/100\n",
            "433/433 [==============================] - 5s 12ms/step - loss: 6.3969 - accuracy: 0.2681 - top_k_categorical_accuracy: 0.7937 - val_loss: 7.9299 - val_accuracy: 0.1358 - val_top_k_categorical_accuracy: 0.7967\n",
            "Epoch 39/100\n",
            "433/433 [==============================] - 5s 11ms/step - loss: 6.4076 - accuracy: 0.2659 - top_k_categorical_accuracy: 0.7978 - val_loss: 8.0566 - val_accuracy: 0.1379 - val_top_k_categorical_accuracy: 0.8006\n",
            "Epoch 40/100\n",
            "433/433 [==============================] - 5s 11ms/step - loss: 6.3831 - accuracy: 0.2695 - top_k_categorical_accuracy: 0.8016 - val_loss: 7.9517 - val_accuracy: 0.1303 - val_top_k_categorical_accuracy: 0.8044\n",
            "Epoch 41/100\n",
            "433/433 [==============================] - 5s 11ms/step - loss: 6.3873 - accuracy: 0.2675 - top_k_categorical_accuracy: 0.8054 - val_loss: 7.9318 - val_accuracy: 0.1379 - val_top_k_categorical_accuracy: 0.8080\n",
            "Epoch 42/100\n",
            "433/433 [==============================] - 5s 11ms/step - loss: 6.3830 - accuracy: 0.2693 - top_k_categorical_accuracy: 0.8088 - val_loss: 8.0052 - val_accuracy: 0.1276 - val_top_k_categorical_accuracy: 0.8112\n",
            "Epoch 43/100\n",
            "433/433 [==============================] - 5s 11ms/step - loss: 6.3809 - accuracy: 0.2691 - top_k_categorical_accuracy: 0.8120 - val_loss: 7.9683 - val_accuracy: 0.1317 - val_top_k_categorical_accuracy: 0.8145\n",
            "Epoch 44/100\n",
            "433/433 [==============================] - 5s 11ms/step - loss: 6.3896 - accuracy: 0.2664 - top_k_categorical_accuracy: 0.8152 - val_loss: 7.9309 - val_accuracy: 0.1379 - val_top_k_categorical_accuracy: 0.8174\n",
            "Epoch 45/100\n",
            "433/433 [==============================] - 5s 11ms/step - loss: 6.4235 - accuracy: 0.2635 - top_k_categorical_accuracy: 0.8181 - val_loss: 8.0222 - val_accuracy: 0.1310 - val_top_k_categorical_accuracy: 0.8202\n",
            "Epoch 46/100\n",
            "433/433 [==============================] - 5s 11ms/step - loss: 6.3928 - accuracy: 0.2669 - top_k_categorical_accuracy: 0.8209 - val_loss: 8.0553 - val_accuracy: 0.1365 - val_top_k_categorical_accuracy: 0.8229\n",
            "Epoch 47/100\n",
            "433/433 [==============================] - 5s 11ms/step - loss: 6.3665 - accuracy: 0.2706 - top_k_categorical_accuracy: 0.8236 - val_loss: 8.0074 - val_accuracy: 0.1248 - val_top_k_categorical_accuracy: 0.8256\n",
            "Epoch 48/100\n",
            "433/433 [==============================] - 5s 12ms/step - loss: 6.4160 - accuracy: 0.2650 - top_k_categorical_accuracy: 0.8263 - val_loss: 8.1124 - val_accuracy: 0.1317 - val_top_k_categorical_accuracy: 0.8283\n",
            "Epoch 49/100\n",
            "433/433 [==============================] - 5s 11ms/step - loss: 6.4359 - accuracy: 0.2626 - top_k_categorical_accuracy: 0.8289 - val_loss: 8.2128 - val_accuracy: 0.1248 - val_top_k_categorical_accuracy: 0.8308\n",
            "Epoch 50/100\n",
            "433/433 [==============================] - 5s 12ms/step - loss: 6.3680 - accuracy: 0.2697 - top_k_categorical_accuracy: 0.8314 - val_loss: 8.1781 - val_accuracy: 0.1344 - val_top_k_categorical_accuracy: 0.8332\n",
            "Epoch 51/100\n",
            "433/433 [==============================] - 5s 11ms/step - loss: 6.4035 - accuracy: 0.2666 - top_k_categorical_accuracy: 0.8338 - val_loss: 8.1940 - val_accuracy: 0.1262 - val_top_k_categorical_accuracy: 0.8356\n",
            "Epoch 52/100\n",
            "433/433 [==============================] - 5s 12ms/step - loss: 6.3859 - accuracy: 0.2682 - top_k_categorical_accuracy: 0.8362 - val_loss: 8.2242 - val_accuracy: 0.1255 - val_top_k_categorical_accuracy: 0.8379\n",
            "Epoch 53/100\n",
            "433/433 [==============================] - 5s 11ms/step - loss: 6.3903 - accuracy: 0.2686 - top_k_categorical_accuracy: 0.8384 - val_loss: 8.2659 - val_accuracy: 0.1337 - val_top_k_categorical_accuracy: 0.8402\n",
            "Epoch 54/100\n",
            "433/433 [==============================] - 5s 11ms/step - loss: 6.4030 - accuracy: 0.2661 - top_k_categorical_accuracy: 0.8408 - val_loss: 8.2246 - val_accuracy: 0.1255 - val_top_k_categorical_accuracy: 0.8426\n",
            "Epoch 55/100\n",
            "433/433 [==============================] - 5s 11ms/step - loss: 6.3831 - accuracy: 0.2699 - top_k_categorical_accuracy: 0.8431 - val_loss: 8.2241 - val_accuracy: 0.1228 - val_top_k_categorical_accuracy: 0.8448\n",
            "Epoch 56/100\n",
            "433/433 [==============================] - 5s 11ms/step - loss: 6.4280 - accuracy: 0.2655 - top_k_categorical_accuracy: 0.8453 - val_loss: 8.0156 - val_accuracy: 0.1324 - val_top_k_categorical_accuracy: 0.8469\n",
            "Epoch 57/100\n",
            "433/433 [==============================] - 5s 11ms/step - loss: 6.3956 - accuracy: 0.2676 - top_k_categorical_accuracy: 0.8474 - val_loss: 8.1081 - val_accuracy: 0.1173 - val_top_k_categorical_accuracy: 0.8490\n",
            "Epoch 58/100\n",
            "433/433 [==============================] - 5s 11ms/step - loss: 6.4030 - accuracy: 0.2658 - top_k_categorical_accuracy: 0.8495 - val_loss: 8.2801 - val_accuracy: 0.1221 - val_top_k_categorical_accuracy: 0.8509\n",
            "Epoch 59/100\n",
            "433/433 [==============================] - 5s 11ms/step - loss: 6.3842 - accuracy: 0.2692 - top_k_categorical_accuracy: 0.8514 - val_loss: 8.1217 - val_accuracy: 0.1269 - val_top_k_categorical_accuracy: 0.8529\n",
            "Epoch 60/100\n",
            "433/433 [==============================] - 5s 11ms/step - loss: 6.4642 - accuracy: 0.2592 - top_k_categorical_accuracy: 0.8534 - val_loss: 7.9816 - val_accuracy: 0.1296 - val_top_k_categorical_accuracy: 0.8547\n",
            "Epoch 61/100\n",
            "433/433 [==============================] - 5s 12ms/step - loss: 6.3903 - accuracy: 0.2682 - top_k_categorical_accuracy: 0.8552 - val_loss: 8.0556 - val_accuracy: 0.1303 - val_top_k_categorical_accuracy: 0.8566\n",
            "Epoch 62/100\n",
            "433/433 [==============================] - 5s 11ms/step - loss: 6.3968 - accuracy: 0.2679 - top_k_categorical_accuracy: 0.8571 - val_loss: 8.0957 - val_accuracy: 0.1248 - val_top_k_categorical_accuracy: 0.8584\n",
            "Epoch 63/100\n",
            "433/433 [==============================] - 5s 12ms/step - loss: 6.3777 - accuracy: 0.2702 - top_k_categorical_accuracy: 0.8588 - val_loss: 8.2280 - val_accuracy: 0.1283 - val_top_k_categorical_accuracy: 0.8601\n",
            "Epoch 64/100\n",
            "433/433 [==============================] - 5s 12ms/step - loss: 6.4876 - accuracy: 0.2565 - top_k_categorical_accuracy: 0.8605 - val_loss: 8.1600 - val_accuracy: 0.1262 - val_top_k_categorical_accuracy: 0.8618\n",
            "Epoch 65/100\n",
            "433/433 [==============================] - 5s 11ms/step - loss: 6.4341 - accuracy: 0.2654 - top_k_categorical_accuracy: 0.8622 - val_loss: 8.2121 - val_accuracy: 0.1289 - val_top_k_categorical_accuracy: 0.8634\n",
            "Epoch 66/100\n",
            "433/433 [==============================] - 5s 11ms/step - loss: 6.4180 - accuracy: 0.2676 - top_k_categorical_accuracy: 0.8638 - val_loss: 8.2537 - val_accuracy: 0.1303 - val_top_k_categorical_accuracy: 0.8650\n",
            "Epoch 67/100\n",
            "433/433 [==============================] - 5s 11ms/step - loss: 6.4478 - accuracy: 0.2617 - top_k_categorical_accuracy: 0.8653 - val_loss: 8.1684 - val_accuracy: 0.1310 - val_top_k_categorical_accuracy: 0.8665\n",
            "Epoch 68/100\n",
            "433/433 [==============================] - 5s 11ms/step - loss: 6.4628 - accuracy: 0.2623 - top_k_categorical_accuracy: 0.8669 - val_loss: 8.2328 - val_accuracy: 0.1248 - val_top_k_categorical_accuracy: 0.8680\n",
            "Epoch 69/100\n",
            "433/433 [==============================] - 5s 11ms/step - loss: 6.4237 - accuracy: 0.2650 - top_k_categorical_accuracy: 0.8684 - val_loss: 8.3653 - val_accuracy: 0.1276 - val_top_k_categorical_accuracy: 0.8695\n",
            "Epoch 70/100\n",
            "433/433 [==============================] - 5s 11ms/step - loss: 6.4467 - accuracy: 0.2632 - top_k_categorical_accuracy: 0.8699 - val_loss: 8.4078 - val_accuracy: 0.1276 - val_top_k_categorical_accuracy: 0.8710\n",
            "Epoch 71/100\n",
            "433/433 [==============================] - 5s 11ms/step - loss: 6.4512 - accuracy: 0.2610 - top_k_categorical_accuracy: 0.8714 - val_loss: 8.2943 - val_accuracy: 0.1207 - val_top_k_categorical_accuracy: 0.8724\n",
            "Epoch 72/100\n",
            "433/433 [==============================] - 5s 11ms/step - loss: 6.4764 - accuracy: 0.2581 - top_k_categorical_accuracy: 0.8728 - val_loss: 8.3898 - val_accuracy: 0.1269 - val_top_k_categorical_accuracy: 0.8738\n",
            "Epoch 73/100\n",
            "433/433 [==============================] - 5s 11ms/step - loss: 6.4132 - accuracy: 0.2656 - top_k_categorical_accuracy: 0.8742 - val_loss: 8.4498 - val_accuracy: 0.1283 - val_top_k_categorical_accuracy: 0.8752\n",
            "Epoch 74/100\n",
            "433/433 [==============================] - 5s 12ms/step - loss: 6.4053 - accuracy: 0.2662 - top_k_categorical_accuracy: 0.8755 - val_loss: 8.4088 - val_accuracy: 0.1214 - val_top_k_categorical_accuracy: 0.8765\n",
            "Epoch 75/100\n",
            "433/433 [==============================] - 5s 12ms/step - loss: 6.4402 - accuracy: 0.2622 - top_k_categorical_accuracy: 0.8768 - val_loss: 8.3222 - val_accuracy: 0.1214 - val_top_k_categorical_accuracy: 0.8778\n",
            "Epoch 76/100\n",
            "433/433 [==============================] - 5s 12ms/step - loss: 6.4540 - accuracy: 0.2600 - top_k_categorical_accuracy: 0.8780 - val_loss: 8.4605 - val_accuracy: 0.1235 - val_top_k_categorical_accuracy: 0.8789\n",
            "Epoch 77/100\n",
            "433/433 [==============================] - 5s 12ms/step - loss: 6.4261 - accuracy: 0.2657 - top_k_categorical_accuracy: 0.8792 - val_loss: 8.2196 - val_accuracy: 0.1276 - val_top_k_categorical_accuracy: 0.8801\n",
            "Epoch 78/100\n",
            "433/433 [==============================] - 5s 12ms/step - loss: 6.4269 - accuracy: 0.2648 - top_k_categorical_accuracy: 0.8804 - val_loss: 8.4299 - val_accuracy: 0.1200 - val_top_k_categorical_accuracy: 0.8814\n",
            "Epoch 79/100\n",
            "433/433 [==============================] - 5s 11ms/step - loss: 6.4137 - accuracy: 0.2662 - top_k_categorical_accuracy: 0.8817 - val_loss: 8.2738 - val_accuracy: 0.1207 - val_top_k_categorical_accuracy: 0.8825\n",
            "Epoch 80/100\n",
            "433/433 [==============================] - 5s 11ms/step - loss: 6.4262 - accuracy: 0.2654 - top_k_categorical_accuracy: 0.8828 - val_loss: 8.1618 - val_accuracy: 0.1331 - val_top_k_categorical_accuracy: 0.8836\n",
            "Epoch 81/100\n",
            "433/433 [==============================] - 5s 12ms/step - loss: 6.4270 - accuracy: 0.2656 - top_k_categorical_accuracy: 0.8839 - val_loss: 8.2878 - val_accuracy: 0.1214 - val_top_k_categorical_accuracy: 0.8848\n",
            "Epoch 82/100\n",
            "433/433 [==============================] - 5s 12ms/step - loss: 6.4675 - accuracy: 0.2596 - top_k_categorical_accuracy: 0.8850 - val_loss: 8.2625 - val_accuracy: 0.1303 - val_top_k_categorical_accuracy: 0.8858\n",
            "Epoch 83/100\n",
            "433/433 [==============================] - 5s 12ms/step - loss: 6.4363 - accuracy: 0.2646 - top_k_categorical_accuracy: 0.8861 - val_loss: 8.5442 - val_accuracy: 0.1331 - val_top_k_categorical_accuracy: 0.8870\n",
            "Epoch 84/100\n",
            "433/433 [==============================] - 5s 12ms/step - loss: 6.4413 - accuracy: 0.2628 - top_k_categorical_accuracy: 0.8872 - val_loss: 8.4120 - val_accuracy: 0.1207 - val_top_k_categorical_accuracy: 0.8880\n",
            "Epoch 85/100\n",
            "433/433 [==============================] - 5s 12ms/step - loss: 6.4439 - accuracy: 0.2637 - top_k_categorical_accuracy: 0.8882 - val_loss: 8.5250 - val_accuracy: 0.1317 - val_top_k_categorical_accuracy: 0.8890\n",
            "Epoch 86/100\n",
            "433/433 [==============================] - 5s 12ms/step - loss: 6.4320 - accuracy: 0.2657 - top_k_categorical_accuracy: 0.8892 - val_loss: 8.4673 - val_accuracy: 0.1276 - val_top_k_categorical_accuracy: 0.8900\n",
            "Epoch 87/100\n",
            "433/433 [==============================] - 5s 11ms/step - loss: 6.3924 - accuracy: 0.2699 - top_k_categorical_accuracy: 0.8902 - val_loss: 8.6080 - val_accuracy: 0.1324 - val_top_k_categorical_accuracy: 0.8910\n",
            "Epoch 88/100\n",
            "433/433 [==============================] - 5s 11ms/step - loss: 6.4367 - accuracy: 0.2632 - top_k_categorical_accuracy: 0.8912 - val_loss: 8.4576 - val_accuracy: 0.1283 - val_top_k_categorical_accuracy: 0.8919\n",
            "Epoch 89/100\n",
            "433/433 [==============================] - 5s 11ms/step - loss: 6.4741 - accuracy: 0.2606 - top_k_categorical_accuracy: 0.8921 - val_loss: 8.3256 - val_accuracy: 0.1276 - val_top_k_categorical_accuracy: 0.8929\n",
            "Epoch 90/100\n",
            "433/433 [==============================] - 5s 11ms/step - loss: 6.4385 - accuracy: 0.2621 - top_k_categorical_accuracy: 0.8931 - val_loss: 8.4985 - val_accuracy: 0.1296 - val_top_k_categorical_accuracy: 0.8938\n",
            "Epoch 91/100\n",
            "433/433 [==============================] - 5s 11ms/step - loss: 6.4279 - accuracy: 0.2659 - top_k_categorical_accuracy: 0.8940 - val_loss: 8.4891 - val_accuracy: 0.1331 - val_top_k_categorical_accuracy: 0.8946\n",
            "Epoch 92/100\n",
            "433/433 [==============================] - 5s 12ms/step - loss: 6.4660 - accuracy: 0.2615 - top_k_categorical_accuracy: 0.8949 - val_loss: 8.5423 - val_accuracy: 0.1269 - val_top_k_categorical_accuracy: 0.8955\n",
            "Epoch 93/100\n",
            "433/433 [==============================] - 5s 11ms/step - loss: 6.4345 - accuracy: 0.2633 - top_k_categorical_accuracy: 0.8958 - val_loss: 8.5534 - val_accuracy: 0.1344 - val_top_k_categorical_accuracy: 0.8964\n",
            "Epoch 94/100\n",
            "433/433 [==============================] - 5s 12ms/step - loss: 6.4650 - accuracy: 0.2613 - top_k_categorical_accuracy: 0.8966 - val_loss: 8.4272 - val_accuracy: 0.1296 - val_top_k_categorical_accuracy: 0.8972\n",
            "Epoch 95/100\n",
            "433/433 [==============================] - 5s 12ms/step - loss: 6.4691 - accuracy: 0.2590 - top_k_categorical_accuracy: 0.8974 - val_loss: 8.4263 - val_accuracy: 0.1303 - val_top_k_categorical_accuracy: 0.8980\n",
            "Epoch 96/100\n",
            "433/433 [==============================] - 5s 12ms/step - loss: 6.4542 - accuracy: 0.2629 - top_k_categorical_accuracy: 0.8982 - val_loss: 8.3499 - val_accuracy: 0.1262 - val_top_k_categorical_accuracy: 0.8988\n",
            "Epoch 97/100\n",
            "433/433 [==============================] - 5s 12ms/step - loss: 6.4803 - accuracy: 0.2597 - top_k_categorical_accuracy: 0.8990 - val_loss: 8.4874 - val_accuracy: 0.1228 - val_top_k_categorical_accuracy: 0.8996\n",
            "Epoch 98/100\n",
            "433/433 [==============================] - 5s 12ms/step - loss: 6.4281 - accuracy: 0.2652 - top_k_categorical_accuracy: 0.8998 - val_loss: 8.4787 - val_accuracy: 0.1221 - val_top_k_categorical_accuracy: 0.9004\n",
            "Epoch 99/100\n",
            "433/433 [==============================] - 5s 12ms/step - loss: 6.4274 - accuracy: 0.2657 - top_k_categorical_accuracy: 0.9006 - val_loss: 8.2667 - val_accuracy: 0.1289 - val_top_k_categorical_accuracy: 0.9011\n",
            "Epoch 100/100\n",
            "433/433 [==============================] - 5s 12ms/step - loss: 6.4386 - accuracy: 0.2657 - top_k_categorical_accuracy: 0.9013 - val_loss: 8.1693 - val_accuracy: 0.1283 - val_top_k_categorical_accuracy: 0.9019\n"
          ],
          "name": "stdout"
        }
      ]
    },
    {
      "cell_type": "code",
      "metadata": {
        "colab": {
          "base_uri": "https://localhost:8080/",
          "height": 537
        },
        "id": "2-0e9S6q6XJW",
        "outputId": "985ffc33-3656-4996-c464-10b8905fc16f"
      },
      "source": [
        "graph(results)"
      ],
      "execution_count": 52,
      "outputs": [
        {
          "output_type": "display_data",
          "data": {
            "image/png": "[encoded data removed]",
            "text/plain": [
              "<Figure size 1440x720 with 3 Axes>"
            ]
          },
          "metadata": {
            "tags": [],
            "needs_background": "light"
          }
        }
      ]
    },
    {
      "cell_type": "code",
      "metadata": {
        "colab": {
          "base_uri": "https://localhost:8080/"
        },
        "id": "ojJA7MTh6XGY",
        "outputId": "63726a61-277a-4523-8b74-6e6d57a3f2df"
      },
      "source": [
        "#batch size=10, lr=0.001(best)\n",
        "\n",
        "model = Sequential()\n",
        "model.add(LSTM(256, input_shape=(X.shape[1], X.shape[2]), return_sequences=True))\n",
        "model.add(Dropout(0.2))\n",
        "model.add(LSTM(256))\n",
        "model.add(Dropout(0.3))\n",
        "model.add(Dense(y.shape[1], activation='relu'))\n",
        "model.add(Activation(\"softmax\"))\n",
        "print(model.summary())\n",
        "\n",
        "optimizer = RMSprop(learning_rate=0.001)\n",
        "\n",
        "model.compile(optimizer=optimizer, loss=\"categorical_crossentropy\", metrics=[\"accuracy\", tf.keras.metrics.TopKCategoricalAccuracy(k=5)])\n",
        "\n",
        "early_stop = EarlyStopping(monitor='val_loss', min_delta=1e-1,\n",
        "                           verbose=1,\n",
        "                           mode='min', patience=5)\n",
        "results=model.fit(X,y, epochs=100, batch_size=10, validation_split=0.05).history"
      ],
      "execution_count": 55,
      "outputs": [
        {
          "output_type": "stream",
          "text": [
            "Model: \"sequential_1\"\n",
            "_________________________________________________________________\n",
            "Layer (type)                 Output Shape              Param #   \n",
            "=================================================================\n",
            "lstm_2 (LSTM)                (None, 3, 256)            6179840   \n",
            "_________________________________________________________________\n",
            "dropout_2 (Dropout)          (None, 3, 256)            0         \n",
            "_________________________________________________________________\n",
            "lstm_3 (LSTM)                (None, 256)               525312    \n",
            "_________________________________________________________________\n",
            "dropout_3 (Dropout)          (None, 256)               0         \n",
            "_________________________________________________________________\n",
            "dense_1 (Dense)              (None, 5778)              1484946   \n",
            "_________________________________________________________________\n",
            "activation_1 (Activation)    (None, 5778)              0         \n",
            "=================================================================\n",
            "Total params: 8,190,098\n",
            "Trainable params: 8,190,098\n",
            "Non-trainable params: 0\n",
            "_________________________________________________________________\n",
            "None\n",
            "Epoch 1/100\n",
            "2770/2770 [==============================] - 31s 10ms/step - loss: 8.2804 - accuracy: 0.0430 - top_k_categorical_accuracy: 0.5227 - val_loss: 8.0922 - val_accuracy: 0.0830 - val_top_k_categorical_accuracy: 0.7872\n",
            "Epoch 2/100\n",
            "2770/2770 [==============================] - 26s 10ms/step - loss: 8.1099 - accuracy: 0.0738 - top_k_categorical_accuracy: 0.8139 - val_loss: 8.0884 - val_accuracy: 0.0816 - val_top_k_categorical_accuracy: 0.8586\n",
            "Epoch 3/100\n",
            "2770/2770 [==============================] - 26s 9ms/step - loss: 8.1240 - accuracy: 0.0738 - top_k_categorical_accuracy: 0.8718 - val_loss: 8.1041 - val_accuracy: 0.0727 - val_top_k_categorical_accuracy: 0.8980\n",
            "Epoch 4/100\n",
            "2770/2770 [==============================] - 27s 10ms/step - loss: 8.0800 - accuracy: 0.0787 - top_k_categorical_accuracy: 0.9045 - val_loss: 8.0883 - val_accuracy: 0.0727 - val_top_k_categorical_accuracy: 0.9206\n",
            "Epoch 5/100\n",
            "2770/2770 [==============================] - 26s 10ms/step - loss: 8.0693 - accuracy: 0.0779 - top_k_categorical_accuracy: 0.9246 - val_loss: 8.0897 - val_accuracy: 0.0816 - val_top_k_categorical_accuracy: 0.9340\n",
            "Epoch 6/100\n",
            "2770/2770 [==============================] - 27s 10ms/step - loss: 8.0472 - accuracy: 0.0822 - top_k_categorical_accuracy: 0.9369 - val_loss: 8.0975 - val_accuracy: 0.0844 - val_top_k_categorical_accuracy: 0.9435\n",
            "Epoch 7/100\n",
            "2770/2770 [==============================] - 26s 10ms/step - loss: 8.0453 - accuracy: 0.0829 - top_k_categorical_accuracy: 0.9454 - val_loss: 7.9826 - val_accuracy: 0.0947 - val_top_k_categorical_accuracy: 0.9494\n",
            "Epoch 8/100\n",
            "2770/2770 [==============================] - 27s 10ms/step - loss: 7.9154 - accuracy: 0.0962 - top_k_categorical_accuracy: 0.9508 - val_loss: 8.0368 - val_accuracy: 0.0830 - val_top_k_categorical_accuracy: 0.9537\n",
            "Epoch 9/100\n",
            "2770/2770 [==============================] - 27s 10ms/step - loss: 7.9528 - accuracy: 0.0948 - top_k_categorical_accuracy: 0.9547 - val_loss: 8.0306 - val_accuracy: 0.0967 - val_top_k_categorical_accuracy: 0.9574\n",
            "Epoch 10/100\n",
            "2770/2770 [==============================] - 26s 10ms/step - loss: 7.9413 - accuracy: 0.0946 - top_k_categorical_accuracy: 0.9583 - val_loss: 8.0184 - val_accuracy: 0.0981 - val_top_k_categorical_accuracy: 0.9601\n",
            "Epoch 11/100\n",
            "2770/2770 [==============================] - 26s 9ms/step - loss: 7.9013 - accuracy: 0.1012 - top_k_categorical_accuracy: 0.9608 - val_loss: 8.0184 - val_accuracy: 0.0940 - val_top_k_categorical_accuracy: 0.9629\n",
            "Epoch 12/100\n",
            "2770/2770 [==============================] - 26s 10ms/step - loss: 7.9016 - accuracy: 0.0998 - top_k_categorical_accuracy: 0.9635 - val_loss: 8.0607 - val_accuracy: 0.0871 - val_top_k_categorical_accuracy: 0.9652\n",
            "Epoch 13/100\n",
            "2770/2770 [==============================] - 27s 10ms/step - loss: 7.8896 - accuracy: 0.1005 - top_k_categorical_accuracy: 0.9658 - val_loss: 7.9892 - val_accuracy: 0.0981 - val_top_k_categorical_accuracy: 0.9675\n",
            "Epoch 14/100\n",
            "2770/2770 [==============================] - 26s 10ms/step - loss: 7.8983 - accuracy: 0.1004 - top_k_categorical_accuracy: 0.9680 - val_loss: 8.0700 - val_accuracy: 0.0878 - val_top_k_categorical_accuracy: 0.9694\n",
            "Epoch 15/100\n",
            "2770/2770 [==============================] - 27s 10ms/step - loss: 7.9069 - accuracy: 0.0992 - top_k_categorical_accuracy: 0.9699 - val_loss: 8.0550 - val_accuracy: 0.0919 - val_top_k_categorical_accuracy: 0.9712\n",
            "Epoch 16/100\n",
            "2770/2770 [==============================] - 26s 9ms/step - loss: 7.8940 - accuracy: 0.1015 - top_k_categorical_accuracy: 0.9716 - val_loss: 8.0681 - val_accuracy: 0.0926 - val_top_k_categorical_accuracy: 0.9727\n",
            "Epoch 17/100\n",
            "2770/2770 [==============================] - 27s 10ms/step - loss: 7.8738 - accuracy: 0.1030 - top_k_categorical_accuracy: 0.9731 - val_loss: 8.1074 - val_accuracy: 0.0850 - val_top_k_categorical_accuracy: 0.9739\n",
            "Epoch 18/100\n",
            "2770/2770 [==============================] - 26s 10ms/step - loss: 7.8997 - accuracy: 0.1018 - top_k_categorical_accuracy: 0.9742 - val_loss: 8.0782 - val_accuracy: 0.0919 - val_top_k_categorical_accuracy: 0.9752\n",
            "Epoch 19/100\n",
            "2770/2770 [==============================] - 26s 10ms/step - loss: 7.8632 - accuracy: 0.1040 - top_k_categorical_accuracy: 0.9755 - val_loss: 8.1338 - val_accuracy: 0.0837 - val_top_k_categorical_accuracy: 0.9763\n",
            "Epoch 20/100\n",
            "2770/2770 [==============================] - 27s 10ms/step - loss: 7.8885 - accuracy: 0.1016 - top_k_categorical_accuracy: 0.9765 - val_loss: 8.1202 - val_accuracy: 0.0898 - val_top_k_categorical_accuracy: 0.9773\n",
            "Epoch 21/100\n",
            "2770/2770 [==============================] - 27s 10ms/step - loss: 7.8790 - accuracy: 0.1022 - top_k_categorical_accuracy: 0.9775 - val_loss: 8.1546 - val_accuracy: 0.0850 - val_top_k_categorical_accuracy: 0.9781\n",
            "Epoch 22/100\n",
            "2770/2770 [==============================] - 26s 10ms/step - loss: 7.8725 - accuracy: 0.1033 - top_k_categorical_accuracy: 0.9784 - val_loss: 8.1375 - val_accuracy: 0.0926 - val_top_k_categorical_accuracy: 0.9790\n",
            "Epoch 23/100\n",
            "2770/2770 [==============================] - 27s 10ms/step - loss: 7.8591 - accuracy: 0.1039 - top_k_categorical_accuracy: 0.9793 - val_loss: 8.1324 - val_accuracy: 0.0898 - val_top_k_categorical_accuracy: 0.9799\n",
            "Epoch 24/100\n",
            "2770/2770 [==============================] - 27s 10ms/step - loss: 7.8629 - accuracy: 0.1040 - top_k_categorical_accuracy: 0.9801 - val_loss: 8.1345 - val_accuracy: 0.0837 - val_top_k_categorical_accuracy: 0.9806\n",
            "Epoch 25/100\n",
            "2770/2770 [==============================] - 27s 10ms/step - loss: 7.8967 - accuracy: 0.1009 - top_k_categorical_accuracy: 0.9808 - val_loss: 8.2080 - val_accuracy: 0.0748 - val_top_k_categorical_accuracy: 0.9812\n",
            "Epoch 26/100\n",
            "2770/2770 [==============================] - 27s 10ms/step - loss: 7.8648 - accuracy: 0.1044 - top_k_categorical_accuracy: 0.9814 - val_loss: 8.1366 - val_accuracy: 0.0905 - val_top_k_categorical_accuracy: 0.9819\n",
            "Epoch 27/100\n",
            "2770/2770 [==============================] - 26s 10ms/step - loss: 7.8929 - accuracy: 0.1009 - top_k_categorical_accuracy: 0.9820 - val_loss: 8.2291 - val_accuracy: 0.0830 - val_top_k_categorical_accuracy: 0.9824\n",
            "Epoch 28/100\n",
            "2770/2770 [==============================] - 27s 10ms/step - loss: 7.8533 - accuracy: 0.1062 - top_k_categorical_accuracy: 0.9825 - val_loss: 8.2025 - val_accuracy: 0.0809 - val_top_k_categorical_accuracy: 0.9828\n",
            "Epoch 29/100\n",
            "2770/2770 [==============================] - 27s 10ms/step - loss: 7.8767 - accuracy: 0.1016 - top_k_categorical_accuracy: 0.9829 - val_loss: 8.2145 - val_accuracy: 0.0775 - val_top_k_categorical_accuracy: 0.9833\n",
            "Epoch 30/100\n",
            "2770/2770 [==============================] - 26s 10ms/step - loss: 7.8529 - accuracy: 0.1053 - top_k_categorical_accuracy: 0.9834 - val_loss: 8.2078 - val_accuracy: 0.0768 - val_top_k_categorical_accuracy: 0.9838\n",
            "Epoch 31/100\n",
            "2770/2770 [==============================] - 27s 10ms/step - loss: 7.8799 - accuracy: 0.1023 - top_k_categorical_accuracy: 0.9839 - val_loss: 8.2352 - val_accuracy: 0.0796 - val_top_k_categorical_accuracy: 0.9842\n",
            "Epoch 32/100\n",
            "2770/2770 [==============================] - 27s 10ms/step - loss: 7.8501 - accuracy: 0.1055 - top_k_categorical_accuracy: 0.9843 - val_loss: 8.2497 - val_accuracy: 0.0748 - val_top_k_categorical_accuracy: 0.9847\n",
            "Epoch 33/100\n",
            "2770/2770 [==============================] - 27s 10ms/step - loss: 7.8631 - accuracy: 0.1038 - top_k_categorical_accuracy: 0.9848 - val_loss: 8.2305 - val_accuracy: 0.0871 - val_top_k_categorical_accuracy: 0.9851\n",
            "Epoch 34/100\n",
            "2770/2770 [==============================] - 27s 10ms/step - loss: 7.8881 - accuracy: 0.0999 - top_k_categorical_accuracy: 0.9852 - val_loss: 8.1782 - val_accuracy: 0.0844 - val_top_k_categorical_accuracy: 0.9855\n",
            "Epoch 35/100\n",
            "2770/2770 [==============================] - 27s 10ms/step - loss: 7.8768 - accuracy: 0.1024 - top_k_categorical_accuracy: 0.9856 - val_loss: 8.2096 - val_accuracy: 0.0809 - val_top_k_categorical_accuracy: 0.9859\n",
            "Epoch 36/100\n",
            "2770/2770 [==============================] - 27s 10ms/step - loss: 7.8623 - accuracy: 0.1022 - top_k_categorical_accuracy: 0.9860 - val_loss: 8.2419 - val_accuracy: 0.0782 - val_top_k_categorical_accuracy: 0.9862\n",
            "Epoch 37/100\n",
            "2770/2770 [==============================] - 27s 10ms/step - loss: 7.8428 - accuracy: 0.1062 - top_k_categorical_accuracy: 0.9863 - val_loss: 8.2717 - val_accuracy: 0.0816 - val_top_k_categorical_accuracy: 0.9865\n",
            "Epoch 38/100\n",
            "2770/2770 [==============================] - 27s 10ms/step - loss: 7.8784 - accuracy: 0.1027 - top_k_categorical_accuracy: 0.9866 - val_loss: 8.1866 - val_accuracy: 0.0809 - val_top_k_categorical_accuracy: 0.9869\n",
            "Epoch 39/100\n",
            "2770/2770 [==============================] - 27s 10ms/step - loss: 7.8745 - accuracy: 0.1027 - top_k_categorical_accuracy: 0.9870 - val_loss: 8.2799 - val_accuracy: 0.0748 - val_top_k_categorical_accuracy: 0.9872\n",
            "Epoch 40/100\n",
            "2770/2770 [==============================] - 27s 10ms/step - loss: 7.8666 - accuracy: 0.1030 - top_k_categorical_accuracy: 0.9873 - val_loss: 8.2525 - val_accuracy: 0.0823 - val_top_k_categorical_accuracy: 0.9875\n",
            "Epoch 41/100\n",
            "2770/2770 [==============================] - 27s 10ms/step - loss: 7.8673 - accuracy: 0.1016 - top_k_categorical_accuracy: 0.9875 - val_loss: 8.2356 - val_accuracy: 0.0768 - val_top_k_categorical_accuracy: 0.9877\n",
            "Epoch 42/100\n",
            "2770/2770 [==============================] - 27s 10ms/step - loss: 7.8814 - accuracy: 0.1003 - top_k_categorical_accuracy: 0.9878 - val_loss: 8.2167 - val_accuracy: 0.0768 - val_top_k_categorical_accuracy: 0.9880\n",
            "Epoch 43/100\n",
            "2770/2770 [==============================] - 27s 10ms/step - loss: 7.8857 - accuracy: 0.1015 - top_k_categorical_accuracy: 0.9881 - val_loss: 8.2458 - val_accuracy: 0.0782 - val_top_k_categorical_accuracy: 0.9883\n",
            "Epoch 44/100\n",
            "2770/2770 [==============================] - 27s 10ms/step - loss: 7.8779 - accuracy: 0.1018 - top_k_categorical_accuracy: 0.9883 - val_loss: 8.2274 - val_accuracy: 0.0734 - val_top_k_categorical_accuracy: 0.9885\n",
            "Epoch 45/100\n",
            "2770/2770 [==============================] - 27s 10ms/step - loss: 7.8410 - accuracy: 0.1060 - top_k_categorical_accuracy: 0.9886 - val_loss: 8.2777 - val_accuracy: 0.0761 - val_top_k_categorical_accuracy: 0.9888\n",
            "Epoch 46/100\n",
            "2770/2770 [==============================] - 27s 10ms/step - loss: 7.8262 - accuracy: 0.1062 - top_k_categorical_accuracy: 0.9888 - val_loss: 8.2745 - val_accuracy: 0.0768 - val_top_k_categorical_accuracy: 0.9890\n",
            "Epoch 47/100\n",
            "2770/2770 [==============================] - 26s 10ms/step - loss: 7.8519 - accuracy: 0.1034 - top_k_categorical_accuracy: 0.9891 - val_loss: 8.2188 - val_accuracy: 0.0782 - val_top_k_categorical_accuracy: 0.9892\n",
            "Epoch 48/100\n",
            "2770/2770 [==============================] - 27s 10ms/step - loss: 7.8463 - accuracy: 0.1043 - top_k_categorical_accuracy: 0.9893 - val_loss: 8.2569 - val_accuracy: 0.0802 - val_top_k_categorical_accuracy: 0.9894\n",
            "Epoch 49/100\n",
            "2770/2770 [==============================] - 27s 10ms/step - loss: 7.8634 - accuracy: 0.1033 - top_k_categorical_accuracy: 0.9895 - val_loss: 8.2667 - val_accuracy: 0.0768 - val_top_k_categorical_accuracy: 0.9896\n",
            "Epoch 50/100\n",
            "2770/2770 [==============================] - 27s 10ms/step - loss: 7.8967 - accuracy: 0.0981 - top_k_categorical_accuracy: 0.9897 - val_loss: 8.2579 - val_accuracy: 0.0775 - val_top_k_categorical_accuracy: 0.9898\n",
            "Epoch 51/100\n",
            "2770/2770 [==============================] - 27s 10ms/step - loss: 7.8587 - accuracy: 0.1035 - top_k_categorical_accuracy: 0.9899 - val_loss: 8.2857 - val_accuracy: 0.0658 - val_top_k_categorical_accuracy: 0.9900\n",
            "Epoch 52/100\n",
            "2770/2770 [==============================] - 27s 10ms/step - loss: 7.8762 - accuracy: 0.1018 - top_k_categorical_accuracy: 0.9901 - val_loss: 8.2748 - val_accuracy: 0.0754 - val_top_k_categorical_accuracy: 0.9902\n",
            "Epoch 53/100\n",
            "2770/2770 [==============================] - 27s 10ms/step - loss: 7.8668 - accuracy: 0.1021 - top_k_categorical_accuracy: 0.9902 - val_loss: 8.2805 - val_accuracy: 0.0693 - val_top_k_categorical_accuracy: 0.9904\n",
            "Epoch 54/100\n",
            "2770/2770 [==============================] - 27s 10ms/step - loss: 7.8487 - accuracy: 0.1035 - top_k_categorical_accuracy: 0.9904 - val_loss: 8.2615 - val_accuracy: 0.0686 - val_top_k_categorical_accuracy: 0.9906\n",
            "Epoch 55/100\n",
            "2770/2770 [==============================] - 27s 10ms/step - loss: 7.8646 - accuracy: 0.1011 - top_k_categorical_accuracy: 0.9906 - val_loss: 8.2799 - val_accuracy: 0.0761 - val_top_k_categorical_accuracy: 0.9907\n",
            "Epoch 56/100\n",
            "2770/2770 [==============================] - 27s 10ms/step - loss: 7.8551 - accuracy: 0.1030 - top_k_categorical_accuracy: 0.9908 - val_loss: 8.2994 - val_accuracy: 0.0720 - val_top_k_categorical_accuracy: 0.9909\n",
            "Epoch 57/100\n",
            "2770/2770 [==============================] - 27s 10ms/step - loss: 7.8421 - accuracy: 0.1042 - top_k_categorical_accuracy: 0.9909 - val_loss: 8.2812 - val_accuracy: 0.0720 - val_top_k_categorical_accuracy: 0.9910\n",
            "Epoch 58/100\n",
            "2770/2770 [==============================] - 27s 10ms/step - loss: 7.8749 - accuracy: 0.1012 - top_k_categorical_accuracy: 0.9911 - val_loss: 8.2575 - val_accuracy: 0.0686 - val_top_k_categorical_accuracy: 0.9912\n",
            "Epoch 59/100\n",
            "2770/2770 [==============================] - 27s 10ms/step - loss: 7.8456 - accuracy: 0.1050 - top_k_categorical_accuracy: 0.9912 - val_loss: 8.2947 - val_accuracy: 0.0693 - val_top_k_categorical_accuracy: 0.9913\n",
            "Epoch 60/100\n",
            "2770/2770 [==============================] - 27s 10ms/step - loss: 7.8747 - accuracy: 0.1002 - top_k_categorical_accuracy: 0.9914 - val_loss: 8.2964 - val_accuracy: 0.0706 - val_top_k_categorical_accuracy: 0.9915\n",
            "Epoch 61/100\n",
            "2770/2770 [==============================] - 26s 10ms/step - loss: 7.8568 - accuracy: 0.1021 - top_k_categorical_accuracy: 0.9915 - val_loss: 8.3369 - val_accuracy: 0.0700 - val_top_k_categorical_accuracy: 0.9916\n",
            "Epoch 62/100\n",
            "2770/2770 [==============================] - 27s 10ms/step - loss: 7.8501 - accuracy: 0.1021 - top_k_categorical_accuracy: 0.9916 - val_loss: 8.4343 - val_accuracy: 0.0741 - val_top_k_categorical_accuracy: 0.9917\n",
            "Epoch 63/100\n",
            "2770/2770 [==============================] - 26s 10ms/step - loss: 7.8376 - accuracy: 0.1055 - top_k_categorical_accuracy: 0.9918 - val_loss: 8.3755 - val_accuracy: 0.0665 - val_top_k_categorical_accuracy: 0.9919\n",
            "Epoch 64/100\n",
            "2770/2770 [==============================] - 27s 10ms/step - loss: 7.8486 - accuracy: 0.1038 - top_k_categorical_accuracy: 0.9919 - val_loss: 8.3607 - val_accuracy: 0.0645 - val_top_k_categorical_accuracy: 0.9920\n",
            "Epoch 65/100\n",
            "2770/2770 [==============================] - 27s 10ms/step - loss: 7.8525 - accuracy: 0.1032 - top_k_categorical_accuracy: 0.9920 - val_loss: 8.3698 - val_accuracy: 0.0741 - val_top_k_categorical_accuracy: 0.9921\n",
            "Epoch 66/100\n",
            "2770/2770 [==============================] - 27s 10ms/step - loss: 7.8363 - accuracy: 0.1052 - top_k_categorical_accuracy: 0.9921 - val_loss: 8.2795 - val_accuracy: 0.0796 - val_top_k_categorical_accuracy: 0.9922\n",
            "Epoch 67/100\n",
            "2770/2770 [==============================] - 27s 10ms/step - loss: 7.8482 - accuracy: 0.1024 - top_k_categorical_accuracy: 0.9923 - val_loss: 8.3615 - val_accuracy: 0.0665 - val_top_k_categorical_accuracy: 0.9923\n",
            "Epoch 68/100\n",
            "2770/2770 [==============================] - 27s 10ms/step - loss: 7.8532 - accuracy: 0.1032 - top_k_categorical_accuracy: 0.9924 - val_loss: 8.2793 - val_accuracy: 0.0693 - val_top_k_categorical_accuracy: 0.9925\n",
            "Epoch 69/100\n",
            "2770/2770 [==============================] - 27s 10ms/step - loss: 7.8697 - accuracy: 0.1009 - top_k_categorical_accuracy: 0.9925 - val_loss: 8.3239 - val_accuracy: 0.0754 - val_top_k_categorical_accuracy: 0.9926\n",
            "Epoch 70/100\n",
            "2770/2770 [==============================] - 27s 10ms/step - loss: 7.8335 - accuracy: 0.1032 - top_k_categorical_accuracy: 0.9926 - val_loss: 8.3092 - val_accuracy: 0.0638 - val_top_k_categorical_accuracy: 0.9927\n",
            "Epoch 71/100\n",
            "2770/2770 [==============================] - 27s 10ms/step - loss: 7.8483 - accuracy: 0.1027 - top_k_categorical_accuracy: 0.9927 - val_loss: 8.3299 - val_accuracy: 0.0686 - val_top_k_categorical_accuracy: 0.9928\n",
            "Epoch 72/100\n",
            "2770/2770 [==============================] - 26s 10ms/step - loss: 7.8191 - accuracy: 0.1064 - top_k_categorical_accuracy: 0.9928 - val_loss: 8.3685 - val_accuracy: 0.0665 - val_top_k_categorical_accuracy: 0.9929\n",
            "Epoch 73/100\n",
            "2770/2770 [==============================] - 27s 10ms/step - loss: 7.8404 - accuracy: 0.1039 - top_k_categorical_accuracy: 0.9929 - val_loss: 8.3540 - val_accuracy: 0.0693 - val_top_k_categorical_accuracy: 0.9930\n",
            "Epoch 74/100\n",
            "2770/2770 [==============================] - 27s 10ms/step - loss: 7.8611 - accuracy: 0.1008 - top_k_categorical_accuracy: 0.9930 - val_loss: 8.4842 - val_accuracy: 0.0713 - val_top_k_categorical_accuracy: 0.9931\n",
            "Epoch 75/100\n",
            "2770/2770 [==============================] - 27s 10ms/step - loss: 7.8569 - accuracy: 0.1033 - top_k_categorical_accuracy: 0.9931 - val_loss: 8.3669 - val_accuracy: 0.0624 - val_top_k_categorical_accuracy: 0.9931\n",
            "Epoch 76/100\n",
            "2770/2770 [==============================] - 27s 10ms/step - loss: 7.8649 - accuracy: 0.1015 - top_k_categorical_accuracy: 0.9932 - val_loss: 8.3406 - val_accuracy: 0.0706 - val_top_k_categorical_accuracy: 0.9932\n",
            "Epoch 77/100\n",
            "2770/2770 [==============================] - 27s 10ms/step - loss: 7.8245 - accuracy: 0.1053 - top_k_categorical_accuracy: 0.9933 - val_loss: 8.3620 - val_accuracy: 0.0583 - val_top_k_categorical_accuracy: 0.9933\n",
            "Epoch 78/100\n",
            "2770/2770 [==============================] - 27s 10ms/step - loss: 7.8531 - accuracy: 0.1028 - top_k_categorical_accuracy: 0.9934 - val_loss: 8.3058 - val_accuracy: 0.0665 - val_top_k_categorical_accuracy: 0.9934\n",
            "Epoch 79/100\n",
            "2770/2770 [==============================] - 27s 10ms/step - loss: 7.8310 - accuracy: 0.1054 - top_k_categorical_accuracy: 0.9934 - val_loss: 8.3320 - val_accuracy: 0.0706 - val_top_k_categorical_accuracy: 0.9935\n",
            "Epoch 80/100\n",
            "2770/2770 [==============================] - 27s 10ms/step - loss: 7.8234 - accuracy: 0.1064 - top_k_categorical_accuracy: 0.9935 - val_loss: 8.3196 - val_accuracy: 0.0679 - val_top_k_categorical_accuracy: 0.9936\n",
            "Epoch 81/100\n",
            "2770/2770 [==============================] - 27s 10ms/step - loss: 7.8545 - accuracy: 0.1026 - top_k_categorical_accuracy: 0.9936 - val_loss: 8.3259 - val_accuracy: 0.0638 - val_top_k_categorical_accuracy: 0.9936\n",
            "Epoch 82/100\n",
            "2770/2770 [==============================] - 27s 10ms/step - loss: 7.8449 - accuracy: 0.1039 - top_k_categorical_accuracy: 0.9936 - val_loss: 8.3985 - val_accuracy: 0.0556 - val_top_k_categorical_accuracy: 0.9937\n",
            "Epoch 83/100\n",
            "2770/2770 [==============================] - 27s 10ms/step - loss: 7.8448 - accuracy: 0.1035 - top_k_categorical_accuracy: 0.9937 - val_loss: 8.3883 - val_accuracy: 0.0631 - val_top_k_categorical_accuracy: 0.9938\n",
            "Epoch 84/100\n",
            "2770/2770 [==============================] - 27s 10ms/step - loss: 7.8825 - accuracy: 0.0991 - top_k_categorical_accuracy: 0.9938 - val_loss: 8.3249 - val_accuracy: 0.0576 - val_top_k_categorical_accuracy: 0.9938\n",
            "Epoch 85/100\n",
            "2770/2770 [==============================] - 27s 10ms/step - loss: 7.8573 - accuracy: 0.1021 - top_k_categorical_accuracy: 0.9939 - val_loss: 8.4347 - val_accuracy: 0.0658 - val_top_k_categorical_accuracy: 0.9939\n",
            "Epoch 86/100\n",
            "2770/2770 [==============================] - 27s 10ms/step - loss: 7.8588 - accuracy: 0.1004 - top_k_categorical_accuracy: 0.9939 - val_loss: 8.2821 - val_accuracy: 0.0720 - val_top_k_categorical_accuracy: 0.9940\n",
            "Epoch 87/100\n",
            "2770/2770 [==============================] - 27s 10ms/step - loss: 7.8661 - accuracy: 0.1013 - top_k_categorical_accuracy: 0.9940 - val_loss: 8.5326 - val_accuracy: 0.0535 - val_top_k_categorical_accuracy: 0.9941\n",
            "Epoch 88/100\n",
            "2770/2770 [==============================] - 27s 10ms/step - loss: 7.8420 - accuracy: 0.1025 - top_k_categorical_accuracy: 0.9941 - val_loss: 8.3993 - val_accuracy: 0.0665 - val_top_k_categorical_accuracy: 0.9941\n",
            "Epoch 89/100\n",
            "2770/2770 [==============================] - 27s 10ms/step - loss: 7.8735 - accuracy: 0.1005 - top_k_categorical_accuracy: 0.9941 - val_loss: 8.3061 - val_accuracy: 0.0686 - val_top_k_categorical_accuracy: 0.9942\n",
            "Epoch 90/100\n",
            "2770/2770 [==============================] - 27s 10ms/step - loss: 7.8542 - accuracy: 0.1008 - top_k_categorical_accuracy: 0.9942 - val_loss: 8.3218 - val_accuracy: 0.0645 - val_top_k_categorical_accuracy: 0.9942\n",
            "Epoch 91/100\n",
            "2770/2770 [==============================] - 27s 10ms/step - loss: 7.8422 - accuracy: 0.1023 - top_k_categorical_accuracy: 0.9943 - val_loss: 8.3320 - val_accuracy: 0.0679 - val_top_k_categorical_accuracy: 0.9943\n",
            "Epoch 92/100\n",
            "2770/2770 [==============================] - 27s 10ms/step - loss: 7.8466 - accuracy: 0.1027 - top_k_categorical_accuracy: 0.9943 - val_loss: 8.3237 - val_accuracy: 0.0624 - val_top_k_categorical_accuracy: 0.9944\n",
            "Epoch 93/100\n",
            "2770/2770 [==============================] - 27s 10ms/step - loss: 7.8148 - accuracy: 0.1054 - top_k_categorical_accuracy: 0.9944 - val_loss: 8.3968 - val_accuracy: 0.0610 - val_top_k_categorical_accuracy: 0.9944\n",
            "Epoch 94/100\n",
            "2770/2770 [==============================] - 27s 10ms/step - loss: 7.8592 - accuracy: 0.1009 - top_k_categorical_accuracy: 0.9945 - val_loss: 8.4087 - val_accuracy: 0.0556 - val_top_k_categorical_accuracy: 0.9945\n",
            "Epoch 95/100\n",
            "2770/2770 [==============================] - 27s 10ms/step - loss: 7.8615 - accuracy: 0.1005 - top_k_categorical_accuracy: 0.9945 - val_loss: 8.3707 - val_accuracy: 0.0569 - val_top_k_categorical_accuracy: 0.9945\n",
            "Epoch 96/100\n",
            "2770/2770 [==============================] - 27s 10ms/step - loss: 7.8546 - accuracy: 0.1026 - top_k_categorical_accuracy: 0.9946 - val_loss: 8.4354 - val_accuracy: 0.0624 - val_top_k_categorical_accuracy: 0.9946\n",
            "Epoch 97/100\n",
            "2770/2770 [==============================] - 27s 10ms/step - loss: 7.8601 - accuracy: 0.1004 - top_k_categorical_accuracy: 0.9946 - val_loss: 8.4760 - val_accuracy: 0.0645 - val_top_k_categorical_accuracy: 0.9947\n",
            "Epoch 98/100\n",
            "2770/2770 [==============================] - 27s 10ms/step - loss: 7.8152 - accuracy: 0.1058 - top_k_categorical_accuracy: 0.9947 - val_loss: 8.6042 - val_accuracy: 0.0556 - val_top_k_categorical_accuracy: 0.9947\n",
            "Epoch 99/100\n",
            "2770/2770 [==============================] - 27s 10ms/step - loss: 7.8379 - accuracy: 0.1024 - top_k_categorical_accuracy: 0.9947 - val_loss: 8.3845 - val_accuracy: 0.0597 - val_top_k_categorical_accuracy: 0.9948\n",
            "Epoch 100/100\n",
            "2770/2770 [==============================] - 27s 10ms/step - loss: 7.8269 - accuracy: 0.1046 - top_k_categorical_accuracy: 0.9948 - val_loss: 8.3755 - val_accuracy: 0.0617 - val_top_k_categorical_accuracy: 0.9948\n"
          ],
          "name": "stdout"
        }
      ]
    },
    {
      "cell_type": "code",
      "metadata": {
        "colab": {
          "base_uri": "https://localhost:8080/",
          "height": 537
        },
        "id": "9A9yt1RI6XDF",
        "outputId": "1bf56ace-1036-469e-bd9c-34e89f2f03e6"
      },
      "source": [
        "graph(results)"
      ],
      "execution_count": 57,
      "outputs": [
        {
          "output_type": "display_data",
          "data": {
            "image/png": "[encoded data removed]",
            "text/plain": [
              "<Figure size 1440x720 with 3 Axes>"
            ]
          },
          "metadata": {
            "tags": [],
            "needs_background": "light"
          }
        }
      ]
    },
    {
      "cell_type": "code",
      "metadata": {
        "id": "PaX17s3cG-Cg"
      },
      "source": [
        "# Grid Search"
      ],
      "execution_count": 40,
      "outputs": []
    },
    {
      "cell_type": "code",
      "metadata": {
        "id": "en7wxu47G9_J"
      },
      "source": [
        "def model(optimizer=\"RMSprop(learning_rate=0.001)\"):\n",
        "  model = Sequential()\n",
        "  model.add(LSTM(256, input_shape=(X.shape[1], X.shape[2]), return_sequences=True))\n",
        "  model.add(Dropout(0.2))\n",
        "  model.add(LSTM(256))\n",
        "  model.add(Dropout(0.3))\n",
        "  model.add(Dense(y.shape[1], activation='relu'))\n",
        "  model.add(Activation(\"softmax\"))\n",
        "  # print(model.summary())\n",
        "  model.compile(optimizer=optimizer, loss=\"categorical_crossentropy\", metrics=[\"accuracy\", tf.keras.metrics.TopKCategoricalAccuracy(k=5)])\n",
        "\n",
        "  return model"
      ],
      "execution_count": 47,
      "outputs": []
    },
    {
      "cell_type": "code",
      "metadata": {
        "id": "uIltCBwz6W84"
      },
      "source": [
        "model = KerasClassifier(build_fn=model, verbose=1)"
      ],
      "execution_count": 48,
      "outputs": []
    },
    {
      "cell_type": "code",
      "metadata": {
        "id": "te3kje-RJE_e"
      },
      "source": [
        "\n",
        "param_grid = {\n",
        "    'epochs': [50,100,150], \n",
        "    'batch_size':[32,62,128],\n",
        "    'optimizer':['RMSprop', 'Adam'],\n",
        "    # 'kc__dropout': [0.5, 0.4, 0.3, 0.2, 0.1, 0]\n",
        "}\n",
        "\n",
        "kfold_splits = 3\n",
        "grid = GridSearchCV(model,  \n",
        "                    n_jobs=1, \n",
        "                    verbose=1,\n",
        "                    return_train_score=True,\n",
        "                    cv=kfold_splits,  #StratifiedKFold(n_splits=kfold_splits, shuffle=True)\n",
        "                    param_grid=param_grid)"
      ],
      "execution_count": 49,
      "outputs": []
    },
    {
      "cell_type": "code",
      "metadata": {
        "colab": {
          "base_uri": "https://localhost:8080/"
        },
        "id": "xPEp2VFbHG_z",
        "outputId": "30ff8826-daa0-4a76-a9aa-b86c6f5d4724"
      },
      "source": [
        "grid_result = grid.fit(X, y) "
      ],
      "execution_count": null,
      "outputs": [
        {
          "output_type": "stream",
          "text": [
            "Fitting 3 folds for each of 18 candidates, totalling 54 fits\n"
          ],
          "name": "stdout"
        },
        {
          "output_type": "stream",
          "text": [
            "[Parallel(n_jobs=1)]: Using backend SequentialBackend with 1 concurrent workers.\n"
          ],
          "name": "stderr"
        },
        {
          "output_type": "stream",
          "text": [
            "Epoch 1/50\n",
            "608/608 [==============================] - 39s 22ms/step - loss: 8.2118 - accuracy: 0.0417 - top_k_categorical_accuracy: 0.1117\n",
            "Epoch 2/50\n",
            "608/608 [==============================] - 13s 21ms/step - loss: 7.9996 - accuracy: 0.0710 - top_k_categorical_accuracy: 0.1255\n",
            "Epoch 3/50\n",
            "608/608 [==============================] - 13s 21ms/step - loss: 7.9518 - accuracy: 0.0923 - top_k_categorical_accuracy: 0.1719\n",
            "Epoch 4/50\n",
            "608/608 [==============================] - 13s 21ms/step - loss: 7.8937 - accuracy: 0.1019 - top_k_categorical_accuracy: 0.2788\n",
            "Epoch 5/50\n",
            "608/608 [==============================] - 13s 22ms/step - loss: 7.8809 - accuracy: 0.1031 - top_k_categorical_accuracy: 0.3840\n",
            "Epoch 6/50\n",
            "608/608 [==============================] - 13s 21ms/step - loss: 7.8646 - accuracy: 0.1033 - top_k_categorical_accuracy: 0.4673\n",
            "Epoch 7/50\n",
            "608/608 [==============================] - 13s 21ms/step - loss: 7.8202 - accuracy: 0.1063 - top_k_categorical_accuracy: 0.5334\n",
            "Epoch 8/50\n",
            "608/608 [==============================] - 13s 22ms/step - loss: 7.8138 - accuracy: 0.1090 - top_k_categorical_accuracy: 0.5887\n",
            "Epoch 9/50\n",
            "608/608 [==============================] - 13s 21ms/step - loss: 7.7627 - accuracy: 0.1131 - top_k_categorical_accuracy: 0.6333\n",
            "Epoch 10/50\n",
            "608/608 [==============================] - 13s 21ms/step - loss: 7.7590 - accuracy: 0.1141 - top_k_categorical_accuracy: 0.6699\n",
            "Epoch 11/50\n",
            "608/608 [==============================] - 13s 21ms/step - loss: 7.7623 - accuracy: 0.1122 - top_k_categorical_accuracy: 0.6997\n",
            "Epoch 12/50\n",
            "608/608 [==============================] - 13s 21ms/step - loss: 7.7533 - accuracy: 0.1136 - top_k_categorical_accuracy: 0.7242\n",
            "Epoch 13/50\n",
            "608/608 [==============================] - 13s 21ms/step - loss: 7.7241 - accuracy: 0.1164 - top_k_categorical_accuracy: 0.7256\n",
            "Epoch 14/50\n",
            "608/608 [==============================] - 13s 21ms/step - loss: 7.7142 - accuracy: 0.1173 - top_k_categorical_accuracy: 0.7418\n",
            "Epoch 15/50\n",
            "608/608 [==============================] - 13s 21ms/step - loss: 7.6556 - accuracy: 0.1248 - top_k_categorical_accuracy: 0.7591\n",
            "Epoch 16/50\n",
            "608/608 [==============================] - 13s 21ms/step - loss: 7.6574 - accuracy: 0.1235 - top_k_categorical_accuracy: 0.7742\n",
            "Epoch 17/50\n",
            "608/608 [==============================] - 13s 21ms/step - loss: 7.6673 - accuracy: 0.1220 - top_k_categorical_accuracy: 0.7873\n",
            "Epoch 18/50\n",
            "608/608 [==============================] - 13s 22ms/step - loss: 7.6705 - accuracy: 0.1223 - top_k_categorical_accuracy: 0.7991\n",
            "Epoch 19/50\n",
            "608/608 [==============================] - 13s 21ms/step - loss: 7.6237 - accuracy: 0.1276 - top_k_categorical_accuracy: 0.8095\n",
            "Epoch 20/50\n",
            "608/608 [==============================] - 13s 21ms/step - loss: 7.6827 - accuracy: 0.1194 - top_k_categorical_accuracy: 0.8189\n",
            "Epoch 21/50\n",
            "608/608 [==============================] - 13s 21ms/step - loss: 7.6328 - accuracy: 0.1256 - top_k_categorical_accuracy: 0.8275\n",
            "Epoch 22/50\n",
            "608/608 [==============================] - 13s 21ms/step - loss: 7.6548 - accuracy: 0.1248 - top_k_categorical_accuracy: 0.8353\n",
            "Epoch 23/50\n",
            "608/608 [==============================] - 13s 21ms/step - loss: 7.6862 - accuracy: 0.1210 - top_k_categorical_accuracy: 0.8424\n",
            "Epoch 24/50\n",
            "608/608 [==============================] - 13s 21ms/step - loss: 7.6248 - accuracy: 0.1263 - top_k_categorical_accuracy: 0.8489\n",
            "Epoch 25/50\n",
            "608/608 [==============================] - 13s 21ms/step - loss: 7.6395 - accuracy: 0.1249 - top_k_categorical_accuracy: 0.8549\n",
            "Epoch 26/50\n",
            "608/608 [==============================] - 13s 21ms/step - loss: 7.6364 - accuracy: 0.1264 - top_k_categorical_accuracy: 0.8604\n",
            "Epoch 27/50\n",
            "608/608 [==============================] - 13s 21ms/step - loss: 7.6389 - accuracy: 0.1258 - top_k_categorical_accuracy: 0.8655\n",
            "Epoch 28/50\n",
            "608/608 [==============================] - 13s 21ms/step - loss: 7.6473 - accuracy: 0.1251 - top_k_categorical_accuracy: 0.8702\n",
            "Epoch 29/50\n",
            "608/608 [==============================] - 13s 21ms/step - loss: 7.6436 - accuracy: 0.1235 - top_k_categorical_accuracy: 0.8746\n",
            "Epoch 30/50\n",
            "608/608 [==============================] - 13s 21ms/step - loss: 7.6076 - accuracy: 0.1293 - top_k_categorical_accuracy: 0.8787\n",
            "Epoch 31/50\n",
            "608/608 [==============================] - 13s 21ms/step - loss: 7.6571 - accuracy: 0.1223 - top_k_categorical_accuracy: 0.8826\n",
            "Epoch 32/50\n",
            "608/608 [==============================] - 13s 21ms/step - loss: 7.6117 - accuracy: 0.1285 - top_k_categorical_accuracy: 0.8862\n",
            "Epoch 33/50\n",
            "608/608 [==============================] - 13s 22ms/step - loss: 7.6630 - accuracy: 0.1222 - top_k_categorical_accuracy: 0.8896\n",
            "Epoch 34/50\n",
            "608/608 [==============================] - 13s 21ms/step - loss: 7.6360 - accuracy: 0.1260 - top_k_categorical_accuracy: 0.8928\n",
            "Epoch 35/50\n",
            "608/608 [==============================] - 13s 21ms/step - loss: 7.6283 - accuracy: 0.1263 - top_k_categorical_accuracy: 0.8958\n",
            "Epoch 36/50\n",
            "608/608 [==============================] - 13s 22ms/step - loss: 7.6049 - accuracy: 0.1293 - top_k_categorical_accuracy: 0.8987\n",
            "Epoch 37/50\n",
            "608/608 [==============================] - 13s 22ms/step - loss: 7.6483 - accuracy: 0.1240 - top_k_categorical_accuracy: 0.9014\n",
            "Epoch 38/50\n",
            "608/608 [==============================] - 13s 22ms/step - loss: 7.6107 - accuracy: 0.1281 - top_k_categorical_accuracy: 0.9040\n",
            "Epoch 39/50\n",
            "608/608 [==============================] - 13s 22ms/step - loss: 7.6067 - accuracy: 0.1289 - top_k_categorical_accuracy: 0.9064\n",
            "Epoch 40/50\n",
            "608/608 [==============================] - 13s 21ms/step - loss: 7.5770 - accuracy: 0.1317 - top_k_categorical_accuracy: 0.9087\n",
            "Epoch 41/50\n",
            "608/608 [==============================] - 13s 22ms/step - loss: 7.5825 - accuracy: 0.1318 - top_k_categorical_accuracy: 0.9109\n",
            "Epoch 42/50\n",
            "608/608 [==============================] - 13s 22ms/step - loss: 7.5938 - accuracy: 0.1304 - top_k_categorical_accuracy: 0.9130\n",
            "Epoch 43/50\n",
            "608/608 [==============================] - 13s 21ms/step - loss: 7.6168 - accuracy: 0.1270 - top_k_categorical_accuracy: 0.9150\n",
            "Epoch 44/50\n",
            "608/608 [==============================] - 13s 21ms/step - loss: 7.5677 - accuracy: 0.1356 - top_k_categorical_accuracy: 0.9158\n",
            "Epoch 45/50\n",
            "608/608 [==============================] - 13s 22ms/step - loss: 7.4840 - accuracy: 0.1471 - top_k_categorical_accuracy: 0.9165\n",
            "Epoch 46/50\n",
            "608/608 [==============================] - 13s 21ms/step - loss: 7.5035 - accuracy: 0.1431 - top_k_categorical_accuracy: 0.9177\n",
            "Epoch 47/50\n",
            "608/608 [==============================] - 13s 21ms/step - loss: 7.4584 - accuracy: 0.1480 - top_k_categorical_accuracy: 0.9190\n",
            "Epoch 48/50\n",
            "608/608 [==============================] - 13s 21ms/step - loss: 7.4546 - accuracy: 0.1490 - top_k_categorical_accuracy: 0.9205\n",
            "Epoch 49/50\n",
            "608/608 [==============================] - 13s 21ms/step - loss: 7.4452 - accuracy: 0.1495 - top_k_categorical_accuracy: 0.9218\n",
            "Epoch 50/50\n",
            "608/608 [==============================] - 13s 22ms/step - loss: 7.4482 - accuracy: 0.1488 - top_k_categorical_accuracy: 0.9232\n",
            "304/304 [==============================] - 5s 11ms/step - loss: 7.9826 - accuracy: 0.1031 - top_k_categorical_accuracy: 0.9246\n",
            "608/608 [==============================] - 7s 11ms/step - loss: 7.4057 - accuracy: 0.1518 - top_k_categorical_accuracy: 0.9256\n",
            "Epoch 1/50\n",
            "608/608 [==============================] - 18s 22ms/step - loss: 8.1900 - accuracy: 0.0427 - top_k_categorical_accuracy: 0.4952\n",
            "Epoch 2/50\n",
            "608/608 [==============================] - 13s 22ms/step - loss: 8.0804 - accuracy: 0.0635 - top_k_categorical_accuracy: 0.8757\n",
            "Epoch 3/50\n",
            "608/608 [==============================] - 13s 22ms/step - loss: 7.8386 - accuracy: 0.0882 - top_k_categorical_accuracy: 0.6940\n",
            "Epoch 4/50\n",
            "608/608 [==============================] - 13s 22ms/step - loss: 7.7469 - accuracy: 0.0926 - top_k_categorical_accuracy: 0.5330\n",
            "Epoch 5/50\n",
            "608/608 [==============================] - 13s 21ms/step - loss: 7.6786 - accuracy: 0.1035 - top_k_categorical_accuracy: 0.4715\n",
            "Epoch 6/50\n",
            "608/608 [==============================] - 13s 22ms/step - loss: 7.6398 - accuracy: 0.1114 - top_k_categorical_accuracy: 0.4709\n",
            "Epoch 7/50\n",
            "608/608 [==============================] - 13s 22ms/step - loss: 7.5626 - accuracy: 0.1218 - top_k_categorical_accuracy: 0.4799\n",
            "Epoch 8/50\n",
            "608/608 [==============================] - 13s 22ms/step - loss: 7.5723 - accuracy: 0.1222 - top_k_categorical_accuracy: 0.4913\n",
            "Epoch 9/50\n",
            "608/608 [==============================] - 13s 22ms/step - loss: 7.4809 - accuracy: 0.1353 - top_k_categorical_accuracy: 0.5046\n",
            "Epoch 10/50\n",
            "608/608 [==============================] - 13s 21ms/step - loss: 7.4389 - accuracy: 0.1402 - top_k_categorical_accuracy: 0.5206\n",
            "Epoch 11/50\n",
            "608/608 [==============================] - 13s 22ms/step - loss: 7.4065 - accuracy: 0.1495 - top_k_categorical_accuracy: 0.5344\n",
            "Epoch 12/50\n",
            "608/608 [==============================] - 13s 22ms/step - loss: 7.3165 - accuracy: 0.1626 - top_k_categorical_accuracy: 0.5165\n",
            "Epoch 13/50\n",
            "608/608 [==============================] - 13s 22ms/step - loss: 7.3385 - accuracy: 0.1602 - top_k_categorical_accuracy: 0.5023\n",
            "Epoch 14/50\n",
            "608/608 [==============================] - 13s 21ms/step - loss: 7.2549 - accuracy: 0.1697 - top_k_categorical_accuracy: 0.4928\n",
            "Epoch 15/50\n",
            "608/608 [==============================] - 13s 22ms/step - loss: 7.2775 - accuracy: 0.1649 - top_k_categorical_accuracy: 0.4872\n",
            "Epoch 16/50\n",
            "608/608 [==============================] - 13s 22ms/step - loss: 7.2792 - accuracy: 0.1656 - top_k_categorical_accuracy: 0.4847\n",
            "Epoch 17/50\n",
            "608/608 [==============================] - 13s 21ms/step - loss: 7.2178 - accuracy: 0.1725 - top_k_categorical_accuracy: 0.4844\n",
            "Epoch 18/50\n",
            "608/608 [==============================] - 13s 21ms/step - loss: 7.2361 - accuracy: 0.1727 - top_k_categorical_accuracy: 0.4869\n",
            "Epoch 19/50\n",
            "608/608 [==============================] - 13s 22ms/step - loss: 7.2114 - accuracy: 0.1744 - top_k_categorical_accuracy: 0.4904\n",
            "Epoch 20/50\n",
            "608/608 [==============================] - 13s 21ms/step - loss: 7.2246 - accuracy: 0.1727 - top_k_categorical_accuracy: 0.4962\n",
            "Epoch 21/50\n",
            "608/608 [==============================] - 13s 21ms/step - loss: 7.2183 - accuracy: 0.1741 - top_k_categorical_accuracy: 0.5048\n",
            "Epoch 22/50\n",
            "608/608 [==============================] - 13s 21ms/step - loss: 7.1774 - accuracy: 0.1766 - top_k_categorical_accuracy: 0.5133\n",
            "Epoch 23/50\n",
            "608/608 [==============================] - 13s 21ms/step - loss: 7.1854 - accuracy: 0.1772 - top_k_categorical_accuracy: 0.5222\n",
            "Epoch 24/50\n",
            "608/608 [==============================] - 13s 22ms/step - loss: 7.1377 - accuracy: 0.1839 - top_k_categorical_accuracy: 0.5311\n",
            "Epoch 25/50\n",
            "608/608 [==============================] - 13s 22ms/step - loss: 7.1701 - accuracy: 0.1787 - top_k_categorical_accuracy: 0.5413\n",
            "Epoch 26/50\n",
            "608/608 [==============================] - 13s 22ms/step - loss: 7.1555 - accuracy: 0.1808 - top_k_categorical_accuracy: 0.5517\n",
            "Epoch 27/50\n",
            "608/608 [==============================] - 13s 22ms/step - loss: 7.2283 - accuracy: 0.1714 - top_k_categorical_accuracy: 0.5620\n",
            "Epoch 28/50\n",
            "608/608 [==============================] - 13s 22ms/step - loss: 7.1678 - accuracy: 0.1780 - top_k_categorical_accuracy: 0.5723\n",
            "Epoch 29/50\n",
            "608/608 [==============================] - 13s 22ms/step - loss: 7.1993 - accuracy: 0.1758 - top_k_categorical_accuracy: 0.5823\n",
            "Epoch 30/50\n",
            "608/608 [==============================] - 13s 22ms/step - loss: 7.1259 - accuracy: 0.1838 - top_k_categorical_accuracy: 0.5920\n",
            "Epoch 31/50\n",
            "608/608 [==============================] - 13s 22ms/step - loss: 7.1372 - accuracy: 0.1815 - top_k_categorical_accuracy: 0.6014\n",
            "Epoch 32/50\n",
            "608/608 [==============================] - 13s 22ms/step - loss: 7.0846 - accuracy: 0.1880 - top_k_categorical_accuracy: 0.6106\n",
            "Epoch 33/50\n",
            "608/608 [==============================] - 13s 22ms/step - loss: 7.1633 - accuracy: 0.1793 - top_k_categorical_accuracy: 0.6196\n",
            "Epoch 34/50\n",
            "608/608 [==============================] - 13s 22ms/step - loss: 7.1507 - accuracy: 0.1801 - top_k_categorical_accuracy: 0.6291\n",
            "Epoch 35/50\n",
            "608/608 [==============================] - 13s 22ms/step - loss: 7.1706 - accuracy: 0.1785 - top_k_categorical_accuracy: 0.6379\n",
            "Epoch 36/50\n",
            "608/608 [==============================] - 13s 22ms/step - loss: 7.1480 - accuracy: 0.1804 - top_k_categorical_accuracy: 0.6465\n",
            "Epoch 37/50\n",
            "608/608 [==============================] - 13s 22ms/step - loss: 7.1432 - accuracy: 0.1811 - top_k_categorical_accuracy: 0.6550\n",
            "Epoch 38/50\n",
            "608/608 [==============================] - 13s 22ms/step - loss: 7.1395 - accuracy: 0.1807 - top_k_categorical_accuracy: 0.6630\n",
            "Epoch 39/50\n",
            "608/608 [==============================] - 13s 21ms/step - loss: 7.1520 - accuracy: 0.1798 - top_k_categorical_accuracy: 0.6708\n",
            "Epoch 40/50\n",
            "608/608 [==============================] - 13s 21ms/step - loss: 7.1336 - accuracy: 0.1819 - top_k_categorical_accuracy: 0.6783\n",
            "Epoch 41/50\n",
            "608/608 [==============================] - 13s 22ms/step - loss: 7.0988 - accuracy: 0.1851 - top_k_categorical_accuracy: 0.6856\n",
            "Epoch 42/50\n",
            "608/608 [==============================] - 13s 22ms/step - loss: 7.1228 - accuracy: 0.1835 - top_k_categorical_accuracy: 0.6926\n",
            "Epoch 43/50\n",
            "608/608 [==============================] - 13s 22ms/step - loss: 7.0824 - accuracy: 0.1876 - top_k_categorical_accuracy: 0.6994\n",
            "Epoch 44/50\n",
            "608/608 [==============================] - 13s 22ms/step - loss: 7.1147 - accuracy: 0.1842 - top_k_categorical_accuracy: 0.7058\n",
            "Epoch 45/50\n",
            "608/608 [==============================] - 13s 22ms/step - loss: 7.1019 - accuracy: 0.1847 - top_k_categorical_accuracy: 0.7121\n",
            "Epoch 46/50\n",
            "608/608 [==============================] - 13s 22ms/step - loss: 7.1095 - accuracy: 0.1839 - top_k_categorical_accuracy: 0.7181\n",
            "Epoch 47/50\n",
            "608/608 [==============================] - 13s 22ms/step - loss: 7.1259 - accuracy: 0.1825 - top_k_categorical_accuracy: 0.7239\n",
            "Epoch 48/50\n",
            "608/608 [==============================] - 13s 22ms/step - loss: 7.1154 - accuracy: 0.1840 - top_k_categorical_accuracy: 0.7294\n",
            "Epoch 49/50\n",
            "608/608 [==============================] - 13s 22ms/step - loss: 7.0698 - accuracy: 0.1895 - top_k_categorical_accuracy: 0.7348\n",
            "Epoch 50/50\n",
            "608/608 [==============================] - 13s 22ms/step - loss: 7.1636 - accuracy: 0.1785 - top_k_categorical_accuracy: 0.7400\n",
            "304/304 [==============================] - 5s 11ms/step - loss: 8.0108 - accuracy: 0.1055 - top_k_categorical_accuracy: 0.7450\n",
            "608/608 [==============================] - 7s 11ms/step - loss: 7.0853 - accuracy: 0.1868 - top_k_categorical_accuracy: 0.7486\n",
            "Epoch 1/50\n",
            "608/608 [==============================] - 17s 21ms/step - loss: 8.2059 - accuracy: 0.0447 - top_k_categorical_accuracy: 0.5604\n",
            "Epoch 2/50\n",
            "608/608 [==============================] - 13s 21ms/step - loss: 7.8418 - accuracy: 0.0623 - top_k_categorical_accuracy: 0.4420\n",
            "Epoch 3/50\n",
            "608/608 [==============================] - 13s 22ms/step - loss: 7.6574 - accuracy: 0.0965 - top_k_categorical_accuracy: 0.3212\n",
            "Epoch 4/50\n",
            "608/608 [==============================] - 13s 22ms/step - loss: 7.6023 - accuracy: 0.1155 - top_k_categorical_accuracy: 0.2777\n",
            "Epoch 5/50\n",
            "608/608 [==============================] - 13s 22ms/step - loss: 7.5231 - accuracy: 0.1215 - top_k_categorical_accuracy: 0.2564\n",
            "Epoch 6/50\n",
            "608/608 [==============================] - 13s 22ms/step - loss: 7.4044 - accuracy: 0.1358 - top_k_categorical_accuracy: 0.2445\n",
            "Epoch 7/50\n",
            "608/608 [==============================] - 13s 22ms/step - loss: 7.4339 - accuracy: 0.1357 - top_k_categorical_accuracy: 0.2372\n",
            "Epoch 8/50\n",
            "608/608 [==============================] - 13s 22ms/step - loss: 7.3818 - accuracy: 0.1445 - top_k_categorical_accuracy: 0.2346\n",
            "Epoch 9/50\n",
            "608/608 [==============================] - 13s 22ms/step - loss: 7.3604 - accuracy: 0.1473 - top_k_categorical_accuracy: 0.2356\n",
            "Epoch 10/50\n",
            "608/608 [==============================] - 13s 22ms/step - loss: 7.2926 - accuracy: 0.1596 - top_k_categorical_accuracy: 0.2406\n",
            "Epoch 11/50\n",
            "608/608 [==============================] - 13s 22ms/step - loss: 7.2991 - accuracy: 0.1594 - top_k_categorical_accuracy: 0.2487\n",
            "Epoch 12/50\n",
            "608/608 [==============================] - 13s 22ms/step - loss: 7.1870 - accuracy: 0.1703 - top_k_categorical_accuracy: 0.2572\n",
            "Epoch 13/50\n",
            "608/608 [==============================] - 13s 22ms/step - loss: 7.2502 - accuracy: 0.1659 - top_k_categorical_accuracy: 0.2692\n",
            "Epoch 14/50\n",
            "608/608 [==============================] - 13s 22ms/step - loss: 7.2631 - accuracy: 0.1651 - top_k_categorical_accuracy: 0.2831\n",
            "Epoch 15/50\n",
            "608/608 [==============================] - 13s 22ms/step - loss: 7.1751 - accuracy: 0.1752 - top_k_categorical_accuracy: 0.2989\n",
            "Epoch 16/50\n",
            "608/608 [==============================] - 13s 22ms/step - loss: 7.2380 - accuracy: 0.1671 - top_k_categorical_accuracy: 0.3160\n",
            "Epoch 17/50\n",
            "608/608 [==============================] - 13s 22ms/step - loss: 7.2199 - accuracy: 0.1723 - top_k_categorical_accuracy: 0.3335\n",
            "Epoch 18/50\n",
            "608/608 [==============================] - 13s 22ms/step - loss: 7.2034 - accuracy: 0.1755 - top_k_categorical_accuracy: 0.3522\n",
            "Epoch 19/50\n",
            "608/608 [==============================] - 13s 22ms/step - loss: 7.1546 - accuracy: 0.1798 - top_k_categorical_accuracy: 0.3688\n",
            "Epoch 20/50\n",
            "608/608 [==============================] - 13s 22ms/step - loss: 7.1619 - accuracy: 0.1787 - top_k_categorical_accuracy: 0.3772\n",
            "Epoch 21/50\n",
            "608/608 [==============================] - 13s 22ms/step - loss: 7.1745 - accuracy: 0.1774 - top_k_categorical_accuracy: 0.3853\n",
            "Epoch 22/50\n",
            "608/608 [==============================] - 13s 22ms/step - loss: 7.1261 - accuracy: 0.1821 - top_k_categorical_accuracy: 0.3950\n",
            "Epoch 23/50\n",
            "608/608 [==============================] - 13s 22ms/step - loss: 7.2200 - accuracy: 0.1726 - top_k_categorical_accuracy: 0.4036\n",
            "Epoch 24/50\n",
            "608/608 [==============================] - 13s 22ms/step - loss: 7.0881 - accuracy: 0.1871 - top_k_categorical_accuracy: 0.4143\n",
            "Epoch 25/50\n",
            "608/608 [==============================] - 13s 21ms/step - loss: 7.1298 - accuracy: 0.1828 - top_k_categorical_accuracy: 0.4253\n",
            "Epoch 26/50\n",
            "608/608 [==============================] - 13s 22ms/step - loss: 7.1428 - accuracy: 0.1801 - top_k_categorical_accuracy: 0.4358\n",
            "Epoch 27/50\n",
            "608/608 [==============================] - 13s 22ms/step - loss: 7.1129 - accuracy: 0.1839 - top_k_categorical_accuracy: 0.4469\n",
            "Epoch 28/50\n",
            "608/608 [==============================] - 13s 22ms/step - loss: 7.0956 - accuracy: 0.1857 - top_k_categorical_accuracy: 0.4586\n",
            "Epoch 29/50\n",
            "608/608 [==============================] - 13s 22ms/step - loss: 7.1138 - accuracy: 0.1843 - top_k_categorical_accuracy: 0.4701\n",
            "Epoch 30/50\n",
            "608/608 [==============================] - 13s 22ms/step - loss: 7.1191 - accuracy: 0.1832 - top_k_categorical_accuracy: 0.4821\n",
            "Epoch 31/50\n",
            "608/608 [==============================] - 13s 22ms/step - loss: 7.0630 - accuracy: 0.1919 - top_k_categorical_accuracy: 0.4944\n",
            "Epoch 32/50\n",
            "608/608 [==============================] - 13s 22ms/step - loss: 7.1126 - accuracy: 0.1844 - top_k_categorical_accuracy: 0.5061\n",
            "Epoch 33/50\n",
            "608/608 [==============================] - 13s 22ms/step - loss: 7.0459 - accuracy: 0.1910 - top_k_categorical_accuracy: 0.5177\n",
            "Epoch 34/50\n",
            "608/608 [==============================] - 13s 22ms/step - loss: 7.0817 - accuracy: 0.1878 - top_k_categorical_accuracy: 0.5290\n",
            "Epoch 35/50\n",
            "608/608 [==============================] - 13s 22ms/step - loss: 7.0741 - accuracy: 0.1892 - top_k_categorical_accuracy: 0.5400\n",
            "Epoch 36/50\n",
            "608/608 [==============================] - 13s 22ms/step - loss: 7.0451 - accuracy: 0.1927 - top_k_categorical_accuracy: 0.5510\n",
            "Epoch 37/50\n",
            "608/608 [==============================] - 13s 22ms/step - loss: 7.0753 - accuracy: 0.1894 - top_k_categorical_accuracy: 0.5615\n",
            "Epoch 38/50\n",
            "608/608 [==============================] - 13s 22ms/step - loss: 7.0333 - accuracy: 0.1937 - top_k_categorical_accuracy: 0.5715\n",
            "Epoch 39/50\n",
            "608/608 [==============================] - 13s 22ms/step - loss: 7.0419 - accuracy: 0.1931 - top_k_categorical_accuracy: 0.5811\n",
            "Epoch 40/50\n",
            "608/608 [==============================] - 13s 22ms/step - loss: 6.8810 - accuracy: 0.2125 - top_k_categorical_accuracy: 0.5879\n",
            "Epoch 41/50\n",
            "608/608 [==============================] - 13s 22ms/step - loss: 6.8383 - accuracy: 0.2124 - top_k_categorical_accuracy: 0.5904\n",
            "Epoch 42/50\n",
            "608/608 [==============================] - 13s 21ms/step - loss: 6.8179 - accuracy: 0.2166 - top_k_categorical_accuracy: 0.5944\n",
            "Epoch 43/50\n",
            "608/608 [==============================] - 13s 22ms/step - loss: 6.7954 - accuracy: 0.2180 - top_k_categorical_accuracy: 0.5999\n",
            "Epoch 44/50\n",
            "608/608 [==============================] - 13s 22ms/step - loss: 6.6910 - accuracy: 0.2308 - top_k_categorical_accuracy: 0.6057\n",
            "Epoch 45/50\n",
            "608/608 [==============================] - 13s 22ms/step - loss: 6.6951 - accuracy: 0.2293 - top_k_categorical_accuracy: 0.6119\n",
            "Epoch 46/50\n",
            "608/608 [==============================] - 13s 22ms/step - loss: 6.7036 - accuracy: 0.2291 - top_k_categorical_accuracy: 0.6184\n",
            "Epoch 47/50\n",
            "608/608 [==============================] - 13s 22ms/step - loss: 6.6963 - accuracy: 0.2310 - top_k_categorical_accuracy: 0.6247\n",
            "Epoch 48/50\n",
            "608/608 [==============================] - 13s 22ms/step - loss: 6.6371 - accuracy: 0.2368 - top_k_categorical_accuracy: 0.6310\n",
            "Epoch 49/50\n",
            "608/608 [==============================] - 13s 22ms/step - loss: 6.6550 - accuracy: 0.2352 - top_k_categorical_accuracy: 0.6372\n",
            "Epoch 50/50\n",
            "608/608 [==============================] - 13s 22ms/step - loss: 6.6638 - accuracy: 0.2346 - top_k_categorical_accuracy: 0.6433\n",
            "304/304 [==============================] - 5s 12ms/step - loss: 7.7385 - accuracy: 0.1307 - top_k_categorical_accuracy: 0.6490\n",
            "608/608 [==============================] - 7s 11ms/step - loss: 6.6317 - accuracy: 0.2387 - top_k_categorical_accuracy: 0.6533\n",
            "Epoch 1/50\n",
            "608/608 [==============================] - 16s 19ms/step - loss: 7.8939 - accuracy: 0.0388 - top_k_categorical_accuracy: 0.1615\n",
            "Epoch 2/50\n",
            "608/608 [==============================] - 11s 19ms/step - loss: 7.5327 - accuracy: 0.0610 - top_k_categorical_accuracy: 0.1770\n",
            "Epoch 3/50\n",
            "608/608 [==============================] - 11s 18ms/step - loss: 7.3163 - accuracy: 0.1112 - top_k_categorical_accuracy: 0.1852\n",
            "Epoch 4/50\n",
            "608/608 [==============================] - 11s 18ms/step - loss: 7.0086 - accuracy: 0.1548 - top_k_categorical_accuracy: 0.1972\n",
            "Epoch 5/50\n",
            "608/608 [==============================] - 11s 19ms/step - loss: 6.9120 - accuracy: 0.1705 - top_k_categorical_accuracy: 0.2062\n",
            "Epoch 6/50\n",
            "608/608 [==============================] - 11s 19ms/step - loss: 6.7903 - accuracy: 0.1893 - top_k_categorical_accuracy: 0.2144\n",
            "Epoch 7/50\n",
            "608/608 [==============================] - 11s 18ms/step - loss: 6.6567 - accuracy: 0.2087 - top_k_categorical_accuracy: 0.2220\n",
            "Epoch 8/50\n",
            "608/608 [==============================] - 11s 18ms/step - loss: 6.5682 - accuracy: 0.2251 - top_k_categorical_accuracy: 0.2298\n",
            "Epoch 9/50\n",
            "608/608 [==============================] - 11s 18ms/step - loss: 6.4512 - accuracy: 0.2405 - top_k_categorical_accuracy: 0.2370\n",
            "Epoch 10/50\n",
            "608/608 [==============================] - 11s 18ms/step - loss: 6.4129 - accuracy: 0.2530 - top_k_categorical_accuracy: 0.2430\n",
            "Epoch 11/50\n",
            "608/608 [==============================] - 11s 18ms/step - loss: 6.3666 - accuracy: 0.2586 - top_k_categorical_accuracy: 0.2483\n",
            "Epoch 12/50\n",
            "608/608 [==============================] - 11s 18ms/step - loss: 6.2838 - accuracy: 0.2713 - top_k_categorical_accuracy: 0.2527\n",
            "Epoch 13/50\n",
            "608/608 [==============================] - 11s 19ms/step - loss: 6.2460 - accuracy: 0.2775 - top_k_categorical_accuracy: 0.2565\n",
            "Epoch 14/50\n",
            "608/608 [==============================] - 11s 18ms/step - loss: 6.2394 - accuracy: 0.2791 - top_k_categorical_accuracy: 0.2598\n",
            "Epoch 15/50\n",
            "608/608 [==============================] - 11s 18ms/step - loss: 6.1979 - accuracy: 0.2820 - top_k_categorical_accuracy: 0.2629\n",
            "Epoch 16/50\n",
            "608/608 [==============================] - 11s 18ms/step - loss: 6.1607 - accuracy: 0.2868 - top_k_categorical_accuracy: 0.2661\n",
            "Epoch 17/50\n",
            "608/608 [==============================] - 11s 19ms/step - loss: 6.0650 - accuracy: 0.2987 - top_k_categorical_accuracy: 0.2693\n",
            "Epoch 18/50\n",
            "608/608 [==============================] - 11s 18ms/step - loss: 6.0822 - accuracy: 0.2961 - top_k_categorical_accuracy: 0.2720\n",
            "Epoch 19/50\n",
            "608/608 [==============================] - 11s 18ms/step - loss: 6.0794 - accuracy: 0.2981 - top_k_categorical_accuracy: 0.2745\n",
            "Epoch 20/50\n",
            "608/608 [==============================] - 11s 18ms/step - loss: 6.0612 - accuracy: 0.3004 - top_k_categorical_accuracy: 0.2768\n",
            "Epoch 21/50\n",
            "608/608 [==============================] - 11s 19ms/step - loss: 6.0358 - accuracy: 0.3052 - top_k_categorical_accuracy: 0.2789\n",
            "Epoch 22/50\n",
            "608/608 [==============================] - 11s 19ms/step - loss: 6.0265 - accuracy: 0.3035 - top_k_categorical_accuracy: 0.2808\n",
            "Epoch 23/50\n",
            "608/608 [==============================] - 11s 18ms/step - loss: 6.0467 - accuracy: 0.3031 - top_k_categorical_accuracy: 0.2825\n",
            "Epoch 24/50\n",
            "608/608 [==============================] - 11s 18ms/step - loss: 6.0602 - accuracy: 0.3012 - top_k_categorical_accuracy: 0.2841\n",
            "Epoch 25/50\n",
            "608/608 [==============================] - 11s 19ms/step - loss: 6.0460 - accuracy: 0.3019 - top_k_categorical_accuracy: 0.2857\n",
            "Epoch 26/50\n",
            "608/608 [==============================] - 11s 19ms/step - loss: 5.9983 - accuracy: 0.3093 - top_k_categorical_accuracy: 0.2871\n",
            "Epoch 27/50\n",
            "608/608 [==============================] - 11s 19ms/step - loss: 5.9739 - accuracy: 0.3101 - top_k_categorical_accuracy: 0.2884\n",
            "Epoch 28/50\n",
            "608/608 [==============================] - 11s 19ms/step - loss: 6.0236 - accuracy: 0.3057 - top_k_categorical_accuracy: 0.2896\n",
            "Epoch 29/50\n",
            "608/608 [==============================] - 11s 19ms/step - loss: 6.0158 - accuracy: 0.3068 - top_k_categorical_accuracy: 0.2907\n",
            "Epoch 30/50\n",
            "608/608 [==============================] - 11s 19ms/step - loss: 5.9396 - accuracy: 0.3138 - top_k_categorical_accuracy: 0.2920\n",
            "Epoch 31/50\n",
            "608/608 [==============================] - 11s 19ms/step - loss: 5.9082 - accuracy: 0.3186 - top_k_categorical_accuracy: 0.2932\n",
            "Epoch 32/50\n",
            "608/608 [==============================] - 11s 18ms/step - loss: 5.9556 - accuracy: 0.3119 - top_k_categorical_accuracy: 0.2945\n",
            "Epoch 33/50\n",
            "608/608 [==============================] - 11s 19ms/step - loss: 5.9337 - accuracy: 0.3158 - top_k_categorical_accuracy: 0.2960\n",
            "Epoch 34/50\n",
            "608/608 [==============================] - 11s 18ms/step - loss: 5.9434 - accuracy: 0.3159 - top_k_categorical_accuracy: 0.2978\n",
            "Epoch 35/50\n",
            "608/608 [==============================] - 11s 18ms/step - loss: 5.9649 - accuracy: 0.3116 - top_k_categorical_accuracy: 0.3001\n",
            "Epoch 36/50\n",
            "608/608 [==============================] - 11s 18ms/step - loss: 6.0038 - accuracy: 0.3079 - top_k_categorical_accuracy: 0.3027\n",
            "Epoch 37/50\n",
            "608/608 [==============================] - 11s 18ms/step - loss: 5.9975 - accuracy: 0.3069 - top_k_categorical_accuracy: 0.3055\n",
            "Epoch 38/50\n",
            "608/608 [==============================] - 11s 18ms/step - loss: 5.9801 - accuracy: 0.3092 - top_k_categorical_accuracy: 0.3086\n",
            "Epoch 39/50\n",
            "608/608 [==============================] - 11s 18ms/step - loss: 5.9836 - accuracy: 0.3082 - top_k_categorical_accuracy: 0.3117\n",
            "Epoch 40/50\n",
            "608/608 [==============================] - 11s 18ms/step - loss: 5.9565 - accuracy: 0.3127 - top_k_categorical_accuracy: 0.3152\n",
            "Epoch 41/50\n",
            "608/608 [==============================] - 11s 18ms/step - loss: 5.9314 - accuracy: 0.3152 - top_k_categorical_accuracy: 0.3190\n",
            "Epoch 42/50\n",
            "608/608 [==============================] - 11s 18ms/step - loss: 5.9758 - accuracy: 0.3094 - top_k_categorical_accuracy: 0.3228\n",
            "Epoch 43/50\n",
            "608/608 [==============================] - 11s 19ms/step - loss: 5.9757 - accuracy: 0.3107 - top_k_categorical_accuracy: 0.3270\n",
            "Epoch 44/50\n",
            "608/608 [==============================] - 11s 19ms/step - loss: 5.9630 - accuracy: 0.3115 - top_k_categorical_accuracy: 0.3314\n",
            "Epoch 45/50\n",
            "608/608 [==============================] - 11s 18ms/step - loss: 5.9540 - accuracy: 0.3121 - top_k_categorical_accuracy: 0.3359\n",
            "Epoch 46/50\n",
            "608/608 [==============================] - 11s 19ms/step - loss: 5.9212 - accuracy: 0.3157 - top_k_categorical_accuracy: 0.3407\n",
            "Epoch 47/50\n",
            "608/608 [==============================] - 12s 19ms/step - loss: 5.9272 - accuracy: 0.3157 - top_k_categorical_accuracy: 0.3458\n",
            "Epoch 48/50\n",
            "608/608 [==============================] - 11s 19ms/step - loss: 5.9485 - accuracy: 0.3141 - top_k_categorical_accuracy: 0.3509\n",
            "Epoch 49/50\n",
            "608/608 [==============================] - 11s 19ms/step - loss: 5.9234 - accuracy: 0.3163 - top_k_categorical_accuracy: 0.3563\n",
            "Epoch 50/50\n",
            "608/608 [==============================] - 11s 19ms/step - loss: 5.9673 - accuracy: 0.3102 - top_k_categorical_accuracy: 0.3617\n",
            "304/304 [==============================] - 5s 11ms/step - loss: 7.7678 - accuracy: 0.1482 - top_k_categorical_accuracy: 0.3661\n",
            "608/608 [==============================] - 7s 11ms/step - loss: 5.9298 - accuracy: 0.3152 - top_k_categorical_accuracy: 0.3695\n",
            "Epoch 1/50\n",
            "608/608 [==============================] - 16s 19ms/step - loss: 7.9669 - accuracy: 0.0391 - top_k_categorical_accuracy: 0.1239\n",
            "Epoch 2/50\n",
            "608/608 [==============================] - 11s 19ms/step - loss: 7.5671 - accuracy: 0.0648 - top_k_categorical_accuracy: 0.1721\n",
            "Epoch 3/50\n",
            "608/608 [==============================] - 11s 19ms/step - loss: 7.2747 - accuracy: 0.1099 - top_k_categorical_accuracy: 0.1819\n",
            "Epoch 4/50\n",
            "608/608 [==============================] - 11s 19ms/step - loss: 7.0496 - accuracy: 0.1424 - top_k_categorical_accuracy: 0.1936\n",
            "Epoch 5/50\n",
            "608/608 [==============================] - 12s 19ms/step - loss: 6.8397 - accuracy: 0.1736 - top_k_categorical_accuracy: 0.2053\n",
            "Epoch 6/50\n",
            "608/608 [==============================] - 11s 19ms/step - loss: 6.5604 - accuracy: 0.2092 - top_k_categorical_accuracy: 0.2171\n",
            "Epoch 7/50\n",
            "608/608 [==============================] - 11s 19ms/step - loss: 6.4682 - accuracy: 0.2321 - top_k_categorical_accuracy: 0.2278\n",
            "Epoch 8/50\n",
            "608/608 [==============================] - 11s 19ms/step - loss: 6.3810 - accuracy: 0.2482 - top_k_categorical_accuracy: 0.2370\n",
            "Epoch 9/50\n",
            "608/608 [==============================] - 11s 19ms/step - loss: 6.2912 - accuracy: 0.2639 - top_k_categorical_accuracy: 0.2452\n",
            "Epoch 10/50\n",
            "608/608 [==============================] - 11s 19ms/step - loss: 6.2100 - accuracy: 0.2768 - top_k_categorical_accuracy: 0.2522\n",
            "Epoch 11/50\n",
            "608/608 [==============================] - 11s 18ms/step - loss: 6.2499 - accuracy: 0.2757 - top_k_categorical_accuracy: 0.2576\n",
            "Epoch 12/50\n",
            "608/608 [==============================] - 11s 19ms/step - loss: 6.1873 - accuracy: 0.2832 - top_k_categorical_accuracy: 0.2625\n",
            "Epoch 13/50\n",
            "608/608 [==============================] - 11s 19ms/step - loss: 6.1484 - accuracy: 0.2896 - top_k_categorical_accuracy: 0.2667\n",
            "Epoch 14/50\n",
            "608/608 [==============================] - 11s 19ms/step - loss: 6.1493 - accuracy: 0.2873 - top_k_categorical_accuracy: 0.2702\n",
            "Epoch 15/50\n",
            "608/608 [==============================] - 11s 18ms/step - loss: 6.0914 - accuracy: 0.2972 - top_k_categorical_accuracy: 0.2735\n",
            "Epoch 16/50\n",
            "608/608 [==============================] - 11s 18ms/step - loss: 6.0716 - accuracy: 0.2984 - top_k_categorical_accuracy: 0.2763\n",
            "Epoch 17/50\n",
            "608/608 [==============================] - 11s 19ms/step - loss: 6.0671 - accuracy: 0.2987 - top_k_categorical_accuracy: 0.2788\n",
            "Epoch 18/50\n",
            "608/608 [==============================] - 11s 18ms/step - loss: 6.0349 - accuracy: 0.3030 - top_k_categorical_accuracy: 0.2814\n",
            "Epoch 19/50\n",
            "608/608 [==============================] - 11s 19ms/step - loss: 5.9986 - accuracy: 0.3058 - top_k_categorical_accuracy: 0.2838\n",
            "Epoch 20/50\n",
            "608/608 [==============================] - 11s 19ms/step - loss: 5.9691 - accuracy: 0.3112 - top_k_categorical_accuracy: 0.2861\n",
            "Epoch 21/50\n",
            "608/608 [==============================] - 11s 19ms/step - loss: 5.9594 - accuracy: 0.3123 - top_k_categorical_accuracy: 0.2882\n",
            "Epoch 22/50\n",
            "608/608 [==============================] - 11s 19ms/step - loss: 5.9385 - accuracy: 0.3142 - top_k_categorical_accuracy: 0.2901\n",
            "Epoch 23/50\n",
            "608/608 [==============================] - 12s 19ms/step - loss: 5.9507 - accuracy: 0.3132 - top_k_categorical_accuracy: 0.2918\n",
            "Epoch 24/50\n",
            "608/608 [==============================] - 11s 19ms/step - loss: 5.9383 - accuracy: 0.3128 - top_k_categorical_accuracy: 0.2934\n",
            "Epoch 25/50\n",
            "608/608 [==============================] - 11s 19ms/step - loss: 5.9188 - accuracy: 0.3176 - top_k_categorical_accuracy: 0.2950\n",
            "Epoch 26/50\n",
            "608/608 [==============================] - 11s 19ms/step - loss: 5.9102 - accuracy: 0.3180 - top_k_categorical_accuracy: 0.2965\n",
            "Epoch 27/50\n",
            "608/608 [==============================] - 11s 19ms/step - loss: 5.8974 - accuracy: 0.3197 - top_k_categorical_accuracy: 0.2979\n",
            "Epoch 28/50\n",
            "608/608 [==============================] - 11s 19ms/step - loss: 5.8575 - accuracy: 0.3238 - top_k_categorical_accuracy: 0.2993\n",
            "Epoch 29/50\n",
            "608/608 [==============================] - 11s 19ms/step - loss: 5.8908 - accuracy: 0.3181 - top_k_categorical_accuracy: 0.3006\n",
            "Epoch 30/50\n",
            "608/608 [==============================] - 11s 19ms/step - loss: 5.8714 - accuracy: 0.3221 - top_k_categorical_accuracy: 0.3019\n",
            "Epoch 31/50\n",
            "608/608 [==============================] - 11s 19ms/step - loss: 5.8113 - accuracy: 0.3299 - top_k_categorical_accuracy: 0.3031\n",
            "Epoch 32/50\n",
            "608/608 [==============================] - 11s 19ms/step - loss: 5.8517 - accuracy: 0.3241 - top_k_categorical_accuracy: 0.3041\n",
            "Epoch 33/50\n",
            "608/608 [==============================] - 11s 19ms/step - loss: 5.8361 - accuracy: 0.3267 - top_k_categorical_accuracy: 0.3052\n",
            "Epoch 34/50\n",
            "608/608 [==============================] - 11s 19ms/step - loss: 5.8812 - accuracy: 0.3217 - top_k_categorical_accuracy: 0.3062\n",
            "Epoch 35/50\n",
            "608/608 [==============================] - 11s 19ms/step - loss: 5.8504 - accuracy: 0.3249 - top_k_categorical_accuracy: 0.3072\n",
            "Epoch 36/50\n",
            "608/608 [==============================] - 11s 19ms/step - loss: 5.7585 - accuracy: 0.3352 - top_k_categorical_accuracy: 0.3083\n",
            "Epoch 37/50\n",
            "608/608 [==============================] - 11s 19ms/step - loss: 5.8170 - accuracy: 0.3291 - top_k_categorical_accuracy: 0.3091\n",
            "Epoch 38/50\n",
            "608/608 [==============================] - 11s 19ms/step - loss: 5.8924 - accuracy: 0.3195 - top_k_categorical_accuracy: 0.3100\n",
            "Epoch 39/50\n",
            "608/608 [==============================] - 11s 18ms/step - loss: 5.8271 - accuracy: 0.3281 - top_k_categorical_accuracy: 0.3109\n",
            "Epoch 40/50\n",
            "608/608 [==============================] - 11s 19ms/step - loss: 5.8320 - accuracy: 0.3280 - top_k_categorical_accuracy: 0.3118\n",
            "Epoch 41/50\n",
            "608/608 [==============================] - 11s 19ms/step - loss: 5.8434 - accuracy: 0.3256 - top_k_categorical_accuracy: 0.3127\n",
            "Epoch 42/50\n",
            "608/608 [==============================] - 11s 19ms/step - loss: 5.8084 - accuracy: 0.3285 - top_k_categorical_accuracy: 0.3137\n",
            "Epoch 43/50\n",
            "608/608 [==============================] - 11s 19ms/step - loss: 5.8323 - accuracy: 0.3257 - top_k_categorical_accuracy: 0.3149\n",
            "Epoch 44/50\n",
            "608/608 [==============================] - 11s 19ms/step - loss: 5.8056 - accuracy: 0.3277 - top_k_categorical_accuracy: 0.3165\n",
            "Epoch 45/50\n",
            "608/608 [==============================] - 11s 19ms/step - loss: 5.8217 - accuracy: 0.3279 - top_k_categorical_accuracy: 0.3182\n",
            "Epoch 46/50\n",
            "608/608 [==============================] - 12s 19ms/step - loss: 5.8456 - accuracy: 0.3242 - top_k_categorical_accuracy: 0.3199\n",
            "Epoch 47/50\n",
            "608/608 [==============================] - 11s 19ms/step - loss: 5.8400 - accuracy: 0.3244 - top_k_categorical_accuracy: 0.3220\n",
            "Epoch 48/50\n",
            "608/608 [==============================] - 11s 19ms/step - loss: 5.7687 - accuracy: 0.3338 - top_k_categorical_accuracy: 0.3242\n",
            "Epoch 49/50\n",
            "608/608 [==============================] - 11s 18ms/step - loss: 5.8123 - accuracy: 0.3280 - top_k_categorical_accuracy: 0.3268\n",
            "Epoch 50/50\n",
            "608/608 [==============================] - 11s 19ms/step - loss: 5.8073 - accuracy: 0.3293 - top_k_categorical_accuracy: 0.3298\n",
            "304/304 [==============================] - 5s 12ms/step - loss: 7.9266 - accuracy: 0.1319 - top_k_categorical_accuracy: 0.3320\n",
            "608/608 [==============================] - 7s 11ms/step - loss: 5.7889 - accuracy: 0.3310 - top_k_categorical_accuracy: 0.3345\n",
            "Epoch 1/50\n",
            "608/608 [==============================] - 15s 19ms/step - loss: 7.9944 - accuracy: 0.0363 - top_k_categorical_accuracy: 0.1088\n",
            "Epoch 2/50\n",
            "608/608 [==============================] - 12s 19ms/step - loss: 7.6486 - accuracy: 0.0594 - top_k_categorical_accuracy: 0.1494\n",
            "Epoch 3/50\n",
            "608/608 [==============================] - 11s 19ms/step - loss: 7.1993 - accuracy: 0.1142 - top_k_categorical_accuracy: 0.1655\n",
            "Epoch 4/50\n",
            "608/608 [==============================] - 11s 19ms/step - loss: 6.9427 - accuracy: 0.1467 - top_k_categorical_accuracy: 0.1851\n",
            "Epoch 5/50\n",
            "608/608 [==============================] - 11s 19ms/step - loss: 6.8174 - accuracy: 0.1688 - top_k_categorical_accuracy: 0.1999\n",
            "Epoch 6/50\n",
            "608/608 [==============================] - 11s 19ms/step - loss: 6.7228 - accuracy: 0.1884 - top_k_categorical_accuracy: 0.2111\n",
            "Epoch 7/50\n",
            "608/608 [==============================] - 11s 19ms/step - loss: 6.6537 - accuracy: 0.2034 - top_k_categorical_accuracy: 0.2197\n",
            "Epoch 8/50\n",
            "608/608 [==============================] - 11s 19ms/step - loss: 6.5318 - accuracy: 0.2184 - top_k_categorical_accuracy: 0.2273\n",
            "Epoch 9/50\n",
            "608/608 [==============================] - 11s 19ms/step - loss: 6.4974 - accuracy: 0.2277 - top_k_categorical_accuracy: 0.2336\n",
            "Epoch 10/50\n",
            "608/608 [==============================] - 11s 19ms/step - loss: 6.3981 - accuracy: 0.2439 - top_k_categorical_accuracy: 0.2400\n",
            "Epoch 11/50\n",
            "608/608 [==============================] - 12s 19ms/step - loss: 6.1904 - accuracy: 0.2673 - top_k_categorical_accuracy: 0.2471\n",
            "Epoch 12/50\n",
            "608/608 [==============================] - 12s 19ms/step - loss: 6.0901 - accuracy: 0.2838 - top_k_categorical_accuracy: 0.2540\n",
            "Epoch 13/50\n",
            "608/608 [==============================] - 12s 19ms/step - loss: 6.0325 - accuracy: 0.2930 - top_k_categorical_accuracy: 0.2602\n",
            "Epoch 14/50\n",
            "608/608 [==============================] - 12s 19ms/step - loss: 5.9638 - accuracy: 0.3026 - top_k_categorical_accuracy: 0.2659\n",
            "Epoch 15/50\n",
            "608/608 [==============================] - 11s 19ms/step - loss: 5.9593 - accuracy: 0.3047 - top_k_categorical_accuracy: 0.2709\n",
            "Epoch 16/50\n",
            "608/608 [==============================] - 12s 19ms/step - loss: 5.9311 - accuracy: 0.3074 - top_k_categorical_accuracy: 0.2755\n",
            "Epoch 17/50\n",
            "608/608 [==============================] - 12s 19ms/step - loss: 5.8496 - accuracy: 0.3177 - top_k_categorical_accuracy: 0.2798\n",
            "Epoch 18/50\n",
            "608/608 [==============================] - 12s 19ms/step - loss: 5.8503 - accuracy: 0.3209 - top_k_categorical_accuracy: 0.2836\n",
            "Epoch 19/50\n",
            "608/608 [==============================] - 12s 19ms/step - loss: 5.7655 - accuracy: 0.3312 - top_k_categorical_accuracy: 0.2873\n",
            "Epoch 20/50\n",
            "608/608 [==============================] - 12s 19ms/step - loss: 5.8191 - accuracy: 0.3243 - top_k_categorical_accuracy: 0.2904\n",
            "Epoch 21/50\n",
            "608/608 [==============================] - 12s 19ms/step - loss: 5.8284 - accuracy: 0.3248 - top_k_categorical_accuracy: 0.2934\n",
            "Epoch 22/50\n",
            "608/608 [==============================] - 12s 19ms/step - loss: 5.7361 - accuracy: 0.3352 - top_k_categorical_accuracy: 0.2962\n",
            "Epoch 23/50\n",
            "608/608 [==============================] - 12s 19ms/step - loss: 5.7327 - accuracy: 0.3359 - top_k_categorical_accuracy: 0.2986\n",
            "Epoch 24/50\n",
            "608/608 [==============================] - 12s 19ms/step - loss: 5.7428 - accuracy: 0.3341 - top_k_categorical_accuracy: 0.3009\n",
            "Epoch 25/50\n",
            "608/608 [==============================] - 12s 19ms/step - loss: 5.7734 - accuracy: 0.3329 - top_k_categorical_accuracy: 0.3029\n",
            "Epoch 26/50\n",
            "608/608 [==============================] - 12s 19ms/step - loss: 5.7618 - accuracy: 0.3331 - top_k_categorical_accuracy: 0.3048\n",
            "Epoch 27/50\n",
            "608/608 [==============================] - 12s 19ms/step - loss: 5.7538 - accuracy: 0.3346 - top_k_categorical_accuracy: 0.3066\n",
            "Epoch 28/50\n",
            "608/608 [==============================] - 12s 19ms/step - loss: 5.7171 - accuracy: 0.3390 - top_k_categorical_accuracy: 0.3083\n",
            "Epoch 29/50\n",
            "608/608 [==============================] - 12s 19ms/step - loss: 5.7210 - accuracy: 0.3395 - top_k_categorical_accuracy: 0.3099\n",
            "Epoch 30/50\n",
            "608/608 [==============================] - 12s 19ms/step - loss: 5.7380 - accuracy: 0.3375 - top_k_categorical_accuracy: 0.3113\n",
            "Epoch 31/50\n",
            "608/608 [==============================] - 12s 19ms/step - loss: 5.7434 - accuracy: 0.3371 - top_k_categorical_accuracy: 0.3127\n",
            "Epoch 32/50\n",
            "608/608 [==============================] - 12s 19ms/step - loss: 5.7170 - accuracy: 0.3382 - top_k_categorical_accuracy: 0.3140\n",
            "Epoch 33/50\n",
            "608/608 [==============================] - 12s 19ms/step - loss: 5.7405 - accuracy: 0.3378 - top_k_categorical_accuracy: 0.3152\n",
            "Epoch 34/50\n",
            "608/608 [==============================] - 11s 19ms/step - loss: 5.7361 - accuracy: 0.3371 - top_k_categorical_accuracy: 0.3163\n",
            "Epoch 35/50\n",
            "608/608 [==============================] - 12s 19ms/step - loss: 5.7527 - accuracy: 0.3334 - top_k_categorical_accuracy: 0.3174\n",
            "Epoch 36/50\n",
            "608/608 [==============================] - 12s 19ms/step - loss: 5.7129 - accuracy: 0.3396 - top_k_categorical_accuracy: 0.3186\n",
            "Epoch 37/50\n",
            "608/608 [==============================] - 12s 19ms/step - loss: 5.7338 - accuracy: 0.3363 - top_k_categorical_accuracy: 0.3197\n",
            "Epoch 38/50\n",
            "608/608 [==============================] - 12s 19ms/step - loss: 5.6858 - accuracy: 0.3418 - top_k_categorical_accuracy: 0.3209\n",
            "Epoch 39/50\n",
            "608/608 [==============================] - 12s 19ms/step - loss: 5.7139 - accuracy: 0.3393 - top_k_categorical_accuracy: 0.3222\n",
            "Epoch 40/50\n",
            "608/608 [==============================] - 12s 19ms/step - loss: 5.6608 - accuracy: 0.3460 - top_k_categorical_accuracy: 0.3237\n",
            "Epoch 41/50\n",
            "608/608 [==============================] - 12s 19ms/step - loss: 5.6486 - accuracy: 0.3473 - top_k_categorical_accuracy: 0.3254\n",
            "Epoch 42/50\n",
            "608/608 [==============================] - 12s 19ms/step - loss: 5.6898 - accuracy: 0.3422 - top_k_categorical_accuracy: 0.3273\n",
            "Epoch 43/50\n",
            "608/608 [==============================] - 12s 19ms/step - loss: 5.6950 - accuracy: 0.3423 - top_k_categorical_accuracy: 0.3294\n",
            "Epoch 44/50\n",
            "608/608 [==============================] - 12s 19ms/step - loss: 5.6634 - accuracy: 0.3448 - top_k_categorical_accuracy: 0.3317\n",
            "Epoch 45/50\n",
            "608/608 [==============================] - 12s 19ms/step - loss: 5.6642 - accuracy: 0.3459 - top_k_categorical_accuracy: 0.3343\n",
            "Epoch 46/50\n",
            "608/608 [==============================] - 12s 19ms/step - loss: 5.6659 - accuracy: 0.3449 - top_k_categorical_accuracy: 0.3371\n",
            "Epoch 47/50\n",
            "608/608 [==============================] - 12s 19ms/step - loss: 5.7128 - accuracy: 0.3400 - top_k_categorical_accuracy: 0.3400\n",
            "Epoch 48/50\n",
            "608/608 [==============================] - 12s 19ms/step - loss: 5.6723 - accuracy: 0.3438 - top_k_categorical_accuracy: 0.3431\n",
            "Epoch 49/50\n",
            "608/608 [==============================] - 12s 19ms/step - loss: 5.7011 - accuracy: 0.3407 - top_k_categorical_accuracy: 0.3464\n",
            "Epoch 50/50\n",
            "608/608 [==============================] - 12s 19ms/step - loss: 5.6585 - accuracy: 0.3464 - top_k_categorical_accuracy: 0.3498\n",
            "304/304 [==============================] - 5s 12ms/step - loss: 7.6401 - accuracy: 0.1554 - top_k_categorical_accuracy: 0.3522\n",
            "608/608 [==============================] - 7s 12ms/step - loss: 5.6638 - accuracy: 0.3448 - top_k_categorical_accuracy: 0.3544\n",
            "Epoch 1/100\n",
            "608/608 [==============================] - 19s 23ms/step - loss: 8.3254 - accuracy: 0.0430 - top_k_categorical_accuracy: 0.5720\n",
            "Epoch 2/100\n",
            "608/608 [==============================] - 14s 23ms/step - loss: 8.2134 - accuracy: 0.0458 - top_k_categorical_accuracy: 0.8927\n",
            "Epoch 3/100\n",
            "608/608 [==============================] - 14s 23ms/step - loss: 8.0596 - accuracy: 0.0646 - top_k_categorical_accuracy: 0.8066\n",
            "Epoch 4/100\n",
            "608/608 [==============================] - 14s 23ms/step - loss: 8.0247 - accuracy: 0.0710 - top_k_categorical_accuracy: 0.8441\n",
            "Epoch 5/100\n",
            "608/608 [==============================] - 14s 22ms/step - loss: 7.9506 - accuracy: 0.0785 - top_k_categorical_accuracy: 0.8593\n",
            "Epoch 6/100\n",
            "608/608 [==============================] - 14s 23ms/step - loss: 7.8585 - accuracy: 0.0908 - top_k_categorical_accuracy: 0.7585\n",
            "Epoch 7/100\n",
            "608/608 [==============================] - 14s 23ms/step - loss: 7.8239 - accuracy: 0.0976 - top_k_categorical_accuracy: 0.6671\n",
            "Epoch 8/100\n",
            "608/608 [==============================] - 14s 23ms/step - loss: 7.7603 - accuracy: 0.1068 - top_k_categorical_accuracy: 0.6028\n",
            "Epoch 9/100\n",
            "608/608 [==============================] - 14s 22ms/step - loss: 7.7526 - accuracy: 0.1086 - top_k_categorical_accuracy: 0.5572\n",
            "Epoch 10/100\n",
            "608/608 [==============================] - 14s 23ms/step - loss: 7.7625 - accuracy: 0.1064 - top_k_categorical_accuracy: 0.5253\n",
            "Epoch 11/100\n",
            "608/608 [==============================] - 14s 23ms/step - loss: 7.7203 - accuracy: 0.1144 - top_k_categorical_accuracy: 0.5031\n",
            "Epoch 12/100\n",
            "608/608 [==============================] - 14s 23ms/step - loss: 7.7087 - accuracy: 0.1139 - top_k_categorical_accuracy: 0.4877\n",
            "Epoch 13/100\n",
            "608/608 [==============================] - 14s 23ms/step - loss: 7.6886 - accuracy: 0.1178 - top_k_categorical_accuracy: 0.4784\n",
            "Epoch 14/100\n",
            "608/608 [==============================] - 14s 23ms/step - loss: 7.6685 - accuracy: 0.1204 - top_k_categorical_accuracy: 0.4739\n",
            "Epoch 15/100\n",
            "608/608 [==============================] - 14s 23ms/step - loss: 7.7084 - accuracy: 0.1154 - top_k_categorical_accuracy: 0.4729\n",
            "Epoch 16/100\n",
            "608/608 [==============================] - 14s 23ms/step - loss: 7.6848 - accuracy: 0.1196 - top_k_categorical_accuracy: 0.4757\n",
            "Epoch 17/100\n",
            "608/608 [==============================] - 14s 23ms/step - loss: 7.6589 - accuracy: 0.1231 - top_k_categorical_accuracy: 0.4800\n",
            "Epoch 18/100\n",
            "608/608 [==============================] - 14s 23ms/step - loss: 7.6104 - accuracy: 0.1250 - top_k_categorical_accuracy: 0.4849\n",
            "Epoch 19/100\n",
            "608/608 [==============================] - 14s 23ms/step - loss: 7.3612 - accuracy: 0.1585 - top_k_categorical_accuracy: 0.4777\n",
            "Epoch 20/100\n",
            "608/608 [==============================] - 14s 23ms/step - loss: 7.2201 - accuracy: 0.1760 - top_k_categorical_accuracy: 0.4709\n",
            "Epoch 21/100\n",
            "608/608 [==============================] - 14s 23ms/step - loss: 7.2055 - accuracy: 0.1745 - top_k_categorical_accuracy: 0.4665\n",
            "Epoch 22/100\n",
            "608/608 [==============================] - 14s 23ms/step - loss: 7.2347 - accuracy: 0.1718 - top_k_categorical_accuracy: 0.4661\n",
            "Epoch 23/100\n",
            "608/608 [==============================] - 14s 23ms/step - loss: 7.1434 - accuracy: 0.1813 - top_k_categorical_accuracy: 0.4666\n",
            "Epoch 24/100\n",
            "608/608 [==============================] - 14s 22ms/step - loss: 7.1450 - accuracy: 0.1805 - top_k_categorical_accuracy: 0.4691\n",
            "Epoch 25/100\n",
            "608/608 [==============================] - 14s 23ms/step - loss: 7.1305 - accuracy: 0.1851 - top_k_categorical_accuracy: 0.4731\n",
            "Epoch 26/100\n",
            "608/608 [==============================] - 14s 23ms/step - loss: 7.0879 - accuracy: 0.1878 - top_k_categorical_accuracy: 0.4787\n",
            "Epoch 27/100\n",
            "608/608 [==============================] - 14s 22ms/step - loss: 6.9952 - accuracy: 0.2003 - top_k_categorical_accuracy: 0.4852\n",
            "Epoch 28/100\n",
            "608/608 [==============================] - 14s 23ms/step - loss: 7.0655 - accuracy: 0.1922 - top_k_categorical_accuracy: 0.4929\n",
            "Epoch 29/100\n",
            "608/608 [==============================] - 14s 23ms/step - loss: 7.0494 - accuracy: 0.1930 - top_k_categorical_accuracy: 0.5012\n",
            "Epoch 30/100\n",
            "608/608 [==============================] - 14s 23ms/step - loss: 7.0579 - accuracy: 0.1929 - top_k_categorical_accuracy: 0.5099\n",
            "Epoch 31/100\n",
            "608/608 [==============================] - 14s 23ms/step - loss: 7.0394 - accuracy: 0.1947 - top_k_categorical_accuracy: 0.5187\n",
            "Epoch 32/100\n",
            "608/608 [==============================] - 14s 23ms/step - loss: 7.0706 - accuracy: 0.1904 - top_k_categorical_accuracy: 0.5277\n",
            "Epoch 33/100\n",
            "608/608 [==============================] - 14s 23ms/step - loss: 7.0326 - accuracy: 0.1961 - top_k_categorical_accuracy: 0.5373\n",
            "Epoch 34/100\n",
            "608/608 [==============================] - 14s 23ms/step - loss: 7.0096 - accuracy: 0.1975 - top_k_categorical_accuracy: 0.5468\n",
            "Epoch 35/100\n",
            "608/608 [==============================] - 14s 23ms/step - loss: 7.0617 - accuracy: 0.1920 - top_k_categorical_accuracy: 0.5563\n",
            "Epoch 36/100\n",
            "608/608 [==============================] - 14s 23ms/step - loss: 7.0219 - accuracy: 0.1954 - top_k_categorical_accuracy: 0.5657\n",
            "Epoch 37/100\n",
            "608/608 [==============================] - 14s 23ms/step - loss: 7.0069 - accuracy: 0.1978 - top_k_categorical_accuracy: 0.5751\n",
            "Epoch 38/100\n",
            "608/608 [==============================] - 14s 23ms/step - loss: 7.0447 - accuracy: 0.1938 - top_k_categorical_accuracy: 0.5842\n",
            "Epoch 39/100\n",
            "608/608 [==============================] - 14s 23ms/step - loss: 7.0222 - accuracy: 0.1964 - top_k_categorical_accuracy: 0.5930\n",
            "Epoch 40/100\n",
            "608/608 [==============================] - 14s 23ms/step - loss: 7.0170 - accuracy: 0.1959 - top_k_categorical_accuracy: 0.6014\n",
            "Epoch 41/100\n",
            "608/608 [==============================] - 14s 23ms/step - loss: 6.9954 - accuracy: 0.1986 - top_k_categorical_accuracy: 0.6098\n",
            "Epoch 42/100\n",
            "608/608 [==============================] - 14s 23ms/step - loss: 6.9941 - accuracy: 0.1983 - top_k_categorical_accuracy: 0.6180\n",
            "Epoch 43/100\n",
            "608/608 [==============================] - 14s 23ms/step - loss: 7.0019 - accuracy: 0.1984 - top_k_categorical_accuracy: 0.6259\n",
            "Epoch 44/100\n",
            "608/608 [==============================] - 14s 22ms/step - loss: 7.0148 - accuracy: 0.1963 - top_k_categorical_accuracy: 0.6335\n",
            "Epoch 45/100\n",
            "608/608 [==============================] - 14s 22ms/step - loss: 6.9724 - accuracy: 0.2015 - top_k_categorical_accuracy: 0.6410\n",
            "Epoch 46/100\n",
            "608/608 [==============================] - 14s 23ms/step - loss: 7.0232 - accuracy: 0.1950 - top_k_categorical_accuracy: 0.6483\n",
            "Epoch 47/100\n",
            "608/608 [==============================] - 14s 24ms/step - loss: 6.9720 - accuracy: 0.2013 - top_k_categorical_accuracy: 0.6553\n",
            "Epoch 48/100\n",
            "608/608 [==============================] - 14s 23ms/step - loss: 7.0249 - accuracy: 0.1945 - top_k_categorical_accuracy: 0.6621\n",
            "Epoch 49/100\n",
            "608/608 [==============================] - 14s 23ms/step - loss: 6.9938 - accuracy: 0.1988 - top_k_categorical_accuracy: 0.6687\n",
            "Epoch 50/100\n",
            "608/608 [==============================] - 14s 23ms/step - loss: 6.9741 - accuracy: 0.2018 - top_k_categorical_accuracy: 0.6750\n",
            "Epoch 51/100\n",
            "608/608 [==============================] - 14s 23ms/step - loss: 6.9737 - accuracy: 0.2003 - top_k_categorical_accuracy: 0.6811\n",
            "Epoch 52/100\n",
            "608/608 [==============================] - 14s 23ms/step - loss: 6.9289 - accuracy: 0.2054 - top_k_categorical_accuracy: 0.6870\n",
            "Epoch 53/100\n",
            "608/608 [==============================] - 14s 23ms/step - loss: 6.9880 - accuracy: 0.1986 - top_k_categorical_accuracy: 0.6925\n",
            "Epoch 54/100\n",
            "608/608 [==============================] - 14s 23ms/step - loss: 6.9751 - accuracy: 0.2005 - top_k_categorical_accuracy: 0.6973\n",
            "Epoch 55/100\n",
            "608/608 [==============================] - 14s 24ms/step - loss: 6.9483 - accuracy: 0.2035 - top_k_categorical_accuracy: 0.7024\n",
            "Epoch 56/100\n",
            "608/608 [==============================] - 14s 23ms/step - loss: 6.9390 - accuracy: 0.2042 - top_k_categorical_accuracy: 0.7074\n",
            "Epoch 57/100\n",
            "608/608 [==============================] - 14s 23ms/step - loss: 6.8979 - accuracy: 0.2093 - top_k_categorical_accuracy: 0.7123\n",
            "Epoch 58/100\n",
            "608/608 [==============================] - 14s 23ms/step - loss: 6.9792 - accuracy: 0.2003 - top_k_categorical_accuracy: 0.7171\n",
            "Epoch 59/100\n",
            "608/608 [==============================] - 14s 23ms/step - loss: 6.9762 - accuracy: 0.2003 - top_k_categorical_accuracy: 0.7217\n",
            "Epoch 60/100\n",
            "608/608 [==============================] - 14s 23ms/step - loss: 6.8974 - accuracy: 0.2093 - top_k_categorical_accuracy: 0.7262\n",
            "Epoch 61/100\n",
            "608/608 [==============================] - 14s 23ms/step - loss: 6.9375 - accuracy: 0.2035 - top_k_categorical_accuracy: 0.7305\n",
            "Epoch 62/100\n",
            "608/608 [==============================] - 14s 23ms/step - loss: 6.9510 - accuracy: 0.2030 - top_k_categorical_accuracy: 0.7347\n",
            "Epoch 63/100\n",
            "608/608 [==============================] - 14s 23ms/step - loss: 6.9333 - accuracy: 0.2042 - top_k_categorical_accuracy: 0.7388\n",
            "Epoch 64/100\n",
            "608/608 [==============================] - 14s 23ms/step - loss: 6.9869 - accuracy: 0.1985 - top_k_categorical_accuracy: 0.7428\n",
            "Epoch 65/100\n",
            "608/608 [==============================] - 14s 23ms/step - loss: 6.9426 - accuracy: 0.2039 - top_k_categorical_accuracy: 0.7466\n",
            "Epoch 66/100\n",
            "608/608 [==============================] - 14s 23ms/step - loss: 6.9641 - accuracy: 0.2017 - top_k_categorical_accuracy: 0.7504\n",
            "Epoch 67/100\n",
            "608/608 [==============================] - 14s 23ms/step - loss: 6.9297 - accuracy: 0.2053 - top_k_categorical_accuracy: 0.7540\n",
            "Epoch 68/100\n",
            "608/608 [==============================] - 14s 23ms/step - loss: 6.9418 - accuracy: 0.2033 - top_k_categorical_accuracy: 0.7574\n",
            "Epoch 69/100\n",
            "608/608 [==============================] - 15s 24ms/step - loss: 6.9958 - accuracy: 0.1988 - top_k_categorical_accuracy: 0.7609\n",
            "Epoch 70/100\n",
            "608/608 [==============================] - 14s 24ms/step - loss: 6.9406 - accuracy: 0.2037 - top_k_categorical_accuracy: 0.7642\n",
            "Epoch 71/100\n",
            "608/608 [==============================] - 14s 24ms/step - loss: 6.9187 - accuracy: 0.2070 - top_k_categorical_accuracy: 0.7674\n",
            "Epoch 72/100\n",
            "608/608 [==============================] - 14s 23ms/step - loss: 6.9381 - accuracy: 0.2044 - top_k_categorical_accuracy: 0.7706\n",
            "Epoch 73/100\n",
            "608/608 [==============================] - 14s 24ms/step - loss: 6.9360 - accuracy: 0.2047 - top_k_categorical_accuracy: 0.7736\n",
            "Epoch 74/100\n",
            "608/608 [==============================] - 14s 23ms/step - loss: 6.9331 - accuracy: 0.2056 - top_k_categorical_accuracy: 0.7766\n",
            "Epoch 75/100\n",
            "608/608 [==============================] - 14s 24ms/step - loss: 6.9230 - accuracy: 0.2066 - top_k_categorical_accuracy: 0.7795\n",
            "Epoch 76/100\n",
            "608/608 [==============================] - 14s 24ms/step - loss: 6.9578 - accuracy: 0.2024 - top_k_categorical_accuracy: 0.7823\n",
            "Epoch 77/100\n",
            "608/608 [==============================] - 14s 24ms/step - loss: 6.9783 - accuracy: 0.2008 - top_k_categorical_accuracy: 0.7851\n",
            "Epoch 78/100\n",
            "608/608 [==============================] - 14s 23ms/step - loss: 6.9290 - accuracy: 0.2059 - top_k_categorical_accuracy: 0.7878\n",
            "Epoch 79/100\n",
            "608/608 [==============================] - 14s 23ms/step - loss: 6.9554 - accuracy: 0.2031 - top_k_categorical_accuracy: 0.7904\n",
            "Epoch 80/100\n",
            "608/608 [==============================] - 14s 23ms/step - loss: 6.8958 - accuracy: 0.2095 - top_k_categorical_accuracy: 0.7930\n",
            "Epoch 81/100\n",
            "608/608 [==============================] - 14s 23ms/step - loss: 6.8924 - accuracy: 0.2099 - top_k_categorical_accuracy: 0.7954\n",
            "Epoch 82/100\n",
            "608/608 [==============================] - 14s 23ms/step - loss: 6.9338 - accuracy: 0.2049 - top_k_categorical_accuracy: 0.7979\n",
            "Epoch 83/100\n",
            "608/608 [==============================] - 14s 23ms/step - loss: 6.9317 - accuracy: 0.2054 - top_k_categorical_accuracy: 0.8002\n",
            "Epoch 84/100\n",
            "608/608 [==============================] - 14s 23ms/step - loss: 6.9538 - accuracy: 0.2032 - top_k_categorical_accuracy: 0.8025\n",
            "Epoch 85/100\n",
            "608/608 [==============================] - 14s 23ms/step - loss: 6.9407 - accuracy: 0.2038 - top_k_categorical_accuracy: 0.8048\n",
            "Epoch 86/100\n",
            "608/608 [==============================] - 14s 23ms/step - loss: 6.9173 - accuracy: 0.2073 - top_k_categorical_accuracy: 0.8070\n",
            "Epoch 87/100\n",
            "608/608 [==============================] - 14s 23ms/step - loss: 6.9316 - accuracy: 0.2052 - top_k_categorical_accuracy: 0.8091\n",
            "Epoch 88/100\n",
            "608/608 [==============================] - 14s 23ms/step - loss: 6.9708 - accuracy: 0.2014 - top_k_categorical_accuracy: 0.8112\n",
            "Epoch 89/100\n",
            "608/608 [==============================] - 14s 24ms/step - loss: 6.9319 - accuracy: 0.2056 - top_k_categorical_accuracy: 0.8133\n",
            "Epoch 90/100\n",
            "608/608 [==============================] - 14s 24ms/step - loss: 6.9551 - accuracy: 0.2027 - top_k_categorical_accuracy: 0.8153\n",
            "Epoch 91/100\n",
            "608/608 [==============================] - 14s 24ms/step - loss: 6.9370 - accuracy: 0.2049 - top_k_categorical_accuracy: 0.8173\n",
            "Epoch 92/100\n",
            "608/608 [==============================] - 14s 24ms/step - loss: 6.9473 - accuracy: 0.2044 - top_k_categorical_accuracy: 0.8192\n",
            "Epoch 93/100\n",
            "608/608 [==============================] - 14s 24ms/step - loss: 6.9693 - accuracy: 0.2010 - top_k_categorical_accuracy: 0.8211\n",
            "Epoch 94/100\n",
            "608/608 [==============================] - 14s 24ms/step - loss: 6.9391 - accuracy: 0.2053 - top_k_categorical_accuracy: 0.8229\n",
            "Epoch 95/100\n",
            "608/608 [==============================] - 14s 24ms/step - loss: 6.9354 - accuracy: 0.2048 - top_k_categorical_accuracy: 0.8247\n",
            "Epoch 96/100\n",
            "608/608 [==============================] - 14s 23ms/step - loss: 6.9291 - accuracy: 0.2053 - top_k_categorical_accuracy: 0.8265\n",
            "Epoch 97/100\n",
            "608/608 [==============================] - 14s 24ms/step - loss: 6.9786 - accuracy: 0.1998 - top_k_categorical_accuracy: 0.8282\n",
            "Epoch 98/100\n",
            "608/608 [==============================] - 14s 23ms/step - loss: 6.9180 - accuracy: 0.2077 - top_k_categorical_accuracy: 0.8299\n",
            "Epoch 99/100\n",
            "608/608 [==============================] - 14s 24ms/step - loss: 6.9144 - accuracy: 0.2067 - top_k_categorical_accuracy: 0.8316\n",
            "Epoch 100/100\n",
            "608/608 [==============================] - 14s 24ms/step - loss: 6.9410 - accuracy: 0.2034 - top_k_categorical_accuracy: 0.8332\n",
            "304/304 [==============================] - 5s 12ms/step - loss: 7.8876 - accuracy: 0.1287 - top_k_categorical_accuracy: 0.8348\n",
            "608/608 [==============================] - 7s 12ms/step - loss: 6.9250 - accuracy: 0.2062 - top_k_categorical_accuracy: 0.8360\n",
            "Epoch 1/100\n",
            "608/608 [==============================] - 19s 24ms/step - loss: 8.1126 - accuracy: 0.0362 - top_k_categorical_accuracy: 0.1224\n",
            "Epoch 2/100\n",
            "608/608 [==============================] - 14s 23ms/step - loss: 7.7174 - accuracy: 0.0652 - top_k_categorical_accuracy: 0.1589\n",
            "Epoch 3/100\n",
            "608/608 [==============================] - 14s 24ms/step - loss: 7.6125 - accuracy: 0.0750 - top_k_categorical_accuracy: 0.1694\n",
            "Epoch 4/100\n",
            "608/608 [==============================] - 14s 23ms/step - loss: 7.5219 - accuracy: 0.0829 - top_k_categorical_accuracy: 0.1781\n",
            "Epoch 5/100\n",
            "608/608 [==============================] - 14s 24ms/step - loss: 7.4219 - accuracy: 0.0962 - top_k_categorical_accuracy: 0.1861\n",
            "Epoch 6/100\n",
            "608/608 [==============================] - 14s 24ms/step - loss: 7.3351 - accuracy: 0.1072 - top_k_categorical_accuracy: 0.1919\n",
            "Epoch 7/100\n",
            "608/608 [==============================] - 14s 24ms/step - loss: 7.3120 - accuracy: 0.1125 - top_k_categorical_accuracy: 0.1972\n",
            "Epoch 8/100\n",
            "608/608 [==============================] - 14s 24ms/step - loss: 7.2544 - accuracy: 0.1195 - top_k_categorical_accuracy: 0.2027\n",
            "Epoch 9/100\n",
            "608/608 [==============================] - 14s 24ms/step - loss: 7.2330 - accuracy: 0.1307 - top_k_categorical_accuracy: 0.2102\n",
            "Epoch 10/100\n",
            "608/608 [==============================] - 14s 23ms/step - loss: 7.2088 - accuracy: 0.1324 - top_k_categorical_accuracy: 0.2201\n",
            "Epoch 11/100\n",
            "608/608 [==============================] - 14s 24ms/step - loss: 7.1938 - accuracy: 0.1402 - top_k_categorical_accuracy: 0.2333\n",
            "Epoch 12/100\n",
            "608/608 [==============================] - 14s 24ms/step - loss: 7.1119 - accuracy: 0.1541 - top_k_categorical_accuracy: 0.2467\n",
            "Epoch 13/100\n",
            "608/608 [==============================] - 14s 24ms/step - loss: 7.0691 - accuracy: 0.1635 - top_k_categorical_accuracy: 0.2613\n",
            "Epoch 14/100\n",
            "608/608 [==============================] - 14s 23ms/step - loss: 7.0309 - accuracy: 0.1700 - top_k_categorical_accuracy: 0.2761\n",
            "Epoch 15/100\n",
            "608/608 [==============================] - 14s 23ms/step - loss: 7.0252 - accuracy: 0.1719 - top_k_categorical_accuracy: 0.2918\n",
            "Epoch 16/100\n",
            "608/608 [==============================] - 14s 23ms/step - loss: 7.0362 - accuracy: 0.1742 - top_k_categorical_accuracy: 0.3057\n",
            "Epoch 17/100\n",
            "608/608 [==============================] - 14s 23ms/step - loss: 6.9772 - accuracy: 0.1853 - top_k_categorical_accuracy: 0.3196\n",
            "Epoch 18/100\n",
            "608/608 [==============================] - 14s 24ms/step - loss: 6.9860 - accuracy: 0.1837 - top_k_categorical_accuracy: 0.3328\n",
            "Epoch 19/100\n",
            "608/608 [==============================] - 14s 23ms/step - loss: 6.9517 - accuracy: 0.1910 - top_k_categorical_accuracy: 0.3451\n",
            "Epoch 20/100\n",
            "608/608 [==============================] - 14s 24ms/step - loss: 6.8872 - accuracy: 0.1978 - top_k_categorical_accuracy: 0.3552\n",
            "Epoch 21/100\n",
            "608/608 [==============================] - 14s 23ms/step - loss: 6.9052 - accuracy: 0.1973 - top_k_categorical_accuracy: 0.3671\n",
            "Epoch 22/100\n",
            "608/608 [==============================] - 14s 24ms/step - loss: 6.8607 - accuracy: 0.2007 - top_k_categorical_accuracy: 0.3782\n",
            "Epoch 23/100\n",
            "608/608 [==============================] - 14s 23ms/step - loss: 6.9096 - accuracy: 0.1957 - top_k_categorical_accuracy: 0.3891\n",
            "Epoch 24/100\n",
            "608/608 [==============================] - 14s 24ms/step - loss: 6.8508 - accuracy: 0.2062 - top_k_categorical_accuracy: 0.3996\n",
            "Epoch 25/100\n",
            "608/608 [==============================] - 14s 24ms/step - loss: 6.8715 - accuracy: 0.2031 - top_k_categorical_accuracy: 0.4100\n",
            "Epoch 26/100\n",
            "608/608 [==============================] - 15s 24ms/step - loss: 6.8529 - accuracy: 0.2068 - top_k_categorical_accuracy: 0.4202\n",
            "Epoch 27/100\n",
            "608/608 [==============================] - 14s 23ms/step - loss: 6.7119 - accuracy: 0.2264 - top_k_categorical_accuracy: 0.4292\n",
            "Epoch 28/100\n",
            "608/608 [==============================] - 14s 24ms/step - loss: 6.6956 - accuracy: 0.2270 - top_k_categorical_accuracy: 0.4365\n",
            "Epoch 29/100\n",
            "608/608 [==============================] - 15s 24ms/step - loss: 6.6671 - accuracy: 0.2328 - top_k_categorical_accuracy: 0.4445\n",
            "Epoch 30/100\n",
            "608/608 [==============================] - 14s 24ms/step - loss: 6.6620 - accuracy: 0.2320 - top_k_categorical_accuracy: 0.4526\n",
            "Epoch 31/100\n",
            "608/608 [==============================] - 14s 23ms/step - loss: 6.6459 - accuracy: 0.2344 - top_k_categorical_accuracy: 0.4610\n",
            "Epoch 32/100\n",
            "608/608 [==============================] - 14s 24ms/step - loss: 6.6154 - accuracy: 0.2373 - top_k_categorical_accuracy: 0.4695\n",
            "Epoch 33/100\n",
            "608/608 [==============================] - 15s 24ms/step - loss: 6.5743 - accuracy: 0.2412 - top_k_categorical_accuracy: 0.4781\n",
            "Epoch 34/100\n",
            "608/608 [==============================] - 15s 24ms/step - loss: 6.6810 - accuracy: 0.2301 - top_k_categorical_accuracy: 0.4864\n",
            "Epoch 35/100\n",
            "608/608 [==============================] - 14s 23ms/step - loss: 6.6110 - accuracy: 0.2390 - top_k_categorical_accuracy: 0.4948\n",
            "Epoch 36/100\n",
            "608/608 [==============================] - 14s 24ms/step - loss: 6.5784 - accuracy: 0.2410 - top_k_categorical_accuracy: 0.5030\n",
            "Epoch 37/100\n",
            "608/608 [==============================] - 14s 24ms/step - loss: 6.5714 - accuracy: 0.2432 - top_k_categorical_accuracy: 0.5115\n",
            "Epoch 38/100\n",
            "608/608 [==============================] - 14s 23ms/step - loss: 6.6074 - accuracy: 0.2376 - top_k_categorical_accuracy: 0.5200\n",
            "Epoch 39/100\n",
            "608/608 [==============================] - 14s 24ms/step - loss: 6.5842 - accuracy: 0.2421 - top_k_categorical_accuracy: 0.5283\n",
            "Epoch 40/100\n",
            "608/608 [==============================] - 14s 24ms/step - loss: 6.5461 - accuracy: 0.2448 - top_k_categorical_accuracy: 0.5365\n",
            "Epoch 41/100\n",
            "608/608 [==============================] - 14s 24ms/step - loss: 6.4967 - accuracy: 0.2514 - top_k_categorical_accuracy: 0.5443\n",
            "Epoch 42/100\n",
            "608/608 [==============================] - 15s 24ms/step - loss: 6.5349 - accuracy: 0.2472 - top_k_categorical_accuracy: 0.5523\n",
            "Epoch 43/100\n",
            "608/608 [==============================] - 14s 24ms/step - loss: 6.5582 - accuracy: 0.2437 - top_k_categorical_accuracy: 0.5601\n",
            "Epoch 44/100\n",
            "608/608 [==============================] - 15s 24ms/step - loss: 6.6024 - accuracy: 0.2400 - top_k_categorical_accuracy: 0.5676\n",
            "Epoch 45/100\n",
            "608/608 [==============================] - 14s 24ms/step - loss: 6.5434 - accuracy: 0.2464 - top_k_categorical_accuracy: 0.5750\n",
            "Epoch 46/100\n",
            "608/608 [==============================] - 15s 24ms/step - loss: 6.5078 - accuracy: 0.2507 - top_k_categorical_accuracy: 0.5823\n",
            "Epoch 47/100\n",
            "608/608 [==============================] - 15s 24ms/step - loss: 6.5416 - accuracy: 0.2470 - top_k_categorical_accuracy: 0.5892\n",
            "Epoch 48/100\n",
            "608/608 [==============================] - 14s 24ms/step - loss: 6.4948 - accuracy: 0.2519 - top_k_categorical_accuracy: 0.5959\n",
            "Epoch 49/100\n",
            "608/608 [==============================] - 14s 24ms/step - loss: 6.5156 - accuracy: 0.2497 - top_k_categorical_accuracy: 0.6025\n",
            "Epoch 50/100\n",
            "608/608 [==============================] - 14s 24ms/step - loss: 6.4677 - accuracy: 0.2563 - top_k_categorical_accuracy: 0.6091\n",
            "Epoch 51/100\n",
            "608/608 [==============================] - 14s 24ms/step - loss: 6.5402 - accuracy: 0.2455 - top_k_categorical_accuracy: 0.6156\n",
            "Epoch 52/100\n",
            "608/608 [==============================] - 14s 23ms/step - loss: 6.5148 - accuracy: 0.2497 - top_k_categorical_accuracy: 0.6219\n",
            "Epoch 53/100\n",
            "608/608 [==============================] - 14s 23ms/step - loss: 6.5011 - accuracy: 0.2526 - top_k_categorical_accuracy: 0.6281\n",
            "Epoch 54/100\n",
            "608/608 [==============================] - 14s 24ms/step - loss: 6.3594 - accuracy: 0.2695 - top_k_categorical_accuracy: 0.6336\n",
            "Epoch 55/100\n",
            "608/608 [==============================] - 14s 23ms/step - loss: 6.3550 - accuracy: 0.2689 - top_k_categorical_accuracy: 0.6385\n",
            "Epoch 56/100\n",
            "608/608 [==============================] - 14s 24ms/step - loss: 6.3791 - accuracy: 0.2658 - top_k_categorical_accuracy: 0.6434\n",
            "Epoch 57/100\n",
            "608/608 [==============================] - 14s 24ms/step - loss: 6.3954 - accuracy: 0.2636 - top_k_categorical_accuracy: 0.6482\n",
            "Epoch 58/100\n",
            "608/608 [==============================] - 14s 24ms/step - loss: 6.4039 - accuracy: 0.2623 - top_k_categorical_accuracy: 0.6529\n",
            "Epoch 59/100\n",
            "608/608 [==============================] - 14s 23ms/step - loss: 6.3415 - accuracy: 0.2698 - top_k_categorical_accuracy: 0.6577\n",
            "Epoch 60/100\n",
            "608/608 [==============================] - 14s 24ms/step - loss: 6.3954 - accuracy: 0.2641 - top_k_categorical_accuracy: 0.6623\n",
            "Epoch 61/100\n",
            "608/608 [==============================] - 14s 23ms/step - loss: 6.3424 - accuracy: 0.2687 - top_k_categorical_accuracy: 0.6671\n",
            "Epoch 62/100\n",
            "608/608 [==============================] - 14s 24ms/step - loss: 6.3764 - accuracy: 0.2665 - top_k_categorical_accuracy: 0.6717\n",
            "Epoch 63/100\n",
            "608/608 [==============================] - 14s 23ms/step - loss: 6.3234 - accuracy: 0.2717 - top_k_categorical_accuracy: 0.6762\n",
            "Epoch 64/100\n",
            "608/608 [==============================] - 14s 23ms/step - loss: 6.3914 - accuracy: 0.2644 - top_k_categorical_accuracy: 0.6804\n",
            "Epoch 65/100\n",
            "608/608 [==============================] - 14s 23ms/step - loss: 6.3551 - accuracy: 0.2697 - top_k_categorical_accuracy: 0.6847\n",
            "Epoch 66/100\n",
            "608/608 [==============================] - 14s 23ms/step - loss: 6.3601 - accuracy: 0.2682 - top_k_categorical_accuracy: 0.6888\n",
            "Epoch 67/100\n",
            "608/608 [==============================] - 14s 23ms/step - loss: 6.3216 - accuracy: 0.2717 - top_k_categorical_accuracy: 0.6927\n",
            "Epoch 68/100\n",
            "608/608 [==============================] - 14s 23ms/step - loss: 6.3490 - accuracy: 0.2692 - top_k_categorical_accuracy: 0.6965\n",
            "Epoch 69/100\n",
            "608/608 [==============================] - 14s 23ms/step - loss: 6.3409 - accuracy: 0.2720 - top_k_categorical_accuracy: 0.7000\n",
            "Epoch 70/100\n",
            "608/608 [==============================] - 14s 23ms/step - loss: 6.3536 - accuracy: 0.2688 - top_k_categorical_accuracy: 0.7035\n",
            "Epoch 71/100\n",
            "608/608 [==============================] - 14s 23ms/step - loss: 6.3469 - accuracy: 0.2696 - top_k_categorical_accuracy: 0.7069\n",
            "Epoch 72/100\n",
            "608/608 [==============================] - 14s 23ms/step - loss: 6.3578 - accuracy: 0.2684 - top_k_categorical_accuracy: 0.7102\n",
            "Epoch 73/100\n",
            "608/608 [==============================] - 14s 23ms/step - loss: 6.3449 - accuracy: 0.2698 - top_k_categorical_accuracy: 0.7135\n",
            "Epoch 74/100\n",
            "608/608 [==============================] - 14s 23ms/step - loss: 6.2838 - accuracy: 0.2778 - top_k_categorical_accuracy: 0.7168\n",
            "Epoch 75/100\n",
            "608/608 [==============================] - 14s 23ms/step - loss: 6.2987 - accuracy: 0.2749 - top_k_categorical_accuracy: 0.7200\n",
            "Epoch 76/100\n",
            "608/608 [==============================] - 15s 24ms/step - loss: 6.2877 - accuracy: 0.2765 - top_k_categorical_accuracy: 0.7232\n",
            "Epoch 77/100\n",
            "608/608 [==============================] - 14s 24ms/step - loss: 6.3553 - accuracy: 0.2687 - top_k_categorical_accuracy: 0.7262\n",
            "Epoch 78/100\n",
            "608/608 [==============================] - 14s 23ms/step - loss: 6.3322 - accuracy: 0.2710 - top_k_categorical_accuracy: 0.7292\n",
            "Epoch 79/100\n",
            "608/608 [==============================] - 14s 24ms/step - loss: 6.2801 - accuracy: 0.2769 - top_k_categorical_accuracy: 0.7323\n",
            "Epoch 80/100\n",
            "608/608 [==============================] - 14s 24ms/step - loss: 6.2522 - accuracy: 0.2800 - top_k_categorical_accuracy: 0.7352\n",
            "Epoch 81/100\n",
            "608/608 [==============================] - 14s 24ms/step - loss: 6.3124 - accuracy: 0.2738 - top_k_categorical_accuracy: 0.7379\n",
            "Epoch 82/100\n",
            "608/608 [==============================] - 14s 24ms/step - loss: 6.3070 - accuracy: 0.2734 - top_k_categorical_accuracy: 0.7406\n",
            "Epoch 83/100\n",
            "608/608 [==============================] - 14s 24ms/step - loss: 6.3155 - accuracy: 0.2728 - top_k_categorical_accuracy: 0.7433\n",
            "Epoch 84/100\n",
            "608/608 [==============================] - 14s 23ms/step - loss: 6.3439 - accuracy: 0.2700 - top_k_categorical_accuracy: 0.7460\n",
            "Epoch 85/100\n",
            "608/608 [==============================] - 14s 24ms/step - loss: 6.3503 - accuracy: 0.2689 - top_k_categorical_accuracy: 0.7486\n",
            "Epoch 86/100\n",
            "608/608 [==============================] - 14s 23ms/step - loss: 6.3118 - accuracy: 0.2742 - top_k_categorical_accuracy: 0.7512\n",
            "Epoch 87/100\n",
            "608/608 [==============================] - 14s 23ms/step - loss: 6.2827 - accuracy: 0.2784 - top_k_categorical_accuracy: 0.7537\n",
            "Epoch 88/100\n",
            " 59/608 [=>............................] - ETA: 12s - loss: 6.2803 - accuracy: 0.2764 - top_k_categorical_accuracy: 0.7556"
          ],
          "name": "stdout"
        }
      ]
    },
    {
      "cell_type": "code",
      "metadata": {
        "id": "GbBdhbzMHH82"
      },
      "source": [
        "model.save('urdu-gs-model.h5')\n",
        "pickle.dump(history, open(\"ugshistory.p\", \"wb\"))"
      ],
      "execution_count": null,
      "outputs": []
    },
    {
      "cell_type": "code",
      "metadata": {
        "id": "m14EcBROHHu-"
      },
      "source": [
        ""
      ],
      "execution_count": null,
      "outputs": []
    },
    {
      "cell_type": "code",
      "metadata": {
        "colab": {
          "base_uri": "https://localhost:8080/"
        },
        "id": "1oM5DEhI6W1r",
        "outputId": "98fd3429-5601-42c7-ed24-1a787c282dd6"
      },
      "source": [
        "from google.colab import drive\n",
        "drive.mount('/content/drive')"
      ],
      "execution_count": 54,
      "outputs": [
        {
          "output_type": "stream",
          "text": [
            "Drive already mounted at /content/drive; to attempt to forcibly remount, call drive.mount(\"/content/drive\", force_remount=True).\n"
          ],
          "name": "stdout"
        }
      ]
    },
    {
      "cell_type": "markdown",
      "metadata": {
        "id": "sqX3Qjn2z_bC"
      },
      "source": [
        "# Predictions"
      ]
    },
    {
      "cell_type": "code",
      "metadata": {
        "ExecuteTime": {
          "end_time": "2021-07-27T16:25:42.656195Z",
          "start_time": "2021-07-27T16:25:42.619673Z"
        },
        "id": "03b_mruOz_bC",
        "outputId": "7b754692-4d4d-4a3d-80c2-77f66ccb5161"
      },
      "source": [
        "x = np.zeros((1, WORD_LENGTH, len(unique_words)))\n",
        "text=\"اور بھی بے\"\n",
        "for t, word in enumerate(text.split()):\n",
        "    print(word)\n",
        "    x[0, t, unique_word_index[word]] = 1\n",
        "print(x)"
      ],
      "execution_count": null,
      "outputs": [
        {
          "output_type": "stream",
          "text": [
            "اور\n",
            "بھی\n",
            "بے\n",
            "[[[0. 0. 0. ... 0. 0. 0.]\n",
            "  [0. 0. 0. ... 0. 0. 0.]\n",
            "  [0. 0. 0. ... 0. 0. 0.]]]\n"
          ],
          "name": "stdout"
        }
      ]
    },
    {
      "cell_type": "code",
      "metadata": {
        "ExecuteTime": {
          "end_time": "2021-07-27T16:25:42.682061Z",
          "start_time": "2021-07-27T16:25:42.658488Z"
        },
        "id": "5ceeVwp-z_bC",
        "outputId": "a8010e95-5020-4eca-bd42-d2ee4b476349"
      },
      "source": [
        "def prepare_input(text):\n",
        "    x = np.zeros((1, WORD_LENGTH, len(unique_words)))\n",
        "    for t, word in enumerate(text.split()):\n",
        "        print(word)\n",
        "        x[0, t, unique_word_index[word]] = 1\n",
        "    return x\n",
        "prepare_input(\"اور بھی بے\")"
      ],
      "execution_count": null,
      "outputs": [
        {
          "output_type": "stream",
          "text": [
            "اور\n",
            "بھی\n",
            "بے\n"
          ],
          "name": "stdout"
        },
        {
          "output_type": "execute_result",
          "data": {
            "text/plain": [
              "array([[[0., 0., 0., ..., 0., 0., 0.],\n",
              "        [0., 0., 0., ..., 0., 0., 0.],\n",
              "        [0., 0., 0., ..., 0., 0., 0.]]])"
            ]
          },
          "metadata": {
            "tags": []
          },
          "execution_count": 769
        }
      ]
    },
    {
      "cell_type": "code",
      "metadata": {
        "ExecuteTime": {
          "end_time": "2021-07-27T16:25:42.731921Z",
          "start_time": "2021-07-27T16:25:42.684198Z"
        },
        "id": "4JG0wRqhz_bC"
      },
      "source": [
        "import heapq\n",
        "def sample(preds, top_n=3):\n",
        "    preds = np.asarray(preds).astype('float64')\n",
        "    preds = np.log(preds)\n",
        "    exp_preds = np.exp(preds)\n",
        "    preds = exp_preds / np.sum(exp_preds)\n",
        "\n",
        "    return heapq.nlargest(top_n, range(len(preds)), preds.take)"
      ],
      "execution_count": null,
      "outputs": []
    },
    {
      "cell_type": "code",
      "metadata": {
        "ExecuteTime": {
          "end_time": "2021-07-27T16:25:42.753848Z",
          "start_time": "2021-07-27T16:25:42.734232Z"
        },
        "id": "rZz8xhlxz_bD"
      },
      "source": [
        "def predict_completions(text, n=3):\n",
        "    if text == \"\":\n",
        "        return(\"0\")\n",
        "    x = prepare_input(text)\n",
        "    preds = model.predict(x, verbose=0)[0]\n",
        "    next_indices = sample(preds, n)\n",
        "    return [unique_words[idx] for idx in next_indices]\n"
      ],
      "execution_count": null,
      "outputs": []
    },
    {
      "cell_type": "code",
      "metadata": {
        "ExecuteTime": {
          "end_time": "2021-07-27T16:32:03.952779Z",
          "start_time": "2021-07-27T16:32:02.065123Z"
        },
        "id": "IleURNHSz_bD",
        "outputId": "193ffde5-f8a1-46d5-a541-d7974c289266"
      },
      "source": [
        "q =  input(\"ENTER TEXT: \")\n",
        "# print(\"correct sentence: \",q)\n",
        "seq =  q #\" \".join(q)#tokenized.tokenize(q.lower())[0:3])\n",
        "print(\"Sequence: \",seq)\n",
        "print(\"next possible words: \", predict_completions(seq, 10))"
      ],
      "execution_count": null,
      "outputs": [
        {
          "output_type": "stream",
          "text": [
            "ENTER TEXT: امریکا کا ایک\n",
            "Sequence:  امریکا کا ایک\n",
            "امریکا\n",
            "کا\n",
            "ایک\n",
            "next possible words:  ['جو', 'کا', 'ہے', 'ریاستہائے', 'آ', 'آئر', 'آئرائی', 'آئرلینڈ', 'آئس', 'آئی']\n"
          ],
          "name": "stdout"
        }
      ]
    },
    {
      "cell_type": "code",
      "metadata": {
        "id": "DY_gXOw66Tji"
      },
      "source": [
        ""
      ],
      "execution_count": null,
      "outputs": []
    },
    {
      "cell_type": "code",
      "metadata": {
        "id": "v2ect0-_z_bD"
      },
      "source": [
        ""
      ],
      "execution_count": null,
      "outputs": []
    },
    {
      "cell_type": "code",
      "metadata": {
        "id": "wWiVOCYEz_bD",
        "colab": {
          "base_uri": "https://localhost:8080/",
          "height": 164
        },
        "outputId": "9801ddd0-00dc-4d84-ed44-56fc0a2abe63"
      },
      "source": [
        "while True:pass"
      ],
      "execution_count": 46,
      "outputs": [
        {
          "output_type": "error",
          "ename": "KeyboardInterrupt",
          "evalue": "ignored",
          "traceback": [
            "\u001b[0;31m---------------------------------------------------------------------------\u001b[0m",
            "\u001b[0;31mKeyboardInterrupt\u001b[0m                         Traceback (most recent call last)",
            "\u001b[0;32m<ipython-input-46-534b7a74019f>\u001b[0m in \u001b[0;36m<module>\u001b[0;34m()\u001b[0m\n\u001b[0;32m----> 1\u001b[0;31m \u001b[0;32mwhile\u001b[0m \u001b[0;32mTrue\u001b[0m\u001b[0;34m:\u001b[0m\u001b[0;32mpass\u001b[0m\u001b[0;34m\u001b[0m\u001b[0;34m\u001b[0m\u001b[0m\n\u001b[0m",
            "\u001b[0;31mKeyboardInterrupt\u001b[0m: "
          ]
        }
      ]
    },
    {
      "cell_type": "code",
      "metadata": {
        "id": "iiHTXaNX6UZr"
      },
      "source": [
        ""
      ],
      "execution_count": null,
      "outputs": []
    }
  ]
}