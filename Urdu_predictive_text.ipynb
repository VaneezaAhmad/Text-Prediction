{
  "nbformat": 4,
  "nbformat_minor": 0,
  "metadata": {
    "kernelspec": {
      "display_name": "Python 3",
      "language": "python",
      "name": "python3"
    },
    "language_info": {
      "codemirror_mode": {
        "name": "ipython",
        "version": 3
      },
      "file_extension": ".py",
      "mimetype": "text/x-python",
      "name": "python",
      "nbconvert_exporter": "python",
      "pygments_lexer": "ipython3",
      "version": "3.8.5"
    },
    "toc": {
      "base_numbering": 1,
      "nav_menu": {},
      "number_sections": true,
      "sideBar": true,
      "skip_h1_title": false,
      "title_cell": "Table of Contents",
      "title_sidebar": "Contents",
      "toc_cell": false,
      "toc_position": {
        "height": "calc(100% - 180px)",
        "left": "10px",
        "top": "150px",
        "width": "288px"
      },
      "toc_section_display": true,
      "toc_window_display": true
    },
    "colab": {
      "name": "Urdu-predictive-text.ipynb",
      "provenance": [],
      "include_colab_link": true
    }
  },
  "cells": [
    {
      "cell_type": "markdown",
      "metadata": {
        "id": "view-in-github",
        "colab_type": "text"
      },
      "source": [
        "<a href=\"https://colab.research.google.com/github/VaneezaAhmad/Text-Prediction/blob/main/Urdu_predictive_text.ipynb\" target=\"_parent\"><img src=\"https://colab.research.google.com/assets/colab-badge.svg\" alt=\"Open In Colab\"/></a>"
      ]
    },
    {
      "cell_type": "markdown",
      "metadata": {
        "id": "oT7Me68qi-h9"
      },
      "source": [
        "# imports"
      ]
    },
    {
      "cell_type": "code",
      "metadata": {
        "ExecuteTime": {
          "end_time": "2021-07-25T21:39:18.093821Z",
          "start_time": "2021-07-25T21:39:17.095490Z"
        },
        "id": "7XdVcpI8i-h_"
      },
      "source": [
        "import pandas as pd\n",
        "import matplotlib.pyplot as plt\n",
        "import numpy as np"
      ],
      "execution_count": 2,
      "outputs": []
    },
    {
      "cell_type": "code",
      "metadata": {
        "ExecuteTime": {
          "end_time": "2021-07-25T21:41:23.747355Z",
          "start_time": "2021-07-25T21:41:22.367221Z"
        },
        "id": "kbunm_p6i-iA"
      },
      "source": [
        "import nltk"
      ],
      "execution_count": 3,
      "outputs": []
    },
    {
      "cell_type": "code",
      "metadata": {
        "ExecuteTime": {
          "end_time": "2021-07-26T15:16:51.594395Z",
          "start_time": "2021-07-26T15:16:38.168388Z"
        },
        "id": "J5X6guTUi-iA"
      },
      "source": [
        "import spacy"
      ],
      "execution_count": 4,
      "outputs": []
    },
    {
      "cell_type": "markdown",
      "metadata": {
        "id": "ofNhvuHIi-iB"
      },
      "source": [
        "# Read in data"
      ]
    },
    {
      "cell_type": "code",
      "metadata": {
        "ExecuteTime": {
          "end_time": "2021-07-26T20:16:26.594187Z",
          "start_time": "2021-07-26T20:16:26.581925Z"
        },
        "id": "AP1UFCtYi-iB"
      },
      "source": [
        "import glob\n",
        "\n",
        "def read_first_line(file):\n",
        "    \"\"\"Gets the first line from a file.\n",
        "\n",
        "    Returns\n",
        "    -------\n",
        "    str\n",
        "        the first line text of the input file\n",
        "    \"\"\"\n",
        "    with open(file, 'rt') as fd:\n",
        "        first_line = fd.readline()\n",
        "    return first_line\n",
        "\n",
        "def merge_per_folder(folder_path, output_filename):\n",
        "    \"\"\"Merges first lines of text files in one folder, and\n",
        "    writes combined lines into new output file\n",
        "\n",
        "    Parameters\n",
        "    ----------\n",
        "    folder_path : str\n",
        "        String representation of the folder path containing the text files.\n",
        "    output_filename : str\n",
        "        Name of the output file the merged lines will be written to.\n",
        "    \"\"\"\n",
        "    # make sure there's a slash to the folder path \n",
        "    folder_path += \"\" if folder_path[-1] == \"/\" else \"/\"\n",
        "    # get all text files\n",
        "    txt_files = glob.glob(folder_path + \"*.txt\")\n",
        "    # get first lines; map to each text file (sorted)\n",
        "    output_strings = map(read_first_line, sorted(txt_files))\n",
        "    output_content = \"\".join(output_strings)\n",
        "    # write to file\n",
        "    with open(folder_path + output_filename, 'wt') as outfile:\n",
        "        outfile.write(output_content)"
      ],
      "execution_count": 5,
      "outputs": []
    },
    {
      "cell_type": "code",
      "metadata": {
        "colab": {
          "resources": {
            "http://localhost:8080/nbextensions/google.colab/files.js": {
              "data": "Ly8gQ29weXJpZ2h0IDIwMTcgR29vZ2xlIExMQwovLwovLyBMaWNlbnNlZCB1bmRlciB0aGUgQXBhY2hlIExpY2Vuc2UsIFZlcnNpb24gMi4wICh0aGUgIkxpY2Vuc2UiKTsKLy8geW91IG1heSBub3QgdXNlIHRoaXMgZmlsZSBleGNlcHQgaW4gY29tcGxpYW5jZSB3aXRoIHRoZSBMaWNlbnNlLgovLyBZb3UgbWF5IG9idGFpbiBhIGNvcHkgb2YgdGhlIExpY2Vuc2UgYXQKLy8KLy8gICAgICBodHRwOi8vd3d3LmFwYWNoZS5vcmcvbGljZW5zZXMvTElDRU5TRS0yLjAKLy8KLy8gVW5sZXNzIHJlcXVpcmVkIGJ5IGFwcGxpY2FibGUgbGF3IG9yIGFncmVlZCB0byBpbiB3cml0aW5nLCBzb2Z0d2FyZQovLyBkaXN0cmlidXRlZCB1bmRlciB0aGUgTGljZW5zZSBpcyBkaXN0cmlidXRlZCBvbiBhbiAiQVMgSVMiIEJBU0lTLAovLyBXSVRIT1VUIFdBUlJBTlRJRVMgT1IgQ09ORElUSU9OUyBPRiBBTlkgS0lORCwgZWl0aGVyIGV4cHJlc3Mgb3IgaW1wbGllZC4KLy8gU2VlIHRoZSBMaWNlbnNlIGZvciB0aGUgc3BlY2lmaWMgbGFuZ3VhZ2UgZ292ZXJuaW5nIHBlcm1pc3Npb25zIGFuZAovLyBsaW1pdGF0aW9ucyB1bmRlciB0aGUgTGljZW5zZS4KCi8qKgogKiBAZmlsZW92ZXJ2aWV3IEhlbHBlcnMgZm9yIGdvb2dsZS5jb2xhYiBQeXRob24gbW9kdWxlLgogKi8KKGZ1bmN0aW9uKHNjb3BlKSB7CmZ1bmN0aW9uIHNwYW4odGV4dCwgc3R5bGVBdHRyaWJ1dGVzID0ge30pIHsKICBjb25zdCBlbGVtZW50ID0gZG9jdW1lbnQuY3JlYXRlRWxlbWVudCgnc3BhbicpOwogIGVsZW1lbnQudGV4dENvbnRlbnQgPSB0ZXh0OwogIGZvciAoY29uc3Qga2V5IG9mIE9iamVjdC5rZXlzKHN0eWxlQXR0cmlidXRlcykpIHsKICAgIGVsZW1lbnQuc3R5bGVba2V5XSA9IHN0eWxlQXR0cmlidXRlc1trZXldOwogIH0KICByZXR1cm4gZWxlbWVudDsKfQoKLy8gTWF4IG51bWJlciBvZiBieXRlcyB3aGljaCB3aWxsIGJlIHVwbG9hZGVkIGF0IGEgdGltZS4KY29uc3QgTUFYX1BBWUxPQURfU0laRSA9IDEwMCAqIDEwMjQ7CgpmdW5jdGlvbiBfdXBsb2FkRmlsZXMoaW5wdXRJZCwgb3V0cHV0SWQpIHsKICBjb25zdCBzdGVwcyA9IHVwbG9hZEZpbGVzU3RlcChpbnB1dElkLCBvdXRwdXRJZCk7CiAgY29uc3Qgb3V0cHV0RWxlbWVudCA9IGRvY3VtZW50LmdldEVsZW1lbnRCeUlkKG91dHB1dElkKTsKICAvLyBDYWNoZSBzdGVwcyBvbiB0aGUgb3V0cHV0RWxlbWVudCB0byBtYWtlIGl0IGF2YWlsYWJsZSBmb3IgdGhlIG5leHQgY2FsbAogIC8vIHRvIHVwbG9hZEZpbGVzQ29udGludWUgZnJvbSBQeXRob24uCiAgb3V0cHV0RWxlbWVudC5zdGVwcyA9IHN0ZXBzOwoKICByZXR1cm4gX3VwbG9hZEZpbGVzQ29udGludWUob3V0cHV0SWQpOwp9CgovLyBUaGlzIGlzIHJvdWdobHkgYW4gYXN5bmMgZ2VuZXJhdG9yIChub3Qgc3VwcG9ydGVkIGluIHRoZSBicm93c2VyIHlldCksCi8vIHdoZXJlIHRoZXJlIGFyZSBtdWx0aXBsZSBhc3luY2hyb25vdXMgc3RlcHMgYW5kIHRoZSBQeXRob24gc2lkZSBpcyBnb2luZwovLyB0byBwb2xsIGZvciBjb21wbGV0aW9uIG9mIGVhY2ggc3RlcC4KLy8gVGhpcyB1c2VzIGEgUHJvbWlzZSB0byBibG9jayB0aGUgcHl0aG9uIHNpZGUgb24gY29tcGxldGlvbiBvZiBlYWNoIHN0ZXAsCi8vIHRoZW4gcGFzc2VzIHRoZSByZXN1bHQgb2YgdGhlIHByZXZpb3VzIHN0ZXAgYXMgdGhlIGlucHV0IHRvIHRoZSBuZXh0IHN0ZXAuCmZ1bmN0aW9uIF91cGxvYWRGaWxlc0NvbnRpbnVlKG91dHB1dElkKSB7CiAgY29uc3Qgb3V0cHV0RWxlbWVudCA9IGRvY3VtZW50LmdldEVsZW1lbnRCeUlkKG91dHB1dElkKTsKICBjb25zdCBzdGVwcyA9IG91dHB1dEVsZW1lbnQuc3RlcHM7CgogIGNvbnN0IG5leHQgPSBzdGVwcy5uZXh0KG91dHB1dEVsZW1lbnQubGFzdFByb21pc2VWYWx1ZSk7CiAgcmV0dXJuIFByb21pc2UucmVzb2x2ZShuZXh0LnZhbHVlLnByb21pc2UpLnRoZW4oKHZhbHVlKSA9PiB7CiAgICAvLyBDYWNoZSB0aGUgbGFzdCBwcm9taXNlIHZhbHVlIHRvIG1ha2UgaXQgYXZhaWxhYmxlIHRvIHRoZSBuZXh0CiAgICAvLyBzdGVwIG9mIHRoZSBnZW5lcmF0b3IuCiAgICBvdXRwdXRFbGVtZW50Lmxhc3RQcm9taXNlVmFsdWUgPSB2YWx1ZTsKICAgIHJldHVybiBuZXh0LnZhbHVlLnJlc3BvbnNlOwogIH0pOwp9CgovKioKICogR2VuZXJhdG9yIGZ1bmN0aW9uIHdoaWNoIGlzIGNhbGxlZCBiZXR3ZWVuIGVhY2ggYXN5bmMgc3RlcCBvZiB0aGUgdXBsb2FkCiAqIHByb2Nlc3MuCiAqIEBwYXJhbSB7c3RyaW5nfSBpbnB1dElkIEVsZW1lbnQgSUQgb2YgdGhlIGlucHV0IGZpbGUgcGlja2VyIGVsZW1lbnQuCiAqIEBwYXJhbSB7c3RyaW5nfSBvdXRwdXRJZCBFbGVtZW50IElEIG9mIHRoZSBvdXRwdXQgZGlzcGxheS4KICogQHJldHVybiB7IUl0ZXJhYmxlPCFPYmplY3Q+fSBJdGVyYWJsZSBvZiBuZXh0IHN0ZXBzLgogKi8KZnVuY3Rpb24qIHVwbG9hZEZpbGVzU3RlcChpbnB1dElkLCBvdXRwdXRJZCkgewogIGNvbnN0IGlucHV0RWxlbWVudCA9IGRvY3VtZW50LmdldEVsZW1lbnRCeUlkKGlucHV0SWQpOwogIGlucHV0RWxlbWVudC5kaXNhYmxlZCA9IGZhbHNlOwoKICBjb25zdCBvdXRwdXRFbGVtZW50ID0gZG9jdW1lbnQuZ2V0RWxlbWVudEJ5SWQob3V0cHV0SWQpOwogIG91dHB1dEVsZW1lbnQuaW5uZXJIVE1MID0gJyc7CgogIGNvbnN0IHBpY2tlZFByb21pc2UgPSBuZXcgUHJvbWlzZSgocmVzb2x2ZSkgPT4gewogICAgaW5wdXRFbGVtZW50LmFkZEV2ZW50TGlzdGVuZXIoJ2NoYW5nZScsIChlKSA9PiB7CiAgICAgIHJlc29sdmUoZS50YXJnZXQuZmlsZXMpOwogICAgfSk7CiAgfSk7CgogIGNvbnN0IGNhbmNlbCA9IGRvY3VtZW50LmNyZWF0ZUVsZW1lbnQoJ2J1dHRvbicpOwogIGlucHV0RWxlbWVudC5wYXJlbnRFbGVtZW50LmFwcGVuZENoaWxkKGNhbmNlbCk7CiAgY2FuY2VsLnRleHRDb250ZW50ID0gJ0NhbmNlbCB1cGxvYWQnOwogIGNvbnN0IGNhbmNlbFByb21pc2UgPSBuZXcgUHJvbWlzZSgocmVzb2x2ZSkgPT4gewogICAgY2FuY2VsLm9uY2xpY2sgPSAoKSA9PiB7CiAgICAgIHJlc29sdmUobnVsbCk7CiAgICB9OwogIH0pOwoKICAvLyBXYWl0IGZvciB0aGUgdXNlciB0byBwaWNrIHRoZSBmaWxlcy4KICBjb25zdCBmaWxlcyA9IHlpZWxkIHsKICAgIHByb21pc2U6IFByb21pc2UucmFjZShbcGlja2VkUHJvbWlzZSwgY2FuY2VsUHJvbWlzZV0pLAogICAgcmVzcG9uc2U6IHsKICAgICAgYWN0aW9uOiAnc3RhcnRpbmcnLAogICAgfQogIH07CgogIGNhbmNlbC5yZW1vdmUoKTsKCiAgLy8gRGlzYWJsZSB0aGUgaW5wdXQgZWxlbWVudCBzaW5jZSBmdXJ0aGVyIHBpY2tzIGFyZSBub3QgYWxsb3dlZC4KICBpbnB1dEVsZW1lbnQuZGlzYWJsZWQgPSB0cnVlOwoKICBpZiAoIWZpbGVzKSB7CiAgICByZXR1cm4gewogICAgICByZXNwb25zZTogewogICAgICAgIGFjdGlvbjogJ2NvbXBsZXRlJywKICAgICAgfQogICAgfTsKICB9CgogIGZvciAoY29uc3QgZmlsZSBvZiBmaWxlcykgewogICAgY29uc3QgbGkgPSBkb2N1bWVudC5jcmVhdGVFbGVtZW50KCdsaScpOwogICAgbGkuYXBwZW5kKHNwYW4oZmlsZS5uYW1lLCB7Zm9udFdlaWdodDogJ2JvbGQnfSkpOwogICAgbGkuYXBwZW5kKHNwYW4oCiAgICAgICAgYCgke2ZpbGUudHlwZSB8fCAnbi9hJ30pIC0gJHtmaWxlLnNpemV9IGJ5dGVzLCBgICsKICAgICAgICBgbGFzdCBtb2RpZmllZDogJHsKICAgICAgICAgICAgZmlsZS5sYXN0TW9kaWZpZWREYXRlID8gZmlsZS5sYXN0TW9kaWZpZWREYXRlLnRvTG9jYWxlRGF0ZVN0cmluZygpIDoKICAgICAgICAgICAgICAgICAgICAgICAgICAgICAgICAgICAgJ24vYSd9IC0gYCkpOwogICAgY29uc3QgcGVyY2VudCA9IHNwYW4oJzAlIGRvbmUnKTsKICAgIGxpLmFwcGVuZENoaWxkKHBlcmNlbnQpOwoKICAgIG91dHB1dEVsZW1lbnQuYXBwZW5kQ2hpbGQobGkpOwoKICAgIGNvbnN0IGZpbGVEYXRhUHJvbWlzZSA9IG5ldyBQcm9taXNlKChyZXNvbHZlKSA9PiB7CiAgICAgIGNvbnN0IHJlYWRlciA9IG5ldyBGaWxlUmVhZGVyKCk7CiAgICAgIHJlYWRlci5vbmxvYWQgPSAoZSkgPT4gewogICAgICAgIHJlc29sdmUoZS50YXJnZXQucmVzdWx0KTsKICAgICAgfTsKICAgICAgcmVhZGVyLnJlYWRBc0FycmF5QnVmZmVyKGZpbGUpOwogICAgfSk7CiAgICAvLyBXYWl0IGZvciB0aGUgZGF0YSB0byBiZSByZWFkeS4KICAgIGxldCBmaWxlRGF0YSA9IHlpZWxkIHsKICAgICAgcHJvbWlzZTogZmlsZURhdGFQcm9taXNlLAogICAgICByZXNwb25zZTogewogICAgICAgIGFjdGlvbjogJ2NvbnRpbnVlJywKICAgICAgfQogICAgfTsKCiAgICAvLyBVc2UgYSBjaHVua2VkIHNlbmRpbmcgdG8gYXZvaWQgbWVzc2FnZSBzaXplIGxpbWl0cy4gU2VlIGIvNjIxMTU2NjAuCiAgICBsZXQgcG9zaXRpb24gPSAwOwogICAgZG8gewogICAgICBjb25zdCBsZW5ndGggPSBNYXRoLm1pbihmaWxlRGF0YS5ieXRlTGVuZ3RoIC0gcG9zaXRpb24sIE1BWF9QQVlMT0FEX1NJWkUpOwogICAgICBjb25zdCBjaHVuayA9IG5ldyBVaW50OEFycmF5KGZpbGVEYXRhLCBwb3NpdGlvbiwgbGVuZ3RoKTsKICAgICAgcG9zaXRpb24gKz0gbGVuZ3RoOwoKICAgICAgY29uc3QgYmFzZTY0ID0gYnRvYShTdHJpbmcuZnJvbUNoYXJDb2RlLmFwcGx5KG51bGwsIGNodW5rKSk7CiAgICAgIHlpZWxkIHsKICAgICAgICByZXNwb25zZTogewogICAgICAgICAgYWN0aW9uOiAnYXBwZW5kJywKICAgICAgICAgIGZpbGU6IGZpbGUubmFtZSwKICAgICAgICAgIGRhdGE6IGJhc2U2NCwKICAgICAgICB9LAogICAgICB9OwoKICAgICAgbGV0IHBlcmNlbnREb25lID0gZmlsZURhdGEuYnl0ZUxlbmd0aCA9PT0gMCA/CiAgICAgICAgICAxMDAgOgogICAgICAgICAgTWF0aC5yb3VuZCgocG9zaXRpb24gLyBmaWxlRGF0YS5ieXRlTGVuZ3RoKSAqIDEwMCk7CiAgICAgIHBlcmNlbnQudGV4dENvbnRlbnQgPSBgJHtwZXJjZW50RG9uZX0lIGRvbmVgOwoKICAgIH0gd2hpbGUgKHBvc2l0aW9uIDwgZmlsZURhdGEuYnl0ZUxlbmd0aCk7CiAgfQoKICAvLyBBbGwgZG9uZS4KICB5aWVsZCB7CiAgICByZXNwb25zZTogewogICAgICBhY3Rpb246ICdjb21wbGV0ZScsCiAgICB9CiAgfTsKfQoKc2NvcGUuZ29vZ2xlID0gc2NvcGUuZ29vZ2xlIHx8IHt9OwpzY29wZS5nb29nbGUuY29sYWIgPSBzY29wZS5nb29nbGUuY29sYWIgfHwge307CnNjb3BlLmdvb2dsZS5jb2xhYi5fZmlsZXMgPSB7CiAgX3VwbG9hZEZpbGVzLAogIF91cGxvYWRGaWxlc0NvbnRpbnVlLAp9Owp9KShzZWxmKTsK",
              "ok": true,
              "headers": [
                [
                  "content-type",
                  "application/javascript"
                ]
              ],
              "status": 200,
              "status_text": ""
            }
          },
          "base_uri": "https://localhost:8080/",
          "height": 72
        },
        "id": "dOvnBgUyjBKE",
        "outputId": "70b6674b-498c-4413-f773-aceff3025816"
      },
      "source": [
        "from google.colab import files\n",
        "uploaded = files.upload()"
      ],
      "execution_count": 1,
      "outputs": [
        {
          "output_type": "display_data",
          "data": {
            "text/html": [
              "\n",
              "     <input type=\"file\" id=\"files-2858c21e-3b28-4dc6-9050-4aab85775a2b\" name=\"files[]\" multiple disabled\n",
              "        style=\"border:none\" />\n",
              "     <output id=\"result-2858c21e-3b28-4dc6-9050-4aab85775a2b\">\n",
              "      Upload widget is only available when the cell has been executed in the\n",
              "      current browser session. Please rerun this cell to enable.\n",
              "      </output>\n",
              "      <script src=\"/nbextensions/google.colab/files.js\"></script> "
            ],
            "text/plain": [
              "<IPython.core.display.HTML object>"
            ]
          },
          "metadata": {
            "tags": []
          }
        },
        {
          "output_type": "stream",
          "text": [
            "Saving data.txt to data.txt\n"
          ],
          "name": "stdout"
        }
      ]
    },
    {
      "cell_type": "code",
      "metadata": {
        "ExecuteTime": {
          "end_time": "2021-07-26T20:16:28.153594Z",
          "start_time": "2021-07-26T20:16:28.150884Z"
        },
        "id": "3D2efRzZi-iB"
      },
      "source": [
        "# read_first_line(\"urdu-data/1.txt\")"
      ],
      "execution_count": null,
      "outputs": []
    },
    {
      "cell_type": "code",
      "metadata": {
        "ExecuteTime": {
          "end_time": "2021-07-26T20:16:28.523485Z",
          "start_time": "2021-07-26T20:16:28.458713Z"
        },
        "id": "3BWZ7x-ji-iC"
      },
      "source": [
        "merge_per_folder(\"urdu-data\", \"data.txt\")"
      ],
      "execution_count": null,
      "outputs": []
    },
    {
      "cell_type": "code",
      "metadata": {
        "ExecuteTime": {
          "end_time": "2021-07-26T20:16:28.981643Z",
          "start_time": "2021-07-26T20:16:28.977599Z"
        },
        "id": "RvkekoHVi-iC"
      },
      "source": [
        "urdu =  open(\"data.txt\", \"r\", encoding=\"utf_8\").read()"
      ],
      "execution_count": 7,
      "outputs": []
    },
    {
      "cell_type": "code",
      "metadata": {
        "ExecuteTime": {
          "end_time": "2021-07-26T20:16:29.960773Z",
          "start_time": "2021-07-26T20:16:29.957586Z"
        },
        "colab": {
          "base_uri": "https://localhost:8080/"
        },
        "id": "fABXRv5Bi-iC",
        "outputId": "1b056d51-b394-4737-f139-7b7535e46951"
      },
      "source": [
        "len(urdu)"
      ],
      "execution_count": 8,
      "outputs": [
        {
          "output_type": "execute_result",
          "data": {
            "text/plain": [
              "22186"
            ]
          },
          "metadata": {
            "tags": []
          },
          "execution_count": 8
        }
      ]
    },
    {
      "cell_type": "markdown",
      "metadata": {
        "id": "rzHMSpZri-iD"
      },
      "source": [
        "# Preprocessing"
      ]
    },
    {
      "cell_type": "markdown",
      "metadata": {
        "id": "9M0GBqLwi-iD"
      },
      "source": [
        "## Spacy"
      ]
    },
    {
      "cell_type": "code",
      "metadata": {
        "ExecuteTime": {
          "end_time": "2021-07-26T20:16:34.509754Z",
          "start_time": "2021-07-26T20:16:34.426467Z"
        },
        "id": "sRmYzu1ii-iE"
      },
      "source": [
        "nlp = spacy.blank(\"ur\")"
      ],
      "execution_count": 9,
      "outputs": []
    },
    {
      "cell_type": "code",
      "metadata": {
        "ExecuteTime": {
          "end_time": "2021-07-26T20:16:34.777560Z",
          "start_time": "2021-07-26T20:16:34.679218Z"
        },
        "id": "8oRJAo__i-iE"
      },
      "source": [
        "doc = nlp(urdu)"
      ],
      "execution_count": 10,
      "outputs": []
    },
    {
      "cell_type": "code",
      "metadata": {
        "ExecuteTime": {
          "end_time": "2021-07-26T20:16:34.896487Z",
          "start_time": "2021-07-26T20:16:34.890107Z"
        },
        "id": "RO8uFbH0i-iE"
      },
      "source": [
        "punctuation=[\"۔؟،\\nn\\1234567890\"]"
      ],
      "execution_count": 11,
      "outputs": []
    },
    {
      "cell_type": "code",
      "metadata": {
        "ExecuteTime": {
          "end_time": "2021-07-26T20:17:13.115236Z",
          "start_time": "2021-07-26T20:17:13.104209Z"
        },
        "id": "cJxBPFdHi-iF"
      },
      "source": [
        "urdu_words = [token.text for token in doc if token.text not in \".,′″،۔؟./;:°،ء'،\\n-\\n\\n-.\\n ,,./;:°،ء'\\t\\t\\t\\t\\t\\t\\t\\t\\n.-(),,,[],,,,\"]\n"
      ],
      "execution_count": 12,
      "outputs": []
    },
    {
      "cell_type": "code",
      "metadata": {
        "ExecuteTime": {
          "end_time": "2021-07-26T20:26:31.970117Z",
          "start_time": "2021-07-26T20:26:31.965954Z"
        },
        "id": "vXgVF8BYi-iF"
      },
      "source": [
        "urdu_words = [token for token in urdu_words if token not in \".,′″،./;:،ء'، ,,./;:°،ء'.-,,,\"\"'-.[,,,,\"]\n"
      ],
      "execution_count": 13,
      "outputs": []
    },
    {
      "cell_type": "code",
      "metadata": {
        "ExecuteTime": {
          "end_time": "2021-07-26T20:37:01.055097Z",
          "start_time": "2021-07-26T20:37:01.044287Z"
        },
        "id": "uFTHtMkWi-iF"
      },
      "source": [
        "urdu_words = [word.translate(str.maketrans('', '', '\"0123456789')) \\\n",
        "                  for word in urdu_words]"
      ],
      "execution_count": 14,
      "outputs": []
    },
    {
      "cell_type": "code",
      "metadata": {
        "ExecuteTime": {
          "end_time": "2021-07-26T20:37:01.744423Z",
          "start_time": "2021-07-26T20:37:01.725857Z"
        },
        "id": "RWQrAr_mi-iF"
      },
      "source": [
        "urdu_words = [word.translate(str.maketrans('', '', 'abcdefghijklmnopqrstuvwxyzABCDEFGHIJKLMNOPQRSTUVWXYZ')) \\\n",
        "                  for word in urdu_words]"
      ],
      "execution_count": 15,
      "outputs": []
    },
    {
      "cell_type": "code",
      "metadata": {
        "ExecuteTime": {
          "end_time": "2021-07-26T20:37:02.134373Z",
          "start_time": "2021-07-26T20:37:02.130953Z"
        },
        "id": "P16cwQWsi-iF"
      },
      "source": [
        "urdu_words=[word for word in urdu_words if word != '']"
      ],
      "execution_count": 16,
      "outputs": []
    },
    {
      "cell_type": "code",
      "metadata": {
        "ExecuteTime": {
          "end_time": "2021-07-26T20:37:02.592536Z",
          "start_time": "2021-07-26T20:37:02.588857Z"
        },
        "colab": {
          "base_uri": "https://localhost:8080/"
        },
        "id": "xtGgU67Ti-iG",
        "outputId": "42f57998-037c-4ba7-d0f9-471e0d91e3cf"
      },
      "source": [
        "len(urdu_words)"
      ],
      "execution_count": 17,
      "outputs": [
        {
          "output_type": "execute_result",
          "data": {
            "text/plain": [
              "4409"
            ]
          },
          "metadata": {
            "tags": []
          },
          "execution_count": 17
        }
      ]
    },
    {
      "cell_type": "code",
      "metadata": {
        "ExecuteTime": {
          "end_time": "2021-07-26T20:37:03.428712Z",
          "start_time": "2021-07-26T20:37:03.425966Z"
        },
        "id": "G3JlwlXpi-iG"
      },
      "source": [
        "from nltk.probability import FreqDist"
      ],
      "execution_count": 18,
      "outputs": []
    },
    {
      "cell_type": "code",
      "metadata": {
        "ExecuteTime": {
          "end_time": "2021-07-26T20:26:36.189212Z",
          "start_time": "2021-07-26T20:26:35.675295Z"
        },
        "colab": {
          "base_uri": "https://localhost:8080/",
          "height": 792
        },
        "id": "R7OMN7p4i-iG",
        "outputId": "85b0b128-52cb-4ace-d43d-65c1c5a950f4"
      },
      "source": [
        "fdist = FreqDist(urdu_words)\n",
        "plt.figure(figsize=(20, 10))\n",
        "fdist.plot(50);"
      ],
      "execution_count": 19,
      "outputs": [
        {
          "output_type": "stream",
          "text": [
            "/usr/local/lib/python3.7/dist-packages/matplotlib/backends/backend_agg.py:214: RuntimeWarning: Glyph 1729 missing from current font.\n",
            "  font.set_text(s, 0.0, flags=flags)\n",
            "/usr/local/lib/python3.7/dist-packages/matplotlib/backends/backend_agg.py:214: RuntimeWarning: Glyph 1746 missing from current font.\n",
            "  font.set_text(s, 0.0, flags=flags)\n",
            "/usr/local/lib/python3.7/dist-packages/matplotlib/backends/backend_agg.py:183: RuntimeWarning: Glyph 1729 missing from current font.\n",
            "  font.set_text(s, 0, flags=flags)\n",
            "/usr/local/lib/python3.7/dist-packages/matplotlib/backends/backend_agg.py:183: RuntimeWarning: Glyph 1746 missing from current font.\n",
            "  font.set_text(s, 0, flags=flags)\n"
          ],
          "name": "stderr"
        },
        {
          "output_type": "display_data",
          "data": {
            "image/png": "[encoded data removed]",
            "text/plain": [
              "<Figure size 1440x720 with 1 Axes>"
            ]
          },
          "metadata": {
            "tags": [],
            "needs_background": "light"
          }
        }
      ]
    },
    {
      "cell_type": "code",
      "metadata": {
        "ExecuteTime": {
          "end_time": "2021-07-26T20:37:05.841658Z",
          "start_time": "2021-07-26T20:37:05.836648Z"
        },
        "scrolled": false,
        "colab": {
          "base_uri": "https://localhost:8080/"
        },
        "id": "sholeDVZi-iG",
        "outputId": "e7bfce46-4b6f-4c0c-e753-0a041c5edca8"
      },
      "source": [
        "urdu_words[:10]"
      ],
      "execution_count": 20,
      "outputs": [
        {
          "output_type": "execute_result",
          "data": {
            "text/plain": [
              "['زیورخ',\n",
              " 'کیلیفورنیا',\n",
              " 'ریاستہائے',\n",
              " 'متحدہ',\n",
              " 'امریکا',\n",
              " 'کا',\n",
              " 'ایک',\n",
              " 'انانکارپوریٹڈ',\n",
              " 'علاقہ',\n",
              " 'جو']"
            ]
          },
          "metadata": {
            "tags": []
          },
          "execution_count": 20
        }
      ]
    },
    {
      "cell_type": "code",
      "metadata": {
        "ExecuteTime": {
          "end_time": "2021-07-26T20:37:06.656524Z",
          "start_time": "2021-07-26T20:37:06.648780Z"
        },
        "id": "afFx0Oy0i-iH"
      },
      "source": [
        "unique_words = np.unique(urdu_words)\n",
        "unique_word_index = dict((c, i) for i, c in enumerate(unique_words))"
      ],
      "execution_count": 21,
      "outputs": []
    },
    {
      "cell_type": "code",
      "metadata": {
        "ExecuteTime": {
          "end_time": "2021-07-26T20:37:08.119736Z",
          "start_time": "2021-07-26T20:37:08.089938Z"
        },
        "colab": {
          "base_uri": "https://localhost:8080/"
        },
        "id": "ia5cBRVAi-iH",
        "outputId": "249bfaad-7e70-4cb5-9866-d3c24cb99b99"
      },
      "source": [
        "unique_word_index"
      ],
      "execution_count": 22,
      "outputs": [
        {
          "output_type": "execute_result",
          "data": {
            "text/plain": [
              "{',': 0,\n",
              " ',,': 1,\n",
              " ',,,': 2,\n",
              " ',,,,': 3,\n",
              " '-.': 4,\n",
              " '.': 5,\n",
              " '،': 6,\n",
              " 'ء': 7,\n",
              " 'آئیوس': 8,\n",
              " 'آئیووا': 9,\n",
              " 'آئیں': 10,\n",
              " 'آئے': 11,\n",
              " 'آباد': 12,\n",
              " 'آبادی': 13,\n",
              " 'آبشار': 14,\n",
              " 'آج': 15,\n",
              " 'آجاتا': 16,\n",
              " 'آخری': 17,\n",
              " 'آرتوین': 18,\n",
              " 'آزاد': 19,\n",
              " 'آغاز': 20,\n",
              " 'آف': 21,\n",
              " 'آقائے': 22,\n",
              " 'آل': 23,\n",
              " 'آلات': 24,\n",
              " 'آلٹیر': 25,\n",
              " 'آندھرا': 26,\n",
              " 'آنے': 27,\n",
              " 'آوٹ': 28,\n",
              " 'آٹھ': 29,\n",
              " 'آٹھویں': 30,\n",
              " 'آپ': 31,\n",
              " 'آگے': 32,\n",
              " 'آہ': 33,\n",
              " 'آہنگ': 34,\n",
              " 'آیا': 35,\n",
              " 'اب': 36,\n",
              " 'ابتدائی': 37,\n",
              " 'ابو': 38,\n",
              " 'ابوالبشر': 39,\n",
              " 'ابونصر': 40,\n",
              " 'ابھی': 41,\n",
              " 'اتحاد': 42,\n",
              " 'اثر': 43,\n",
              " 'احباب': 44,\n",
              " 'احترام': 45,\n",
              " 'احمد': 46,\n",
              " 'اخبار': 47,\n",
              " 'اخبارات': 48,\n",
              " 'اختصار': 49,\n",
              " 'اختصاصی': 50,\n",
              " 'اختیار': 51,\n",
              " 'اخذ': 52,\n",
              " 'ادارہ': 53,\n",
              " 'ادارے': 54,\n",
              " 'اداکارہ': 55,\n",
              " 'ارب': 56,\n",
              " 'ارجنٹائن': 57,\n",
              " 'اردگرد': 58,\n",
              " 'ارمنی': 59,\n",
              " 'ارومچی': 60,\n",
              " 'از': 61,\n",
              " 'ازبکستان': 62,\n",
              " 'ازکابان': 63,\n",
              " 'اس': 64,\n",
              " 'استرو': 65,\n",
              " 'استعمال': 66,\n",
              " 'اسد': 67,\n",
              " 'اسرائیل': 68,\n",
              " 'اسلام': 69,\n",
              " 'اسلامی': 70,\n",
              " 'اسلحہ': 71,\n",
              " 'اسلیم': 72,\n",
              " 'اسماعیل': 73,\n",
              " 'اسمبلی': 74,\n",
              " 'اسٹیشن': 75,\n",
              " 'اسٹیفن': 76,\n",
              " 'اسی': 77,\n",
              " 'اسے': 78,\n",
              " 'اشخاص': 79,\n",
              " 'اشرف': 80,\n",
              " 'اشوریوں': 81,\n",
              " 'اشیاء': 82,\n",
              " 'اصل': 83,\n",
              " 'اضطرابی': 84,\n",
              " 'اضلاع': 85,\n",
              " 'اطالوی': 86,\n",
              " 'اظہار': 87,\n",
              " 'اعضا': 88,\n",
              " 'اعظم': 89,\n",
              " 'اعلان': 90,\n",
              " 'اعلیٰ': 91,\n",
              " 'افراد': 92,\n",
              " 'افسانوی': 93,\n",
              " 'افغان': 94,\n",
              " 'افغانستان': 95,\n",
              " 'اقتدار': 96,\n",
              " 'الا': 97,\n",
              " 'الائنس': 98,\n",
              " 'الاسلام': 99,\n",
              " 'الاقوامی': 100,\n",
              " 'البرٹا': 101,\n",
              " 'البغدادي': 102,\n",
              " 'الجزائر': 103,\n",
              " 'الجلفہ': 104,\n",
              " 'الحاج': 105,\n",
              " 'الحارث': 106,\n",
              " 'الحسیمہ': 107,\n",
              " 'الحکومت': 108,\n",
              " 'الخلافہ': 109,\n",
              " 'الدار': 110,\n",
              " 'الرحمن': 111,\n",
              " 'السلام': 112,\n",
              " 'الفونسو': 113,\n",
              " 'الله': 114,\n",
              " 'اللہ': 115,\n",
              " 'المؤمنین': 116,\n",
              " 'المجید': 117,\n",
              " 'المحصی': 118,\n",
              " 'المروزي': 119,\n",
              " 'المسائل': 120,\n",
              " 'المعروف': 121,\n",
              " 'المقدس': 122,\n",
              " 'المنصور': 123,\n",
              " 'الکوثر': 124,\n",
              " 'الگ': 125,\n",
              " 'الینوائے': 126,\n",
              " 'الیکٹرانک': 127,\n",
              " 'الیکٹرونک': 128,\n",
              " 'امام': 129,\n",
              " 'امانس': 130,\n",
              " 'امراض': 131,\n",
              " 'امریکا': 132,\n",
              " 'امریکی': 133,\n",
              " 'امپھؤ': 134,\n",
              " 'امیر': 135,\n",
              " 'ان': 136,\n",
              " 'انالوگ': 137,\n",
              " 'انانکارپوریٹڈ': 138,\n",
              " 'انتخابی': 139,\n",
              " 'انتظام': 140,\n",
              " 'انتظامی': 141,\n",
              " 'انتہائی': 142,\n",
              " 'انتیس': 143,\n",
              " 'انداز': 144,\n",
              " 'اندازے': 145,\n",
              " 'اندر': 146,\n",
              " 'اندرونی': 147,\n",
              " 'انسانی': 148,\n",
              " 'انفصام': 149,\n",
              " 'انٹاریو': 150,\n",
              " 'انچ': 151,\n",
              " 'انکا': 152,\n",
              " 'انگریز': 153,\n",
              " 'انگریزی': 154,\n",
              " 'انھوں': 155,\n",
              " 'انہوں': 156,\n",
              " 'انہیں': 157,\n",
              " 'انیانگ': 158,\n",
              " 'انیو': 159,\n",
              " 'اور': 160,\n",
              " 'اورانسان': 161,\n",
              " 'اوردوس': 162,\n",
              " 'اوریگون': 163,\n",
              " 'اوسط': 164,\n",
              " 'اوسی': 165,\n",
              " 'اوشین': 166,\n",
              " 'اولا': 167,\n",
              " 'اولاد': 168,\n",
              " 'اولین': 169,\n",
              " 'اوپر': 170,\n",
              " 'اوپن': 171,\n",
              " 'اوھام': 172,\n",
              " 'اوہائیو': 173,\n",
              " 'اُردو': 174,\n",
              " 'اُس': 175,\n",
              " 'اِس': 176,\n",
              " 'اِصطلاح': 177,\n",
              " 'اِضافی': 178,\n",
              " 'اٹھائیس': 179,\n",
              " 'اپریل': 180,\n",
              " 'اپنی': 181,\n",
              " 'اپنے': 182,\n",
              " 'اچاری': 183,\n",
              " 'اڈا': 184,\n",
              " 'اکائی': 185,\n",
              " 'اکائیات': 186,\n",
              " 'اکتوبر': 187,\n",
              " 'اگر': 188,\n",
              " 'اگرچہ': 189,\n",
              " 'اہم': 190,\n",
              " 'اہمیت': 191,\n",
              " 'ای': 192,\n",
              " 'ایئرپورٹ': 193,\n",
              " 'ایجنسی': 194,\n",
              " 'ایجیئن': 195,\n",
              " 'ایران': 196,\n",
              " 'ایسا': 197,\n",
              " 'ایسی': 198,\n",
              " 'ایسیٹائلکولین': 199,\n",
              " 'ایسے': 200,\n",
              " 'ایشیاء': 201,\n",
              " 'ایف۔': 202,\n",
              " 'ایل': 203,\n",
              " 'ایلبا': 204,\n",
              " 'ایلو': 205,\n",
              " 'ایلومینا': 206,\n",
              " 'این': 207,\n",
              " 'ایوتتھایا': 208,\n",
              " 'ایٹ': 209,\n",
              " 'ایچ': 210,\n",
              " 'ایڈسن': 211,\n",
              " 'ایڈیٹر': 212,\n",
              " 'ایک': 213,\n",
              " 'ایکسپریشن': 214,\n",
              " 'ایکشن': 215,\n",
              " 'ایگویر': 216,\n",
              " 'اے۔': 217,\n",
              " 'بائی': 218,\n",
              " 'باب': 219,\n",
              " 'بابل': 220,\n",
              " 'بادشاہ': 221,\n",
              " 'بار': 222,\n",
              " 'بارے': 223,\n",
              " 'باز': 224,\n",
              " 'بازو': 225,\n",
              " 'بالمقابل': 226,\n",
              " 'باندے': 227,\n",
              " 'بانی': 228,\n",
              " 'باہر': 229,\n",
              " 'باہمی': 230,\n",
              " 'باﮈہ': 231,\n",
              " 'بحیرہ': 232,\n",
              " 'بدولت': 233,\n",
              " 'بدھا': 234,\n",
              " 'برابر': 235,\n",
              " 'برازیل': 236,\n",
              " 'براسو': 237,\n",
              " 'براعظم': 238,\n",
              " 'براٹیسلاوا': 239,\n",
              " 'بربے': 240,\n",
              " 'برتن': 241,\n",
              " 'برج': 242,\n",
              " 'برطانوی': 243,\n",
              " 'بروز': 244,\n",
              " 'برکاتہ': 245,\n",
              " 'برینڈن': 246,\n",
              " 'بریکشہ': 247,\n",
              " 'بستے': 248,\n",
              " 'بشر': 249,\n",
              " 'بعد': 250,\n",
              " 'بعید': 251,\n",
              " 'بغلان': 252,\n",
              " 'بفیلو': 253,\n",
              " 'بل': 254,\n",
              " 'بلاسپور': 255,\n",
              " 'بلجئیم': 256,\n",
              " 'بلداجی': 257,\n",
              " 'بلدیات': 258,\n",
              " 'بلغاریہ': 259,\n",
              " 'بلندی': 260,\n",
              " 'بلوچستان': 261,\n",
              " 'بلٹز': 262,\n",
              " 'بلکہ': 263,\n",
              " 'بن': 264,\n",
              " 'بنا': 265,\n",
              " 'بنایا': 266,\n",
              " 'بندو': 267,\n",
              " 'بندی': 268,\n",
              " 'بننے': 269,\n",
              " 'بنو': 270,\n",
              " 'بنگلا': 271,\n",
              " 'بنگلہ': 272,\n",
              " 'بنی': 273,\n",
              " 'بنیادی': 274,\n",
              " 'بنے': 275,\n",
              " 'بوا': 276,\n",
              " 'بوبوک': 277,\n",
              " 'بورصہ': 278,\n",
              " 'بوس': 279,\n",
              " 'بوستان': 280,\n",
              " 'بولا': 281,\n",
              " 'بوک': 282,\n",
              " 'بچار': 283,\n",
              " 'بچے': 284,\n",
              " 'بڑا': 285,\n",
              " 'بڑھتا': 286,\n",
              " 'بڑی': 287,\n",
              " 'بڑے': 288,\n",
              " 'بھارت': 289,\n",
              " 'بھارتی': 290,\n",
              " 'بھر': 291,\n",
              " 'بھی': 292,\n",
              " 'بہ': 293,\n",
              " 'بہاؤ': 294,\n",
              " 'بہت': 295,\n",
              " 'بہرہ': 296,\n",
              " 'بہن': 297,\n",
              " 'بی': 298,\n",
              " 'بیریکم': 299,\n",
              " 'بیس': 300,\n",
              " 'بیلاروس': 301,\n",
              " 'بین': 302,\n",
              " 'بینٹن': 303,\n",
              " 'بیٹے': 304,\n",
              " 'بیڈ': 305,\n",
              " 'بے': 306,\n",
              " 'تئیس': 307,\n",
              " 'تاجر': 308,\n",
              " 'تاجکستان': 309,\n",
              " 'تاریخ': 310,\n",
              " 'تاریخی': 311,\n",
              " 'تاناکا': 312,\n",
              " 'تاہم': 313,\n",
              " 'تباہ': 314,\n",
              " 'تبدیل': 315,\n",
              " 'تبدیلی': 316,\n",
              " 'تتلے': 317,\n",
              " 'تجارتی': 318,\n",
              " 'تجزیہ': 319,\n",
              " 'تحت': 320,\n",
              " 'تحریر': 321,\n",
              " 'تحصیل': 322,\n",
              " 'تحصیلیں': 323,\n",
              " 'تحقیق': 324,\n",
              " 'تخت': 325,\n",
              " 'تر': 326,\n",
              " 'ترتیبی': 327,\n",
              " 'ترجمہ': 328,\n",
              " 'ترقی': 329,\n",
              " 'ترک': 330,\n",
              " 'ترکی': 331,\n",
              " 'ترین': 332,\n",
              " 'تسریع': 333,\n",
              " 'تشریف': 334,\n",
              " 'تشیع': 335,\n",
              " 'تصور': 336,\n",
              " 'تطوان': 337,\n",
              " 'تعالیٰ': 338,\n",
              " 'تعداد': 339,\n",
              " 'تعریف': 340,\n",
              " 'تعلق': 341,\n",
              " 'تعلم': 342,\n",
              " 'تعلیم': 343,\n",
              " 'تعلیمی': 344,\n",
              " 'تعمیر': 345,\n",
              " 'تعین': 346,\n",
              " 'تفرق': 347,\n",
              " 'تفصیل': 348,\n",
              " 'تقریبا': 349,\n",
              " 'تقریباً': 350,\n",
              " 'تقسیم': 351,\n",
              " 'تلہیسی': 352,\n",
              " 'تمام': 353,\n",
              " 'تمدن': 354,\n",
              " 'تنظیم': 355,\n",
              " 'تنظیمی': 356,\n",
              " 'تو': 357,\n",
              " 'توانائی': 358,\n",
              " 'توقات': 359,\n",
              " 'تولید': 360,\n",
              " 'توپ': 361,\n",
              " 'تک': 362,\n",
              " 'تکلم': 363,\n",
              " 'تھا': 364,\n",
              " 'تھائی': 365,\n",
              " 'تھاپ': 366,\n",
              " 'تھرتھراہٹ': 367,\n",
              " 'تھلگ': 368,\n",
              " 'تھی': 369,\n",
              " 'تھیں': 370,\n",
              " 'تھی۔یہ': 371,\n",
              " 'تھے': 372,\n",
              " 'تہذیب': 373,\n",
              " 'تیار': 374,\n",
              " 'تیس': 375,\n",
              " 'تیسرے': 376,\n",
              " 'تین': 377,\n",
              " 'تینوں': 378,\n",
              " 'ثابتہ': 379,\n",
              " 'ثانی': 380,\n",
              " 'ثروت': 381,\n",
              " 'ثقافت': 382,\n",
              " 'جا': 383,\n",
              " 'جائیں': 384,\n",
              " 'جات': 385,\n",
              " 'جاتا': 386,\n",
              " 'جاتی': 387,\n",
              " 'جاتے': 388,\n",
              " 'جارجیا': 389,\n",
              " 'جاری': 390,\n",
              " 'جامعات': 391,\n",
              " 'جامعة': 392,\n",
              " 'جامعہ': 393,\n",
              " 'جامعے': 394,\n",
              " 'جان': 395,\n",
              " 'جانا': 396,\n",
              " 'جانب': 397,\n",
              " 'جاندار': 398,\n",
              " 'جانے': 399,\n",
              " 'جاپان': 400,\n",
              " 'جاپانی': 401,\n",
              " 'جب': 402,\n",
              " 'جبکہ': 403,\n",
              " 'جد': 404,\n",
              " 'جدل': 405,\n",
              " 'جدوونیکی': 406,\n",
              " 'جدید': 407,\n",
              " 'جذبات': 408,\n",
              " 'جزائر': 409,\n",
              " 'جزوی': 410,\n",
              " 'جزیرہ': 411,\n",
              " 'جزیرے': 412,\n",
              " 'جس': 413,\n",
              " 'جسم': 414,\n",
              " 'جسمیہ': 415,\n",
              " 'جسیمہ': 416,\n",
              " 'جسے': 417,\n",
              " 'جلال': 418,\n",
              " 'جمرود': 419,\n",
              " 'جمشیدخاندان': 420,\n",
              " 'جمہوریہ': 421,\n",
              " 'جن': 422,\n",
              " 'جناح': 423,\n",
              " 'جنوب': 424,\n",
              " 'جنوبی': 425,\n",
              " 'جنکشن': 426,\n",
              " 'جنگ': 427,\n",
              " 'جنگجو': 428,\n",
              " 'جنگوں': 429,\n",
              " 'جنہوں': 430,\n",
              " 'جنہیں': 431,\n",
              " 'جنین': 432,\n",
              " 'جو': 433,\n",
              " 'جوامام': 434,\n",
              " 'جونزفیلڈ': 435,\n",
              " 'جونپور': 436,\n",
              " 'جگہ': 437,\n",
              " 'جھمرہ': 438,\n",
              " 'جھیلیں': 439,\n",
              " 'جہان': 440,\n",
              " 'جہاں': 441,\n",
              " 'جہموریہ': 442,\n",
              " 'جیسا': 443,\n",
              " 'جیسی': 444,\n",
              " 'جیول': 445,\n",
              " 'حاصل': 446,\n",
              " 'حافی': 447,\n",
              " 'حال': 448,\n",
              " 'حالات': 449,\n",
              " 'حالت': 450,\n",
              " 'حالیہ': 451,\n",
              " 'حامل': 452,\n",
              " 'حاوی': 453,\n",
              " 'حجة': 454,\n",
              " 'حجہ': 455,\n",
              " 'حد': 456,\n",
              " 'حدود': 457,\n",
              " 'حرارت': 458,\n",
              " 'حرکت': 459,\n",
              " 'حرکتی': 460,\n",
              " 'حرکی': 461,\n",
              " 'حس': 462,\n",
              " 'حسن': 463,\n",
              " 'حصول': 464,\n",
              " 'حصے': 465,\n",
              " 'حضرت': 466,\n",
              " 'حقیقی': 467,\n",
              " 'حلقہ': 468,\n",
              " 'حلقے': 469,\n",
              " 'حکمران': 470,\n",
              " 'حکومت': 471,\n",
              " 'حیثیت': 472,\n",
              " 'خاتمے': 473,\n",
              " 'خاص': 474,\n",
              " 'خان': 475,\n",
              " 'خاندان': 476,\n",
              " 'ختم': 477,\n",
              " 'خدمات': 478,\n",
              " 'خطائے': 479,\n",
              " 'خطے': 480,\n",
              " 'خلاء': 481,\n",
              " 'خلافت': 482,\n",
              " 'خلوراکا': 483,\n",
              " 'خلیات': 484,\n",
              " 'خلیفہ': 485,\n",
              " 'خلیفۃ': 486,\n",
              " 'خلیے': 487,\n",
              " 'خوارزم': 488,\n",
              " 'خوبصورت': 489,\n",
              " 'خود': 490,\n",
              " 'خورشید': 491,\n",
              " 'خونی': 492,\n",
              " 'خیالی': 493,\n",
              " 'خیبر': 494,\n",
              " 'دائروں': 495,\n",
              " 'دائرے': 496,\n",
              " 'دادیان': 497,\n",
              " 'دار': 498,\n",
              " 'دارالحکومت': 499,\n",
              " 'دامت': 500,\n",
              " 'دان': 501,\n",
              " 'داٹلس': 502,\n",
              " 'دراصل': 503,\n",
              " 'درجہ': 504,\n",
              " 'درخت': 505,\n",
              " 'درمیان': 506,\n",
              " 'دریافت': 507,\n",
              " 'دس': 508,\n",
              " 'دشوار': 509,\n",
              " 'دعوت': 510,\n",
              " 'دل': 511,\n",
              " 'دلاتی': 512,\n",
              " 'دماغ': 513,\n",
              " 'دماغی': 514,\n",
              " 'دنا': 515,\n",
              " 'دنوں': 516,\n",
              " 'دنیا': 517,\n",
              " 'دنیاوی': 518,\n",
              " 'دو': 519,\n",
              " 'دوبارہ': 520,\n",
              " 'دور': 521,\n",
              " 'دوست': 522,\n",
              " 'دوسرا': 523,\n",
              " 'دوسروں': 524,\n",
              " 'دوسری': 525,\n",
              " 'دوسرے': 526,\n",
              " 'دکھائی': 527,\n",
              " 'دہائی': 528,\n",
              " 'دہلی': 529,\n",
              " 'دی': 530,\n",
              " 'دیا': 531,\n",
              " 'دیش': 532,\n",
              " 'دینی': 533,\n",
              " 'دینے': 534,\n",
              " 'دیواروں': 535,\n",
              " 'دیگر': 536,\n",
              " 'ذریعہ': 537,\n",
              " 'ذریعے': 538,\n",
              " 'ذُھانی': 539,\n",
              " 'ذھانی': 540,\n",
              " 'ذہنی': 541,\n",
              " 'ذیل': 542,\n",
              " 'ذیلی': 543,\n",
              " 'رائج': 544,\n",
              " 'رابطہ': 545,\n",
              " 'راز': 546,\n",
              " 'راسخُ': 547,\n",
              " 'راولپنڈی': 548,\n",
              " 'رتبہ': 549,\n",
              " 'رجوع': 550,\n",
              " 'رجوعِ': 551,\n",
              " 'رحمت': 552,\n",
              " 'رقاصہ': 553,\n",
              " 'رقبہ': 554,\n",
              " 'رقص': 555,\n",
              " 'رمز': 556,\n",
              " 'رمزِ': 557,\n",
              " 'رمضان': 558,\n",
              " 'روایات': 559,\n",
              " 'روایت': 560,\n",
              " 'رودس': 561,\n",
              " 'رودوش': 562,\n",
              " 'روز': 563,\n",
              " 'روزانہ': 564,\n",
              " 'روزنامہ': 565,\n",
              " 'روس': 566,\n",
              " 'روشنائی': 567,\n",
              " 'روشناس': 568,\n",
              " 'روم': 569,\n",
              " 'رومانیہ': 570,\n",
              " 'روڈ': 571,\n",
              " 'روڈس': 572,\n",
              " 'رویہ': 573,\n",
              " 'رُتبہ': 574,\n",
              " 'رڈیارڈ': 575,\n",
              " 'رکھتا': 576,\n",
              " 'رکھتے': 577,\n",
              " 'رکھنا': 578,\n",
              " 'رکھنے': 579,\n",
              " 'رکھے': 580,\n",
              " 'رہا': 581,\n",
              " 'رہائش': 582,\n",
              " 'رہائشی': 583,\n",
              " 'رہتا': 584,\n",
              " 'رہتی': 585,\n",
              " 'رہنے': 586,\n",
              " 'رہوڈس': 587,\n",
              " 'رہیں': 588,\n",
              " 'رہے': 589,\n",
              " 'ریاست': 590,\n",
              " 'ریاستوں': 591,\n",
              " 'ریاستہائے': 592,\n",
              " 'ریسیور': 593,\n",
              " 'ریل': 594,\n",
              " 'ریلوے': 595,\n",
              " 'ریویئرا': 596,\n",
              " 'ریڈیو': 597,\n",
              " 'ریگیولر': 598,\n",
              " 'زبان': 599,\n",
              " 'زبزگو': 600,\n",
              " 'زرانڈ': 601,\n",
              " 'زرخیز': 602,\n",
              " 'زمانے': 603,\n",
              " 'زہرہ': 604,\n",
              " 'زیادہ': 605,\n",
              " 'زیر': 606,\n",
              " 'زیورات': 607,\n",
              " 'زیورخ': 608,\n",
              " 'سائنس': 609,\n",
              " 'سات': 610,\n",
              " 'ساتھ': 611,\n",
              " 'ساتھ\\u200d': 612,\n",
              " 'ساحل': 613,\n",
              " 'ساحلوں': 614,\n",
              " 'سارا': 615,\n",
              " 'ساز': 616,\n",
              " 'سال': 617,\n",
              " 'سالمات': 618,\n",
              " 'سالوں': 619,\n",
              " 'سامان': 620,\n",
              " 'سانتیاگو': 621,\n",
              " 'سانٹا': 622,\n",
              " 'ساگینا': 623,\n",
              " 'سایباغ': 624,\n",
              " 'سب': 625,\n",
              " 'ستائش': 626,\n",
              " 'ستونوں': 627,\n",
              " 'سخارب': 628,\n",
              " 'سر': 629,\n",
              " 'سراسیمہ': 630,\n",
              " 'سربراہ': 631,\n",
              " 'سربیا': 632,\n",
              " 'سردار': 633,\n",
              " 'سردیوں': 634,\n",
              " 'سرمایہ': 635,\n",
              " 'سرکاری': 636,\n",
              " 'سرکٹ': 637,\n",
              " 'سطح': 638,\n",
              " 'سعید': 639,\n",
              " 'سفر': 640,\n",
              " 'سفلی': 641,\n",
              " 'سفیر': 642,\n",
              " 'سلام': 643,\n",
              " 'سلسلہ': 644,\n",
              " 'سلسلے': 645,\n",
              " 'سلطنت': 646,\n",
              " 'سلم': 647,\n",
              " 'سلوواکیہ': 648,\n",
              " 'سلیمان': 649,\n",
              " 'سم': 650,\n",
              " 'سمتار': 651,\n",
              " 'سمندر': 652,\n",
              " 'سنائی': 653,\n",
              " 'سنبھالا': 654,\n",
              " 'سندھ': 655,\n",
              " 'سو': 656,\n",
              " 'سورج': 657,\n",
              " 'سونگکھلا': 658,\n",
              " 'سوویں': 659,\n",
              " 'سوچ': 660,\n",
              " 'سویڈن': 661,\n",
              " 'سویڈنی': 662,\n",
              " 'سٹی': 663,\n",
              " 'سکاجیٹ': 664,\n",
              " 'سکتا': 665,\n",
              " 'سکتزوفرینیا': 666,\n",
              " 'سکتی': 667,\n",
              " 'سکتے': 668,\n",
              " 'سکون': 669,\n",
              " 'سکھ': 670,\n",
              " 'سکھائے': 671,\n",
              " 'سکھوں': 672,\n",
              " 'سگنل': 673,\n",
              " 'سہم': 674,\n",
              " 'سی': 675,\n",
              " 'سیاحوں': 676,\n",
              " 'سیاست': 677,\n",
              " 'سیاسی': 678,\n",
              " 'سین': 679,\n",
              " 'سینٹ': 680,\n",
              " 'سینٹرل': 681,\n",
              " 'سینٹی': 682,\n",
              " 'سیکٹر': 683,\n",
              " 'سیگ': 684,\n",
              " 'سے': 685,\n",
              " 'شائع': 686,\n",
              " 'شام': 687,\n",
              " 'شامل': 688,\n",
              " 'شاہ': 689,\n",
              " 'شاہراہ': 690,\n",
              " 'شاہکار': 691,\n",
              " 'شجرہ': 692,\n",
              " 'شخص': 693,\n",
              " 'شدہ': 694,\n",
              " 'شروع': 695,\n",
              " 'شعبہ': 696,\n",
              " 'شعور': 697,\n",
              " 'شعیب': 698,\n",
              " 'شمار': 699,\n",
              " 'شماری': 700,\n",
              " 'شمال': 701,\n",
              " 'شمالی': 702,\n",
              " 'شپ': 703,\n",
              " 'شکر': 704,\n",
              " 'شکل': 705,\n",
              " 'شکلیں': 706,\n",
              " 'شہر': 707,\n",
              " 'شہرت': 708,\n",
              " 'شہروں': 709,\n",
              " 'شیبانی': 710,\n",
              " 'شیخ': 711,\n",
              " 'شیر': 712,\n",
              " 'شیریں': 713,\n",
              " 'شیعیان': 714,\n",
              " 'شینزین': 715,\n",
              " 'شینیو': 716,\n",
              " 'شے': 717,\n",
              " 'صاحب': 718,\n",
              " 'صحافی': 719,\n",
              " 'صحیحہ': 720,\n",
              " 'صداؤ': 721,\n",
              " 'صدر': 722,\n",
              " 'صدی': 723,\n",
              " 'صرف': 724,\n",
              " 'صفاتی': 725,\n",
              " 'صفحات': 726,\n",
              " 'صفحہ': 727,\n",
              " 'صفی': 728,\n",
              " 'صنعت': 729,\n",
              " 'صوبائی': 730,\n",
              " 'صوبہ': 731,\n",
              " 'صوبے': 732,\n",
              " 'صورت': 733,\n",
              " 'ضرورت': 734,\n",
              " 'ضروری': 735,\n",
              " 'ضلع': 736,\n",
              " 'طاس': 737,\n",
              " 'طب': 738,\n",
              " 'طرح': 739,\n",
              " 'طرز': 740,\n",
              " 'طفرہ': 741,\n",
              " 'طلاب': 742,\n",
              " 'طلبہ': 743,\n",
              " 'طنجہ': 744,\n",
              " 'طور': 745,\n",
              " 'طول': 746,\n",
              " 'طویل': 747,\n",
              " 'ظاہر': 748,\n",
              " 'ظاہرآباد': 749,\n",
              " 'ظاہرہ': 750,\n",
              " 'عالم': 751,\n",
              " 'عالمی': 752,\n",
              " 'عام': 753,\n",
              " 'عبد': 754,\n",
              " 'عتقاد': 755,\n",
              " 'عثمان': 756,\n",
              " 'عثمانیہ': 757,\n",
              " 'عدد': 758,\n",
              " 'عددی': 759,\n",
              " 'عدنان': 760,\n",
              " 'عدی': 761,\n",
              " 'عراق': 762,\n",
              " 'عرب': 763,\n",
              " 'عربی': 764,\n",
              " 'عرض': 765,\n",
              " 'عروج': 766,\n",
              " 'عریض': 767,\n",
              " 'عصبی': 768,\n",
              " 'عطاء': 769,\n",
              " 'عظمی': 770,\n",
              " 'عظیم': 771,\n",
              " 'علاحدہ': 772,\n",
              " 'علاقہ': 773,\n",
              " 'علاقے': 774,\n",
              " 'علاماتِ': 775,\n",
              " 'علامت': 776,\n",
              " 'علاوہ': 777,\n",
              " 'علما': 778,\n",
              " 'علمبردار': 779,\n",
              " 'علوم': 780,\n",
              " 'علی': 781,\n",
              " 'علیہ': 782,\n",
              " 'عمارت': 783,\n",
              " 'عمر': 784,\n",
              " 'عمل': 785,\n",
              " 'عموما': 786,\n",
              " 'عمومی': 787,\n",
              " 'عوامل': 788,\n",
              " 'عوامی': 789,\n",
              " 'عوانے': 790,\n",
              " 'عکاس': 791,\n",
              " 'عکاسہ': 792,\n",
              " 'عکس': 793,\n",
              " 'عہد': 794,\n",
              " 'عہدۂ': 795,\n",
              " 'عیسوی': 796,\n",
              " 'عیسٰی': 797,\n",
              " 'غیر': 798,\n",
              " 'فارس': 799,\n",
              " 'فاصلے': 800,\n",
              " 'فاطمہ': 801,\n",
              " 'فانیرومینی': 802,\n",
              " 'فرمائیں': 803,\n",
              " 'فریمونٹ': 804,\n",
              " 'فضلکا': 805,\n",
              " 'فقط': 806,\n",
              " 'فلانڈرز': 807,\n",
              " 'فلم': 808,\n",
              " 'فلموں': 809,\n",
              " 'فلمی': 810,\n",
              " 'فلوریڈا': 811,\n",
              " 'فلپس': 812,\n",
              " 'فلک': 813,\n",
              " 'فلکیات': 814,\n",
              " 'فن': 815,\n",
              " 'فنی': 816,\n",
              " 'فوج': 817,\n",
              " 'فون': 818,\n",
              " 'فٹ': 819,\n",
              " 'فکر': 820,\n",
              " 'فہر': 821,\n",
              " 'فی': 822,\n",
              " 'فیصل': 823,\n",
              " 'فیض': 824,\n",
              " 'فیلڈ': 825,\n",
              " 'فینئی': 826,\n",
              " 'ق': 827,\n",
              " 'قائم': 828,\n",
              " 'قابل': 829,\n",
              " 'قابلِ': 830,\n",
              " 'قازان': 831,\n",
              " 'قاضی': 832,\n",
              " 'قاپی': 833,\n",
              " 'قبائلی': 834,\n",
              " 'قبرص': 835,\n",
              " 'قبل': 836,\n",
              " 'قبیلے': 837,\n",
              " 'قدیم': 838,\n",
              " 'قدیمی': 839,\n",
              " 'قذیفہ': 840,\n",
              " 'قرآن': 841,\n",
              " 'قربِ': 842,\n",
              " 'قرنینی': 843,\n",
              " 'قرہ': 844,\n",
              " 'قریب': 845,\n",
              " 'قریش': 846,\n",
              " 'قسم': 847,\n",
              " 'قسنطینہ': 848,\n",
              " 'قصبہ': 849,\n",
              " 'قطاروں': 850,\n",
              " 'قطر': 851,\n",
              " 'قلعہ': 852,\n",
              " 'قم': 853,\n",
              " 'قوت': 854,\n",
              " 'قوش': 855,\n",
              " 'قوم': 856,\n",
              " 'قومی': 857,\n",
              " 'قیام': 858,\n",
              " 'قیامت': 859,\n",
              " 'قیدار': 860,\n",
              " 'قیدی': 861,\n",
              " 'لا': 862,\n",
              " 'لات': 863,\n",
              " 'لانما': 864,\n",
              " 'لانے': 865,\n",
              " 'لاپینی': 866,\n",
              " 'لاک': 867,\n",
              " 'لاکھ': 868,\n",
              " 'لاگو': 869,\n",
              " 'لاہور': 870,\n",
              " 'لباس': 871,\n",
              " 'لحمیات': 872,\n",
              " 'لرستان': 873,\n",
              " 'لسبیلہ': 874,\n",
              " 'لفظ': 875,\n",
              " 'لقب': 876,\n",
              " 'لمبائی': 877,\n",
              " 'لون': 878,\n",
              " 'لووین': 879,\n",
              " 'لوگ': 880,\n",
              " 'لوگن': 881,\n",
              " 'لوگو': 882,\n",
              " 'لوگوں': 883,\n",
              " 'ليے': 884,\n",
              " 'لَون': 885,\n",
              " 'لَونیہ': 886,\n",
              " 'لڑی': 887,\n",
              " 'لکڑی': 888,\n",
              " 'لکھا': 889,\n",
              " 'لکھوایا': 890,\n",
              " 'لکیری': 891,\n",
              " 'لگائے': 892,\n",
              " 'لگاکر': 893,\n",
              " 'لگتے': 894,\n",
              " 'لیاری': 895,\n",
              " 'لیماسول': 896,\n",
              " 'لینڈ': 897,\n",
              " 'لیوانگ': 898,\n",
              " 'لیٹر': 899,\n",
              " 'لیک': 900,\n",
              " 'لیکسنگٹن': 901,\n",
              " 'لیکن': 902,\n",
              " 'لیے': 903,\n",
              " 'م': 904,\n",
              " 'ماؤ': 905,\n",
              " 'ماؤنٹ': 906,\n",
              " 'مائنی': 907,\n",
              " 'ماتحتی': 908,\n",
              " 'ماخذ': 909,\n",
              " 'ماد': 910,\n",
              " 'مادوی': 911,\n",
              " 'مادہ': 912,\n",
              " 'مارچ': 913,\n",
              " 'مارک': 914,\n",
              " 'ماضی': 915,\n",
              " 'مال': 916,\n",
              " 'مالدونادو': 917,\n",
              " 'مالدووا': 918,\n",
              " 'مالک': 919,\n",
              " 'مان': 920,\n",
              " 'ماننے': 921,\n",
              " 'ماچانگ': 922,\n",
              " 'ماڈل': 923,\n",
              " 'ماہ': 924,\n",
              " 'متحدہ': 925,\n",
              " 'متحرک': 926,\n",
              " 'متناسق': 927,\n",
              " 'متناسقات': 928,\n",
              " 'متی': 929,\n",
              " 'متیقن': 930,\n",
              " 'مجاہد': 931,\n",
              " 'مجسمہ': 932,\n",
              " 'مجسمے': 933,\n",
              " 'مجموعی': 934,\n",
              " 'محسن': 935,\n",
              " 'محفوظ': 936,\n",
              " 'محققین': 937,\n",
              " 'محل': 938,\n",
              " 'محمد': 939,\n",
              " 'محمدؑ': 940,\n",
              " 'محمول': 941,\n",
              " 'محکمہ': 942,\n",
              " 'مختار': 943,\n",
              " 'مختلف': 944,\n",
              " 'مخزوم': 945,\n",
              " 'مخصوص': 946,\n",
              " 'مخطوطاتِ': 947,\n",
              " 'مخطوطہ': 948,\n",
              " 'مداح': 949,\n",
              " 'مدارس': 950,\n",
              " 'مذکور': 951,\n",
              " 'مراد': 952,\n",
              " 'مراکز': 953,\n",
              " 'مراکش': 954,\n",
              " 'مربع': 955,\n",
              " 'مردم': 956,\n",
              " 'مرسی': 957,\n",
              " 'مرض': 958,\n",
              " 'مرو': 959,\n",
              " 'مروجہ': 960,\n",
              " 'مروی': 961,\n",
              " 'مرکز': 962,\n",
              " 'مرکزوں': 963,\n",
              " 'مرکزی': 964,\n",
              " 'مریاہو': 965,\n",
              " 'مریض': 966,\n",
              " 'مریم': 967,\n",
              " 'مزید': 968,\n",
              " 'مسائل': 969,\n",
              " 'مساوی': 970,\n",
              " 'مستفیض': 971,\n",
              " 'مستقل': 972,\n",
              " 'مسلسل': 973,\n",
              " 'مسلمان': 974,\n",
              " 'مسلمانوں': 975,\n",
              " 'مسیح': 976,\n",
              " 'مسیحی': 977,\n",
              " 'مسیحیت': 978,\n",
              " 'مشتمل': 979,\n",
              " 'مشرق': 980,\n",
              " 'مشرقی': 981,\n",
              " 'مشکل': 982,\n",
              " 'مشہد': 983,\n",
              " 'مشہور': 984,\n",
              " 'مشی': 985,\n",
              " 'مصر': 986,\n",
              " 'مصوری': 987,\n",
              " 'مضر': 988,\n",
              " 'مطابق': 989,\n",
              " 'مطلوبہ': 990,\n",
              " 'مظاہرہ': 991,\n",
              " 'مظفر': 992,\n",
              " 'معاشرے': 993,\n",
              " 'معاشی': 994,\n",
              " 'معاونت': 995,\n",
              " 'معد': 996,\n",
              " 'معدی': 997,\n",
              " 'معروف': 998,\n",
              " 'معمول': 999,\n",
              " ...}"
            ]
          },
          "metadata": {
            "tags": []
          },
          "execution_count": 22
        }
      ]
    },
    {
      "cell_type": "code",
      "metadata": {
        "ExecuteTime": {
          "end_time": "2021-07-26T20:37:21.019910Z",
          "start_time": "2021-07-26T20:37:21.015191Z"
        },
        "colab": {
          "base_uri": "https://localhost:8080/"
        },
        "id": "sEMwnsCdi-iH",
        "outputId": "540e2244-2f74-48fe-f48f-32499261088c"
      },
      "source": [
        "len(unique_word_index)"
      ],
      "execution_count": 23,
      "outputs": [
        {
          "output_type": "execute_result",
          "data": {
            "text/plain": [
              "1474"
            ]
          },
          "metadata": {
            "tags": []
          },
          "execution_count": 23
        }
      ]
    },
    {
      "cell_type": "code",
      "metadata": {
        "ExecuteTime": {
          "end_time": "2021-07-26T20:37:24.530753Z",
          "start_time": "2021-07-26T20:37:24.525879Z"
        },
        "colab": {
          "base_uri": "https://localhost:8080/"
        },
        "id": "6kkOUHf3i-iH",
        "outputId": "5710499d-ccc6-4b06-dbaa-ae547585a42f"
      },
      "source": [
        "unique_words[:20]"
      ],
      "execution_count": 24,
      "outputs": [
        {
          "output_type": "execute_result",
          "data": {
            "text/plain": [
              "array([',', ',,', ',,,', ',,,,', '-.', '.', '،', 'ء', 'آئیوس', 'آئیووا',\n",
              "       'آئیں', 'آئے', 'آباد', 'آبادی', 'آبشار', 'آج', 'آجاتا', 'آخری',\n",
              "       'آرتوین', 'آزاد'], dtype='<U24')"
            ]
          },
          "metadata": {
            "tags": []
          },
          "execution_count": 24
        }
      ]
    },
    {
      "cell_type": "markdown",
      "metadata": {
        "id": "ctWTL8b3i-iH"
      },
      "source": [
        "## Separation of Target and Variables "
      ]
    },
    {
      "cell_type": "code",
      "metadata": {
        "ExecuteTime": {
          "end_time": "2021-07-26T20:37:27.523033Z",
          "start_time": "2021-07-26T20:37:27.508908Z"
        },
        "id": "wHslPxxli-iI",
        "outputId": "fd77a0a5-a2b4-4f47-c555-8240e50a5e98"
      },
      "source": [
        "WORD_LENGTH = 3\n",
        "prev_words = []\n",
        "next_words = []\n",
        "for i in range(len(urdu_words) - WORD_LENGTH):\n",
        "    prev_words.append(urdu_words[i:i + WORD_LENGTH])\n",
        "    next_words.append(urdu_words[i + WORD_LENGTH])\n",
        "print(prev_words[:5])\n",
        "print(next_words[:5])"
      ],
      "execution_count": null,
      "outputs": [
        {
          "output_type": "stream",
          "text": [
            "[['زیورخ', 'کیلیفورنیا', 'ریاستہائے'], ['کیلیفورنیا', 'ریاستہائے', 'متحدہ'], ['ریاستہائے', 'متحدہ', 'امریکا'], ['متحدہ', 'امریکا', 'کا'], ['امریکا', 'کا', 'ایک']]\n",
            "['متحدہ', 'امریکا', 'کا', 'ایک', 'انانکارپوریٹڈ']\n"
          ],
          "name": "stdout"
        }
      ]
    },
    {
      "cell_type": "code",
      "metadata": {
        "ExecuteTime": {
          "end_time": "2021-07-26T20:37:28.658744Z",
          "start_time": "2021-07-26T20:37:28.629655Z"
        },
        "id": "GNt5lwJvi-iI"
      },
      "source": [
        "X = np.zeros((len(prev_words), WORD_LENGTH, len(unique_words)), dtype=bool)\n",
        "y = np.zeros((len(next_words), len(unique_words)), dtype=bool)\n",
        "for i, each_words in enumerate(prev_words):\n",
        "    for j, each_word in enumerate(each_words):\n",
        "        X[i, j, unique_word_index[each_word]] = 1\n",
        "    y[i, unique_word_index[next_words[i]]] = 1"
      ],
      "execution_count": null,
      "outputs": []
    },
    {
      "cell_type": "code",
      "metadata": {
        "ExecuteTime": {
          "end_time": "2021-07-26T20:37:30.240171Z",
          "start_time": "2021-07-26T20:37:30.234032Z"
        },
        "id": "cWsIUvHNi-iI",
        "outputId": "c982cea7-7883-483d-e354-24686b1def23"
      },
      "source": [
        "len(X), len(y), X.shape, y.shape"
      ],
      "execution_count": null,
      "outputs": [
        {
          "output_type": "execute_result",
          "data": {
            "text/plain": [
              "(4372, 4372, (4372, 3, 1465), (4372, 1465))"
            ]
          },
          "metadata": {
            "tags": []
          },
          "execution_count": 511
        }
      ]
    },
    {
      "cell_type": "code",
      "metadata": {
        "id": "psXdkW0Ni-iI"
      },
      "source": [
        ""
      ],
      "execution_count": null,
      "outputs": []
    },
    {
      "cell_type": "code",
      "metadata": {
        "id": "RQ_uIZYQi-iI"
      },
      "source": [
        ""
      ],
      "execution_count": null,
      "outputs": []
    },
    {
      "cell_type": "code",
      "metadata": {
        "ExecuteTime": {
          "end_time": "2021-07-26T20:26:48.170657Z",
          "start_time": "2021-07-26T20:26:48.168543Z"
        },
        "id": "bClBuVy7i-iI"
      },
      "source": [
        "# FSM"
      ],
      "execution_count": null,
      "outputs": []
    },
    {
      "cell_type": "code",
      "metadata": {
        "ExecuteTime": {
          "end_time": "2021-07-26T20:27:36.158734Z",
          "start_time": "2021-07-26T20:26:48.361978Z"
        },
        "id": "ixpYRUCfi-iJ",
        "outputId": "5e288191-9ef2-4930-e591-c8d8bfacaf62"
      },
      "source": [
        "model = Sequential()\n",
        "model.add(LSTM(32, input_shape=(WORD_LENGTH, len(unique_words))))\n",
        "model.add(Dense(len(unique_words)))\n",
        "model.add(Activation(\"softmax\"))\n",
        "\n",
        "optimizer = RMSprop(learning_rate=0.001)\n",
        "model.compile(optimizer=optimizer, loss=\"categorical_crossentropy\", metrics=[\"accuracy\"])\n",
        "history=model.fit(X,y, epochs=100, batch_size=64, validation_split=0.05).history"
      ],
      "execution_count": null,
      "outputs": [
        {
          "output_type": "stream",
          "text": [
            "Epoch 1/100\n",
            "65/65 [==============================] - 1s 12ms/step - loss: 7.1987 - accuracy: 0.0488 - val_loss: 7.0985 - val_accuracy: 0.0457\n",
            "Epoch 2/100\n",
            "65/65 [==============================] - 0s 6ms/step - loss: 6.4841 - accuracy: 0.0510 - val_loss: 6.8224 - val_accuracy: 0.0457\n",
            "Epoch 3/100\n",
            "65/65 [==============================] - 0s 6ms/step - loss: 6.0779 - accuracy: 0.0478 - val_loss: 7.0372 - val_accuracy: 0.0457\n",
            "Epoch 4/100\n",
            "65/65 [==============================] - 0s 6ms/step - loss: 6.0309 - accuracy: 0.0510 - val_loss: 7.1717 - val_accuracy: 0.0457\n",
            "Epoch 5/100\n",
            "65/65 [==============================] - 0s 6ms/step - loss: 5.9964 - accuracy: 0.0507 - val_loss: 7.3630 - val_accuracy: 0.0457\n",
            "Epoch 6/100\n",
            "65/65 [==============================] - 0s 6ms/step - loss: 5.9667 - accuracy: 0.0510 - val_loss: 7.4189 - val_accuracy: 0.0457\n",
            "Epoch 7/100\n",
            "65/65 [==============================] - 0s 6ms/step - loss: 5.9403 - accuracy: 0.0510 - val_loss: 7.5371 - val_accuracy: 0.0457\n",
            "Epoch 8/100\n",
            "65/65 [==============================] - 0s 6ms/step - loss: 5.9145 - accuracy: 0.0510 - val_loss: 7.5901 - val_accuracy: 0.0457\n",
            "Epoch 9/100\n",
            "65/65 [==============================] - 0s 6ms/step - loss: 5.8929 - accuracy: 0.0510 - val_loss: 7.6979 - val_accuracy: 0.0457\n",
            "Epoch 10/100\n",
            "65/65 [==============================] - 0s 6ms/step - loss: 5.8725 - accuracy: 0.0510 - val_loss: 7.7745 - val_accuracy: 0.0457\n",
            "Epoch 11/100\n",
            "65/65 [==============================] - 0s 6ms/step - loss: 5.8531 - accuracy: 0.0510 - val_loss: 7.8279 - val_accuracy: 0.0457\n",
            "Epoch 12/100\n",
            "65/65 [==============================] - 0s 6ms/step - loss: 5.8349 - accuracy: 0.0510 - val_loss: 7.8975 - val_accuracy: 0.0457\n",
            "Epoch 13/100\n",
            "65/65 [==============================] - 0s 6ms/step - loss: 5.8169 - accuracy: 0.0510 - val_loss: 8.0585 - val_accuracy: 0.0457\n",
            "Epoch 14/100\n",
            "65/65 [==============================] - 0s 7ms/step - loss: 5.8011 - accuracy: 0.0510 - val_loss: 8.0246 - val_accuracy: 0.0457\n",
            "Epoch 15/100\n",
            "65/65 [==============================] - 0s 7ms/step - loss: 5.7835 - accuracy: 0.0512 - val_loss: 8.1023 - val_accuracy: 0.0457\n",
            "Epoch 16/100\n",
            "65/65 [==============================] - 0s 6ms/step - loss: 5.7658 - accuracy: 0.0517 - val_loss: 7.9019 - val_accuracy: 0.0457\n",
            "Epoch 17/100\n",
            "65/65 [==============================] - 0s 7ms/step - loss: 5.7506 - accuracy: 0.0522 - val_loss: 7.9650 - val_accuracy: 0.0457\n",
            "Epoch 18/100\n",
            "65/65 [==============================] - 0s 8ms/step - loss: 5.7344 - accuracy: 0.0527 - val_loss: 7.7853 - val_accuracy: 0.0457\n",
            "Epoch 19/100\n",
            "65/65 [==============================] - 1s 8ms/step - loss: 5.7180 - accuracy: 0.0527 - val_loss: 7.7646 - val_accuracy: 0.0457\n",
            "Epoch 20/100\n",
            "65/65 [==============================] - 1s 8ms/step - loss: 5.7028 - accuracy: 0.0527 - val_loss: 7.7738 - val_accuracy: 0.0457\n",
            "Epoch 21/100\n",
            "65/65 [==============================] - 1s 8ms/step - loss: 5.6870 - accuracy: 0.0575 - val_loss: 7.6577 - val_accuracy: 0.0457\n",
            "Epoch 22/100\n",
            "65/65 [==============================] - 1s 8ms/step - loss: 5.6690 - accuracy: 0.0555 - val_loss: 7.5563 - val_accuracy: 0.0502\n",
            "Epoch 23/100\n",
            "65/65 [==============================] - 1s 8ms/step - loss: 5.6520 - accuracy: 0.0642 - val_loss: 7.5242 - val_accuracy: 0.0502\n",
            "Epoch 24/100\n",
            "65/65 [==============================] - 0s 8ms/step - loss: 5.6327 - accuracy: 0.0680 - val_loss: 7.4600 - val_accuracy: 0.0548\n",
            "Epoch 25/100\n",
            "65/65 [==============================] - 0s 8ms/step - loss: 5.6131 - accuracy: 0.0673 - val_loss: 7.4119 - val_accuracy: 0.0548\n",
            "Epoch 26/100\n",
            "65/65 [==============================] - 0s 8ms/step - loss: 5.5911 - accuracy: 0.0702 - val_loss: 7.3853 - val_accuracy: 0.0548\n",
            "Epoch 27/100\n",
            "65/65 [==============================] - 0s 7ms/step - loss: 5.5661 - accuracy: 0.0707 - val_loss: 7.3897 - val_accuracy: 0.0548\n",
            "Epoch 28/100\n",
            "65/65 [==============================] - 0s 7ms/step - loss: 5.5396 - accuracy: 0.0719 - val_loss: 7.3613 - val_accuracy: 0.0594\n",
            "Epoch 29/100\n",
            "65/65 [==============================] - 0s 7ms/step - loss: 5.5094 - accuracy: 0.0873 - val_loss: 7.4123 - val_accuracy: 0.0548\n",
            "Epoch 30/100\n",
            "65/65 [==============================] - 0s 7ms/step - loss: 5.4764 - accuracy: 0.0928 - val_loss: 7.4477 - val_accuracy: 0.0639\n",
            "Epoch 31/100\n",
            "65/65 [==============================] - 0s 7ms/step - loss: 5.4416 - accuracy: 0.1027 - val_loss: 7.4500 - val_accuracy: 0.0868\n",
            "Epoch 32/100\n",
            "65/65 [==============================] - 0s 7ms/step - loss: 5.4028 - accuracy: 0.1159 - val_loss: 7.4743 - val_accuracy: 0.0959\n",
            "Epoch 33/100\n",
            "65/65 [==============================] - 0s 7ms/step - loss: 5.3622 - accuracy: 0.1260 - val_loss: 7.4929 - val_accuracy: 0.0959\n",
            "Epoch 34/100\n",
            "65/65 [==============================] - 0s 7ms/step - loss: 5.3192 - accuracy: 0.1349 - val_loss: 7.5509 - val_accuracy: 0.0959\n",
            "Epoch 35/100\n",
            "65/65 [==============================] - 0s 7ms/step - loss: 5.2730 - accuracy: 0.1423 - val_loss: 7.5641 - val_accuracy: 0.0913\n",
            "Epoch 36/100\n",
            "65/65 [==============================] - 0s 7ms/step - loss: 5.2263 - accuracy: 0.1469 - val_loss: 7.5751 - val_accuracy: 0.0868\n",
            "Epoch 37/100\n",
            "65/65 [==============================] - 0s 6ms/step - loss: 5.1779 - accuracy: 0.1481 - val_loss: 7.6187 - val_accuracy: 0.0913\n",
            "Epoch 38/100\n",
            "65/65 [==============================] - 0s 6ms/step - loss: 5.1277 - accuracy: 0.1548 - val_loss: 7.6098 - val_accuracy: 0.0868\n",
            "Epoch 39/100\n",
            "65/65 [==============================] - 0s 6ms/step - loss: 5.0778 - accuracy: 0.1577 - val_loss: 7.6616 - val_accuracy: 0.0913\n",
            "Epoch 40/100\n",
            "65/65 [==============================] - 0s 7ms/step - loss: 5.0288 - accuracy: 0.1613 - val_loss: 7.6628 - val_accuracy: 0.0913\n",
            "Epoch 41/100\n",
            "65/65 [==============================] - 0s 6ms/step - loss: 4.9785 - accuracy: 0.1671 - val_loss: 7.7018 - val_accuracy: 0.0913\n",
            "Epoch 42/100\n",
            "65/65 [==============================] - 0s 6ms/step - loss: 4.9283 - accuracy: 0.1750 - val_loss: 7.6955 - val_accuracy: 0.0868\n",
            "Epoch 43/100\n",
            "65/65 [==============================] - 0s 6ms/step - loss: 4.8772 - accuracy: 0.1827 - val_loss: 7.7080 - val_accuracy: 0.0868\n",
            "Epoch 44/100\n",
            "65/65 [==============================] - 0s 6ms/step - loss: 4.8284 - accuracy: 0.1880 - val_loss: 7.7448 - val_accuracy: 0.0913\n",
            "Epoch 45/100\n",
            "65/65 [==============================] - 0s 6ms/step - loss: 4.7798 - accuracy: 0.1907 - val_loss: 7.7802 - val_accuracy: 0.0913\n",
            "Epoch 46/100\n",
            "65/65 [==============================] - 0s 6ms/step - loss: 4.7334 - accuracy: 0.1986 - val_loss: 7.8207 - val_accuracy: 0.0959\n",
            "Epoch 47/100\n",
            "65/65 [==============================] - 0s 6ms/step - loss: 4.6873 - accuracy: 0.2017 - val_loss: 7.8153 - val_accuracy: 0.0959\n",
            "Epoch 48/100\n",
            "65/65 [==============================] - 0s 6ms/step - loss: 4.6421 - accuracy: 0.2080 - val_loss: 7.8252 - val_accuracy: 0.1050\n",
            "Epoch 49/100\n",
            "65/65 [==============================] - 0s 6ms/step - loss: 4.5985 - accuracy: 0.2123 - val_loss: 7.8791 - val_accuracy: 0.0959\n",
            "Epoch 50/100\n",
            "65/65 [==============================] - 0s 6ms/step - loss: 4.5564 - accuracy: 0.2171 - val_loss: 7.9114 - val_accuracy: 0.1050\n",
            "Epoch 51/100\n",
            "65/65 [==============================] - 0s 6ms/step - loss: 4.5128 - accuracy: 0.2214 - val_loss: 7.9621 - val_accuracy: 0.1050\n",
            "Epoch 52/100\n",
            "65/65 [==============================] - 0s 7ms/step - loss: 4.4709 - accuracy: 0.2251 - val_loss: 7.9616 - val_accuracy: 0.1050\n",
            "Epoch 53/100\n",
            "65/65 [==============================] - 0s 7ms/step - loss: 4.4306 - accuracy: 0.2253 - val_loss: 8.0072 - val_accuracy: 0.0913\n",
            "Epoch 54/100\n",
            "65/65 [==============================] - 0s 7ms/step - loss: 4.3898 - accuracy: 0.2349 - val_loss: 8.0183 - val_accuracy: 0.1005\n",
            "Epoch 55/100\n",
            "65/65 [==============================] - 1s 10ms/step - loss: 4.3504 - accuracy: 0.2380 - val_loss: 8.0261 - val_accuracy: 0.0959\n",
            "Epoch 56/100\n",
            "65/65 [==============================] - 0s 7ms/step - loss: 4.3106 - accuracy: 0.2424 - val_loss: 8.0592 - val_accuracy: 0.0959\n",
            "Epoch 57/100\n",
            "65/65 [==============================] - 0s 6ms/step - loss: 4.2724 - accuracy: 0.2503 - val_loss: 8.0762 - val_accuracy: 0.0913\n",
            "Epoch 58/100\n",
            "65/65 [==============================] - 0s 6ms/step - loss: 4.2358 - accuracy: 0.2544 - val_loss: 8.0749 - val_accuracy: 0.0959\n"
          ],
          "name": "stdout"
        },
        {
          "output_type": "stream",
          "text": [
            "Epoch 59/100\n",
            "65/65 [==============================] - 0s 6ms/step - loss: 4.1998 - accuracy: 0.2580 - val_loss: 8.1038 - val_accuracy: 0.0868\n",
            "Epoch 60/100\n",
            "65/65 [==============================] - 0s 6ms/step - loss: 4.1646 - accuracy: 0.2623 - val_loss: 8.1070 - val_accuracy: 0.0913\n",
            "Epoch 61/100\n",
            "65/65 [==============================] - 0s 6ms/step - loss: 4.1285 - accuracy: 0.2695 - val_loss: 8.1260 - val_accuracy: 0.0913\n",
            "Epoch 62/100\n",
            "65/65 [==============================] - 0s 6ms/step - loss: 4.0932 - accuracy: 0.2736 - val_loss: 8.1434 - val_accuracy: 0.0959\n",
            "Epoch 63/100\n",
            "65/65 [==============================] - 0s 6ms/step - loss: 4.0581 - accuracy: 0.2784 - val_loss: 8.1863 - val_accuracy: 0.0959\n",
            "Epoch 64/100\n",
            "65/65 [==============================] - 0s 6ms/step - loss: 4.0247 - accuracy: 0.2806 - val_loss: 8.2017 - val_accuracy: 0.0959\n",
            "Epoch 65/100\n",
            "65/65 [==============================] - 0s 7ms/step - loss: 3.9922 - accuracy: 0.2883 - val_loss: 8.1852 - val_accuracy: 0.1005\n",
            "Epoch 66/100\n",
            "65/65 [==============================] - 0s 7ms/step - loss: 3.9603 - accuracy: 0.2885 - val_loss: 8.2114 - val_accuracy: 0.0959\n",
            "Epoch 67/100\n",
            "65/65 [==============================] - 0s 7ms/step - loss: 3.9287 - accuracy: 0.2981 - val_loss: 8.2316 - val_accuracy: 0.0959\n",
            "Epoch 68/100\n",
            "65/65 [==============================] - 0s 7ms/step - loss: 3.8980 - accuracy: 0.2989 - val_loss: 8.2588 - val_accuracy: 0.1005\n",
            "Epoch 69/100\n",
            "65/65 [==============================] - 0s 7ms/step - loss: 3.8687 - accuracy: 0.3044 - val_loss: 8.2554 - val_accuracy: 0.0913\n",
            "Epoch 70/100\n",
            "65/65 [==============================] - 0s 6ms/step - loss: 3.8376 - accuracy: 0.3097 - val_loss: 8.2847 - val_accuracy: 0.0959\n",
            "Epoch 71/100\n",
            "65/65 [==============================] - 1s 8ms/step - loss: 3.8081 - accuracy: 0.3128 - val_loss: 8.3125 - val_accuracy: 0.0868\n",
            "Epoch 72/100\n",
            "65/65 [==============================] - 0s 7ms/step - loss: 3.7795 - accuracy: 0.3188 - val_loss: 8.3074 - val_accuracy: 0.0913\n",
            "Epoch 73/100\n",
            "65/65 [==============================] - 0s 7ms/step - loss: 3.7484 - accuracy: 0.3232 - val_loss: 8.3380 - val_accuracy: 0.0822\n",
            "Epoch 74/100\n",
            "65/65 [==============================] - 0s 8ms/step - loss: 3.7206 - accuracy: 0.3306 - val_loss: 8.3145 - val_accuracy: 0.0822\n",
            "Epoch 75/100\n",
            "65/65 [==============================] - 0s 8ms/step - loss: 3.6915 - accuracy: 0.3349 - val_loss: 8.3400 - val_accuracy: 0.0913\n",
            "Epoch 76/100\n",
            "65/65 [==============================] - 1s 8ms/step - loss: 3.6649 - accuracy: 0.3400 - val_loss: 8.3341 - val_accuracy: 0.0913\n",
            "Epoch 77/100\n",
            "65/65 [==============================] - 0s 8ms/step - loss: 3.6377 - accuracy: 0.3448 - val_loss: 8.3792 - val_accuracy: 0.0959\n",
            "Epoch 78/100\n",
            "65/65 [==============================] - 1s 9ms/step - loss: 3.6116 - accuracy: 0.3508 - val_loss: 8.3737 - val_accuracy: 0.0868\n",
            "Epoch 79/100\n",
            "65/65 [==============================] - 0s 7ms/step - loss: 3.5834 - accuracy: 0.3547 - val_loss: 8.3915 - val_accuracy: 0.0868\n",
            "Epoch 80/100\n",
            "65/65 [==============================] - 0s 7ms/step - loss: 3.5579 - accuracy: 0.3587 - val_loss: 8.4222 - val_accuracy: 0.0822\n",
            "Epoch 81/100\n",
            "65/65 [==============================] - 0s 6ms/step - loss: 3.5316 - accuracy: 0.3662 - val_loss: 8.4118 - val_accuracy: 0.0868\n",
            "Epoch 82/100\n",
            "65/65 [==============================] - 0s 7ms/step - loss: 3.5055 - accuracy: 0.3734 - val_loss: 8.4201 - val_accuracy: 0.0913\n",
            "Epoch 83/100\n",
            "65/65 [==============================] - 0s 6ms/step - loss: 3.4813 - accuracy: 0.3763 - val_loss: 8.4363 - val_accuracy: 0.0822\n",
            "Epoch 84/100\n",
            "65/65 [==============================] - 0s 6ms/step - loss: 3.4585 - accuracy: 0.3777 - val_loss: 8.4578 - val_accuracy: 0.0868\n",
            "Epoch 85/100\n",
            "65/65 [==============================] - 0s 6ms/step - loss: 3.4334 - accuracy: 0.3833 - val_loss: 8.4896 - val_accuracy: 0.0913\n",
            "Epoch 86/100\n",
            "65/65 [==============================] - 0s 6ms/step - loss: 3.4114 - accuracy: 0.3847 - val_loss: 8.4607 - val_accuracy: 0.0913\n",
            "Epoch 87/100\n",
            "65/65 [==============================] - 0s 7ms/step - loss: 3.3886 - accuracy: 0.3898 - val_loss: 8.4855 - val_accuracy: 0.0913\n",
            "Epoch 88/100\n",
            "65/65 [==============================] - 0s 7ms/step - loss: 3.3649 - accuracy: 0.3943 - val_loss: 8.5089 - val_accuracy: 0.0913\n",
            "Epoch 89/100\n",
            "65/65 [==============================] - 1s 8ms/step - loss: 3.3438 - accuracy: 0.3975 - val_loss: 8.5271 - val_accuracy: 0.0913\n",
            "Epoch 90/100\n",
            "65/65 [==============================] - 1s 8ms/step - loss: 3.3225 - accuracy: 0.4015 - val_loss: 8.5373 - val_accuracy: 0.0913\n",
            "Epoch 91/100\n",
            "65/65 [==============================] - 1s 8ms/step - loss: 3.3006 - accuracy: 0.4044 - val_loss: 8.5553 - val_accuracy: 0.0913\n",
            "Epoch 92/100\n",
            "65/65 [==============================] - 1s 8ms/step - loss: 3.2798 - accuracy: 0.4085 - val_loss: 8.5897 - val_accuracy: 0.0913\n",
            "Epoch 93/100\n",
            "65/65 [==============================] - 1s 8ms/step - loss: 3.2598 - accuracy: 0.4107 - val_loss: 8.5983 - val_accuracy: 0.0913\n",
            "Epoch 94/100\n",
            "65/65 [==============================] - 1s 8ms/step - loss: 3.2383 - accuracy: 0.4136 - val_loss: 8.5978 - val_accuracy: 0.0959\n",
            "Epoch 95/100\n",
            "65/65 [==============================] - 0s 8ms/step - loss: 3.2197 - accuracy: 0.4215 - val_loss: 8.6260 - val_accuracy: 0.0913\n",
            "Epoch 96/100\n",
            "65/65 [==============================] - 1s 8ms/step - loss: 3.1993 - accuracy: 0.4213 - val_loss: 8.6628 - val_accuracy: 0.0913\n",
            "Epoch 97/100\n",
            "65/65 [==============================] - 0s 7ms/step - loss: 3.1811 - accuracy: 0.4234 - val_loss: 8.6687 - val_accuracy: 0.0959\n",
            "Epoch 98/100\n",
            "65/65 [==============================] - 0s 7ms/step - loss: 3.1617 - accuracy: 0.4287 - val_loss: 8.6972 - val_accuracy: 0.0959\n",
            "Epoch 99/100\n",
            "65/65 [==============================] - 0s 7ms/step - loss: 3.1440 - accuracy: 0.4309 - val_loss: 8.7156 - val_accuracy: 0.0959\n",
            "Epoch 100/100\n",
            "65/65 [==============================] - 0s 7ms/step - loss: 3.1247 - accuracy: 0.4326 - val_loss: 8.7308 - val_accuracy: 0.0959\n"
          ],
          "name": "stdout"
        }
      ]
    },
    {
      "cell_type": "code",
      "metadata": {
        "ExecuteTime": {
          "end_time": "2021-07-26T20:27:36.465676Z",
          "start_time": "2021-07-26T20:27:36.160961Z"
        },
        "id": "1uF9DKyli-iJ",
        "outputId": "8970def4-46ff-4505-c39e-400ce7abc892"
      },
      "source": [
        "train_loss = results['loss']\n",
        "train_acc = results['accuracy']\n",
        "val_loss =results['val_loss']\n",
        "val_acc = results['val_accuracy']\n",
        "\n",
        "fig, (ax1, ax2) = plt.subplots(1, 2, figsize=(10, 5))\n",
        "\n",
        "ax1.plot(train_loss, label='train_loss')\n",
        "ax1.plot(val_loss, label='validation_loss')\n",
        "ax1.set_title(\"Loss\")\n",
        "ax1.legend()\n",
        "\n",
        "ax2.plot(train_acc, label='train_accuracy')\n",
        "ax2.plot(val_acc, label='val_accuracy')\n",
        "ax2.set_title(\"Accuracy\")\n",
        "ax2.legend()"
      ],
      "execution_count": null,
      "outputs": [
        {
          "output_type": "execute_result",
          "data": {
            "text/plain": [
              "<matplotlib.legend.Legend at 0x7fced6ae7370>"
            ]
          },
          "metadata": {
            "tags": []
          },
          "execution_count": 478
        },
        {
          "output_type": "display_data",
          "data": {
            "image/png": "[encoded data removed]",
            "text/plain": [
              "<Figure size 720x360 with 2 Axes>"
            ]
          },
          "metadata": {
            "tags": [],
            "needs_background": "light"
          }
        }
      ]
    },
    {
      "cell_type": "code",
      "metadata": {
        "id": "L32dUxqBi-iJ"
      },
      "source": [
        ""
      ],
      "execution_count": null,
      "outputs": []
    },
    {
      "cell_type": "code",
      "metadata": {
        "id": "Xb_smkbFi-iJ"
      },
      "source": [
        ""
      ],
      "execution_count": null,
      "outputs": []
    },
    {
      "cell_type": "markdown",
      "metadata": {
        "ExecuteTime": {
          "end_time": "2021-07-26T17:35:18.048265Z",
          "start_time": "2021-07-26T17:35:18.045366Z"
        },
        "id": "d6jy90MFi-iJ"
      },
      "source": [
        "# First Model"
      ]
    },
    {
      "cell_type": "code",
      "metadata": {
        "ExecuteTime": {
          "end_time": "2021-07-26T20:37:40.900394Z",
          "start_time": "2021-07-26T20:37:40.895312Z"
        },
        "id": "e_-USp4Mi-iK"
      },
      "source": [
        "import pickle\n",
        "from keras.models import load_model\n",
        "from tensorflow.keras.callbacks import EarlyStopping\n",
        "from keras.models import Sequential, load_model\n",
        "from keras.layers import LSTM\n",
        "from keras.layers.core import Dense, Activation, Dropout\n",
        "from keras.optimizers import RMSprop"
      ],
      "execution_count": null,
      "outputs": []
    },
    {
      "cell_type": "code",
      "metadata": {
        "ExecuteTime": {
          "end_time": "2021-07-26T20:37:41.773972Z",
          "start_time": "2021-07-26T20:37:41.208536Z"
        },
        "id": "JGuJ5i5_i-iK",
        "outputId": "134da56e-f224-4dd5-b0bf-9e397ead5898"
      },
      "source": [
        "model = Sequential()\n",
        "model.add(LSTM(128, input_shape=(X.shape[1], X.shape[2]), return_sequences=True))\n",
        "model.add(Dropout(0.2))\n",
        "model.add(LSTM(128))\n",
        "model.add(Dropout(0.3))\n",
        "model.add(Dense(y.shape[1], activation='relu'))\n",
        "model.add(Activation(\"softmax\"))\n",
        "print(model.summary())\n",
        "\n",
        "optimizer = RMSprop(learning_rate=0.001)\n",
        "\n",
        "model.compile(optimizer=optimizer, loss=\"categorical_crossentropy\", metrics=[\"accuracy\"])\n",
        "\n",
        "early_stop = EarlyStopping(monitor='val_loss', min_delta=1e-2,\n",
        "                           verbose=1,\n",
        "                           mode='min', patience=5)\n"
      ],
      "execution_count": null,
      "outputs": [
        {
          "output_type": "stream",
          "text": [
            "Model: \"sequential_13\"\n",
            "_________________________________________________________________\n",
            "Layer (type)                 Output Shape              Param #   \n",
            "=================================================================\n",
            "lstm_22 (LSTM)               (None, 3, 128)            816128    \n",
            "_________________________________________________________________\n",
            "dropout_18 (Dropout)         (None, 3, 128)            0         \n",
            "_________________________________________________________________\n",
            "lstm_23 (LSTM)               (None, 128)               131584    \n",
            "_________________________________________________________________\n",
            "dropout_19 (Dropout)         (None, 128)               0         \n",
            "_________________________________________________________________\n",
            "dense_13 (Dense)             (None, 1465)              188985    \n",
            "_________________________________________________________________\n",
            "activation_13 (Activation)   (None, 1465)              0         \n",
            "=================================================================\n",
            "Total params: 1,136,697\n",
            "Trainable params: 1,136,697\n",
            "Non-trainable params: 0\n",
            "_________________________________________________________________\n",
            "None\n"
          ],
          "name": "stdout"
        }
      ]
    },
    {
      "cell_type": "code",
      "metadata": {
        "ExecuteTime": {
          "end_time": "2021-07-26T20:39:38.134987Z",
          "start_time": "2021-07-26T20:37:41.776382Z"
        },
        "id": "XdHzRS_si-iK",
        "outputId": "4f2953ec-633c-4ec4-8a4c-f60ec72acb42"
      },
      "source": [
        "results=model.fit(X,y, epochs=100, batch_size=64, validation_split=0.05).history"
      ],
      "execution_count": null,
      "outputs": [
        {
          "output_type": "stream",
          "text": [
            "Epoch 1/100\n",
            "65/65 [==============================] - 2s 24ms/step - loss: 6.7608 - accuracy: 0.0484 - val_loss: 6.6464 - val_accuracy: 0.0457\n",
            "Epoch 2/100\n",
            "65/65 [==============================] - 1s 16ms/step - loss: 6.4770 - accuracy: 0.0429 - val_loss: 6.6434 - val_accuracy: 0.0457\n",
            "Epoch 3/100\n",
            "65/65 [==============================] - 1s 15ms/step - loss: 6.4309 - accuracy: 0.0498 - val_loss: 6.6561 - val_accuracy: 0.0457\n",
            "Epoch 4/100\n",
            "65/65 [==============================] - 1s 15ms/step - loss: 6.4024 - accuracy: 0.0510 - val_loss: 6.6870 - val_accuracy: 0.0457\n",
            "Epoch 5/100\n",
            "65/65 [==============================] - 1s 15ms/step - loss: 6.3772 - accuracy: 0.0474 - val_loss: 6.6953 - val_accuracy: 0.0457\n",
            "Epoch 6/100\n",
            "65/65 [==============================] - 1s 15ms/step - loss: 6.3602 - accuracy: 0.0542 - val_loss: 6.7031 - val_accuracy: 0.0365\n",
            "Epoch 7/100\n",
            "65/65 [==============================] - 1s 16ms/step - loss: 6.3404 - accuracy: 0.0515 - val_loss: 6.7187 - val_accuracy: 0.0411\n",
            "Epoch 8/100\n",
            "65/65 [==============================] - 1s 17ms/step - loss: 6.3276 - accuracy: 0.0535 - val_loss: 6.7164 - val_accuracy: 0.0457\n",
            "Epoch 9/100\n",
            "65/65 [==============================] - 1s 18ms/step - loss: 6.3057 - accuracy: 0.0595 - val_loss: 6.7526 - val_accuracy: 0.0502\n",
            "Epoch 10/100\n",
            "65/65 [==============================] - 1s 18ms/step - loss: 6.2915 - accuracy: 0.0701 - val_loss: 6.6946 - val_accuracy: 0.0548\n",
            "Epoch 11/100\n",
            "65/65 [==============================] - 1s 17ms/step - loss: 6.2739 - accuracy: 0.0720 - val_loss: 6.7435 - val_accuracy: 0.0594\n",
            "Epoch 12/100\n",
            "65/65 [==============================] - 1s 17ms/step - loss: 6.2487 - accuracy: 0.0836 - val_loss: 6.7462 - val_accuracy: 0.0594\n",
            "Epoch 13/100\n",
            "65/65 [==============================] - 1s 17ms/step - loss: 6.2204 - accuracy: 0.0966 - val_loss: 6.7952 - val_accuracy: 0.0731\n",
            "Epoch 14/100\n",
            "65/65 [==============================] - 1s 16ms/step - loss: 6.1804 - accuracy: 0.1124 - val_loss: 6.7459 - val_accuracy: 0.0594\n",
            "Epoch 15/100\n",
            "65/65 [==============================] - 1s 17ms/step - loss: 6.1457 - accuracy: 0.1211 - val_loss: 6.7423 - val_accuracy: 0.0548\n",
            "Epoch 16/100\n",
            "65/65 [==============================] - 1s 17ms/step - loss: 6.1069 - accuracy: 0.1317 - val_loss: 6.8521 - val_accuracy: 0.0731\n",
            "Epoch 17/100\n",
            "65/65 [==============================] - 1s 17ms/step - loss: 6.0731 - accuracy: 0.1425 - val_loss: 6.6924 - val_accuracy: 0.0731\n",
            "Epoch 18/100\n",
            "65/65 [==============================] - 1s 17ms/step - loss: 6.0391 - accuracy: 0.1512 - val_loss: 6.7788 - val_accuracy: 0.0776\n",
            "Epoch 19/100\n",
            "65/65 [==============================] - 1s 20ms/step - loss: 6.0046 - accuracy: 0.1587 - val_loss: 6.8797 - val_accuracy: 0.0731\n",
            "Epoch 20/100\n",
            "65/65 [==============================] - 1s 17ms/step - loss: 5.9689 - accuracy: 0.1678 - val_loss: 6.7417 - val_accuracy: 0.0822\n",
            "Epoch 21/100\n",
            "65/65 [==============================] - 1s 16ms/step - loss: 5.9443 - accuracy: 0.1700 - val_loss: 6.7587 - val_accuracy: 0.0822\n",
            "Epoch 22/100\n",
            "65/65 [==============================] - 1s 17ms/step - loss: 5.9130 - accuracy: 0.1828 - val_loss: 6.8367 - val_accuracy: 0.0822\n",
            "Epoch 23/100\n",
            "65/65 [==============================] - 1s 17ms/step - loss: 5.8882 - accuracy: 0.1931 - val_loss: 6.8316 - val_accuracy: 0.0776\n",
            "Epoch 24/100\n",
            "65/65 [==============================] - 1s 17ms/step - loss: 5.8616 - accuracy: 0.1989 - val_loss: 6.8921 - val_accuracy: 0.0868\n",
            "Epoch 25/100\n",
            "65/65 [==============================] - 1s 18ms/step - loss: 5.8360 - accuracy: 0.2008 - val_loss: 6.9276 - val_accuracy: 0.0731\n",
            "Epoch 26/100\n",
            "65/65 [==============================] - 1s 17ms/step - loss: 5.8123 - accuracy: 0.2088 - val_loss: 6.7848 - val_accuracy: 0.0959\n",
            "Epoch 27/100\n",
            "65/65 [==============================] - 1s 17ms/step - loss: 5.7992 - accuracy: 0.2117 - val_loss: 6.9080 - val_accuracy: 0.0776\n",
            "Epoch 28/100\n",
            "65/65 [==============================] - 1s 17ms/step - loss: 5.7784 - accuracy: 0.2141 - val_loss: 6.9632 - val_accuracy: 0.0868\n",
            "Epoch 29/100\n",
            "65/65 [==============================] - 1s 17ms/step - loss: 5.7557 - accuracy: 0.2206 - val_loss: 6.7980 - val_accuracy: 0.0868\n",
            "Epoch 30/100\n",
            "65/65 [==============================] - 1s 18ms/step - loss: 5.7377 - accuracy: 0.2247 - val_loss: 6.8283 - val_accuracy: 0.0822\n",
            "Epoch 31/100\n",
            "65/65 [==============================] - 1s 18ms/step - loss: 5.7256 - accuracy: 0.2235 - val_loss: 6.8709 - val_accuracy: 0.0913\n",
            "Epoch 32/100\n",
            "65/65 [==============================] - 1s 18ms/step - loss: 5.7050 - accuracy: 0.2266 - val_loss: 6.8287 - val_accuracy: 0.0959\n",
            "Epoch 33/100\n",
            "65/65 [==============================] - 1s 17ms/step - loss: 5.6892 - accuracy: 0.2283 - val_loss: 6.8966 - val_accuracy: 0.0776\n",
            "Epoch 34/100\n",
            "65/65 [==============================] - 1s 17ms/step - loss: 5.6795 - accuracy: 0.2300 - val_loss: 6.8379 - val_accuracy: 0.0868\n",
            "Epoch 35/100\n",
            "65/65 [==============================] - 1s 17ms/step - loss: 5.6566 - accuracy: 0.2333 - val_loss: 6.8954 - val_accuracy: 0.0822\n",
            "Epoch 36/100\n",
            "65/65 [==============================] - 1s 17ms/step - loss: 5.6450 - accuracy: 0.2348 - val_loss: 6.9591 - val_accuracy: 0.0868\n",
            "Epoch 37/100\n",
            "65/65 [==============================] - 1s 18ms/step - loss: 5.6279 - accuracy: 0.2393 - val_loss: 6.8208 - val_accuracy: 0.0913\n",
            "Epoch 38/100\n",
            "65/65 [==============================] - 1s 17ms/step - loss: 5.6224 - accuracy: 0.2372 - val_loss: 7.0245 - val_accuracy: 0.0913\n",
            "Epoch 39/100\n",
            "65/65 [==============================] - 1s 17ms/step - loss: 5.6042 - accuracy: 0.2377 - val_loss: 7.1253 - val_accuracy: 0.0822\n",
            "Epoch 40/100\n",
            "65/65 [==============================] - 1s 17ms/step - loss: 5.5825 - accuracy: 0.2391 - val_loss: 7.1255 - val_accuracy: 0.0822\n",
            "Epoch 41/100\n",
            "65/65 [==============================] - 1s 17ms/step - loss: 5.5657 - accuracy: 0.2461 - val_loss: 7.1898 - val_accuracy: 0.0868\n",
            "Epoch 42/100\n",
            "65/65 [==============================] - 1s 17ms/step - loss: 5.5576 - accuracy: 0.2463 - val_loss: 7.0431 - val_accuracy: 0.0776\n",
            "Epoch 43/100\n",
            "65/65 [==============================] - 1s 17ms/step - loss: 5.5447 - accuracy: 0.2497 - val_loss: 7.0332 - val_accuracy: 0.0868\n",
            "Epoch 44/100\n",
            "65/65 [==============================] - 1s 17ms/step - loss: 5.5289 - accuracy: 0.2492 - val_loss: 7.2020 - val_accuracy: 0.0776\n",
            "Epoch 45/100\n",
            "65/65 [==============================] - 1s 17ms/step - loss: 5.5185 - accuracy: 0.2526 - val_loss: 7.0837 - val_accuracy: 0.0776\n",
            "Epoch 46/100\n",
            "65/65 [==============================] - 1s 17ms/step - loss: 5.5110 - accuracy: 0.2519 - val_loss: 7.2565 - val_accuracy: 0.0868\n",
            "Epoch 47/100\n",
            "65/65 [==============================] - 1s 17ms/step - loss: 5.4896 - accuracy: 0.2550 - val_loss: 7.3577 - val_accuracy: 0.0731\n",
            "Epoch 48/100\n",
            "65/65 [==============================] - 1s 17ms/step - loss: 5.4844 - accuracy: 0.2569 - val_loss: 7.1357 - val_accuracy: 0.0685\n",
            "Epoch 49/100\n",
            "65/65 [==============================] - 1s 17ms/step - loss: 5.4794 - accuracy: 0.2586 - val_loss: 7.1929 - val_accuracy: 0.0776\n",
            "Epoch 50/100\n",
            "65/65 [==============================] - 1s 18ms/step - loss: 5.4709 - accuracy: 0.2569 - val_loss: 7.3519 - val_accuracy: 0.0731\n",
            "Epoch 51/100\n",
            "65/65 [==============================] - 1s 18ms/step - loss: 5.4530 - accuracy: 0.2588 - val_loss: 7.3346 - val_accuracy: 0.0776\n",
            "Epoch 52/100\n",
            "65/65 [==============================] - 1s 18ms/step - loss: 5.4446 - accuracy: 0.2629 - val_loss: 7.3026 - val_accuracy: 0.0731\n",
            "Epoch 53/100\n",
            "65/65 [==============================] - 1s 18ms/step - loss: 5.4356 - accuracy: 0.2629 - val_loss: 7.2505 - val_accuracy: 0.0868\n",
            "Epoch 54/100\n",
            "65/65 [==============================] - 1s 17ms/step - loss: 5.4280 - accuracy: 0.2639 - val_loss: 7.3565 - val_accuracy: 0.0822\n",
            "Epoch 55/100\n",
            "65/65 [==============================] - 1s 17ms/step - loss: 5.4272 - accuracy: 0.2639 - val_loss: 7.3582 - val_accuracy: 0.0822\n",
            "Epoch 56/100\n",
            "65/65 [==============================] - 1s 17ms/step - loss: 5.4140 - accuracy: 0.2656 - val_loss: 7.3921 - val_accuracy: 0.0731\n",
            "Epoch 57/100\n",
            "65/65 [==============================] - 1s 18ms/step - loss: 5.4031 - accuracy: 0.2661 - val_loss: 7.3830 - val_accuracy: 0.0776\n",
            "Epoch 58/100\n"
          ],
          "name": "stdout"
        },
        {
          "output_type": "stream",
          "text": [
            "65/65 [==============================] - 1s 17ms/step - loss: 5.3928 - accuracy: 0.2690 - val_loss: 7.2188 - val_accuracy: 0.0822\n",
            "Epoch 59/100\n",
            "65/65 [==============================] - 1s 17ms/step - loss: 5.3888 - accuracy: 0.2702 - val_loss: 7.5387 - val_accuracy: 0.0731\n",
            "Epoch 60/100\n",
            "65/65 [==============================] - 1s 17ms/step - loss: 5.3872 - accuracy: 0.2675 - val_loss: 7.4707 - val_accuracy: 0.0776\n",
            "Epoch 61/100\n",
            "65/65 [==============================] - 1s 17ms/step - loss: 5.3705 - accuracy: 0.2702 - val_loss: 7.3497 - val_accuracy: 0.0822\n",
            "Epoch 62/100\n",
            "65/65 [==============================] - 1s 17ms/step - loss: 5.3637 - accuracy: 0.2702 - val_loss: 7.3634 - val_accuracy: 0.0868\n",
            "Epoch 63/100\n",
            "65/65 [==============================] - 1s 18ms/step - loss: 5.3580 - accuracy: 0.2723 - val_loss: 7.3456 - val_accuracy: 0.0868\n",
            "Epoch 64/100\n",
            "65/65 [==============================] - 1s 17ms/step - loss: 5.3538 - accuracy: 0.2721 - val_loss: 7.5928 - val_accuracy: 0.0776\n",
            "Epoch 65/100\n",
            "65/65 [==============================] - 1s 17ms/step - loss: 5.3503 - accuracy: 0.2750 - val_loss: 7.7899 - val_accuracy: 0.0685\n",
            "Epoch 66/100\n",
            "65/65 [==============================] - 1s 19ms/step - loss: 5.3392 - accuracy: 0.2743 - val_loss: 7.4965 - val_accuracy: 0.0776\n",
            "Epoch 67/100\n",
            "65/65 [==============================] - 1s 18ms/step - loss: 5.3303 - accuracy: 0.2743 - val_loss: 7.2166 - val_accuracy: 0.0822\n",
            "Epoch 68/100\n",
            "65/65 [==============================] - 1s 17ms/step - loss: 5.3228 - accuracy: 0.2745 - val_loss: 7.6931 - val_accuracy: 0.0868\n",
            "Epoch 69/100\n",
            "65/65 [==============================] - 1s 17ms/step - loss: 5.3177 - accuracy: 0.2767 - val_loss: 7.4150 - val_accuracy: 0.0913\n",
            "Epoch 70/100\n",
            "65/65 [==============================] - 1s 17ms/step - loss: 5.3159 - accuracy: 0.2769 - val_loss: 7.4461 - val_accuracy: 0.0868\n",
            "Epoch 71/100\n",
            "65/65 [==============================] - 1s 17ms/step - loss: 5.3052 - accuracy: 0.2771 - val_loss: 7.3795 - val_accuracy: 0.0913\n",
            "Epoch 72/100\n",
            "65/65 [==============================] - 1s 18ms/step - loss: 5.3070 - accuracy: 0.2767 - val_loss: 7.5917 - val_accuracy: 0.0913\n",
            "Epoch 73/100\n",
            "65/65 [==============================] - 1s 18ms/step - loss: 5.3026 - accuracy: 0.2781 - val_loss: 7.4533 - val_accuracy: 0.1142\n",
            "Epoch 74/100\n",
            "65/65 [==============================] - 1s 16ms/step - loss: 5.2962 - accuracy: 0.2786 - val_loss: 7.5240 - val_accuracy: 0.0913\n",
            "Epoch 75/100\n",
            "65/65 [==============================] - 1s 16ms/step - loss: 5.2960 - accuracy: 0.2786 - val_loss: 7.2323 - val_accuracy: 0.0959\n",
            "Epoch 76/100\n",
            "65/65 [==============================] - 1s 16ms/step - loss: 5.2903 - accuracy: 0.2798 - val_loss: 7.5239 - val_accuracy: 0.0822\n",
            "Epoch 77/100\n",
            "65/65 [==============================] - 1s 16ms/step - loss: 5.2909 - accuracy: 0.2786 - val_loss: 7.5799 - val_accuracy: 0.0822\n",
            "Epoch 78/100\n",
            "65/65 [==============================] - 1s 16ms/step - loss: 5.2851 - accuracy: 0.2817 - val_loss: 7.3124 - val_accuracy: 0.0868\n",
            "Epoch 79/100\n",
            "65/65 [==============================] - 1s 16ms/step - loss: 5.2781 - accuracy: 0.2808 - val_loss: 7.2878 - val_accuracy: 0.0913\n",
            "Epoch 80/100\n",
            "65/65 [==============================] - 1s 16ms/step - loss: 5.2772 - accuracy: 0.2812 - val_loss: 7.6614 - val_accuracy: 0.0822\n",
            "Epoch 81/100\n",
            "65/65 [==============================] - 1s 16ms/step - loss: 5.2705 - accuracy: 0.2815 - val_loss: 7.1829 - val_accuracy: 0.0959\n",
            "Epoch 82/100\n",
            "65/65 [==============================] - 1s 16ms/step - loss: 5.2701 - accuracy: 0.2824 - val_loss: 7.3759 - val_accuracy: 0.0822\n",
            "Epoch 83/100\n",
            "65/65 [==============================] - 1s 17ms/step - loss: 5.2684 - accuracy: 0.2822 - val_loss: 7.3385 - val_accuracy: 0.0959\n",
            "Epoch 84/100\n",
            "65/65 [==============================] - 1s 18ms/step - loss: 5.2626 - accuracy: 0.2832 - val_loss: 7.5409 - val_accuracy: 0.0868\n",
            "Epoch 85/100\n",
            "65/65 [==============================] - 1s 18ms/step - loss: 5.2662 - accuracy: 0.2824 - val_loss: 7.5694 - val_accuracy: 0.0868\n",
            "Epoch 86/100\n",
            "65/65 [==============================] - 1s 17ms/step - loss: 5.2603 - accuracy: 0.2834 - val_loss: 7.3055 - val_accuracy: 0.0868\n",
            "Epoch 87/100\n",
            "65/65 [==============================] - 1s 17ms/step - loss: 5.2606 - accuracy: 0.2832 - val_loss: 7.5328 - val_accuracy: 0.0822\n",
            "Epoch 88/100\n",
            "65/65 [==============================] - 1s 17ms/step - loss: 5.2578 - accuracy: 0.2822 - val_loss: 7.3720 - val_accuracy: 0.0868\n",
            "Epoch 89/100\n",
            "65/65 [==============================] - 1s 20ms/step - loss: 5.2556 - accuracy: 0.2839 - val_loss: 7.6016 - val_accuracy: 0.0868\n",
            "Epoch 90/100\n",
            "65/65 [==============================] - 1s 17ms/step - loss: 5.2553 - accuracy: 0.2834 - val_loss: 7.6639 - val_accuracy: 0.0913\n",
            "Epoch 91/100\n",
            "65/65 [==============================] - 1s 18ms/step - loss: 5.2553 - accuracy: 0.2837 - val_loss: 7.3280 - val_accuracy: 0.0868\n",
            "Epoch 92/100\n",
            "65/65 [==============================] - 1s 18ms/step - loss: 5.2606 - accuracy: 0.2832 - val_loss: 7.4211 - val_accuracy: 0.0913\n",
            "Epoch 93/100\n",
            "65/65 [==============================] - 1s 18ms/step - loss: 5.2591 - accuracy: 0.2824 - val_loss: 7.5331 - val_accuracy: 0.0868\n",
            "Epoch 94/100\n",
            "65/65 [==============================] - 1s 17ms/step - loss: 5.2556 - accuracy: 0.2841 - val_loss: 7.2586 - val_accuracy: 0.0959\n",
            "Epoch 95/100\n",
            "65/65 [==============================] - 1s 17ms/step - loss: 5.2494 - accuracy: 0.2846 - val_loss: 7.5073 - val_accuracy: 0.0822\n",
            "Epoch 96/100\n",
            "65/65 [==============================] - 1s 17ms/step - loss: 5.2535 - accuracy: 0.2832 - val_loss: 7.2884 - val_accuracy: 0.0913\n",
            "Epoch 97/100\n",
            "65/65 [==============================] - 1s 18ms/step - loss: 5.2462 - accuracy: 0.2851 - val_loss: 7.6212 - val_accuracy: 0.0913\n",
            "Epoch 98/100\n",
            "65/65 [==============================] - 1s 18ms/step - loss: 5.2449 - accuracy: 0.2837 - val_loss: 7.3459 - val_accuracy: 0.0959\n",
            "Epoch 99/100\n",
            "65/65 [==============================] - 1s 18ms/step - loss: 5.2407 - accuracy: 0.2858 - val_loss: 7.4490 - val_accuracy: 0.0822\n",
            "Epoch 100/100\n",
            "65/65 [==============================] - 1s 18ms/step - loss: 5.2449 - accuracy: 0.2839 - val_loss: 7.5663 - val_accuracy: 0.0868\n"
          ],
          "name": "stdout"
        }
      ]
    },
    {
      "cell_type": "code",
      "metadata": {
        "ExecuteTime": {
          "end_time": "2021-07-26T20:39:38.427011Z",
          "start_time": "2021-07-26T20:39:38.137215Z"
        },
        "id": "ekppcYFZi-iK",
        "outputId": "f73c6a5c-83fe-44a2-d8a6-26906e26b819"
      },
      "source": [
        "train_loss = results['loss']\n",
        "train_acc = results['accuracy']\n",
        "val_loss =results['val_loss']\n",
        "val_acc = results['val_accuracy']\n",
        "\n",
        "fig, (ax1, ax2) = plt.subplots(1, 2, figsize=(10, 5))\n",
        "\n",
        "ax1.plot(train_loss, label='train_loss')\n",
        "ax1.plot(val_loss, label='validation_loss')\n",
        "ax1.set_title(\"Loss\")\n",
        "ax1.legend()\n",
        "\n",
        "ax2.plot(train_acc, label='train_accuracy')\n",
        "ax2.plot(val_acc, label='val_accuracy')\n",
        "ax2.set_title(\"Accuracy\")\n",
        "ax2.legend()"
      ],
      "execution_count": null,
      "outputs": [
        {
          "output_type": "execute_result",
          "data": {
            "text/plain": [
              "<matplotlib.legend.Legend at 0x7fcef2727a90>"
            ]
          },
          "metadata": {
            "tags": []
          },
          "execution_count": 515
        },
        {
          "output_type": "display_data",
          "data": {
            "image/png": "[encoded data removed]",
            "text/plain": [
              "<Figure size 720x360 with 2 Axes>"
            ]
          },
          "metadata": {
            "tags": [],
            "needs_background": "light"
          }
        }
      ]
    },
    {
      "cell_type": "markdown",
      "metadata": {
        "id": "lcfUzmfGi-iL"
      },
      "source": [
        "# Predictions"
      ]
    },
    {
      "cell_type": "code",
      "metadata": {
        "ExecuteTime": {
          "end_time": "2021-07-26T20:29:41.082791Z",
          "start_time": "2021-07-26T20:29:41.077691Z"
        },
        "id": "-gEa5JQsi-iL",
        "outputId": "3dd6514e-d0fc-434c-dc46-968e26253395"
      },
      "source": [
        "x = np.zeros((1, WORD_LENGTH, len(unique_words)))\n",
        "text=\"اور بھی بے\"\n",
        "for t, word in enumerate(text.split()):\n",
        "    print(word)\n",
        "    x[0, t, unique_word_index[word]] = 1\n",
        "print(x)"
      ],
      "execution_count": null,
      "outputs": [
        {
          "output_type": "stream",
          "text": [
            "اور\n",
            "بھی\n",
            "بے\n",
            "[[[0. 0. 0. ... 0. 0. 0.]\n",
            "  [0. 0. 0. ... 0. 0. 0.]\n",
            "  [0. 0. 0. ... 0. 0. 0.]]]\n"
          ],
          "name": "stdout"
        }
      ]
    },
    {
      "cell_type": "code",
      "metadata": {
        "ExecuteTime": {
          "end_time": "2021-07-26T20:29:41.092080Z",
          "start_time": "2021-07-26T20:29:41.086862Z"
        },
        "id": "eBtdwzGvi-iL",
        "outputId": "1315d935-4d20-482b-b68d-626b26edc609"
      },
      "source": [
        "def prepare_input(text):\n",
        "    x = np.zeros((1, WORD_LENGTH, len(unique_words)))\n",
        "    for t, word in enumerate(text.split()):\n",
        "        print(word)\n",
        "        x[0, t, unique_word_index[word]] = 1\n",
        "    return x\n",
        "prepare_input(\"اور بھی بے\")"
      ],
      "execution_count": null,
      "outputs": [
        {
          "output_type": "stream",
          "text": [
            "اور\n",
            "بھی\n",
            "بے\n"
          ],
          "name": "stdout"
        },
        {
          "output_type": "execute_result",
          "data": {
            "text/plain": [
              "array([[[0., 0., 0., ..., 0., 0., 0.],\n",
              "        [0., 0., 0., ..., 0., 0., 0.],\n",
              "        [0., 0., 0., ..., 0., 0., 0.]]])"
            ]
          },
          "metadata": {
            "tags": []
          },
          "execution_count": 484
        }
      ]
    },
    {
      "cell_type": "code",
      "metadata": {
        "ExecuteTime": {
          "end_time": "2021-07-26T20:29:41.098136Z",
          "start_time": "2021-07-26T20:29:41.094471Z"
        },
        "id": "vro5skWSi-iL"
      },
      "source": [
        "import heapq\n",
        "def sample(preds, top_n=3):\n",
        "    preds = np.asarray(preds).astype('float64')\n",
        "    preds = np.log(preds)\n",
        "    exp_preds = np.exp(preds)\n",
        "    preds = exp_preds / np.sum(exp_preds)\n",
        "\n",
        "    return heapq.nlargest(top_n, range(len(preds)), preds.take)"
      ],
      "execution_count": null,
      "outputs": []
    },
    {
      "cell_type": "code",
      "metadata": {
        "ExecuteTime": {
          "end_time": "2021-07-26T20:29:41.105388Z",
          "start_time": "2021-07-26T20:29:41.101325Z"
        },
        "id": "wG6kDqKFi-iM"
      },
      "source": [
        "def predict_completions(text, n=3):\n",
        "    if text == \"\":\n",
        "        return(\"0\")\n",
        "    x = prepare_input(text)\n",
        "    preds = model.predict(x, verbose=0)[0]\n",
        "    next_indices = sample(preds, n)\n",
        "    return [unique_words[idx] for idx in next_indices]"
      ],
      "execution_count": null,
      "outputs": []
    },
    {
      "cell_type": "code",
      "metadata": {
        "ExecuteTime": {
          "end_time": "2021-07-26T20:32:04.657276Z",
          "start_time": "2021-07-26T20:31:58.677496Z"
        },
        "id": "wkwqUGvni-iM",
        "outputId": "ae1de48c-760f-45ef-fea0-e8f2c341b7b2"
      },
      "source": [
        "q =  input(\"ENTER TEXT: \")\n",
        "# print(\"correct sentence: \",q)\n",
        "seq =  q #\" \".join(q)#tokenized.tokenize(q.lower())[0:3])\n",
        "print(\"Sequence: \",seq)\n",
        "print(\"next possible words: \", predict_completions(seq, 5))"
      ],
      "execution_count": null,
      "outputs": [
        {
          "output_type": "stream",
          "text": [
            "ENTER TEXT: ساز و سامان\n",
            "Sequence:  ساز و سامان\n",
            "ساز\n",
            "و\n",
            "سامان\n",
            "next possible words:  ['کا', '\"', 'آئیوس', 'آئیووا', 'آئیں']\n"
          ],
          "name": "stdout"
        }
      ]
    },
    {
      "cell_type": "code",
      "metadata": {
        "id": "Zgv92SZDi-iM"
      },
      "source": [
        ""
      ],
      "execution_count": null,
      "outputs": []
    },
    {
      "cell_type": "code",
      "metadata": {
        "id": "Kwndb87Qi-iM"
      },
      "source": [
        ""
      ],
      "execution_count": null,
      "outputs": []
    }
  ]
}