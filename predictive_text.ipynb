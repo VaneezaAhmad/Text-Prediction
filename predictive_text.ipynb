{
  "nbformat": 4,
  "nbformat_minor": 0,
  "metadata": {
    "interpreter": {
      "hash": "dca0ade3e726a953b501b15e8e990130d2b7799f14cfd9f4271676035ebe5511"
    },
    "kernelspec": {
      "display_name": "Python 3",
      "language": "python",
      "name": "python3"
    },
    "language_info": {
      "codemirror_mode": {
        "name": "ipython",
        "version": 3
      },
      "file_extension": ".py",
      "mimetype": "text/x-python",
      "name": "python",
      "nbconvert_exporter": "python",
      "pygments_lexer": "ipython3",
      "version": "3.8.5"
    },
    "toc": {
      "base_numbering": 1,
      "nav_menu": {},
      "number_sections": true,
      "sideBar": true,
      "skip_h1_title": false,
      "title_cell": "Table of Contents",
      "title_sidebar": "Contents",
      "toc_cell": false,
      "toc_position": {
        "height": "calc(100% - 180px)",
        "left": "10px",
        "top": "150px",
        "width": "267px"
      },
      "toc_section_display": true,
      "toc_window_display": true
    },
    "colab": {
      "name": "predictive-text.ipynb",
      "provenance": [],
      "collapsed_sections": [],
      "toc_visible": true,
      "include_colab_link": true
    }
  },
  "cells": [
    {
      "cell_type": "markdown",
      "metadata": {
        "id": "view-in-github",
        "colab_type": "text"
      },
      "source": [
        "<a href=\"https://colab.research.google.com/github/VaneezaAhmad/Text-Prediction/blob/main/predictive_text.ipynb\" target=\"_parent\"><img src=\"https://colab.research.google.com/assets/colab-badge.svg\" alt=\"Open In Colab\"/></a>"
      ]
    },
    {
      "cell_type": "markdown",
      "metadata": {
        "id": "z_TCYu2Tq8xK"
      },
      "source": [
        "# Import Libraries"
      ]
    },
    {
      "cell_type": "code",
      "metadata": {
        "ExecuteTime": {
          "end_time": "2021-07-19T15:45:33.956983Z",
          "start_time": "2021-07-19T15:45:31.907853Z"
        },
        "id": "RvgQE39Eq8xM"
      },
      "source": [
        "import pandas as pd\n",
        "import matplotlib.pyplot as plt\n",
        "import numpy as np\n",
        "import seaborn as sns"
      ],
      "execution_count": 2,
      "outputs": []
    },
    {
      "cell_type": "code",
      "metadata": {
        "ExecuteTime": {
          "end_time": "2021-07-19T15:47:21.029462Z",
          "start_time": "2021-07-19T15:47:21.026174Z"
        },
        "id": "fniXYbrzq8xN"
      },
      "source": [
        "import nltk\n",
        "from nltk import word_tokenize, RegexpTokenizer\n",
        "from nltk.probability import FreqDist"
      ],
      "execution_count": 3,
      "outputs": []
    },
    {
      "cell_type": "code",
      "metadata": {
        "ExecuteTime": {
          "end_time": "2021-07-19T17:05:06.483738Z",
          "start_time": "2021-07-19T17:05:00.277321Z"
        },
        "id": "CgoK9nFjq8xN"
      },
      "source": [
        "from keras.models import Sequential, load_model\n",
        "from keras.layers import LSTM\n",
        "from keras.layers.core import Dense, Activation, Dropout\n",
        "from keras.optimizers import RMSprop"
      ],
      "execution_count": 4,
      "outputs": []
    },
    {
      "cell_type": "code",
      "metadata": {
        "ExecuteTime": {
          "end_time": "2021-07-19T17:39:18.759759Z",
          "start_time": "2021-07-19T17:39:18.751037Z"
        },
        "id": "swhtnsCxq8xN"
      },
      "source": [
        "from sklearn.feature_extraction.text import CountVectorizer, TfidfVectorizer"
      ],
      "execution_count": 5,
      "outputs": []
    },
    {
      "cell_type": "code",
      "metadata": {
        "id": "rwRApfinD4Pu"
      },
      "source": [
        "from keras.wrappers.scikit_learn import KerasClassifier"
      ],
      "execution_count": 6,
      "outputs": []
    },
    {
      "cell_type": "markdown",
      "metadata": {
        "id": "-CbzIRm5q8xN"
      },
      "source": [
        "# Read in Data"
      ]
    },
    {
      "cell_type": "code",
      "metadata": {
        "colab": {
          "resources": {
            "http://localhost:8080/nbextensions/google.colab/files.js": {
              "data": "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",
              "ok": true,
              "headers": [
                [
                  "content-type",
                  "application/javascript"
                ]
              ],
              "status": 200,
              "status_text": ""
            }
          },
          "base_uri": "https://localhost:8080/",
          "height": 72
        },
        "id": "n6HjKe0urAy2",
        "outputId": "2b56dec5-6ee2-42b4-cb9e-e7e42daa2ae5"
      },
      "source": [
        "from google.colab import files\n",
        "uploaded = files.upload()"
      ],
      "execution_count": 8,
      "outputs": [
        {
          "output_type": "display_data",
          "data": {
            "text/html": [
              "\n",
              "     <input type=\"file\" id=\"files-ade14cca-f0c5-4f2b-8532-c79dc55f15a2\" name=\"files[]\" multiple disabled\n",
              "        style=\"border:none\" />\n",
              "     <output id=\"result-ade14cca-f0c5-4f2b-8532-c79dc55f15a2\">\n",
              "      Upload widget is only available when the cell has been executed in the\n",
              "      current browser session. Please rerun this cell to enable.\n",
              "      </output>\n",
              "      <script src=\"/nbextensions/google.colab/files.js\"></script> "
            ],
            "text/plain": [
              "<IPython.core.display.HTML object>"
            ]
          },
          "metadata": {
            "tags": []
          }
        },
        {
          "output_type": "stream",
          "text": [
            "Saving wonderland.txt to wonderland.txt\n"
          ],
          "name": "stdout"
        }
      ]
    },
    {
      "cell_type": "code",
      "metadata": {
        "ExecuteTime": {
          "end_time": "2021-07-19T15:45:33.967677Z",
          "start_time": "2021-07-19T15:45:33.959281Z"
        },
        "id": "QcctA2W4q8xO"
      },
      "source": [
        "alice =  open(\"wonderland.txt\", \"r\", encoding=\"utf_8\").read()\n",
        "alice= alice.lower() "
      ],
      "execution_count": 87,
      "outputs": []
    },
    {
      "cell_type": "markdown",
      "metadata": {
        "id": "PtLYBp8lq8xP"
      },
      "source": [
        "# Preprocessing the Data"
      ]
    },
    {
      "cell_type": "code",
      "metadata": {
        "ExecuteTime": {
          "end_time": "2021-07-19T15:45:33.978730Z",
          "start_time": "2021-07-19T15:45:33.971039Z"
        },
        "id": "7VHeL9FJq8xP"
      },
      "source": [
        "# create mapping of unique chars to integers\n",
        "chars = sorted(list(set(alice)))\n",
        "char_to_int = dict((c, i) for i, c in enumerate(chars))"
      ],
      "execution_count": 10,
      "outputs": []
    },
    {
      "cell_type": "code",
      "metadata": {
        "ExecuteTime": {
          "end_time": "2021-07-19T15:45:33.984344Z",
          "start_time": "2021-07-19T15:45:33.981665Z"
        },
        "colab": {
          "base_uri": "https://localhost:8080/"
        },
        "id": "Ac2_n-1qq8xQ",
        "outputId": "9315bd32-caef-4861-9f62-63aaac39f128"
      },
      "source": [
        "print(chars)"
      ],
      "execution_count": 11,
      "outputs": [
        {
          "output_type": "stream",
          "text": [
            "['\\n', ' ', '!', '#', '$', '%', '(', ')', '*', ',', '-', '.', '/', '0', '1', '2', '3', '4', '5', '6', '7', '8', '9', ':', ';', '?', '@', '[', ']', '_', 'a', 'b', 'c', 'd', 'e', 'f', 'g', 'h', 'i', 'j', 'k', 'l', 'm', 'n', 'o', 'p', 'q', 'r', 's', 't', 'u', 'v', 'w', 'x', 'y', 'z', '‘', '’', '“', '”']\n"
          ],
          "name": "stdout"
        }
      ]
    },
    {
      "cell_type": "code",
      "metadata": {
        "ExecuteTime": {
          "end_time": "2021-07-19T15:45:33.989016Z",
          "start_time": "2021-07-19T15:45:33.985933Z"
        },
        "colab": {
          "base_uri": "https://localhost:8080/"
        },
        "id": "6EK-qNm9q8xQ",
        "outputId": "47386d84-f9a4-4ad9-fcb8-5bf5bf142b4c"
      },
      "source": [
        "n_chars = len(alice)\n",
        "n_vocab = len(chars)\n",
        "print(\"Total Characters: \", n_chars)\n",
        "print(\"Total Vocab: \", n_vocab)"
      ],
      "execution_count": 12,
      "outputs": [
        {
          "output_type": "stream",
          "text": [
            "Total Characters:  163816\n",
            "Total Vocab:  60\n"
          ],
          "name": "stdout"
        }
      ]
    },
    {
      "cell_type": "code",
      "metadata": {
        "colab": {
          "base_uri": "https://localhost:8080/"
        },
        "id": "narE0JonrbGJ",
        "outputId": "29932020-16a3-4de0-84dc-a2fdd9ca4d1e"
      },
      "source": [
        "import nltk\n",
        "nltk.download(\"punkt\")"
      ],
      "execution_count": 13,
      "outputs": [
        {
          "output_type": "stream",
          "text": [
            "[nltk_data] Downloading package punkt to /root/nltk_data...\n",
            "[nltk_data]   Unzipping tokenizers/punkt.zip.\n"
          ],
          "name": "stdout"
        },
        {
          "output_type": "execute_result",
          "data": {
            "text/plain": [
              "True"
            ]
          },
          "metadata": {
            "tags": []
          },
          "execution_count": 13
        }
      ]
    },
    {
      "cell_type": "code",
      "metadata": {
        "ExecuteTime": {
          "end_time": "2021-07-19T15:49:59.975857Z",
          "start_time": "2021-07-19T15:49:59.777209Z"
        },
        "id": "XmET0g3wq8xQ"
      },
      "source": [
        "# tokenized = word_tokenize(alice)"
      ],
      "execution_count": 86,
      "outputs": []
    },
    {
      "cell_type": "code",
      "metadata": {
        "ExecuteTime": {
          "end_time": "2021-07-19T15:56:52.240169Z",
          "start_time": "2021-07-19T15:56:52.223686Z"
        },
        "id": "2_AQrPetq8xQ"
      },
      "source": [
        "tokenized = RegexpTokenizer(r\"([a-zA-Z]+(?:’[a-z]+)?)\")\n",
        "alice_token = tokenized.tokenize(alice)"
      ],
      "execution_count": 88,
      "outputs": []
    },
    {
      "cell_type": "code",
      "metadata": {
        "ExecuteTime": {
          "end_time": "2021-07-19T15:56:38.225684Z",
          "start_time": "2021-07-19T15:56:38.221646Z"
        },
        "colab": {
          "base_uri": "https://localhost:8080/"
        },
        "id": "Ep5qWyDAq8xR",
        "outputId": "012e415b-264a-4b38-ff22-e501bbb3ee77"
      },
      "source": [
        "len(alice_token)"
      ],
      "execution_count": 89,
      "outputs": [
        {
          "output_type": "execute_result",
          "data": {
            "text/plain": [
              "29763"
            ]
          },
          "metadata": {
            "tags": []
          },
          "execution_count": 89
        }
      ]
    },
    {
      "cell_type": "code",
      "metadata": {
        "ExecuteTime": {
          "end_time": "2021-07-19T18:07:21.238905Z",
          "start_time": "2021-07-19T18:07:19.883141Z"
        },
        "colab": {
          "base_uri": "https://localhost:8080/",
          "height": 562
        },
        "id": "RIiMU0r_q8xR",
        "outputId": "5d84041e-0665-412a-f162-9def990352a5"
      },
      "source": [
        "# Frequency distribution of words \n",
        "fdist = FreqDist(alice_token)\n",
        "plt.figure(figsize=(20, 10))\n",
        "fdist.plot(50);"
      ],
      "execution_count": 17,
      "outputs": [
        {
          "output_type": "display_data",
          "data": {
            "image/png": "[encoded data removed]",
            "text/plain": [
              "<Figure size 1440x720 with 1 Axes>"
            ]
          },
          "metadata": {
            "tags": [],
            "needs_background": "light"
          }
        }
      ]
    },
    {
      "cell_type": "code",
      "metadata": {
        "ExecuteTime": {
          "end_time": "2021-07-19T15:51:12.867447Z",
          "start_time": "2021-07-19T15:51:12.862477Z"
        },
        "id": "RDNwC0A4q8xR"
      },
      "source": [
        "unique = list(set(alice_token))"
      ],
      "execution_count": 18,
      "outputs": []
    },
    {
      "cell_type": "code",
      "metadata": {
        "ExecuteTime": {
          "end_time": "2021-07-19T15:51:13.340310Z",
          "start_time": "2021-07-19T15:51:13.335413Z"
        },
        "colab": {
          "base_uri": "https://localhost:8080/"
        },
        "id": "u2kcssANq8xS",
        "outputId": "b3de4422-e099-400d-bc75-6af978ceed20"
      },
      "source": [
        "len(unique)"
      ],
      "execution_count": 19,
      "outputs": [
        {
          "output_type": "execute_result",
          "data": {
            "text/plain": [
              "3075"
            ]
          },
          "metadata": {
            "tags": []
          },
          "execution_count": 19
        }
      ]
    },
    {
      "cell_type": "code",
      "metadata": {
        "ExecuteTime": {
          "end_time": "2021-07-19T19:16:32.643523Z",
          "start_time": "2021-07-19T19:16:32.620941Z"
        },
        "colab": {
          "base_uri": "https://localhost:8080/"
        },
        "id": "XZbCk93iq8xS",
        "outputId": "6b555961-135c-4490-b925-6f6d9d62031b"
      },
      "source": [
        "WORD_LENGTH = 3\n",
        "prev_words = []\n",
        "next_words = []\n",
        "for i in range(len(alice_token) - WORD_LENGTH):\n",
        "    prev_words.append(alice_token[i:i + WORD_LENGTH])\n",
        "    next_words.append(alice_token[i + WORD_LENGTH])\n",
        "print(prev_words[:5])\n",
        "print(next_words[:5])"
      ],
      "execution_count": 20,
      "outputs": [
        {
          "output_type": "stream",
          "text": [
            "[['project', 'gutenberg’s', 'alice’s'], ['gutenberg’s', 'alice’s', 'adventures'], ['alice’s', 'adventures', 'in'], ['adventures', 'in', 'wonderland'], ['in', 'wonderland', 'by']]\n",
            "['adventures', 'in', 'wonderland', 'by', 'lewis']\n"
          ],
          "name": "stdout"
        }
      ]
    },
    {
      "cell_type": "code",
      "metadata": {
        "ExecuteTime": {
          "end_time": "2021-07-19T18:22:23.359585Z",
          "start_time": "2021-07-19T18:22:23.334408Z"
        },
        "id": "Kzoxyayoq8xS"
      },
      "source": [
        "unique_words = np.unique(alice_token)\n",
        "unique_word_index = dict((c, i) for i, c in enumerate(unique_words))"
      ],
      "execution_count": 21,
      "outputs": []
    },
    {
      "cell_type": "code",
      "metadata": {
        "ExecuteTime": {
          "end_time": "2021-07-19T19:11:18.641205Z",
          "start_time": "2021-07-19T19:11:18.636156Z"
        },
        "colab": {
          "base_uri": "https://localhost:8080/"
        },
        "id": "59HWYrT3q8xS",
        "outputId": "cc49bd7f-c8e7-497a-c551-985d9df58b15"
      },
      "source": [
        "len(unique_words)"
      ],
      "execution_count": 22,
      "outputs": [
        {
          "output_type": "execute_result",
          "data": {
            "text/plain": [
              "3075"
            ]
          },
          "metadata": {
            "tags": []
          },
          "execution_count": 22
        }
      ]
    },
    {
      "cell_type": "code",
      "metadata": {
        "colab": {
          "base_uri": "https://localhost:8080/"
        },
        "id": "6UXLy73vlfuJ",
        "outputId": "8040498a-c47a-47b3-adfc-95627ce8440f"
      },
      "source": [
        "unique_words"
      ],
      "execution_count": 23,
      "outputs": [
        {
          "output_type": "execute_result",
          "data": {
            "text/plain": [
              "array(['a', 'abide', 'able', ..., 'zealand', 'zigzag', 'zip'],\n",
              "      dtype='<U16')"
            ]
          },
          "metadata": {
            "tags": []
          },
          "execution_count": 23
        }
      ]
    },
    {
      "cell_type": "code",
      "metadata": {
        "ExecuteTime": {
          "end_time": "2021-07-19T20:52:58.392526Z",
          "start_time": "2021-07-19T20:52:58.109853Z"
        },
        "id": "lhAzHT6iq8xS"
      },
      "source": [
        "X = np.zeros((len(prev_words), WORD_LENGTH, len(unique_words)), dtype=bool)\n",
        "y = np.zeros((len(next_words), len(unique_words)), dtype=bool)\n",
        "for i, each_words in enumerate(prev_words):\n",
        "    for j, each_word in enumerate(each_words):\n",
        "        X[i, j, unique_word_index[each_word]] = 1\n",
        "    y[i, unique_word_index[next_words[i]]] = 1"
      ],
      "execution_count": 24,
      "outputs": []
    },
    {
      "cell_type": "code",
      "metadata": {
        "ExecuteTime": {
          "end_time": "2021-07-19T20:53:01.442493Z",
          "start_time": "2021-07-19T20:53:01.436616Z"
        },
        "colab": {
          "base_uri": "https://localhost:8080/"
        },
        "id": "jz2rP4FDq8xT",
        "outputId": "5b17278c-5bb3-4036-a9aa-6a6177076148"
      },
      "source": [
        "len(X), len(y), X.shape, y.shape"
      ],
      "execution_count": 25,
      "outputs": [
        {
          "output_type": "execute_result",
          "data": {
            "text/plain": [
              "(29760, 29760, (29760, 3, 3075), (29760, 3075))"
            ]
          },
          "metadata": {
            "tags": []
          },
          "execution_count": 25
        }
      ]
    },
    {
      "cell_type": "markdown",
      "metadata": {
        "id": "dajdWOaDq8xT"
      },
      "source": [
        "# First Model"
      ]
    },
    {
      "cell_type": "code",
      "metadata": {
        "ExecuteTime": {
          "end_time": "2021-07-19T20:39:14.546925Z",
          "start_time": "2021-07-19T20:39:13.939750Z"
        },
        "id": "GvoUCI2Vq8xU"
      },
      "source": [
        "model = Sequential()\n",
        "model.add(LSTM(32, input_shape=(WORD_LENGTH, len(unique_words))))\n",
        "model.add(Dense(len(unique_words)))\n",
        "model.add(Activation(\"softmax\"))"
      ],
      "execution_count": 26,
      "outputs": []
    },
    {
      "cell_type": "code",
      "metadata": {
        "ExecuteTime": {
          "end_time": "2021-07-19T21:17:56.719120Z",
          "start_time": "2021-07-19T21:10:51.069764Z"
        },
        "colab": {
          "base_uri": "https://localhost:8080/"
        },
        "id": "rKzlxCriq8xU",
        "outputId": "b57a8e81-47ab-4191-aebd-1ecd4fd4be79"
      },
      "source": [
        "optimizer = RMSprop(learning_rate=0.01)\n",
        "model.compile(optimizer=optimizer, loss=\"categorical_crossentropy\", metrics=[\"accuracy\"])\n",
        "history=model.fit(X,y, epochs=100, batch_size=64, validation_split=0.05).history"
      ],
      "execution_count": 27,
      "outputs": [
        {
          "output_type": "stream",
          "text": [
            "Epoch 1/100\n",
            "442/442 [==============================] - 30s 27ms/step - loss: 6.3804 - accuracy: 0.0587 - val_loss: 7.1188 - val_accuracy: 0.0874\n",
            "Epoch 2/100\n",
            "442/442 [==============================] - 11s 25ms/step - loss: 5.5471 - accuracy: 0.1111 - val_loss: 7.5208 - val_accuracy: 0.1069\n",
            "Epoch 3/100\n",
            "442/442 [==============================] - 11s 25ms/step - loss: 5.3878 - accuracy: 0.1465 - val_loss: 8.3033 - val_accuracy: 0.1129\n",
            "Epoch 4/100\n",
            "442/442 [==============================] - 11s 26ms/step - loss: 5.4033 - accuracy: 0.1737 - val_loss: 8.7394 - val_accuracy: 0.1176\n",
            "Epoch 5/100\n",
            "442/442 [==============================] - 12s 26ms/step - loss: 5.4021 - accuracy: 0.1959 - val_loss: 8.9089 - val_accuracy: 0.1163\n",
            "Epoch 6/100\n",
            "442/442 [==============================] - 12s 26ms/step - loss: 5.3183 - accuracy: 0.2162 - val_loss: 9.0018 - val_accuracy: 0.1176\n",
            "Epoch 7/100\n",
            "442/442 [==============================] - 11s 26ms/step - loss: 5.2379 - accuracy: 0.2402 - val_loss: 9.0610 - val_accuracy: 0.1169\n",
            "Epoch 8/100\n",
            "442/442 [==============================] - 11s 25ms/step - loss: 5.1826 - accuracy: 0.2570 - val_loss: 9.1200 - val_accuracy: 0.1136\n",
            "Epoch 9/100\n",
            "442/442 [==============================] - 11s 26ms/step - loss: 5.0955 - accuracy: 0.2734 - val_loss: 9.1898 - val_accuracy: 0.1136\n",
            "Epoch 10/100\n",
            "442/442 [==============================] - 11s 26ms/step - loss: 5.0262 - accuracy: 0.2818 - val_loss: 9.2309 - val_accuracy: 0.1042\n",
            "Epoch 11/100\n",
            "442/442 [==============================] - 11s 26ms/step - loss: 4.9168 - accuracy: 0.2977 - val_loss: 9.2304 - val_accuracy: 0.1163\n",
            "Epoch 12/100\n",
            "442/442 [==============================] - 11s 26ms/step - loss: 4.8986 - accuracy: 0.3015 - val_loss: 9.2970 - val_accuracy: 0.1210\n",
            "Epoch 13/100\n",
            "442/442 [==============================] - 11s 26ms/step - loss: 4.8514 - accuracy: 0.3145 - val_loss: 9.3149 - val_accuracy: 0.1062\n",
            "Epoch 14/100\n",
            "442/442 [==============================] - 12s 26ms/step - loss: 4.8110 - accuracy: 0.3249 - val_loss: 9.2969 - val_accuracy: 0.1122\n",
            "Epoch 15/100\n",
            "442/442 [==============================] - 11s 26ms/step - loss: 4.6944 - accuracy: 0.3434 - val_loss: 9.2855 - val_accuracy: 0.1082\n",
            "Epoch 16/100\n",
            "442/442 [==============================] - 12s 26ms/step - loss: 4.6762 - accuracy: 0.3486 - val_loss: 9.3617 - val_accuracy: 0.1116\n",
            "Epoch 17/100\n",
            "442/442 [==============================] - 12s 26ms/step - loss: 4.6346 - accuracy: 0.3567 - val_loss: 9.4688 - val_accuracy: 0.1136\n",
            "Epoch 18/100\n",
            "442/442 [==============================] - 11s 26ms/step - loss: 4.6058 - accuracy: 0.3621 - val_loss: 9.4299 - val_accuracy: 0.1109\n",
            "Epoch 19/100\n",
            "442/442 [==============================] - 11s 26ms/step - loss: 4.5652 - accuracy: 0.3664 - val_loss: 9.4266 - val_accuracy: 0.1028\n",
            "Epoch 20/100\n",
            "442/442 [==============================] - 11s 26ms/step - loss: 4.4993 - accuracy: 0.3722 - val_loss: 9.4074 - val_accuracy: 0.1142\n",
            "Epoch 21/100\n",
            "442/442 [==============================] - 11s 26ms/step - loss: 4.5002 - accuracy: 0.3808 - val_loss: 9.4380 - val_accuracy: 0.1075\n",
            "Epoch 22/100\n",
            "442/442 [==============================] - 11s 26ms/step - loss: 4.4277 - accuracy: 0.3933 - val_loss: 9.4291 - val_accuracy: 0.1062\n",
            "Epoch 23/100\n",
            "442/442 [==============================] - 12s 26ms/step - loss: 4.4508 - accuracy: 0.3930 - val_loss: 9.4534 - val_accuracy: 0.1075\n",
            "Epoch 24/100\n",
            "442/442 [==============================] - 12s 26ms/step - loss: 4.4045 - accuracy: 0.4010 - val_loss: 9.4584 - val_accuracy: 0.1102\n",
            "Epoch 25/100\n",
            "442/442 [==============================] - 11s 25ms/step - loss: 4.3787 - accuracy: 0.4050 - val_loss: 9.4227 - val_accuracy: 0.1042\n",
            "Epoch 26/100\n",
            "442/442 [==============================] - 11s 25ms/step - loss: 4.3345 - accuracy: 0.4146 - val_loss: 9.4344 - val_accuracy: 0.1048\n",
            "Epoch 27/100\n",
            "442/442 [==============================] - 11s 26ms/step - loss: 4.3508 - accuracy: 0.4160 - val_loss: 9.3997 - val_accuracy: 0.1055\n",
            "Epoch 28/100\n",
            "442/442 [==============================] - 11s 26ms/step - loss: 4.3192 - accuracy: 0.4183 - val_loss: 9.4675 - val_accuracy: 0.1089\n",
            "Epoch 29/100\n",
            "442/442 [==============================] - 11s 26ms/step - loss: 4.2969 - accuracy: 0.4217 - val_loss: 9.4030 - val_accuracy: 0.1022\n",
            "Epoch 30/100\n",
            "442/442 [==============================] - 12s 26ms/step - loss: 4.2532 - accuracy: 0.4296 - val_loss: 9.4004 - val_accuracy: 0.1042\n",
            "Epoch 31/100\n",
            "442/442 [==============================] - 12s 26ms/step - loss: 4.3077 - accuracy: 0.4255 - val_loss: 9.4587 - val_accuracy: 0.1122\n",
            "Epoch 32/100\n",
            "442/442 [==============================] - 12s 27ms/step - loss: 4.2137 - accuracy: 0.4353 - val_loss: 9.4431 - val_accuracy: 0.0995\n",
            "Epoch 33/100\n",
            "442/442 [==============================] - 11s 26ms/step - loss: 4.2420 - accuracy: 0.4352 - val_loss: 9.5051 - val_accuracy: 0.1008\n",
            "Epoch 34/100\n",
            "442/442 [==============================] - 11s 26ms/step - loss: 4.1833 - accuracy: 0.4424 - val_loss: 9.4862 - val_accuracy: 0.1055\n",
            "Epoch 35/100\n",
            "442/442 [==============================] - 12s 26ms/step - loss: 4.2123 - accuracy: 0.4438 - val_loss: 9.4830 - val_accuracy: 0.1015\n",
            "Epoch 36/100\n",
            "442/442 [==============================] - 12s 27ms/step - loss: 4.1993 - accuracy: 0.4469 - val_loss: 9.5636 - val_accuracy: 0.0995\n",
            "Epoch 37/100\n",
            "442/442 [==============================] - 12s 27ms/step - loss: 4.1341 - accuracy: 0.4519 - val_loss: 9.4787 - val_accuracy: 0.0981\n",
            "Epoch 38/100\n",
            "442/442 [==============================] - 12s 26ms/step - loss: 4.1243 - accuracy: 0.4556 - val_loss: 9.5143 - val_accuracy: 0.1001\n",
            "Epoch 39/100\n",
            "442/442 [==============================] - 12s 27ms/step - loss: 4.1064 - accuracy: 0.4554 - val_loss: 9.5203 - val_accuracy: 0.0995\n",
            "Epoch 40/100\n",
            "442/442 [==============================] - 12s 27ms/step - loss: 4.1674 - accuracy: 0.4544 - val_loss: 9.5059 - val_accuracy: 0.0995\n",
            "Epoch 41/100\n",
            "442/442 [==============================] - 12s 27ms/step - loss: 4.1513 - accuracy: 0.4572 - val_loss: 9.5947 - val_accuracy: 0.0995\n",
            "Epoch 42/100\n",
            "442/442 [==============================] - 12s 27ms/step - loss: 4.1108 - accuracy: 0.4596 - val_loss: 9.5850 - val_accuracy: 0.0941\n",
            "Epoch 43/100\n",
            "442/442 [==============================] - 12s 27ms/step - loss: 4.1437 - accuracy: 0.4588 - val_loss: 9.5415 - val_accuracy: 0.0981\n",
            "Epoch 44/100\n",
            "442/442 [==============================] - 12s 27ms/step - loss: 4.0931 - accuracy: 0.4637 - val_loss: 9.5045 - val_accuracy: 0.0974\n",
            "Epoch 45/100\n",
            "442/442 [==============================] - 12s 26ms/step - loss: 4.0303 - accuracy: 0.4703 - val_loss: 9.5071 - val_accuracy: 0.0954\n",
            "Epoch 46/100\n",
            "442/442 [==============================] - 12s 27ms/step - loss: 4.0565 - accuracy: 0.4711 - val_loss: 9.5331 - val_accuracy: 0.1015\n",
            "Epoch 47/100\n",
            "442/442 [==============================] - 12s 27ms/step - loss: 4.0312 - accuracy: 0.4739 - val_loss: 9.5305 - val_accuracy: 0.1001\n",
            "Epoch 48/100\n",
            "442/442 [==============================] - 12s 27ms/step - loss: 4.0727 - accuracy: 0.4719 - val_loss: 9.5594 - val_accuracy: 0.1015\n",
            "Epoch 49/100\n",
            "442/442 [==============================] - 12s 27ms/step - loss: 4.0607 - accuracy: 0.4734 - val_loss: 9.5489 - val_accuracy: 0.0927\n",
            "Epoch 50/100\n",
            "442/442 [==============================] - 12s 27ms/step - loss: 4.0490 - accuracy: 0.4764 - val_loss: 9.5560 - val_accuracy: 0.0988\n",
            "Epoch 51/100\n",
            "442/442 [==============================] - 12s 26ms/step - loss: 4.0711 - accuracy: 0.4704 - val_loss: 9.5528 - val_accuracy: 0.0954\n",
            "Epoch 52/100\n",
            "442/442 [==============================] - 12s 26ms/step - loss: 3.9978 - accuracy: 0.4804 - val_loss: 9.5761 - val_accuracy: 0.0921\n",
            "Epoch 53/100\n",
            "442/442 [==============================] - 12s 27ms/step - loss: 4.0316 - accuracy: 0.4758 - val_loss: 9.6048 - val_accuracy: 0.0948\n",
            "Epoch 54/100\n",
            "442/442 [==============================] - 12s 27ms/step - loss: 4.0187 - accuracy: 0.4775 - val_loss: 9.5852 - val_accuracy: 0.0968\n",
            "Epoch 55/100\n",
            "442/442 [==============================] - 12s 27ms/step - loss: 3.9776 - accuracy: 0.4894 - val_loss: 9.5678 - val_accuracy: 0.0907\n",
            "Epoch 56/100\n",
            "442/442 [==============================] - 12s 27ms/step - loss: 4.0143 - accuracy: 0.4836 - val_loss: 9.5900 - val_accuracy: 0.0961\n",
            "Epoch 57/100\n",
            "442/442 [==============================] - 12s 28ms/step - loss: 4.0143 - accuracy: 0.4851 - val_loss: 9.5372 - val_accuracy: 0.0961\n",
            "Epoch 58/100\n",
            "442/442 [==============================] - 12s 27ms/step - loss: 3.9690 - accuracy: 0.4854 - val_loss: 9.5732 - val_accuracy: 0.0934\n",
            "Epoch 59/100\n",
            "442/442 [==============================] - 12s 27ms/step - loss: 3.9436 - accuracy: 0.4906 - val_loss: 9.5870 - val_accuracy: 0.0948\n",
            "Epoch 60/100\n",
            "442/442 [==============================] - 12s 26ms/step - loss: 3.9438 - accuracy: 0.4911 - val_loss: 9.6200 - val_accuracy: 0.0981\n",
            "Epoch 61/100\n",
            "442/442 [==============================] - 12s 27ms/step - loss: 3.9268 - accuracy: 0.4933 - val_loss: 9.5588 - val_accuracy: 0.0934\n",
            "Epoch 62/100\n",
            "442/442 [==============================] - 12s 27ms/step - loss: 3.9031 - accuracy: 0.4960 - val_loss: 9.5617 - val_accuracy: 0.0981\n",
            "Epoch 63/100\n",
            "442/442 [==============================] - 12s 27ms/step - loss: 3.9470 - accuracy: 0.4967 - val_loss: 9.5566 - val_accuracy: 0.0921\n",
            "Epoch 64/100\n",
            "442/442 [==============================] - 12s 27ms/step - loss: 3.9110 - accuracy: 0.4972 - val_loss: 9.6084 - val_accuracy: 0.0934\n",
            "Epoch 65/100\n",
            "442/442 [==============================] - 12s 26ms/step - loss: 3.9520 - accuracy: 0.4939 - val_loss: 9.5805 - val_accuracy: 0.0995\n",
            "Epoch 66/100\n",
            "442/442 [==============================] - 12s 26ms/step - loss: 3.9278 - accuracy: 0.4936 - val_loss: 9.5903 - val_accuracy: 0.0927\n",
            "Epoch 67/100\n",
            "442/442 [==============================] - 12s 27ms/step - loss: 3.9021 - accuracy: 0.4969 - val_loss: 9.5681 - val_accuracy: 0.0974\n",
            "Epoch 68/100\n",
            "442/442 [==============================] - 12s 27ms/step - loss: 3.8812 - accuracy: 0.4977 - val_loss: 9.5686 - val_accuracy: 0.0995\n",
            "Epoch 69/100\n",
            "442/442 [==============================] - 12s 27ms/step - loss: 3.9182 - accuracy: 0.5001 - val_loss: 9.6017 - val_accuracy: 0.0988\n",
            "Epoch 70/100\n",
            "442/442 [==============================] - 12s 27ms/step - loss: 3.9622 - accuracy: 0.4938 - val_loss: 9.6095 - val_accuracy: 0.0948\n",
            "Epoch 71/100\n",
            "442/442 [==============================] - 12s 26ms/step - loss: 3.8730 - accuracy: 0.5043 - val_loss: 9.5754 - val_accuracy: 0.0981\n",
            "Epoch 72/100\n",
            "442/442 [==============================] - 12s 26ms/step - loss: 3.9177 - accuracy: 0.5025 - val_loss: 9.5850 - val_accuracy: 0.0948\n",
            "Epoch 73/100\n",
            "442/442 [==============================] - 12s 27ms/step - loss: 3.8621 - accuracy: 0.5071 - val_loss: 9.6088 - val_accuracy: 0.0981\n",
            "Epoch 74/100\n",
            "442/442 [==============================] - 12s 27ms/step - loss: 3.9060 - accuracy: 0.5029 - val_loss: 9.6253 - val_accuracy: 0.0974\n",
            "Epoch 75/100\n",
            "442/442 [==============================] - 12s 28ms/step - loss: 3.8374 - accuracy: 0.5082 - val_loss: 9.5905 - val_accuracy: 0.0934\n",
            "Epoch 76/100\n",
            "442/442 [==============================] - 12s 28ms/step - loss: 3.8939 - accuracy: 0.5035 - val_loss: 9.6660 - val_accuracy: 0.0988\n",
            "Epoch 77/100\n",
            "442/442 [==============================] - 12s 27ms/step - loss: 3.9044 - accuracy: 0.4991 - val_loss: 9.6199 - val_accuracy: 0.0941\n",
            "Epoch 78/100\n",
            "442/442 [==============================] - 12s 27ms/step - loss: 3.8831 - accuracy: 0.5086 - val_loss: 9.6474 - val_accuracy: 0.0954\n",
            "Epoch 79/100\n",
            "442/442 [==============================] - 12s 27ms/step - loss: 3.8550 - accuracy: 0.5065 - val_loss: 9.6376 - val_accuracy: 0.0927\n",
            "Epoch 80/100\n",
            "442/442 [==============================] - 12s 27ms/step - loss: 3.8908 - accuracy: 0.5065 - val_loss: 9.6580 - val_accuracy: 0.0961\n",
            "Epoch 81/100\n",
            "442/442 [==============================] - 11s 25ms/step - loss: 3.9141 - accuracy: 0.5048 - val_loss: 9.6401 - val_accuracy: 0.0954\n",
            "Epoch 82/100\n",
            "442/442 [==============================] - 11s 25ms/step - loss: 3.8812 - accuracy: 0.5053 - val_loss: 9.6569 - val_accuracy: 0.0927\n",
            "Epoch 83/100\n",
            "442/442 [==============================] - 11s 25ms/step - loss: 3.8338 - accuracy: 0.5166 - val_loss: 9.5790 - val_accuracy: 0.1028\n",
            "Epoch 84/100\n",
            "442/442 [==============================] - 12s 26ms/step - loss: 3.8614 - accuracy: 0.5126 - val_loss: 9.5937 - val_accuracy: 0.0988\n",
            "Epoch 85/100\n",
            "442/442 [==============================] - 12s 26ms/step - loss: 3.8417 - accuracy: 0.5120 - val_loss: 9.6089 - val_accuracy: 0.0934\n",
            "Epoch 86/100\n",
            "442/442 [==============================] - 12s 27ms/step - loss: 3.8630 - accuracy: 0.5119 - val_loss: 9.6329 - val_accuracy: 0.0907\n",
            "Epoch 87/100\n",
            "442/442 [==============================] - 12s 27ms/step - loss: 3.8168 - accuracy: 0.5124 - val_loss: 9.6124 - val_accuracy: 0.0941\n",
            "Epoch 88/100\n",
            "442/442 [==============================] - 12s 27ms/step - loss: 3.8672 - accuracy: 0.5056 - val_loss: 9.6209 - val_accuracy: 0.0941\n",
            "Epoch 89/100\n",
            "442/442 [==============================] - 12s 27ms/step - loss: 3.8658 - accuracy: 0.5067 - val_loss: 9.6241 - val_accuracy: 0.0974\n",
            "Epoch 90/100\n",
            "442/442 [==============================] - 12s 28ms/step - loss: 3.8154 - accuracy: 0.5148 - val_loss: 9.6209 - val_accuracy: 0.0927\n",
            "Epoch 91/100\n",
            "442/442 [==============================] - 12s 27ms/step - loss: 3.8197 - accuracy: 0.5184 - val_loss: 9.6626 - val_accuracy: 0.0934\n",
            "Epoch 92/100\n",
            "442/442 [==============================] - 12s 27ms/step - loss: 3.8124 - accuracy: 0.5132 - val_loss: 9.6114 - val_accuracy: 0.0954\n",
            "Epoch 93/100\n",
            "442/442 [==============================] - 12s 27ms/step - loss: 3.8200 - accuracy: 0.5102 - val_loss: 9.6438 - val_accuracy: 0.0927\n",
            "Epoch 94/100\n",
            "442/442 [==============================] - 12s 27ms/step - loss: 3.8115 - accuracy: 0.5150 - val_loss: 9.6293 - val_accuracy: 0.0961\n",
            "Epoch 95/100\n",
            "442/442 [==============================] - 12s 28ms/step - loss: 3.7835 - accuracy: 0.5185 - val_loss: 9.6389 - val_accuracy: 0.0934\n",
            "Epoch 96/100\n",
            "442/442 [==============================] - 12s 28ms/step - loss: 3.8412 - accuracy: 0.5114 - val_loss: 9.6435 - val_accuracy: 0.0981\n",
            "Epoch 97/100\n",
            "442/442 [==============================] - 12s 28ms/step - loss: 3.7778 - accuracy: 0.5228 - val_loss: 9.6287 - val_accuracy: 0.0968\n",
            "Epoch 98/100\n",
            "442/442 [==============================] - 13s 28ms/step - loss: 3.7571 - accuracy: 0.5186 - val_loss: 9.6783 - val_accuracy: 0.0961\n",
            "Epoch 99/100\n",
            "442/442 [==============================] - 12s 28ms/step - loss: 3.7551 - accuracy: 0.5224 - val_loss: 9.6214 - val_accuracy: 0.0974\n",
            "Epoch 100/100\n",
            "442/442 [==============================] - 12s 28ms/step - loss: 3.8011 - accuracy: 0.5141 - val_loss: 9.6652 - val_accuracy: 0.1001\n"
          ],
          "name": "stdout"
        }
      ]
    },
    {
      "cell_type": "markdown",
      "metadata": {
        "id": "e3oQKhdJqPoU"
      },
      "source": [
        "## Save model"
      ]
    },
    {
      "cell_type": "code",
      "metadata": {
        "id": "wciLuUZKp6bb"
      },
      "source": [
        "import pickle"
      ],
      "execution_count": 28,
      "outputs": []
    },
    {
      "cell_type": "code",
      "metadata": {
        "id": "FgarHScjpvQf"
      },
      "source": [
        "model.save('first_model.h5')\n",
        "pickle.dump(history, open(\"history.p\", \"wb\"))"
      ],
      "execution_count": 29,
      "outputs": []
    },
    {
      "cell_type": "markdown",
      "metadata": {
        "id": "FLrIbYAJqUpd"
      },
      "source": [
        "## Load model to evaluate"
      ]
    },
    {
      "cell_type": "code",
      "metadata": {
        "id": "j_1xH5Z2qAxc"
      },
      "source": [
        "model = load_model('first_model.h5')\n",
        "history = pickle.load(open(\"history.p\", \"rb\"))"
      ],
      "execution_count": 30,
      "outputs": []
    },
    {
      "cell_type": "markdown",
      "metadata": {
        "id": "o5LgEECupu7j"
      },
      "source": [
        ""
      ]
    },
    {
      "cell_type": "code",
      "metadata": {
        "colab": {
          "base_uri": "https://localhost:8080/",
          "height": 295
        },
        "id": "3Ilw9agYq8xU",
        "outputId": "03fc154e-64fa-47f9-c211-875adfc3e4ba"
      },
      "source": [
        "plt.plot(history[\"accuracy\"], color=\"green\")\n",
        "plt.plot(history[\"val_accuracy\"], color=\"blue\")\n",
        "plt.title(\"Model Accuracy\")\n",
        "plt.xlabel(\"epochs\")\n",
        "plt.ylabel(\"accuracy\")\n",
        "plt.legend([\"train\", \"validation\"]);"
      ],
      "execution_count": 31,
      "outputs": [
        {
          "output_type": "display_data",
          "data": {
            "image/png": "[encoded data removed]",
            "text/plain": [
              "<Figure size 432x288 with 1 Axes>"
            ]
          },
          "metadata": {
            "tags": [],
            "needs_background": "light"
          }
        }
      ]
    },
    {
      "cell_type": "code",
      "metadata": {
        "colab": {
          "base_uri": "https://localhost:8080/",
          "height": 295
        },
        "id": "9np7lZjSwixb",
        "outputId": "7ae757a7-7a9e-48e8-c381-3144e3398a87"
      },
      "source": [
        "plt.plot(history[\"loss\"], color=\"green\")\n",
        "plt.plot(history[\"val_loss\"], color=\"blue\")\n",
        "plt.title(\"Model loss\")\n",
        "plt.xlabel(\"epochs\")\n",
        "plt.ylabel(\"loss\")\n",
        "plt.legend([\"train\", \"validation\"]);"
      ],
      "execution_count": 32,
      "outputs": [
        {
          "output_type": "display_data",
          "data": {
            "image/png": "[encoded data removed]",
            "text/plain": [
              "<Figure size 432x288 with 1 Axes>"
            ]
          },
          "metadata": {
            "tags": [],
            "needs_background": "light"
          }
        }
      ]
    },
    {
      "cell_type": "markdown",
      "metadata": {
        "id": "ag3nbJW07OwD"
      },
      "source": [
        "# Grid Search"
      ]
    },
    {
      "cell_type": "code",
      "metadata": {
        "id": "K1GiDFG69D0c"
      },
      "source": [
        "from sklearn.model_selection import GridSearchCV"
      ],
      "execution_count": 138,
      "outputs": []
    },
    {
      "cell_type": "code",
      "metadata": {
        "id": "HMQwHKBV7dT9"
      },
      "source": [
        "def create_model(optimizer=\"RMSprop(learning_rate=0.01)\"):\n",
        "    model = Sequential()\n",
        "    model.add(LSTM(64, input_shape=(WORD_LENGTH, len(unique_words))))\n",
        "    model.add(Dense(len(unique_words)))\n",
        "    model.add(Activation(\"softmax\"))\n",
        "\n",
        "    model.compile(loss='categorical_crossentropy', optimizer=optimizer, metrics=[\"accuracy\"])\n",
        "    return model\n"
      ],
      "execution_count": 139,
      "outputs": []
    },
    {
      "cell_type": "code",
      "metadata": {
        "id": "sLGulMnl7icN"
      },
      "source": [
        "model = KerasClassifier(build_fn=create_model, verbose=1)"
      ],
      "execution_count": 140,
      "outputs": []
    },
    {
      "cell_type": "code",
      "metadata": {
        "id": "Ac0J_tt57rzE"
      },
      "source": [
        "param_grid = {\n",
        "    'epochs': [50,100], \n",
        "    'batch_size':[32,62,128],\n",
        "    'optimizer':['RMSprop', 'Adam'],\n",
        "    # 'kc__dropout': [0.5, 0.4, 0.3, 0.2, 0.1, 0]\n",
        "}"
      ],
      "execution_count": 141,
      "outputs": []
    },
    {
      "cell_type": "code",
      "metadata": {
        "id": "pThk1z2HBrIL"
      },
      "source": [
        "kfold_splits = 3\n",
        "grid = GridSearchCV(model,  \n",
        "                    n_jobs=1, \n",
        "                    verbose=1,\n",
        "                    return_train_score=True,\n",
        "                    cv=kfold_splits,  #StratifiedKFold(n_splits=kfold_splits, shuffle=True)\n",
        "                    param_grid=param_grid)"
      ],
      "execution_count": 142,
      "outputs": []
    },
    {
      "cell_type": "code",
      "metadata": {
        "colab": {
          "base_uri": "https://localhost:8080/"
        },
        "id": "a3R8iB0HBvES",
        "outputId": "b4bc0d70-3af9-4884-87a5-1c0723255c90"
      },
      "source": [
        "grid_result = grid.fit(X, y) #callbacks=[tbCallBack]\n"
      ],
      "execution_count": null,
      "outputs": [
        {
          "output_type": "stream",
          "text": [
            "Fitting 5 folds for each of 12 candidates, totalling 60 fits\n"
          ],
          "name": "stdout"
        },
        {
          "output_type": "stream",
          "text": [
            "[Parallel(n_jobs=1)]: Using backend SequentialBackend with 1 concurrent workers.\n"
          ],
          "name": "stderr"
        },
        {
          "output_type": "stream",
          "text": [
            "Epoch 1/50\n",
            "744/744 [==============================] - 19s 23ms/step - loss: 6.7497 - accuracy: 0.0634\n",
            "Epoch 2/50\n",
            "744/744 [==============================] - 17s 23ms/step - loss: 6.1037 - accuracy: 0.0650\n",
            "Epoch 3/50\n",
            "744/744 [==============================] - 17s 23ms/step - loss: 6.0363 - accuracy: 0.0657\n",
            "Epoch 4/50\n",
            "744/744 [==============================] - 17s 23ms/step - loss: 5.9182 - accuracy: 0.0704\n",
            "Epoch 5/50\n",
            "744/744 [==============================] - 17s 22ms/step - loss: 5.7939 - accuracy: 0.0810\n",
            "Epoch 6/50\n",
            "744/744 [==============================] - 17s 23ms/step - loss: 5.6886 - accuracy: 0.0932\n",
            "Epoch 7/50\n",
            "744/744 [==============================] - 17s 23ms/step - loss: 5.5853 - accuracy: 0.0999\n",
            "Epoch 8/50\n",
            "744/744 [==============================] - 17s 23ms/step - loss: 5.5252 - accuracy: 0.1105\n",
            "Epoch 9/50\n",
            "744/744 [==============================] - 17s 23ms/step - loss: 5.4203 - accuracy: 0.1249\n",
            "Epoch 10/50\n",
            "744/744 [==============================] - 17s 23ms/step - loss: 5.3226 - accuracy: 0.1417\n",
            "Epoch 11/50\n",
            "744/744 [==============================] - 17s 23ms/step - loss: 5.2742 - accuracy: 0.1465\n",
            "Epoch 12/50\n",
            "744/744 [==============================] - 17s 23ms/step - loss: 5.2184 - accuracy: 0.1536\n",
            "Epoch 13/50\n",
            "744/744 [==============================] - 17s 23ms/step - loss: 5.1840 - accuracy: 0.1608\n",
            "Epoch 14/50\n",
            "744/744 [==============================] - 17s 23ms/step - loss: 5.1596 - accuracy: 0.1690\n",
            "Epoch 15/50\n",
            "744/744 [==============================] - 17s 23ms/step - loss: 5.1359 - accuracy: 0.1784\n",
            "Epoch 16/50\n",
            "744/744 [==============================] - 17s 23ms/step - loss: 5.1392 - accuracy: 0.1894\n",
            "Epoch 17/50\n",
            "744/744 [==============================] - 17s 23ms/step - loss: 5.1832 - accuracy: 0.1922\n",
            "Epoch 18/50\n",
            "744/744 [==============================] - 17s 23ms/step - loss: 5.2460 - accuracy: 0.2029\n",
            "Epoch 19/50\n",
            "744/744 [==============================] - 17s 23ms/step - loss: 5.3401 - accuracy: 0.2110\n",
            "Epoch 20/50\n",
            "744/744 [==============================] - 17s 23ms/step - loss: 5.4083 - accuracy: 0.2128\n",
            "Epoch 21/50\n",
            "744/744 [==============================] - 17s 23ms/step - loss: 5.4922 - accuracy: 0.2208\n",
            "Epoch 22/50\n",
            "744/744 [==============================] - 17s 23ms/step - loss: 5.5456 - accuracy: 0.2247\n",
            "Epoch 23/50\n",
            "744/744 [==============================] - 17s 23ms/step - loss: 5.5546 - accuracy: 0.2347\n",
            "Epoch 24/50\n",
            "744/744 [==============================] - 17s 23ms/step - loss: 5.5694 - accuracy: 0.2358\n",
            "Epoch 25/50\n",
            "744/744 [==============================] - 17s 23ms/step - loss: 5.5893 - accuracy: 0.2452\n",
            "Epoch 26/50\n",
            "744/744 [==============================] - 17s 23ms/step - loss: 5.5819 - accuracy: 0.2503\n",
            "Epoch 27/50\n",
            "744/744 [==============================] - 17s 23ms/step - loss: 5.5982 - accuracy: 0.2585\n",
            "Epoch 28/50\n",
            "744/744 [==============================] - 17s 23ms/step - loss: 5.6204 - accuracy: 0.2617\n",
            "Epoch 29/50\n",
            "744/744 [==============================] - 17s 23ms/step - loss: 5.6058 - accuracy: 0.2649\n",
            "Epoch 30/50\n",
            "744/744 [==============================] - 17s 23ms/step - loss: 5.5346 - accuracy: 0.2685\n",
            "Epoch 31/50\n",
            "744/744 [==============================] - 17s 23ms/step - loss: 5.5651 - accuracy: 0.2713\n",
            "Epoch 32/50\n",
            "744/744 [==============================] - 17s 23ms/step - loss: 5.5572 - accuracy: 0.2770\n",
            "Epoch 33/50\n",
            "744/744 [==============================] - 17s 23ms/step - loss: 5.5359 - accuracy: 0.2817\n",
            "Epoch 34/50\n",
            "744/744 [==============================] - 17s 23ms/step - loss: 5.5296 - accuracy: 0.2907\n",
            "Epoch 35/50\n",
            "744/744 [==============================] - 17s 23ms/step - loss: 5.5034 - accuracy: 0.2907\n",
            "Epoch 36/50\n",
            "744/744 [==============================] - 17s 23ms/step - loss: 5.4150 - accuracy: 0.2965\n",
            "Epoch 37/50\n",
            "744/744 [==============================] - 17s 23ms/step - loss: 5.4058 - accuracy: 0.3015\n",
            "Epoch 38/50\n",
            "744/744 [==============================] - 17s 23ms/step - loss: 5.4390 - accuracy: 0.2994\n",
            "Epoch 39/50\n",
            "744/744 [==============================] - 17s 23ms/step - loss: 5.4346 - accuracy: 0.3097\n",
            "Epoch 40/50\n",
            "744/744 [==============================] - 17s 23ms/step - loss: 5.3352 - accuracy: 0.3159\n",
            "Epoch 41/50\n",
            "744/744 [==============================] - 17s 23ms/step - loss: 5.3689 - accuracy: 0.3153\n",
            "Epoch 42/50\n",
            "744/744 [==============================] - 17s 23ms/step - loss: 5.3603 - accuracy: 0.3220\n",
            "Epoch 43/50\n",
            "744/744 [==============================] - 17s 23ms/step - loss: 5.3520 - accuracy: 0.3202\n",
            "Epoch 44/50\n",
            "744/744 [==============================] - 17s 23ms/step - loss: 5.3324 - accuracy: 0.3227\n",
            "Epoch 45/50\n",
            "744/744 [==============================] - 17s 23ms/step - loss: 5.3218 - accuracy: 0.3296\n",
            "Epoch 46/50\n",
            "744/744 [==============================] - 17s 23ms/step - loss: 5.2972 - accuracy: 0.3352\n",
            "Epoch 47/50\n",
            "744/744 [==============================] - 17s 23ms/step - loss: 5.2914 - accuracy: 0.3350\n",
            "Epoch 48/50\n",
            "744/744 [==============================] - 17s 23ms/step - loss: 5.3273 - accuracy: 0.3324\n",
            "Epoch 49/50\n",
            "744/744 [==============================] - 17s 23ms/step - loss: 5.3088 - accuracy: 0.3387\n",
            "Epoch 50/50\n",
            "744/744 [==============================] - 18s 24ms/step - loss: 5.2214 - accuracy: 0.3455\n",
            "186/186 [==============================] - 2s 9ms/step - loss: 7.1866 - accuracy: 0.1111\n",
            "744/744 [==============================] - 7s 9ms/step - loss: 5.1817 - accuracy: 0.3539\n",
            "Epoch 1/50\n",
            "744/744 [==============================] - 19s 23ms/step - loss: 6.7606 - accuracy: 0.0617\n",
            "Epoch 2/50\n",
            "744/744 [==============================] - 17s 23ms/step - loss: 6.1108 - accuracy: 0.0652\n",
            "Epoch 3/50\n",
            "744/744 [==============================] - 17s 23ms/step - loss: 6.0150 - accuracy: 0.0656\n",
            "Epoch 4/50\n",
            "744/744 [==============================] - 17s 23ms/step - loss: 5.9161 - accuracy: 0.0691\n",
            "Epoch 5/50\n",
            "744/744 [==============================] - 17s 23ms/step - loss: 5.7558 - accuracy: 0.0837\n",
            "Epoch 6/50\n",
            "744/744 [==============================] - 17s 23ms/step - loss: 5.6729 - accuracy: 0.0940\n",
            "Epoch 7/50\n",
            "744/744 [==============================] - 17s 23ms/step - loss: 5.6060 - accuracy: 0.1007\n",
            "Epoch 8/50\n",
            "744/744 [==============================] - 17s 23ms/step - loss: 5.5162 - accuracy: 0.1144\n",
            "Epoch 9/50\n",
            "744/744 [==============================] - 17s 23ms/step - loss: 5.4409 - accuracy: 0.1272\n",
            "Epoch 10/50\n",
            "744/744 [==============================] - 17s 23ms/step - loss: 5.3464 - accuracy: 0.1355\n",
            "Epoch 11/50\n",
            "744/744 [==============================] - 17s 23ms/step - loss: 5.2771 - accuracy: 0.1457\n",
            "Epoch 12/50\n",
            "744/744 [==============================] - 17s 23ms/step - loss: 5.2347 - accuracy: 0.1499\n",
            "Epoch 13/50\n",
            "744/744 [==============================] - 17s 23ms/step - loss: 5.1885 - accuracy: 0.1637\n",
            "Epoch 14/50\n",
            "744/744 [==============================] - 17s 23ms/step - loss: 5.1684 - accuracy: 0.1677\n",
            "Epoch 15/50\n",
            "744/744 [==============================] - 17s 23ms/step - loss: 5.2469 - accuracy: 0.1743\n",
            "Epoch 16/50\n",
            "744/744 [==============================] - 17s 23ms/step - loss: 5.2915 - accuracy: 0.1797\n",
            "Epoch 17/50\n",
            "744/744 [==============================] - 17s 22ms/step - loss: 5.3272 - accuracy: 0.1897\n",
            "Epoch 18/50\n",
            "744/744 [==============================] - 17s 23ms/step - loss: 5.3637 - accuracy: 0.1975\n",
            "Epoch 19/50\n",
            "744/744 [==============================] - 17s 23ms/step - loss: 5.4483 - accuracy: 0.2040\n",
            "Epoch 20/50\n",
            "744/744 [==============================] - 17s 23ms/step - loss: 5.4663 - accuracy: 0.2105\n",
            "Epoch 21/50\n",
            "744/744 [==============================] - 17s 23ms/step - loss: 5.5515 - accuracy: 0.2172\n",
            "Epoch 22/50\n",
            "744/744 [==============================] - 17s 23ms/step - loss: 5.5875 - accuracy: 0.2225\n",
            "Epoch 23/50\n",
            "744/744 [==============================] - 17s 23ms/step - loss: 5.6590 - accuracy: 0.2279\n",
            "Epoch 24/50\n",
            "744/744 [==============================] - 17s 23ms/step - loss: 5.6057 - accuracy: 0.2383\n",
            "Epoch 25/50\n",
            "744/744 [==============================] - 17s 22ms/step - loss: 5.6091 - accuracy: 0.2442\n",
            "Epoch 26/50\n",
            "744/744 [==============================] - 17s 23ms/step - loss: 5.6395 - accuracy: 0.2445\n",
            "Epoch 27/50\n",
            "744/744 [==============================] - 17s 23ms/step - loss: 5.6184 - accuracy: 0.2547\n",
            "Epoch 28/50\n",
            "744/744 [==============================] - 17s 23ms/step - loss: 5.6734 - accuracy: 0.2559\n",
            "Epoch 29/50\n",
            "744/744 [==============================] - 17s 23ms/step - loss: 5.5783 - accuracy: 0.2629\n",
            "Epoch 30/50\n",
            "744/744 [==============================] - 17s 23ms/step - loss: 5.5886 - accuracy: 0.2724\n",
            "Epoch 31/50\n",
            "744/744 [==============================] - 17s 23ms/step - loss: 5.5921 - accuracy: 0.2763\n",
            "Epoch 32/50\n",
            "744/744 [==============================] - 17s 22ms/step - loss: 5.5595 - accuracy: 0.2814\n",
            "Epoch 33/50\n",
            "744/744 [==============================] - 17s 23ms/step - loss: 5.5422 - accuracy: 0.2849\n",
            "Epoch 34/50\n",
            "744/744 [==============================] - 17s 22ms/step - loss: 5.5166 - accuracy: 0.2901\n",
            "Epoch 35/50\n",
            "744/744 [==============================] - 16s 22ms/step - loss: 5.4876 - accuracy: 0.2970\n",
            "Epoch 36/50\n",
            "744/744 [==============================] - 17s 22ms/step - loss: 5.5262 - accuracy: 0.2906\n",
            "Epoch 37/50\n",
            "744/744 [==============================] - 17s 22ms/step - loss: 5.4799 - accuracy: 0.3029\n",
            "Epoch 38/50\n",
            "744/744 [==============================] - 17s 23ms/step - loss: 5.4454 - accuracy: 0.3012\n",
            "Epoch 39/50\n",
            "744/744 [==============================] - 17s 22ms/step - loss: 5.4618 - accuracy: 0.3052\n",
            "Epoch 40/50\n",
            "744/744 [==============================] - 17s 22ms/step - loss: 5.4284 - accuracy: 0.3127\n",
            "Epoch 41/50\n",
            "744/744 [==============================] - 17s 22ms/step - loss: 5.3965 - accuracy: 0.3128\n",
            "Epoch 42/50\n",
            "744/744 [==============================] - 17s 23ms/step - loss: 5.3521 - accuracy: 0.3190\n",
            "Epoch 43/50\n",
            "744/744 [==============================] - 17s 22ms/step - loss: 5.3727 - accuracy: 0.3217\n",
            "Epoch 44/50\n",
            "744/744 [==============================] - 17s 22ms/step - loss: 5.3957 - accuracy: 0.3232\n",
            "Epoch 45/50\n",
            "744/744 [==============================] - 17s 22ms/step - loss: 5.3534 - accuracy: 0.3313\n",
            "Epoch 46/50\n",
            "744/744 [==============================] - 17s 22ms/step - loss: 5.3482 - accuracy: 0.3275\n",
            "Epoch 47/50\n",
            "744/744 [==============================] - 17s 22ms/step - loss: 5.3415 - accuracy: 0.3282\n",
            "Epoch 48/50\n",
            "744/744 [==============================] - 17s 22ms/step - loss: 5.3232 - accuracy: 0.3304\n",
            "Epoch 49/50\n",
            "744/744 [==============================] - 16s 22ms/step - loss: 5.3451 - accuracy: 0.3333\n",
            "Epoch 50/50\n",
            "744/744 [==============================] - 16s 22ms/step - loss: 5.3218 - accuracy: 0.3377\n",
            "186/186 [==============================] - 2s 9ms/step - loss: 7.1000 - accuracy: 0.1154\n",
            "744/744 [==============================] - 7s 9ms/step - loss: 5.2188 - accuracy: 0.3485\n",
            "Epoch 1/50\n",
            "744/744 [==============================] - 19s 23ms/step - loss: 6.7644 - accuracy: 0.0588\n",
            "Epoch 2/50\n",
            "744/744 [==============================] - 17s 22ms/step - loss: 6.1045 - accuracy: 0.0619\n",
            "Epoch 3/50\n",
            "744/744 [==============================] - 16s 22ms/step - loss: 6.0183 - accuracy: 0.0627\n",
            "Epoch 4/50\n",
            "744/744 [==============================] - 17s 22ms/step - loss: 5.9329 - accuracy: 0.0671\n",
            "Epoch 5/50\n",
            "744/744 [==============================] - 17s 23ms/step - loss: 5.8114 - accuracy: 0.0821\n",
            "Epoch 6/50\n",
            "744/744 [==============================] - 17s 22ms/step - loss: 5.6984 - accuracy: 0.0907\n",
            "Epoch 7/50\n",
            "744/744 [==============================] - 17s 23ms/step - loss: 5.6185 - accuracy: 0.1026\n",
            "Epoch 8/50\n",
            "744/744 [==============================] - 17s 23ms/step - loss: 5.5327 - accuracy: 0.1154\n",
            "Epoch 9/50\n",
            "744/744 [==============================] - 17s 22ms/step - loss: 5.4414 - accuracy: 0.1263\n",
            "Epoch 10/50\n",
            "744/744 [==============================] - 17s 22ms/step - loss: 5.3753 - accuracy: 0.1376\n",
            "Epoch 11/50\n",
            "744/744 [==============================] - 17s 22ms/step - loss: 5.2612 - accuracy: 0.1479\n",
            "Epoch 12/50\n",
            "744/744 [==============================] - 16s 22ms/step - loss: 5.2271 - accuracy: 0.1514\n",
            "Epoch 13/50\n",
            "744/744 [==============================] - 17s 22ms/step - loss: 5.1960 - accuracy: 0.1599\n",
            "Epoch 14/50\n",
            "744/744 [==============================] - 17s 22ms/step - loss: 5.1395 - accuracy: 0.1714\n",
            "Epoch 15/50\n",
            "744/744 [==============================] - 17s 22ms/step - loss: 5.2206 - accuracy: 0.1740\n",
            "Epoch 16/50\n",
            "744/744 [==============================] - 17s 22ms/step - loss: 5.2099 - accuracy: 0.1860\n",
            "Epoch 17/50\n",
            "744/744 [==============================] - 17s 22ms/step - loss: 5.3138 - accuracy: 0.1834\n",
            "Epoch 18/50\n",
            "744/744 [==============================] - 17s 22ms/step - loss: 5.3601 - accuracy: 0.2005\n",
            "Epoch 19/50\n",
            "744/744 [==============================] - 17s 22ms/step - loss: 5.4729 - accuracy: 0.2030\n",
            "Epoch 20/50\n",
            "744/744 [==============================] - 17s 23ms/step - loss: 5.5646 - accuracy: 0.2063\n",
            "Epoch 21/50\n",
            "744/744 [==============================] - 16s 22ms/step - loss: 5.6124 - accuracy: 0.2123\n",
            "Epoch 22/50\n",
            "744/744 [==============================] - 17s 22ms/step - loss: 5.6544 - accuracy: 0.2179\n",
            "Epoch 23/50\n",
            "744/744 [==============================] - 17s 22ms/step - loss: 5.6491 - accuracy: 0.2239\n",
            "Epoch 24/50\n",
            "744/744 [==============================] - 17s 22ms/step - loss: 5.6732 - accuracy: 0.2285\n",
            "Epoch 25/50\n",
            "744/744 [==============================] - 19s 26ms/step - loss: 5.6728 - accuracy: 0.2375\n",
            "Epoch 26/50\n",
            "744/744 [==============================] - 17s 23ms/step - loss: 5.6761 - accuracy: 0.2429\n",
            "Epoch 27/50\n",
            "744/744 [==============================] - 17s 23ms/step - loss: 5.6647 - accuracy: 0.2467\n",
            "Epoch 28/50\n",
            "744/744 [==============================] - 17s 23ms/step - loss: 5.6533 - accuracy: 0.2516\n",
            "Epoch 29/50\n",
            "744/744 [==============================] - 17s 23ms/step - loss: 5.6234 - accuracy: 0.2604\n",
            "Epoch 30/50\n",
            "744/744 [==============================] - 17s 23ms/step - loss: 5.5900 - accuracy: 0.2675\n",
            "Epoch 31/50\n",
            "744/744 [==============================] - 17s 23ms/step - loss: 5.5978 - accuracy: 0.2719\n",
            "Epoch 32/50\n",
            "744/744 [==============================] - 17s 22ms/step - loss: 5.6014 - accuracy: 0.2789\n",
            "Epoch 33/50\n",
            "744/744 [==============================] - 17s 23ms/step - loss: 5.5713 - accuracy: 0.2758\n",
            "Epoch 34/50\n",
            "744/744 [==============================] - 17s 23ms/step - loss: 5.5282 - accuracy: 0.2865\n",
            "Epoch 35/50\n",
            "744/744 [==============================] - 17s 22ms/step - loss: 5.5259 - accuracy: 0.2862\n",
            "Epoch 36/50\n",
            "744/744 [==============================] - 17s 23ms/step - loss: 5.5535 - accuracy: 0.2899\n",
            "Epoch 37/50\n",
            "744/744 [==============================] - 17s 23ms/step - loss: 5.4885 - accuracy: 0.2941\n",
            "Epoch 38/50\n",
            "744/744 [==============================] - 17s 23ms/step - loss: 5.5025 - accuracy: 0.2952\n",
            "Epoch 39/50\n",
            "744/744 [==============================] - 17s 23ms/step - loss: 5.4769 - accuracy: 0.3019\n",
            "Epoch 40/50\n",
            "744/744 [==============================] - 17s 23ms/step - loss: 5.5063 - accuracy: 0.3036\n",
            "Epoch 41/50\n",
            "744/744 [==============================] - 17s 22ms/step - loss: 5.4586 - accuracy: 0.3093\n",
            "Epoch 42/50\n",
            "744/744 [==============================] - 17s 22ms/step - loss: 5.4055 - accuracy: 0.3118\n",
            "Epoch 43/50\n",
            "744/744 [==============================] - 17s 22ms/step - loss: 5.3943 - accuracy: 0.3168\n",
            "Epoch 44/50\n",
            "744/744 [==============================] - 17s 23ms/step - loss: 5.4277 - accuracy: 0.3153\n",
            "Epoch 45/50\n",
            "744/744 [==============================] - 17s 23ms/step - loss: 5.3782 - accuracy: 0.3181\n",
            "Epoch 46/50\n",
            "744/744 [==============================] - 17s 23ms/step - loss: 5.3377 - accuracy: 0.3223\n",
            "Epoch 47/50\n",
            "744/744 [==============================] - 17s 23ms/step - loss: 5.3591 - accuracy: 0.3309\n",
            "Epoch 48/50\n",
            "744/744 [==============================] - 17s 23ms/step - loss: 5.3248 - accuracy: 0.3312\n",
            "Epoch 49/50\n",
            "744/744 [==============================] - 17s 22ms/step - loss: 5.3113 - accuracy: 0.3345\n",
            "Epoch 50/50\n",
            "744/744 [==============================] - 17s 22ms/step - loss: 5.2937 - accuracy: 0.3336\n",
            "186/186 [==============================] - 2s 9ms/step - loss: 6.9971 - accuracy: 0.1047\n",
            "744/744 [==============================] - 7s 9ms/step - loss: 5.2412 - accuracy: 0.3445\n",
            "Epoch 1/50\n",
            "744/744 [==============================] - 19s 23ms/step - loss: 6.7627 - accuracy: 0.0563\n",
            "Epoch 2/50\n",
            "744/744 [==============================] - 17s 23ms/step - loss: 6.1244 - accuracy: 0.0571\n",
            "Epoch 3/50\n",
            "744/744 [==============================] - 17s 23ms/step - loss: 6.0293 - accuracy: 0.0561\n",
            "Epoch 4/50\n",
            "744/744 [==============================] - 17s 23ms/step - loss: 5.9106 - accuracy: 0.0637\n",
            "Epoch 5/50\n",
            "744/744 [==============================] - 17s 23ms/step - loss: 5.8360 - accuracy: 0.0745\n",
            "Epoch 6/50\n",
            "744/744 [==============================] - 17s 22ms/step - loss: 5.7148 - accuracy: 0.0872\n",
            "Epoch 7/50\n",
            "744/744 [==============================] - 17s 23ms/step - loss: 5.6305 - accuracy: 0.0960\n",
            "Epoch 8/50\n",
            "744/744 [==============================] - 17s 23ms/step - loss: 5.5611 - accuracy: 0.1079\n",
            "Epoch 9/50\n",
            "744/744 [==============================] - 17s 23ms/step - loss: 5.4764 - accuracy: 0.1219\n",
            "Epoch 10/50\n",
            "744/744 [==============================] - 17s 22ms/step - loss: 5.3688 - accuracy: 0.1336\n",
            "Epoch 11/50\n",
            "744/744 [==============================] - 17s 23ms/step - loss: 5.3304 - accuracy: 0.1391\n",
            "Epoch 12/50\n",
            "744/744 [==============================] - 17s 23ms/step - loss: 5.2448 - accuracy: 0.1493\n",
            "Epoch 13/50\n",
            "744/744 [==============================] - 17s 23ms/step - loss: 5.1670 - accuracy: 0.1601\n",
            "Epoch 14/50\n",
            "744/744 [==============================] - 17s 23ms/step - loss: 5.1502 - accuracy: 0.1657\n",
            "Epoch 15/50\n",
            "744/744 [==============================] - 17s 23ms/step - loss: 5.1410 - accuracy: 0.1731\n",
            "Epoch 16/50\n",
            "744/744 [==============================] - 17s 23ms/step - loss: 5.1882 - accuracy: 0.1790\n",
            "Epoch 17/50\n",
            "744/744 [==============================] - 17s 22ms/step - loss: 5.2609 - accuracy: 0.1887\n",
            "Epoch 18/50\n",
            "744/744 [==============================] - 17s 22ms/step - loss: 5.3839 - accuracy: 0.1948\n",
            "Epoch 19/50\n",
            "744/744 [==============================] - 17s 23ms/step - loss: 5.5107 - accuracy: 0.1943\n",
            "Epoch 20/50\n",
            "744/744 [==============================] - 17s 22ms/step - loss: 5.6502 - accuracy: 0.2000\n",
            "Epoch 21/50\n",
            "744/744 [==============================] - 17s 23ms/step - loss: 5.7089 - accuracy: 0.2112\n",
            "Epoch 22/50\n",
            "744/744 [==============================] - 17s 23ms/step - loss: 5.7490 - accuracy: 0.2139\n",
            "Epoch 23/50\n",
            "744/744 [==============================] - 17s 23ms/step - loss: 5.7755 - accuracy: 0.2199\n",
            "Epoch 24/50\n",
            "744/744 [==============================] - 17s 23ms/step - loss: 5.7296 - accuracy: 0.2260\n",
            "Epoch 25/50\n",
            "744/744 [==============================] - 17s 23ms/step - loss: 5.7874 - accuracy: 0.2299\n",
            "Epoch 26/50\n",
            "744/744 [==============================] - 17s 23ms/step - loss: 5.7487 - accuracy: 0.2374\n",
            "Epoch 27/50\n",
            "744/744 [==============================] - 17s 23ms/step - loss: 5.6707 - accuracy: 0.2449\n",
            "Epoch 28/50\n",
            "744/744 [==============================] - 17s 23ms/step - loss: 5.6891 - accuracy: 0.2454\n",
            "Epoch 29/50\n",
            "744/744 [==============================] - 17s 23ms/step - loss: 5.6225 - accuracy: 0.2550\n",
            "Epoch 30/50\n",
            "744/744 [==============================] - 17s 23ms/step - loss: 5.6481 - accuracy: 0.2571\n",
            "Epoch 31/50\n",
            "744/744 [==============================] - 17s 23ms/step - loss: 5.5813 - accuracy: 0.2633\n",
            "Epoch 32/50\n",
            "744/744 [==============================] - 17s 23ms/step - loss: 5.5648 - accuracy: 0.2668\n",
            "Epoch 33/50\n",
            "744/744 [==============================] - 17s 23ms/step - loss: 5.5466 - accuracy: 0.2745\n",
            "Epoch 34/50\n",
            "744/744 [==============================] - 17s 23ms/step - loss: 5.5587 - accuracy: 0.2733\n",
            "Epoch 35/50\n",
            "744/744 [==============================] - 17s 23ms/step - loss: 5.4921 - accuracy: 0.2845\n",
            "Epoch 36/50\n",
            "744/744 [==============================] - 17s 23ms/step - loss: 5.5020 - accuracy: 0.2843\n",
            "Epoch 37/50\n",
            "744/744 [==============================] - 17s 23ms/step - loss: 5.5199 - accuracy: 0.2879\n",
            "Epoch 38/50\n",
            "744/744 [==============================] - 17s 23ms/step - loss: 5.5056 - accuracy: 0.2906\n",
            "Epoch 39/50\n",
            "744/744 [==============================] - 17s 23ms/step - loss: 5.4573 - accuracy: 0.2971\n",
            "Epoch 40/50\n",
            "744/744 [==============================] - 17s 23ms/step - loss: 5.5128 - accuracy: 0.2922\n",
            "Epoch 41/50\n",
            "744/744 [==============================] - 17s 23ms/step - loss: 5.4052 - accuracy: 0.3026\n",
            "Epoch 42/50\n",
            "744/744 [==============================] - 17s 23ms/step - loss: 5.3759 - accuracy: 0.3072\n",
            "Epoch 43/50\n",
            "744/744 [==============================] - 17s 23ms/step - loss: 5.4136 - accuracy: 0.3063\n",
            "Epoch 44/50\n",
            "744/744 [==============================] - 17s 23ms/step - loss: 5.3837 - accuracy: 0.3077\n",
            "Epoch 45/50\n",
            "744/744 [==============================] - 17s 23ms/step - loss: 5.3560 - accuracy: 0.3136\n",
            "Epoch 46/50\n",
            "744/744 [==============================] - 17s 23ms/step - loss: 5.3535 - accuracy: 0.3195\n",
            "Epoch 47/50\n",
            "744/744 [==============================] - 17s 23ms/step - loss: 5.3457 - accuracy: 0.3177\n",
            "Epoch 48/50\n",
            "744/744 [==============================] - 17s 23ms/step - loss: 5.2776 - accuracy: 0.3265\n",
            "Epoch 49/50\n",
            "744/744 [==============================] - 17s 23ms/step - loss: 5.3237 - accuracy: 0.3314\n",
            "Epoch 50/50\n",
            "744/744 [==============================] - 17s 23ms/step - loss: 5.2942 - accuracy: 0.3277\n",
            "186/186 [==============================] - 2s 9ms/step - loss: 7.2052 - accuracy: 0.1057\n",
            "744/744 [==============================] - 7s 9ms/step - loss: 5.2483 - accuracy: 0.3439\n",
            "Epoch 1/50\n",
            "744/744 [==============================] - 19s 24ms/step - loss: 6.6855 - accuracy: 0.0557\n",
            "Epoch 2/50\n",
            "744/744 [==============================] - 18s 24ms/step - loss: 6.0074 - accuracy: 0.0577\n",
            "Epoch 3/50\n",
            "744/744 [==============================] - 18s 24ms/step - loss: 5.9422 - accuracy: 0.0573\n",
            "Epoch 4/50\n",
            "744/744 [==============================] - 17s 23ms/step - loss: 5.8671 - accuracy: 0.0596\n",
            "Epoch 5/50\n",
            "744/744 [==============================] - 18s 24ms/step - loss: 5.7029 - accuracy: 0.0720\n",
            "Epoch 6/50\n",
            "744/744 [==============================] - 18s 24ms/step - loss: 5.6343 - accuracy: 0.0843\n",
            "Epoch 7/50\n",
            "744/744 [==============================] - 18s 24ms/step - loss: 5.5381 - accuracy: 0.0907\n",
            "Epoch 8/50\n",
            "744/744 [==============================] - 18s 24ms/step - loss: 5.4337 - accuracy: 0.1092\n",
            "Epoch 9/50\n",
            "744/744 [==============================] - 18s 24ms/step - loss: 5.3442 - accuracy: 0.1196\n",
            "Epoch 10/50\n",
            "744/744 [==============================] - 17s 23ms/step - loss: 5.2957 - accuracy: 0.1273\n",
            "Epoch 11/50\n",
            "744/744 [==============================] - 17s 23ms/step - loss: 5.2606 - accuracy: 0.1376\n",
            "Epoch 12/50\n",
            "744/744 [==============================] - 17s 23ms/step - loss: 5.1620 - accuracy: 0.1540\n",
            "Epoch 13/50\n",
            "744/744 [==============================] - 17s 23ms/step - loss: 5.1064 - accuracy: 0.1558\n",
            "Epoch 14/50\n",
            "744/744 [==============================] - 17s 23ms/step - loss: 5.0731 - accuracy: 0.1642\n",
            "Epoch 15/50\n",
            "744/744 [==============================] - 17s 23ms/step - loss: 5.0243 - accuracy: 0.1707\n",
            "Epoch 16/50\n",
            "744/744 [==============================] - 18s 24ms/step - loss: 5.0508 - accuracy: 0.1766\n",
            "Epoch 17/50\n",
            "744/744 [==============================] - 18s 24ms/step - loss: 5.0859 - accuracy: 0.1832\n",
            "Epoch 18/50\n",
            "744/744 [==============================] - 17s 24ms/step - loss: 5.1460 - accuracy: 0.1913\n",
            "Epoch 19/50\n",
            "744/744 [==============================] - 17s 23ms/step - loss: 5.3098 - accuracy: 0.1958\n",
            "Epoch 20/50\n",
            "744/744 [==============================] - 17s 23ms/step - loss: 5.3979 - accuracy: 0.2031\n",
            "Epoch 21/50\n",
            "744/744 [==============================] - 17s 23ms/step - loss: 5.4931 - accuracy: 0.2035\n",
            "Epoch 22/50\n",
            "744/744 [==============================] - 17s 23ms/step - loss: 5.5288 - accuracy: 0.2105\n",
            "Epoch 23/50\n",
            "744/744 [==============================] - 18s 24ms/step - loss: 5.6173 - accuracy: 0.2182\n",
            "Epoch 24/50\n",
            "744/744 [==============================] - 18s 24ms/step - loss: 5.5628 - accuracy: 0.2200\n",
            "Epoch 25/50\n",
            "744/744 [==============================] - 17s 23ms/step - loss: 5.5287 - accuracy: 0.2260\n",
            "Epoch 26/50\n",
            "744/744 [==============================] - 18s 24ms/step - loss: 5.5369 - accuracy: 0.2347\n",
            "Epoch 27/50\n",
            "744/744 [==============================] - 17s 23ms/step - loss: 5.5046 - accuracy: 0.2407\n",
            "Epoch 28/50\n",
            "744/744 [==============================] - 18s 24ms/step - loss: 5.5267 - accuracy: 0.2424\n",
            "Epoch 29/50\n",
            "744/744 [==============================] - 17s 23ms/step - loss: 5.5331 - accuracy: 0.2490\n",
            "Epoch 30/50\n",
            "744/744 [==============================] - 18s 24ms/step - loss: 5.4314 - accuracy: 0.2524\n",
            "Epoch 31/50\n",
            "744/744 [==============================] - 18s 24ms/step - loss: 5.4477 - accuracy: 0.2580\n",
            "Epoch 32/50\n",
            "744/744 [==============================] - 18s 24ms/step - loss: 5.4604 - accuracy: 0.2582\n",
            "Epoch 33/50\n",
            "744/744 [==============================] - 18s 24ms/step - loss: 5.4771 - accuracy: 0.2617\n",
            "Epoch 34/50\n",
            "744/744 [==============================] - 18s 24ms/step - loss: 5.4591 - accuracy: 0.2655\n",
            "Epoch 35/50\n",
            "744/744 [==============================] - 18s 24ms/step - loss: 5.3893 - accuracy: 0.2722\n",
            "Epoch 36/50\n",
            "744/744 [==============================] - 18s 24ms/step - loss: 5.3030 - accuracy: 0.2805\n",
            "Epoch 37/50\n",
            "744/744 [==============================] - 18s 24ms/step - loss: 5.3433 - accuracy: 0.2845\n",
            "Epoch 38/50\n",
            "744/744 [==============================] - 18s 24ms/step - loss: 5.4150 - accuracy: 0.2862\n",
            "Epoch 39/50\n",
            "744/744 [==============================] - 18s 24ms/step - loss: 5.3258 - accuracy: 0.2842\n",
            "Epoch 40/50\n",
            "744/744 [==============================] - 18s 24ms/step - loss: 5.2428 - accuracy: 0.2969\n",
            "Epoch 41/50\n",
            "744/744 [==============================] - 18s 24ms/step - loss: 5.2282 - accuracy: 0.3006\n",
            "Epoch 42/50\n",
            "744/744 [==============================] - 18s 24ms/step - loss: 5.2645 - accuracy: 0.3020\n",
            "Epoch 43/50\n",
            "744/744 [==============================] - 17s 23ms/step - loss: 5.2781 - accuracy: 0.3040\n",
            "Epoch 44/50\n",
            "744/744 [==============================] - 18s 24ms/step - loss: 5.2477 - accuracy: 0.3064\n",
            "Epoch 45/50\n",
            "744/744 [==============================] - 18s 24ms/step - loss: 5.1343 - accuracy: 0.3168\n",
            "Epoch 46/50\n",
            "744/744 [==============================] - 18s 24ms/step - loss: 5.2032 - accuracy: 0.3130\n",
            "Epoch 47/50\n",
            "744/744 [==============================] - 18s 24ms/step - loss: 5.1701 - accuracy: 0.3210\n",
            "Epoch 48/50\n",
            "744/744 [==============================] - 17s 23ms/step - loss: 5.1851 - accuracy: 0.3204\n",
            "Epoch 49/50\n",
            "744/744 [==============================] - 18s 24ms/step - loss: 5.1559 - accuracy: 0.3252\n",
            "Epoch 50/50\n",
            "744/744 [==============================] - 18s 24ms/step - loss: 5.1602 - accuracy: 0.3217\n",
            "186/186 [==============================] - 3s 9ms/step - loss: 8.9968 - accuracy: 0.0793\n",
            "744/744 [==============================] - 7s 9ms/step - loss: 5.0625 - accuracy: 0.3359\n",
            "Epoch 1/50\n",
            "744/744 [==============================] - 17s 20ms/step - loss: 6.8573 - accuracy: 0.0632\n",
            "Epoch 2/50\n",
            "744/744 [==============================] - 15s 20ms/step - loss: 6.1090 - accuracy: 0.0653\n",
            "Epoch 3/50\n",
            "744/744 [==============================] - 15s 20ms/step - loss: 6.0439 - accuracy: 0.0620\n",
            "Epoch 4/50\n",
            "744/744 [==============================] - 15s 20ms/step - loss: 5.9410 - accuracy: 0.0655\n",
            "Epoch 5/50\n",
            "744/744 [==============================] - 15s 20ms/step - loss: 5.7968 - accuracy: 0.0754\n",
            "Epoch 6/50\n",
            "744/744 [==============================] - 15s 20ms/step - loss: 5.6060 - accuracy: 0.0975\n",
            "Epoch 7/50\n",
            "744/744 [==============================] - 15s 20ms/step - loss: 5.3948 - accuracy: 0.1134\n",
            "Epoch 8/50\n",
            "744/744 [==============================] - 15s 20ms/step - loss: 5.2169 - accuracy: 0.1274\n",
            "Epoch 9/50\n",
            "744/744 [==============================] - 15s 20ms/step - loss: 5.0325 - accuracy: 0.1481\n",
            "Epoch 10/50\n",
            "744/744 [==============================] - 15s 20ms/step - loss: 4.8795 - accuracy: 0.1590\n",
            "Epoch 11/50\n",
            "744/744 [==============================] - 15s 20ms/step - loss: 4.6842 - accuracy: 0.1851\n",
            "Epoch 12/50\n",
            "744/744 [==============================] - 15s 20ms/step - loss: 4.5440 - accuracy: 0.1956\n",
            "Epoch 13/50\n",
            "744/744 [==============================] - 15s 20ms/step - loss: 4.3730 - accuracy: 0.2119\n",
            "Epoch 14/50\n",
            "744/744 [==============================] - 15s 20ms/step - loss: 4.2232 - accuracy: 0.2296\n",
            "Epoch 15/50\n",
            "744/744 [==============================] - 18s 24ms/step - loss: 4.0883 - accuracy: 0.2431\n",
            "Epoch 16/50\n",
            "744/744 [==============================] - 15s 20ms/step - loss: 3.9228 - accuracy: 0.2618\n",
            "Epoch 17/50\n",
            "744/744 [==============================] - 15s 20ms/step - loss: 3.8174 - accuracy: 0.2726\n",
            "Epoch 18/50\n",
            "744/744 [==============================] - 15s 20ms/step - loss: 3.6809 - accuracy: 0.2924\n",
            "Epoch 19/50\n",
            "744/744 [==============================] - 15s 20ms/step - loss: 3.5250 - accuracy: 0.3114\n",
            "Epoch 20/50\n",
            "744/744 [==============================] - 15s 20ms/step - loss: 3.4064 - accuracy: 0.3295\n",
            "Epoch 21/50\n",
            "744/744 [==============================] - 15s 20ms/step - loss: 3.2815 - accuracy: 0.3437\n",
            "Epoch 22/50\n",
            "744/744 [==============================] - 15s 20ms/step - loss: 3.1536 - accuracy: 0.3692\n",
            "Epoch 23/50\n",
            "744/744 [==============================] - 15s 20ms/step - loss: 3.0238 - accuracy: 0.3903\n",
            "Epoch 24/50\n",
            "744/744 [==============================] - 15s 20ms/step - loss: 2.9098 - accuracy: 0.4087\n",
            "Epoch 25/50\n",
            "744/744 [==============================] - 15s 20ms/step - loss: 2.8275 - accuracy: 0.4187\n",
            "Epoch 26/50\n",
            "744/744 [==============================] - 15s 21ms/step - loss: 2.6852 - accuracy: 0.4452\n",
            "Epoch 27/50\n",
            "744/744 [==============================] - 15s 21ms/step - loss: 2.6052 - accuracy: 0.4633\n",
            "Epoch 28/50\n",
            "744/744 [==============================] - 15s 20ms/step - loss: 2.5161 - accuracy: 0.4798\n",
            "Epoch 29/50\n",
            "744/744 [==============================] - 15s 20ms/step - loss: 2.4085 - accuracy: 0.4978\n",
            "Epoch 30/50\n",
            "744/744 [==============================] - 15s 20ms/step - loss: 2.2955 - accuracy: 0.5193\n",
            "Epoch 31/50\n",
            "744/744 [==============================] - 15s 20ms/step - loss: 2.2149 - accuracy: 0.5321\n",
            "Epoch 32/50\n",
            "744/744 [==============================] - 15s 20ms/step - loss: 2.1289 - accuracy: 0.5538\n",
            "Epoch 33/50\n",
            "744/744 [==============================] - 15s 20ms/step - loss: 2.0241 - accuracy: 0.5711\n",
            "Epoch 34/50\n",
            "744/744 [==============================] - 15s 20ms/step - loss: 1.9849 - accuracy: 0.5794\n",
            "Epoch 35/50\n",
            "744/744 [==============================] - 15s 20ms/step - loss: 1.9015 - accuracy: 0.5973\n",
            "Epoch 36/50\n",
            "744/744 [==============================] - 15s 20ms/step - loss: 1.8150 - accuracy: 0.6100\n",
            "Epoch 37/50\n",
            "744/744 [==============================] - 15s 20ms/step - loss: 1.7465 - accuracy: 0.6258\n",
            "Epoch 38/50\n",
            "744/744 [==============================] - 15s 20ms/step - loss: 1.6810 - accuracy: 0.6384\n",
            "Epoch 39/50\n",
            "744/744 [==============================] - 15s 20ms/step - loss: 1.6370 - accuracy: 0.6498\n",
            "Epoch 40/50\n",
            "744/744 [==============================] - 15s 20ms/step - loss: 1.5700 - accuracy: 0.6588\n",
            "Epoch 41/50\n",
            "744/744 [==============================] - 15s 20ms/step - loss: 1.5209 - accuracy: 0.6699\n",
            "Epoch 42/50\n",
            "744/744 [==============================] - 15s 20ms/step - loss: 1.4579 - accuracy: 0.6835\n",
            "Epoch 43/50\n",
            "744/744 [==============================] - 15s 20ms/step - loss: 1.3976 - accuracy: 0.6933\n",
            "Epoch 44/50\n",
            "744/744 [==============================] - 15s 20ms/step - loss: 1.3538 - accuracy: 0.6996\n",
            "Epoch 45/50\n",
            "744/744 [==============================] - 15s 20ms/step - loss: 1.2994 - accuracy: 0.7141\n",
            "Epoch 46/50\n",
            "744/744 [==============================] - 15s 20ms/step - loss: 1.2573 - accuracy: 0.7192\n",
            "Epoch 47/50\n",
            "744/744 [==============================] - 15s 20ms/step - loss: 1.2219 - accuracy: 0.7238\n",
            "Epoch 48/50\n",
            "744/744 [==============================] - 15s 20ms/step - loss: 1.1707 - accuracy: 0.7340\n",
            "Epoch 49/50\n",
            "744/744 [==============================] - 15s 20ms/step - loss: 1.1396 - accuracy: 0.7451\n",
            "Epoch 50/50\n",
            "744/744 [==============================] - 15s 20ms/step - loss: 1.1009 - accuracy: 0.7489\n",
            "186/186 [==============================] - 2s 9ms/step - loss: 8.4254 - accuracy: 0.0980\n",
            "744/744 [==============================] - 7s 9ms/step - loss: 1.0198 - accuracy: 0.7737\n",
            "Epoch 1/50\n",
            "744/744 [==============================] - 17s 20ms/step - loss: 6.8676 - accuracy: 0.0620\n",
            "Epoch 2/50\n",
            "744/744 [==============================] - 15s 21ms/step - loss: 6.0699 - accuracy: 0.0627\n",
            "Epoch 3/50\n",
            "744/744 [==============================] - 15s 20ms/step - loss: 6.0148 - accuracy: 0.0649\n",
            "Epoch 4/50\n",
            "744/744 [==============================] - 15s 20ms/step - loss: 5.8955 - accuracy: 0.0729\n",
            "Epoch 5/50\n",
            "744/744 [==============================] - 15s 21ms/step - loss: 5.7514 - accuracy: 0.0864\n",
            "Epoch 6/50\n",
            "744/744 [==============================] - 15s 21ms/step - loss: 5.5661 - accuracy: 0.0962\n",
            "Epoch 7/50\n",
            "744/744 [==============================] - 16s 21ms/step - loss: 5.3665 - accuracy: 0.1172\n",
            "Epoch 8/50\n",
            "744/744 [==============================] - 15s 20ms/step - loss: 5.1617 - accuracy: 0.1352\n",
            "Epoch 9/50\n",
            "744/744 [==============================] - 15s 21ms/step - loss: 4.9887 - accuracy: 0.1541\n",
            "Epoch 10/50\n",
            "744/744 [==============================] - 15s 21ms/step - loss: 4.8090 - accuracy: 0.1667\n",
            "Epoch 11/50\n",
            "744/744 [==============================] - 15s 21ms/step - loss: 4.6351 - accuracy: 0.1807\n",
            "Epoch 12/50\n",
            "744/744 [==============================] - 15s 21ms/step - loss: 4.4518 - accuracy: 0.1976\n",
            "Epoch 13/50\n",
            "744/744 [==============================] - 16s 21ms/step - loss: 4.2689 - accuracy: 0.2208\n",
            "Epoch 14/50\n",
            "744/744 [==============================] - 15s 21ms/step - loss: 4.1296 - accuracy: 0.2370\n",
            "Epoch 15/50\n",
            "744/744 [==============================] - 15s 20ms/step - loss: 3.9926 - accuracy: 0.2494\n",
            "Epoch 16/50\n",
            "744/744 [==============================] - 15s 20ms/step - loss: 3.8344 - accuracy: 0.2702\n",
            "Epoch 17/50\n",
            "744/744 [==============================] - 15s 20ms/step - loss: 3.6790 - accuracy: 0.2901\n",
            "Epoch 18/50\n",
            "744/744 [==============================] - 16s 21ms/step - loss: 3.5315 - accuracy: 0.3108\n",
            "Epoch 19/50\n",
            "744/744 [==============================] - 15s 20ms/step - loss: 3.4187 - accuracy: 0.3292\n",
            "Epoch 20/50\n",
            "744/744 [==============================] - 15s 21ms/step - loss: 3.2602 - accuracy: 0.3518\n",
            "Epoch 21/50\n",
            "744/744 [==============================] - 15s 20ms/step - loss: 3.1359 - accuracy: 0.3732\n",
            "Epoch 22/50\n",
            "744/744 [==============================] - 15s 21ms/step - loss: 3.0062 - accuracy: 0.3924\n",
            "Epoch 23/50\n",
            "744/744 [==============================] - 15s 20ms/step - loss: 2.9093 - accuracy: 0.4086\n",
            "Epoch 24/50\n",
            "744/744 [==============================] - 15s 20ms/step - loss: 2.7683 - accuracy: 0.4276\n",
            "Epoch 25/50\n",
            "744/744 [==============================] - 15s 21ms/step - loss: 2.6409 - accuracy: 0.4601\n",
            "Epoch 26/50\n",
            "744/744 [==============================] - 15s 21ms/step - loss: 2.5368 - accuracy: 0.4766\n",
            "Epoch 27/50\n",
            "744/744 [==============================] - 15s 21ms/step - loss: 2.4429 - accuracy: 0.4929\n",
            "Epoch 28/50\n",
            "744/744 [==============================] - 15s 21ms/step - loss: 2.3625 - accuracy: 0.5055\n",
            "Epoch 29/50\n",
            "744/744 [==============================] - 15s 20ms/step - loss: 2.2250 - accuracy: 0.5346\n",
            "Epoch 30/50\n",
            "744/744 [==============================] - 15s 21ms/step - loss: 2.1488 - accuracy: 0.5490\n",
            "Epoch 31/50\n",
            "744/744 [==============================] - 15s 21ms/step - loss: 2.0536 - accuracy: 0.5642\n",
            "Epoch 32/50\n",
            "744/744 [==============================] - 15s 21ms/step - loss: 1.9740 - accuracy: 0.5815\n",
            "Epoch 33/50\n",
            "744/744 [==============================] - 16s 21ms/step - loss: 1.8888 - accuracy: 0.5989\n",
            "Epoch 34/50\n",
            "744/744 [==============================] - 16s 21ms/step - loss: 1.8120 - accuracy: 0.6159\n",
            "Epoch 35/50\n",
            "744/744 [==============================] - 15s 21ms/step - loss: 1.7535 - accuracy: 0.6250\n",
            "Epoch 36/50\n",
            "744/744 [==============================] - 16s 21ms/step - loss: 1.6858 - accuracy: 0.6372\n",
            "Epoch 37/50\n",
            "744/744 [==============================] - 16s 21ms/step - loss: 1.6089 - accuracy: 0.6544\n",
            "Epoch 38/50\n",
            "744/744 [==============================] - 15s 20ms/step - loss: 1.5634 - accuracy: 0.6606\n",
            "Epoch 39/50\n",
            "744/744 [==============================] - 15s 20ms/step - loss: 1.4927 - accuracy: 0.6746\n",
            "Epoch 40/50\n",
            "744/744 [==============================] - 15s 21ms/step - loss: 1.4554 - accuracy: 0.6791\n",
            "Epoch 41/50\n",
            "744/744 [==============================] - 15s 20ms/step - loss: 1.3937 - accuracy: 0.6947\n",
            "Epoch 42/50\n",
            "744/744 [==============================] - 15s 21ms/step - loss: 1.3366 - accuracy: 0.7060\n",
            "Epoch 43/50\n",
            "744/744 [==============================] - 15s 20ms/step - loss: 1.2996 - accuracy: 0.7139\n",
            "Epoch 44/50\n",
            "744/744 [==============================] - 15s 20ms/step - loss: 1.2272 - accuracy: 0.7260\n",
            "Epoch 45/50\n",
            "744/744 [==============================] - 15s 20ms/step - loss: 1.1934 - accuracy: 0.7350\n",
            "Epoch 46/50\n",
            "744/744 [==============================] - 15s 20ms/step - loss: 1.1521 - accuracy: 0.7388\n",
            "Epoch 47/50\n",
            "744/744 [==============================] - 15s 20ms/step - loss: 1.1047 - accuracy: 0.7510\n",
            "Epoch 48/50\n",
            "744/744 [==============================] - 15s 21ms/step - loss: 1.0931 - accuracy: 0.7551\n",
            "Epoch 49/50\n",
            "744/744 [==============================] - 16s 21ms/step - loss: 1.0453 - accuracy: 0.7614\n",
            "Epoch 50/50\n",
            "744/744 [==============================] - 15s 20ms/step - loss: 1.0193 - accuracy: 0.7667\n",
            "186/186 [==============================] - 2s 9ms/step - loss: 8.4658 - accuracy: 0.0990\n",
            "744/744 [==============================] - 7s 10ms/step - loss: 0.9393 - accuracy: 0.7915\n",
            "Epoch 1/50\n",
            "744/744 [==============================] - 17s 21ms/step - loss: 6.8942 - accuracy: 0.0578\n",
            "Epoch 2/50\n",
            "744/744 [==============================] - 15s 21ms/step - loss: 6.0996 - accuracy: 0.0591\n",
            "Epoch 3/50\n",
            "744/744 [==============================] - 15s 21ms/step - loss: 6.0297 - accuracy: 0.0614\n",
            "Epoch 4/50\n",
            "744/744 [==============================] - 15s 21ms/step - loss: 5.9830 - accuracy: 0.0585\n",
            "Epoch 5/50\n",
            "744/744 [==============================] - 16s 21ms/step - loss: 5.8034 - accuracy: 0.0804\n",
            "Epoch 6/50\n",
            "744/744 [==============================] - 15s 21ms/step - loss: 5.5475 - accuracy: 0.1025\n",
            "Epoch 7/50\n",
            "744/744 [==============================] - 15s 21ms/step - loss: 5.3616 - accuracy: 0.1224\n",
            "Epoch 8/50\n",
            "744/744 [==============================] - 15s 21ms/step - loss: 5.1955 - accuracy: 0.1362\n",
            "Epoch 9/50\n",
            "744/744 [==============================] - 15s 21ms/step - loss: 4.9888 - accuracy: 0.1496\n",
            "Epoch 10/50\n",
            "744/744 [==============================] - 15s 21ms/step - loss: 4.7873 - accuracy: 0.1704\n",
            "Epoch 11/50\n",
            "744/744 [==============================] - 15s 20ms/step - loss: 4.6341 - accuracy: 0.1867\n",
            "Epoch 12/50\n",
            "744/744 [==============================] - 15s 20ms/step - loss: 4.4664 - accuracy: 0.2030\n",
            "Epoch 13/50\n",
            "744/744 [==============================] - 15s 21ms/step - loss: 4.2840 - accuracy: 0.2192\n",
            "Epoch 14/50\n",
            "744/744 [==============================] - 15s 21ms/step - loss: 4.1188 - accuracy: 0.2376\n",
            "Epoch 15/50\n",
            "744/744 [==============================] - 15s 21ms/step - loss: 3.9660 - accuracy: 0.2553\n",
            "Epoch 16/50\n",
            "744/744 [==============================] - 15s 21ms/step - loss: 3.8062 - accuracy: 0.2766\n",
            "Epoch 17/50\n",
            "744/744 [==============================] - 15s 21ms/step - loss: 3.7021 - accuracy: 0.2917\n",
            "Epoch 18/50\n",
            "744/744 [==============================] - 15s 20ms/step - loss: 3.5329 - accuracy: 0.3152\n",
            "Epoch 19/50\n",
            "744/744 [==============================] - 15s 21ms/step - loss: 3.3696 - accuracy: 0.3378\n",
            "Epoch 20/50\n",
            "744/744 [==============================] - 16s 21ms/step - loss: 3.2490 - accuracy: 0.3565\n",
            "Epoch 21/50\n",
            "744/744 [==============================] - 15s 21ms/step - loss: 3.1144 - accuracy: 0.3770\n",
            "Epoch 22/50\n",
            "744/744 [==============================] - 15s 21ms/step - loss: 3.0004 - accuracy: 0.3968\n",
            "Epoch 23/50\n",
            "744/744 [==============================] - 15s 21ms/step - loss: 2.8544 - accuracy: 0.4249\n",
            "Epoch 24/50\n",
            "744/744 [==============================] - 16s 21ms/step - loss: 2.7481 - accuracy: 0.4421\n",
            "Epoch 25/50\n",
            "744/744 [==============================] - 16s 21ms/step - loss: 2.6245 - accuracy: 0.4636\n",
            "Epoch 26/50\n",
            "744/744 [==============================] - 16s 21ms/step - loss: 2.5386 - accuracy: 0.4774\n",
            "Epoch 27/50\n",
            "744/744 [==============================] - 16s 21ms/step - loss: 2.4476 - accuracy: 0.4930\n",
            "Epoch 28/50\n",
            "744/744 [==============================] - 15s 21ms/step - loss: 2.3334 - accuracy: 0.5175\n",
            "Epoch 29/50\n",
            "744/744 [==============================] - 16s 21ms/step - loss: 2.2314 - accuracy: 0.5387\n",
            "Epoch 30/50\n",
            "744/744 [==============================] - 16s 21ms/step - loss: 2.1035 - accuracy: 0.5600\n",
            "Epoch 31/50\n",
            "744/744 [==============================] - 16s 21ms/step - loss: 2.0491 - accuracy: 0.5685\n",
            "Epoch 32/50\n",
            "744/744 [==============================] - 15s 21ms/step - loss: 1.9605 - accuracy: 0.5855\n",
            "Epoch 33/50\n",
            "744/744 [==============================] - 15s 21ms/step - loss: 1.8923 - accuracy: 0.6006\n",
            "Epoch 34/50\n",
            "744/744 [==============================] - 16s 21ms/step - loss: 1.8069 - accuracy: 0.6166\n",
            "Epoch 35/50\n",
            "744/744 [==============================] - 16s 21ms/step - loss: 1.7275 - accuracy: 0.6318\n",
            "Epoch 36/50\n",
            "744/744 [==============================] - 16s 21ms/step - loss: 1.6638 - accuracy: 0.6442\n",
            "Epoch 37/50\n",
            "744/744 [==============================] - 16s 21ms/step - loss: 1.5877 - accuracy: 0.6586\n",
            "Epoch 38/50\n",
            "744/744 [==============================] - 16s 21ms/step - loss: 1.5173 - accuracy: 0.6726\n",
            "Epoch 39/50\n",
            "744/744 [==============================] - 15s 21ms/step - loss: 1.4733 - accuracy: 0.6834\n",
            "Epoch 40/50\n",
            "744/744 [==============================] - 16s 21ms/step - loss: 1.4231 - accuracy: 0.6932\n",
            "Epoch 41/50\n",
            "744/744 [==============================] - 16s 21ms/step - loss: 1.3820 - accuracy: 0.6970\n",
            "Epoch 42/50\n",
            "744/744 [==============================] - 16s 21ms/step - loss: 1.3178 - accuracy: 0.7091\n",
            "Epoch 43/50\n",
            "744/744 [==============================] - 16s 21ms/step - loss: 1.2584 - accuracy: 0.7201\n",
            "Epoch 44/50\n",
            "744/744 [==============================] - 16s 21ms/step - loss: 1.2250 - accuracy: 0.7280\n",
            "Epoch 45/50\n",
            "744/744 [==============================] - 16s 21ms/step - loss: 1.1798 - accuracy: 0.7377\n",
            "Epoch 46/50\n",
            "744/744 [==============================] - 15s 21ms/step - loss: 1.1434 - accuracy: 0.7418\n",
            "Epoch 47/50\n",
            "744/744 [==============================] - 15s 21ms/step - loss: 1.1091 - accuracy: 0.7526\n",
            "Epoch 48/50\n",
            "744/744 [==============================] - 16s 21ms/step - loss: 1.0584 - accuracy: 0.7626\n",
            "Epoch 49/50\n",
            "744/744 [==============================] - 16s 21ms/step - loss: 1.0251 - accuracy: 0.7694\n",
            "Epoch 50/50\n",
            "744/744 [==============================] - 15s 21ms/step - loss: 1.0133 - accuracy: 0.7644\n",
            "186/186 [==============================] - 2s 10ms/step - loss: 8.3581 - accuracy: 0.0951\n",
            "744/744 [==============================] - 7s 9ms/step - loss: 0.9176 - accuracy: 0.7922\n",
            "Epoch 1/50\n",
            "744/744 [==============================] - 19s 21ms/step - loss: 6.8896 - accuracy: 0.0551\n",
            "Epoch 2/50\n",
            "744/744 [==============================] - 15s 21ms/step - loss: 6.1175 - accuracy: 0.0606\n",
            "Epoch 3/50\n",
            "744/744 [==============================] - 15s 21ms/step - loss: 6.0329 - accuracy: 0.0583\n",
            "Epoch 4/50\n",
            "744/744 [==============================] - 16s 21ms/step - loss: 5.9487 - accuracy: 0.0574\n",
            "Epoch 5/50\n",
            "744/744 [==============================] - 15s 21ms/step - loss: 5.8132 - accuracy: 0.0746\n",
            "Epoch 6/50\n",
            "744/744 [==============================] - 15s 21ms/step - loss: 5.6133 - accuracy: 0.0918\n",
            "Epoch 7/50\n",
            "744/744 [==============================] - 15s 21ms/step - loss: 5.4424 - accuracy: 0.1123\n",
            "Epoch 8/50\n",
            "744/744 [==============================] - 15s 20ms/step - loss: 5.2169 - accuracy: 0.1292\n",
            "Epoch 9/50\n",
            "744/744 [==============================] - 15s 20ms/step - loss: 5.0267 - accuracy: 0.1489\n",
            "Epoch 10/50\n",
            "744/744 [==============================] - 15s 21ms/step - loss: 4.8173 - accuracy: 0.1713\n",
            "Epoch 11/50\n",
            "744/744 [==============================] - 15s 21ms/step - loss: 4.6696 - accuracy: 0.1762\n",
            "Epoch 12/50\n",
            "744/744 [==============================] - 15s 21ms/step - loss: 4.4723 - accuracy: 0.1965\n",
            "Epoch 13/50\n",
            "744/744 [==============================] - 15s 21ms/step - loss: 4.3076 - accuracy: 0.2127\n",
            "Epoch 14/50\n",
            "744/744 [==============================] - 15s 21ms/step - loss: 4.1669 - accuracy: 0.2294\n",
            "Epoch 15/50\n",
            "744/744 [==============================] - 15s 21ms/step - loss: 3.9968 - accuracy: 0.2479\n",
            "Epoch 16/50\n",
            "744/744 [==============================] - 15s 20ms/step - loss: 3.8713 - accuracy: 0.2613\n",
            "Epoch 17/50\n",
            "744/744 [==============================] - 15s 20ms/step - loss: 3.7018 - accuracy: 0.2857\n",
            "Epoch 18/50\n",
            "744/744 [==============================] - 15s 20ms/step - loss: 3.5531 - accuracy: 0.3069\n",
            "Epoch 19/50\n",
            "744/744 [==============================] - 15s 21ms/step - loss: 3.4314 - accuracy: 0.3265\n",
            "Epoch 20/50\n",
            "744/744 [==============================] - 15s 21ms/step - loss: 3.3092 - accuracy: 0.3448\n",
            "Epoch 21/50\n",
            "744/744 [==============================] - 15s 21ms/step - loss: 3.1649 - accuracy: 0.3711\n",
            "Epoch 22/50\n",
            "744/744 [==============================] - 15s 21ms/step - loss: 3.0198 - accuracy: 0.3919\n",
            "Epoch 23/50\n",
            "744/744 [==============================] - 15s 21ms/step - loss: 2.9150 - accuracy: 0.4047\n",
            "Epoch 24/50\n",
            "744/744 [==============================] - 16s 22ms/step - loss: 2.7745 - accuracy: 0.4356\n",
            "Epoch 25/50\n",
            "744/744 [==============================] - 16s 21ms/step - loss: 2.6508 - accuracy: 0.4570\n",
            "Epoch 26/50\n",
            "744/744 [==============================] - 16s 21ms/step - loss: 2.5181 - accuracy: 0.4850\n",
            "Epoch 27/50\n",
            "744/744 [==============================] - 16s 21ms/step - loss: 2.4076 - accuracy: 0.5019\n",
            "Epoch 28/50\n",
            "744/744 [==============================] - 16s 21ms/step - loss: 2.3489 - accuracy: 0.5109\n",
            "Epoch 29/50\n",
            "744/744 [==============================] - 16s 21ms/step - loss: 2.2400 - accuracy: 0.5360\n",
            "Epoch 30/50\n",
            "744/744 [==============================] - 16s 21ms/step - loss: 2.1409 - accuracy: 0.5544\n",
            "Epoch 31/50\n",
            "744/744 [==============================] - 16s 21ms/step - loss: 2.0460 - accuracy: 0.5655\n",
            "Epoch 32/50\n",
            "744/744 [==============================] - 16s 21ms/step - loss: 1.9813 - accuracy: 0.5823\n",
            "Epoch 33/50\n",
            "744/744 [==============================] - 16s 21ms/step - loss: 1.8798 - accuracy: 0.6042\n",
            "Epoch 34/50\n",
            "744/744 [==============================] - 16s 21ms/step - loss: 1.8065 - accuracy: 0.6137\n",
            "Epoch 35/50\n",
            "744/744 [==============================] - 16s 21ms/step - loss: 1.7375 - accuracy: 0.6292\n",
            "Epoch 36/50\n",
            "744/744 [==============================] - 16s 21ms/step - loss: 1.6607 - accuracy: 0.6433\n",
            "Epoch 37/50\n",
            "744/744 [==============================] - 16s 21ms/step - loss: 1.6000 - accuracy: 0.6535\n",
            "Epoch 38/50\n",
            "744/744 [==============================] - 16s 21ms/step - loss: 1.5306 - accuracy: 0.6667\n",
            "Epoch 39/50\n",
            "744/744 [==============================] - 16s 21ms/step - loss: 1.4716 - accuracy: 0.6792\n",
            "Epoch 40/50\n",
            "744/744 [==============================] - 15s 21ms/step - loss: 1.4121 - accuracy: 0.6891\n",
            "Epoch 41/50\n",
            "744/744 [==============================] - 16s 21ms/step - loss: 1.3647 - accuracy: 0.7006\n",
            "Epoch 42/50\n",
            "744/744 [==============================] - 15s 21ms/step - loss: 1.3273 - accuracy: 0.7039\n",
            "Epoch 43/50\n",
            "744/744 [==============================] - 15s 21ms/step - loss: 1.2682 - accuracy: 0.7156\n",
            "Epoch 44/50\n",
            "744/744 [==============================] - 16s 21ms/step - loss: 1.2331 - accuracy: 0.7246\n",
            "Epoch 45/50\n",
            "744/744 [==============================] - 16s 21ms/step - loss: 1.1838 - accuracy: 0.7319\n",
            "Epoch 46/50\n",
            "744/744 [==============================] - 16s 21ms/step - loss: 1.1382 - accuracy: 0.7413\n",
            "Epoch 47/50\n",
            "744/744 [==============================] - 16s 21ms/step - loss: 1.1026 - accuracy: 0.7492\n",
            "Epoch 48/50\n",
            "744/744 [==============================] - 16s 21ms/step - loss: 1.0532 - accuracy: 0.7590\n",
            "Epoch 49/50\n",
            "744/744 [==============================] - 16s 21ms/step - loss: 1.0297 - accuracy: 0.7635\n",
            "Epoch 50/50\n",
            "744/744 [==============================] - 16s 21ms/step - loss: 0.9824 - accuracy: 0.7668\n",
            "186/186 [==============================] - 2s 10ms/step - loss: 8.7742 - accuracy: 0.0958\n",
            "744/744 [==============================] - 7s 10ms/step - loss: 0.9144 - accuracy: 0.7919\n",
            "Epoch 1/50\n",
            "744/744 [==============================] - 17s 21ms/step - loss: 6.7918 - accuracy: 0.0549\n",
            "Epoch 2/50\n",
            "744/744 [==============================] - 16s 21ms/step - loss: 5.9811 - accuracy: 0.0601\n",
            "Epoch 3/50\n",
            "744/744 [==============================] - 17s 22ms/step - loss: 5.9372 - accuracy: 0.0576\n",
            "Epoch 4/50\n",
            "744/744 [==============================] - 16s 21ms/step - loss: 5.8845 - accuracy: 0.0575\n",
            "Epoch 5/50\n",
            "744/744 [==============================] - 16s 21ms/step - loss: 5.7836 - accuracy: 0.0626\n",
            "Epoch 6/50\n",
            "744/744 [==============================] - 16s 21ms/step - loss: 5.6553 - accuracy: 0.0796\n",
            "Epoch 7/50\n",
            "744/744 [==============================] - 16s 21ms/step - loss: 5.4464 - accuracy: 0.1021\n",
            "Epoch 8/50\n",
            "744/744 [==============================] - 16s 21ms/step - loss: 5.2505 - accuracy: 0.1231\n",
            "Epoch 9/50\n",
            "744/744 [==============================] - 16s 21ms/step - loss: 5.0360 - accuracy: 0.1423\n",
            "Epoch 10/50\n",
            "744/744 [==============================] - 16s 22ms/step - loss: 4.8618 - accuracy: 0.1543\n",
            "Epoch 11/50\n",
            "744/744 [==============================] - 16s 21ms/step - loss: 4.7048 - accuracy: 0.1707\n",
            "Epoch 12/50\n",
            "744/744 [==============================] - 16s 21ms/step - loss: 4.5791 - accuracy: 0.1810\n",
            "Epoch 13/50\n",
            "744/744 [==============================] - 16s 22ms/step - loss: 4.3664 - accuracy: 0.2002\n",
            "Epoch 14/50\n",
            "744/744 [==============================] - 16s 21ms/step - loss: 4.2609 - accuracy: 0.2109\n",
            "Epoch 15/50\n",
            "744/744 [==============================] - 16s 22ms/step - loss: 4.0911 - accuracy: 0.2312\n",
            "Epoch 16/50\n",
            "744/744 [==============================] - 16s 21ms/step - loss: 3.9509 - accuracy: 0.2503\n",
            "Epoch 17/50\n",
            "744/744 [==============================] - 16s 22ms/step - loss: 3.8048 - accuracy: 0.2678\n",
            "Epoch 18/50\n",
            "744/744 [==============================] - 16s 22ms/step - loss: 3.6642 - accuracy: 0.2852\n",
            "Epoch 19/50\n",
            "744/744 [==============================] - 16s 22ms/step - loss: 3.5467 - accuracy: 0.2963\n",
            "Epoch 20/50\n",
            "744/744 [==============================] - 16s 22ms/step - loss: 3.4217 - accuracy: 0.3173\n",
            "Epoch 21/50\n",
            "744/744 [==============================] - 16s 22ms/step - loss: 3.3154 - accuracy: 0.3309\n",
            "Epoch 22/50\n",
            "744/744 [==============================] - 16s 22ms/step - loss: 3.1737 - accuracy: 0.3543\n",
            "Epoch 23/50\n",
            "744/744 [==============================] - 16s 21ms/step - loss: 3.0621 - accuracy: 0.3771\n",
            "Epoch 24/50\n",
            "744/744 [==============================] - 16s 21ms/step - loss: 2.9321 - accuracy: 0.3968\n",
            "Epoch 25/50\n",
            "744/744 [==============================] - 16s 21ms/step - loss: 2.8450 - accuracy: 0.4082\n",
            "Epoch 26/50\n",
            "744/744 [==============================] - 16s 21ms/step - loss: 2.7293 - accuracy: 0.4300\n",
            "Epoch 27/50\n",
            "744/744 [==============================] - 16s 21ms/step - loss: 2.6092 - accuracy: 0.4545\n",
            "Epoch 28/50\n",
            "744/744 [==============================] - 16s 21ms/step - loss: 2.5156 - accuracy: 0.4726\n",
            "Epoch 29/50\n",
            "744/744 [==============================] - 16s 21ms/step - loss: 2.4265 - accuracy: 0.4896\n",
            "Epoch 30/50\n",
            "744/744 [==============================] - 16s 21ms/step - loss: 2.3352 - accuracy: 0.5047\n",
            "Epoch 31/50\n",
            "744/744 [==============================] - 16s 21ms/step - loss: 2.2422 - accuracy: 0.5224\n",
            "Epoch 32/50\n",
            "744/744 [==============================] - 20s 27ms/step - loss: 2.1690 - accuracy: 0.5369\n",
            "Epoch 33/50\n",
            "744/744 [==============================] - 16s 22ms/step - loss: 2.0942 - accuracy: 0.5476\n",
            "Epoch 34/50\n",
            "744/744 [==============================] - 16s 21ms/step - loss: 1.9944 - accuracy: 0.5732\n",
            "Epoch 35/50\n",
            "744/744 [==============================] - 16s 21ms/step - loss: 1.9208 - accuracy: 0.5856\n",
            "Epoch 36/50\n",
            "744/744 [==============================] - 16s 21ms/step - loss: 1.8728 - accuracy: 0.5962\n",
            "Epoch 37/50\n",
            "744/744 [==============================] - 16s 21ms/step - loss: 1.7985 - accuracy: 0.6136\n",
            "Epoch 38/50\n",
            "744/744 [==============================] - 16s 21ms/step - loss: 1.7197 - accuracy: 0.6278\n",
            "Epoch 39/50\n",
            "744/744 [==============================] - 16s 21ms/step - loss: 1.6554 - accuracy: 0.6359\n",
            "Epoch 40/50\n",
            "744/744 [==============================] - 16s 21ms/step - loss: 1.6244 - accuracy: 0.6470\n",
            "Epoch 41/50\n",
            "744/744 [==============================] - 16s 21ms/step - loss: 1.5747 - accuracy: 0.6516\n",
            "Epoch 42/50\n",
            "744/744 [==============================] - 16s 22ms/step - loss: 1.5054 - accuracy: 0.6708\n",
            "Epoch 43/50\n",
            "744/744 [==============================] - 16s 21ms/step - loss: 1.4559 - accuracy: 0.6762\n",
            "Epoch 44/50\n",
            "744/744 [==============================] - 16s 21ms/step - loss: 1.4026 - accuracy: 0.6874\n",
            "Epoch 45/50\n",
            "744/744 [==============================] - 16s 21ms/step - loss: 1.3590 - accuracy: 0.6990\n",
            "Epoch 46/50\n",
            "744/744 [==============================] - 16s 22ms/step - loss: 1.3058 - accuracy: 0.7063\n",
            "Epoch 47/50\n",
            "744/744 [==============================] - 16s 22ms/step - loss: 1.2674 - accuracy: 0.7155\n",
            "Epoch 48/50\n",
            "744/744 [==============================] - 16s 21ms/step - loss: 1.2309 - accuracy: 0.7244\n",
            "Epoch 49/50\n",
            "744/744 [==============================] - 16s 21ms/step - loss: 1.1938 - accuracy: 0.7315\n",
            "Epoch 50/50\n",
            "744/744 [==============================] - 16s 22ms/step - loss: 1.1525 - accuracy: 0.7340\n",
            "186/186 [==============================] - 2s 10ms/step - loss: 11.3420 - accuracy: 0.0853\n",
            "744/744 [==============================] - 8s 10ms/step - loss: 1.0643 - accuracy: 0.7587\n",
            "Epoch 1/100\n",
            "744/744 [==============================] - 21s 25ms/step - loss: 6.7643 - accuracy: 0.0618\n",
            "Epoch 2/100\n",
            "744/744 [==============================] - 19s 25ms/step - loss: 6.1156 - accuracy: 0.0640\n",
            "Epoch 3/100\n",
            "744/744 [==============================] - 19s 26ms/step - loss: 6.0255 - accuracy: 0.0629\n",
            "Epoch 4/100\n",
            "744/744 [==============================] - 19s 26ms/step - loss: 5.9186 - accuracy: 0.0662\n",
            "Epoch 5/100\n",
            "744/744 [==============================] - 19s 26ms/step - loss: 5.7894 - accuracy: 0.0827\n",
            "Epoch 6/100\n",
            "744/744 [==============================] - 19s 26ms/step - loss: 5.6902 - accuracy: 0.0889\n",
            "Epoch 7/100\n",
            "744/744 [==============================] - 19s 26ms/step - loss: 5.5882 - accuracy: 0.0991\n",
            "Epoch 8/100\n",
            "744/744 [==============================] - 19s 26ms/step - loss: 5.5352 - accuracy: 0.1125\n",
            "Epoch 9/100\n",
            "744/744 [==============================] - 19s 26ms/step - loss: 5.4074 - accuracy: 0.1293\n",
            "Epoch 10/100\n",
            "744/744 [==============================] - 19s 26ms/step - loss: 5.3390 - accuracy: 0.1340\n",
            "Epoch 11/100\n",
            "744/744 [==============================] - 19s 26ms/step - loss: 5.2773 - accuracy: 0.1465\n",
            "Epoch 12/100\n",
            "744/744 [==============================] - 19s 26ms/step - loss: 5.2118 - accuracy: 0.1523\n",
            "Epoch 13/100\n",
            "744/744 [==============================] - 19s 25ms/step - loss: 5.1271 - accuracy: 0.1607\n",
            "Epoch 14/100\n",
            "744/744 [==============================] - 19s 25ms/step - loss: 5.1111 - accuracy: 0.1651\n",
            "Epoch 15/100\n",
            "744/744 [==============================] - 19s 25ms/step - loss: 5.0707 - accuracy: 0.1731\n",
            "Epoch 16/100\n",
            "744/744 [==============================] - 19s 25ms/step - loss: 5.0817 - accuracy: 0.1811\n",
            "Epoch 17/100\n",
            "744/744 [==============================] - 19s 25ms/step - loss: 5.1314 - accuracy: 0.1908\n",
            "Epoch 18/100\n",
            "744/744 [==============================] - 19s 26ms/step - loss: 5.2011 - accuracy: 0.1990\n",
            "Epoch 19/100\n",
            "744/744 [==============================] - 19s 25ms/step - loss: 5.3479 - accuracy: 0.1988\n",
            "Epoch 20/100\n",
            "744/744 [==============================] - 19s 25ms/step - loss: 5.4214 - accuracy: 0.2055\n",
            "Epoch 21/100\n",
            "744/744 [==============================] - 19s 25ms/step - loss: 5.5109 - accuracy: 0.2123\n",
            "Epoch 22/100\n",
            "744/744 [==============================] - 19s 25ms/step - loss: 5.6122 - accuracy: 0.2209\n",
            "Epoch 23/100\n",
            "744/744 [==============================] - 19s 26ms/step - loss: 5.5965 - accuracy: 0.2307\n",
            "Epoch 24/100\n",
            "744/744 [==============================] - 19s 25ms/step - loss: 5.6573 - accuracy: 0.2274\n",
            "Epoch 25/100\n",
            "744/744 [==============================] - 19s 25ms/step - loss: 5.6306 - accuracy: 0.2366\n",
            "Epoch 26/100\n",
            "744/744 [==============================] - 19s 26ms/step - loss: 5.6015 - accuracy: 0.2458\n",
            "Epoch 27/100\n",
            "744/744 [==============================] - 19s 25ms/step - loss: 5.6308 - accuracy: 0.2471\n",
            "Epoch 28/100\n",
            "744/744 [==============================] - 19s 25ms/step - loss: 5.5987 - accuracy: 0.2509\n",
            "Epoch 29/100\n",
            "744/744 [==============================] - 19s 25ms/step - loss: 5.6087 - accuracy: 0.2606\n",
            "Epoch 30/100\n",
            "744/744 [==============================] - 19s 26ms/step - loss: 5.5614 - accuracy: 0.2666\n",
            "Epoch 31/100\n",
            "744/744 [==============================] - 19s 26ms/step - loss: 5.5386 - accuracy: 0.2719\n",
            "Epoch 32/100\n",
            "744/744 [==============================] - 19s 26ms/step - loss: 5.5802 - accuracy: 0.2733\n",
            "Epoch 33/100\n",
            "744/744 [==============================] - 19s 26ms/step - loss: 5.5639 - accuracy: 0.2805\n",
            "Epoch 34/100\n",
            "744/744 [==============================] - 19s 26ms/step - loss: 5.4961 - accuracy: 0.2813\n",
            "Epoch 35/100\n",
            "744/744 [==============================] - 19s 26ms/step - loss: 5.5244 - accuracy: 0.2860\n",
            "Epoch 36/100\n",
            "744/744 [==============================] - 19s 26ms/step - loss: 5.4633 - accuracy: 0.2939\n",
            "Epoch 37/100\n",
            "744/744 [==============================] - 19s 26ms/step - loss: 5.4823 - accuracy: 0.2964\n",
            "Epoch 38/100\n",
            "744/744 [==============================] - 19s 26ms/step - loss: 5.3897 - accuracy: 0.3033\n",
            "Epoch 39/100\n",
            "744/744 [==============================] - 19s 26ms/step - loss: 5.4642 - accuracy: 0.2999\n",
            "Epoch 40/100\n",
            "744/744 [==============================] - 19s 26ms/step - loss: 5.4046 - accuracy: 0.3103\n",
            "Epoch 41/100\n",
            "744/744 [==============================] - 19s 26ms/step - loss: 5.3836 - accuracy: 0.3119\n",
            "Epoch 42/100\n",
            "744/744 [==============================] - 19s 26ms/step - loss: 5.3370 - accuracy: 0.3159\n",
            "Epoch 43/100\n",
            "744/744 [==============================] - 19s 26ms/step - loss: 5.3629 - accuracy: 0.3248\n",
            "Epoch 44/100\n",
            "744/744 [==============================] - 19s 26ms/step - loss: 5.3940 - accuracy: 0.3210\n",
            "Epoch 45/100\n",
            "744/744 [==============================] - 19s 25ms/step - loss: 5.3440 - accuracy: 0.3238\n",
            "Epoch 46/100\n",
            "744/744 [==============================] - 19s 25ms/step - loss: 5.3056 - accuracy: 0.3299\n",
            "Epoch 47/100\n",
            "744/744 [==============================] - 19s 26ms/step - loss: 5.2685 - accuracy: 0.3331\n",
            "Epoch 48/100\n",
            "744/744 [==============================] - 19s 26ms/step - loss: 5.3163 - accuracy: 0.3319\n",
            "Epoch 49/100\n",
            "744/744 [==============================] - 19s 25ms/step - loss: 5.3187 - accuracy: 0.3342\n",
            "Epoch 50/100\n",
            "744/744 [==============================] - 19s 26ms/step - loss: 5.2408 - accuracy: 0.3387\n",
            "Epoch 51/100\n",
            "744/744 [==============================] - 19s 26ms/step - loss: 5.2720 - accuracy: 0.3484\n",
            "Epoch 52/100\n",
            "744/744 [==============================] - 19s 26ms/step - loss: 5.2028 - accuracy: 0.3482\n",
            "Epoch 53/100\n",
            "744/744 [==============================] - 19s 26ms/step - loss: 5.2015 - accuracy: 0.3494\n",
            "Epoch 54/100\n",
            "744/744 [==============================] - 19s 26ms/step - loss: 5.1557 - accuracy: 0.3582\n",
            "Epoch 55/100\n",
            "744/744 [==============================] - 19s 26ms/step - loss: 5.1984 - accuracy: 0.3569\n",
            "Epoch 56/100\n",
            "744/744 [==============================] - 19s 26ms/step - loss: 5.1360 - accuracy: 0.3549\n",
            "Epoch 57/100\n",
            "744/744 [==============================] - 19s 26ms/step - loss: 5.1252 - accuracy: 0.3647\n",
            "Epoch 58/100\n",
            "744/744 [==============================] - 19s 26ms/step - loss: 5.1736 - accuracy: 0.3618\n",
            "Epoch 59/100\n",
            "744/744 [==============================] - 19s 26ms/step - loss: 5.1707 - accuracy: 0.3606\n",
            "Epoch 60/100\n",
            "744/744 [==============================] - 19s 26ms/step - loss: 5.0926 - accuracy: 0.3681\n",
            "Epoch 61/100\n",
            "744/744 [==============================] - 19s 26ms/step - loss: 5.1084 - accuracy: 0.3699\n",
            "Epoch 62/100\n",
            "744/744 [==============================] - 19s 26ms/step - loss: 5.0770 - accuracy: 0.3731\n",
            "Epoch 63/100\n",
            "744/744 [==============================] - 19s 26ms/step - loss: 5.0771 - accuracy: 0.3795\n",
            "Epoch 64/100\n",
            "744/744 [==============================] - 19s 26ms/step - loss: 5.0618 - accuracy: 0.3772\n",
            "Epoch 65/100\n",
            "744/744 [==============================] - 19s 26ms/step - loss: 5.0394 - accuracy: 0.3818\n",
            "Epoch 66/100\n",
            "744/744 [==============================] - 19s 26ms/step - loss: 4.9886 - accuracy: 0.3822\n",
            "Epoch 67/100\n",
            "744/744 [==============================] - 19s 26ms/step - loss: 5.0329 - accuracy: 0.3833\n",
            "Epoch 68/100\n",
            "744/744 [==============================] - 19s 26ms/step - loss: 5.0353 - accuracy: 0.3862\n",
            "Epoch 69/100\n",
            "744/744 [==============================] - 20s 27ms/step - loss: 5.0035 - accuracy: 0.3931\n",
            "Epoch 70/100\n",
            "744/744 [==============================] - 20s 26ms/step - loss: 5.0382 - accuracy: 0.3831\n",
            "Epoch 71/100\n",
            "744/744 [==============================] - 20s 26ms/step - loss: 5.0393 - accuracy: 0.3873\n",
            "Epoch 72/100\n",
            "744/744 [==============================] - 20s 26ms/step - loss: 5.0240 - accuracy: 0.3899\n",
            "Epoch 73/100\n",
            "744/744 [==============================] - 20s 27ms/step - loss: 4.9970 - accuracy: 0.3922\n",
            "Epoch 74/100\n",
            "744/744 [==============================] - 20s 27ms/step - loss: 4.9632 - accuracy: 0.3980\n",
            "Epoch 75/100\n",
            "744/744 [==============================] - 20s 27ms/step - loss: 4.9904 - accuracy: 0.3923\n",
            "Epoch 76/100\n",
            "744/744 [==============================] - 19s 26ms/step - loss: 5.0211 - accuracy: 0.3985\n",
            "Epoch 77/100\n",
            "744/744 [==============================] - 20s 26ms/step - loss: 4.9547 - accuracy: 0.4006\n",
            "Epoch 78/100\n",
            "744/744 [==============================] - 20s 27ms/step - loss: 4.9304 - accuracy: 0.4084\n",
            "Epoch 79/100\n",
            "744/744 [==============================] - 19s 26ms/step - loss: 4.9469 - accuracy: 0.4042\n",
            "Epoch 80/100\n",
            "744/744 [==============================] - 19s 26ms/step - loss: 4.9464 - accuracy: 0.4041\n",
            "Epoch 81/100\n",
            "744/744 [==============================] - 19s 26ms/step - loss: 4.9356 - accuracy: 0.4079\n",
            "Epoch 82/100\n",
            "744/744 [==============================] - 22s 30ms/step - loss: 4.8555 - accuracy: 0.4157\n",
            "Epoch 83/100\n",
            "744/744 [==============================] - 19s 26ms/step - loss: 4.9134 - accuracy: 0.4095\n",
            "Epoch 84/100\n",
            "744/744 [==============================] - 19s 26ms/step - loss: 4.8975 - accuracy: 0.4117\n",
            "Epoch 85/100\n",
            "744/744 [==============================] - 19s 26ms/step - loss: 4.8737 - accuracy: 0.4169\n",
            "Epoch 86/100\n",
            "744/744 [==============================] - 19s 26ms/step - loss: 4.8544 - accuracy: 0.4152\n",
            "Epoch 87/100\n",
            "744/744 [==============================] - 19s 26ms/step - loss: 4.8784 - accuracy: 0.4164\n",
            "Epoch 88/100\n",
            "744/744 [==============================] - 20s 26ms/step - loss: 4.8592 - accuracy: 0.4216\n",
            "Epoch 89/100\n",
            "744/744 [==============================] - 19s 26ms/step - loss: 4.9199 - accuracy: 0.4148\n",
            "Epoch 90/100\n",
            "744/744 [==============================] - 19s 26ms/step - loss: 4.8638 - accuracy: 0.4210\n",
            "Epoch 91/100\n",
            "744/744 [==============================] - 19s 26ms/step - loss: 4.8333 - accuracy: 0.4224\n",
            "Epoch 92/100\n",
            "744/744 [==============================] - 19s 26ms/step - loss: 4.7882 - accuracy: 0.4264\n",
            "Epoch 93/100\n",
            "744/744 [==============================] - 19s 26ms/step - loss: 4.8201 - accuracy: 0.4274\n",
            "Epoch 94/100\n",
            "744/744 [==============================] - 19s 26ms/step - loss: 4.8319 - accuracy: 0.4266\n",
            "Epoch 95/100\n",
            "744/744 [==============================] - 20s 26ms/step - loss: 4.8236 - accuracy: 0.4260\n",
            "Epoch 96/100\n",
            "744/744 [==============================] - 20s 26ms/step - loss: 4.8470 - accuracy: 0.4268\n",
            "Epoch 97/100\n",
            "744/744 [==============================] - 19s 26ms/step - loss: 4.8319 - accuracy: 0.4296\n",
            "Epoch 98/100\n",
            "744/744 [==============================] - 19s 26ms/step - loss: 4.8510 - accuracy: 0.4291\n",
            "Epoch 99/100\n",
            "744/744 [==============================] - 19s 26ms/step - loss: 4.8251 - accuracy: 0.4321\n",
            "Epoch 100/100\n",
            "744/744 [==============================] - 19s 26ms/step - loss: 4.7677 - accuracy: 0.4343\n",
            "186/186 [==============================] - 3s 11ms/step - loss: 7.3599 - accuracy: 0.0990\n",
            "744/744 [==============================] - 8s 10ms/step - loss: 4.7294 - accuracy: 0.4414\n",
            "Epoch 1/100\n",
            "744/744 [==============================] - 21s 26ms/step - loss: 6.7565 - accuracy: 0.0606\n",
            "Epoch 2/100\n",
            "744/744 [==============================] - 19s 26ms/step - loss: 6.1018 - accuracy: 0.0650\n",
            "Epoch 3/100\n",
            "744/744 [==============================] - 20s 26ms/step - loss: 6.0344 - accuracy: 0.0643\n",
            "Epoch 4/100\n",
            "744/744 [==============================] - 19s 26ms/step - loss: 5.9363 - accuracy: 0.0656\n",
            "Epoch 5/100\n",
            "744/744 [==============================] - 20s 26ms/step - loss: 5.8422 - accuracy: 0.0805\n",
            "Epoch 6/100\n",
            "744/744 [==============================] - 19s 26ms/step - loss: 5.7080 - accuracy: 0.0877\n",
            "Epoch 7/100\n",
            "744/744 [==============================] - 19s 26ms/step - loss: 5.6176 - accuracy: 0.0985\n",
            "Epoch 8/100\n",
            "744/744 [==============================] - 19s 26ms/step - loss: 5.5138 - accuracy: 0.1083\n",
            "Epoch 9/100\n",
            "744/744 [==============================] - 19s 26ms/step - loss: 5.4242 - accuracy: 0.1237\n",
            "Epoch 10/100\n",
            "744/744 [==============================] - 19s 26ms/step - loss: 5.3645 - accuracy: 0.1332\n",
            "Epoch 11/100\n",
            "744/744 [==============================] - 19s 26ms/step - loss: 5.2721 - accuracy: 0.1447\n",
            "Epoch 12/100\n",
            "744/744 [==============================] - 19s 26ms/step - loss: 5.2099 - accuracy: 0.1541\n",
            "Epoch 13/100\n",
            "744/744 [==============================] - 19s 26ms/step - loss: 5.1796 - accuracy: 0.1587\n",
            "Epoch 14/100\n",
            "744/744 [==============================] - 19s 26ms/step - loss: 5.1434 - accuracy: 0.1697\n",
            "Epoch 15/100\n",
            "744/744 [==============================] - 19s 26ms/step - loss: 5.1833 - accuracy: 0.1665\n",
            "Epoch 16/100\n",
            "744/744 [==============================] - 19s 26ms/step - loss: 5.2720 - accuracy: 0.1817\n",
            "Epoch 17/100\n",
            "744/744 [==============================] - 19s 26ms/step - loss: 5.3261 - accuracy: 0.1888\n",
            "Epoch 18/100\n",
            "744/744 [==============================] - 20s 26ms/step - loss: 5.4307 - accuracy: 0.1991\n",
            "Epoch 19/100\n",
            "744/744 [==============================] - 19s 26ms/step - loss: 5.5241 - accuracy: 0.2053\n",
            "Epoch 20/100\n",
            "744/744 [==============================] - 19s 26ms/step - loss: 5.5625 - accuracy: 0.2072\n",
            "Epoch 21/100\n",
            "744/744 [==============================] - 19s 26ms/step - loss: 5.6294 - accuracy: 0.2125\n",
            "Epoch 22/100\n",
            "744/744 [==============================] - 20s 26ms/step - loss: 5.6273 - accuracy: 0.2176\n",
            "Epoch 23/100\n",
            "744/744 [==============================] - 19s 26ms/step - loss: 5.6119 - accuracy: 0.2283\n",
            "Epoch 24/100\n",
            "744/744 [==============================] - 19s 26ms/step - loss: 5.6327 - accuracy: 0.2374\n",
            "Epoch 25/100\n",
            "744/744 [==============================] - 19s 26ms/step - loss: 5.6267 - accuracy: 0.2379\n",
            "Epoch 26/100\n",
            "744/744 [==============================] - 19s 26ms/step - loss: 5.6338 - accuracy: 0.2469\n",
            "Epoch 27/100\n",
            "744/744 [==============================] - 19s 26ms/step - loss: 5.6075 - accuracy: 0.2503\n",
            "Epoch 28/100\n",
            "744/744 [==============================] - 20s 26ms/step - loss: 5.6378 - accuracy: 0.2563\n",
            "Epoch 29/100\n",
            "744/744 [==============================] - 20s 27ms/step - loss: 5.5718 - accuracy: 0.2685\n",
            "Epoch 30/100\n",
            "744/744 [==============================] - 20s 27ms/step - loss: 5.5573 - accuracy: 0.2725\n",
            "Epoch 31/100\n",
            "744/744 [==============================] - 20s 27ms/step - loss: 5.6569 - accuracy: 0.2653\n",
            "Epoch 32/100\n",
            "744/744 [==============================] - 20s 27ms/step - loss: 5.5950 - accuracy: 0.2760\n",
            "Epoch 33/100\n",
            "744/744 [==============================] - 20s 27ms/step - loss: 5.5757 - accuracy: 0.2800\n",
            "Epoch 34/100\n",
            "744/744 [==============================] - 20s 27ms/step - loss: 5.5416 - accuracy: 0.2857\n",
            "Epoch 35/100\n",
            "744/744 [==============================] - 20s 27ms/step - loss: 5.4552 - accuracy: 0.2936\n",
            "Epoch 36/100\n",
            "744/744 [==============================] - 20s 27ms/step - loss: 5.4452 - accuracy: 0.2958\n",
            "Epoch 37/100\n",
            "744/744 [==============================] - 20s 27ms/step - loss: 5.4551 - accuracy: 0.2982\n",
            "Epoch 38/100\n",
            "744/744 [==============================] - 20s 27ms/step - loss: 5.4725 - accuracy: 0.2996\n",
            "Epoch 39/100\n",
            "744/744 [==============================] - 20s 27ms/step - loss: 5.4177 - accuracy: 0.3082\n",
            "Epoch 40/100\n",
            "744/744 [==============================] - 20s 27ms/step - loss: 5.4348 - accuracy: 0.3033\n",
            "Epoch 41/100\n",
            "744/744 [==============================] - 20s 27ms/step - loss: 5.4384 - accuracy: 0.3079\n",
            "Epoch 42/100\n",
            "744/744 [==============================] - 20s 27ms/step - loss: 5.4206 - accuracy: 0.3097\n",
            "Epoch 43/100\n",
            "744/744 [==============================] - 20s 27ms/step - loss: 5.3988 - accuracy: 0.3151\n",
            "Epoch 44/100\n",
            "744/744 [==============================] - 20s 26ms/step - loss: 5.3439 - accuracy: 0.3224\n",
            "Epoch 45/100\n",
            "744/744 [==============================] - 24s 32ms/step - loss: 5.3615 - accuracy: 0.3238\n",
            "Epoch 46/100\n",
            "744/744 [==============================] - 20s 27ms/step - loss: 5.3743 - accuracy: 0.3254\n",
            "Epoch 47/100\n",
            "744/744 [==============================] - 20s 27ms/step - loss: 5.2908 - accuracy: 0.3322\n",
            "Epoch 48/100\n",
            "744/744 [==============================] - 20s 27ms/step - loss: 5.2821 - accuracy: 0.3309\n",
            "Epoch 49/100\n",
            "744/744 [==============================] - 20s 27ms/step - loss: 5.2915 - accuracy: 0.3334\n",
            "Epoch 50/100\n",
            "744/744 [==============================] - 20s 27ms/step - loss: 5.2269 - accuracy: 0.3405\n",
            "Epoch 51/100\n",
            "744/744 [==============================] - 20s 27ms/step - loss: 5.2147 - accuracy: 0.3460\n",
            "Epoch 52/100\n",
            "744/744 [==============================] - 20s 27ms/step - loss: 5.2464 - accuracy: 0.3402\n",
            "Epoch 53/100\n",
            "744/744 [==============================] - 20s 27ms/step - loss: 5.2386 - accuracy: 0.3449\n",
            "Epoch 54/100\n",
            "744/744 [==============================] - 20s 27ms/step - loss: 5.2073 - accuracy: 0.3479\n",
            "Epoch 55/100\n",
            "744/744 [==============================] - 20s 27ms/step - loss: 5.1799 - accuracy: 0.3513\n",
            "Epoch 56/100\n",
            "744/744 [==============================] - 20s 27ms/step - loss: 5.2055 - accuracy: 0.3530\n",
            "Epoch 57/100\n",
            "744/744 [==============================] - 20s 27ms/step - loss: 5.1375 - accuracy: 0.3645\n",
            "Epoch 58/100\n",
            "744/744 [==============================] - 20s 27ms/step - loss: 5.1263 - accuracy: 0.3592\n",
            "Epoch 59/100\n",
            "744/744 [==============================] - 20s 27ms/step - loss: 5.1635 - accuracy: 0.3627\n",
            "Epoch 60/100\n",
            "744/744 [==============================] - 20s 27ms/step - loss: 5.1619 - accuracy: 0.3624\n",
            "Epoch 61/100\n",
            "744/744 [==============================] - 20s 26ms/step - loss: 5.1163 - accuracy: 0.3682\n",
            "Epoch 62/100\n",
            "744/744 [==============================] - 20s 26ms/step - loss: 5.1109 - accuracy: 0.3748\n",
            "Epoch 63/100\n",
            "744/744 [==============================] - 20s 27ms/step - loss: 5.0830 - accuracy: 0.3785\n",
            "Epoch 64/100\n",
            "744/744 [==============================] - 20s 27ms/step - loss: 5.0912 - accuracy: 0.3756\n",
            "Epoch 65/100\n",
            "744/744 [==============================] - 20s 27ms/step - loss: 5.0744 - accuracy: 0.3778\n",
            "Epoch 66/100\n",
            "744/744 [==============================] - 20s 27ms/step - loss: 5.0548 - accuracy: 0.3802\n",
            "Epoch 67/100\n",
            "744/744 [==============================] - 20s 27ms/step - loss: 5.0333 - accuracy: 0.3828\n",
            "Epoch 68/100\n",
            "744/744 [==============================] - 20s 27ms/step - loss: 5.0484 - accuracy: 0.3833\n",
            "Epoch 69/100\n",
            "744/744 [==============================] - 20s 27ms/step - loss: 5.0187 - accuracy: 0.3905\n",
            "Epoch 70/100\n",
            "744/744 [==============================] - 20s 27ms/step - loss: 4.9885 - accuracy: 0.3922\n",
            "Epoch 71/100\n",
            "744/744 [==============================] - 20s 27ms/step - loss: 4.9904 - accuracy: 0.3963\n",
            "Epoch 72/100\n",
            "744/744 [==============================] - 20s 27ms/step - loss: 4.9955 - accuracy: 0.3954\n",
            "Epoch 73/100\n",
            "744/744 [==============================] - 20s 27ms/step - loss: 5.0554 - accuracy: 0.3890\n",
            "Epoch 74/100\n",
            "744/744 [==============================] - 20s 27ms/step - loss: 4.9733 - accuracy: 0.3970\n",
            "Epoch 75/100\n",
            "744/744 [==============================] - 20s 27ms/step - loss: 4.9698 - accuracy: 0.4046\n",
            "Epoch 76/100\n",
            "744/744 [==============================] - 20s 27ms/step - loss: 4.9807 - accuracy: 0.4048\n",
            "Epoch 77/100\n",
            "744/744 [==============================] - 20s 27ms/step - loss: 4.9310 - accuracy: 0.4064\n",
            "Epoch 78/100\n",
            "744/744 [==============================] - 20s 27ms/step - loss: 4.9053 - accuracy: 0.4056\n",
            "Epoch 79/100\n",
            "744/744 [==============================] - 20s 27ms/step - loss: 4.8963 - accuracy: 0.4063\n",
            "Epoch 80/100\n",
            "744/744 [==============================] - 20s 27ms/step - loss: 4.8731 - accuracy: 0.4149\n",
            "Epoch 81/100\n",
            "744/744 [==============================] - 20s 27ms/step - loss: 4.8888 - accuracy: 0.4120\n",
            "Epoch 82/100\n",
            "744/744 [==============================] - 20s 27ms/step - loss: 4.8953 - accuracy: 0.4091\n",
            "Epoch 83/100\n",
            "744/744 [==============================] - 20s 27ms/step - loss: 4.9042 - accuracy: 0.4128\n",
            "Epoch 84/100\n",
            "744/744 [==============================] - 20s 27ms/step - loss: 4.8903 - accuracy: 0.4169\n",
            "Epoch 85/100\n",
            "744/744 [==============================] - 20s 27ms/step - loss: 4.8642 - accuracy: 0.4209\n",
            "Epoch 86/100\n",
            "744/744 [==============================] - 20s 27ms/step - loss: 4.8287 - accuracy: 0.4196\n",
            "Epoch 87/100\n",
            "744/744 [==============================] - 20s 27ms/step - loss: 4.8286 - accuracy: 0.4182\n",
            "Epoch 88/100\n",
            "744/744 [==============================] - 20s 26ms/step - loss: 4.8281 - accuracy: 0.4187\n",
            "Epoch 89/100\n",
            "744/744 [==============================] - 20s 27ms/step - loss: 4.8291 - accuracy: 0.4229\n",
            "Epoch 90/100\n",
            "744/744 [==============================] - 20s 27ms/step - loss: 4.7773 - accuracy: 0.4220\n",
            "Epoch 91/100\n",
            "744/744 [==============================] - 20s 27ms/step - loss: 4.7849 - accuracy: 0.4257\n",
            "Epoch 92/100\n",
            "744/744 [==============================] - 20s 27ms/step - loss: 4.8366 - accuracy: 0.4217\n",
            "Epoch 93/100\n",
            "744/744 [==============================] - 20s 27ms/step - loss: 4.7779 - accuracy: 0.4339\n",
            "Epoch 94/100\n",
            "744/744 [==============================] - 20s 27ms/step - loss: 4.7669 - accuracy: 0.4340\n",
            "Epoch 95/100\n",
            "744/744 [==============================] - 20s 27ms/step - loss: 4.7642 - accuracy: 0.4327\n",
            "Epoch 96/100\n",
            "744/744 [==============================] - 20s 27ms/step - loss: 4.7651 - accuracy: 0.4346\n",
            "Epoch 97/100\n",
            "744/744 [==============================] - 20s 27ms/step - loss: 4.7527 - accuracy: 0.4354\n",
            "Epoch 98/100\n",
            "744/744 [==============================] - 21s 28ms/step - loss: 4.7757 - accuracy: 0.4336\n",
            "Epoch 99/100\n",
            "744/744 [==============================] - 20s 27ms/step - loss: 4.7390 - accuracy: 0.4377\n",
            "Epoch 100/100\n",
            "744/744 [==============================] - 20s 27ms/step - loss: 4.6947 - accuracy: 0.4384\n",
            "186/186 [==============================] - 4s 11ms/step - loss: 7.2612 - accuracy: 0.1030\n",
            "744/744 [==============================] - 8s 11ms/step - loss: 4.6683 - accuracy: 0.4506\n",
            "Epoch 1/100\n",
            "744/744 [==============================] - 21s 26ms/step - loss: 6.7636 - accuracy: 0.0599\n",
            "Epoch 2/100\n",
            "744/744 [==============================] - 20s 26ms/step - loss: 6.1153 - accuracy: 0.0631\n",
            "Epoch 3/100\n",
            "744/744 [==============================] - 20s 26ms/step - loss: 6.0434 - accuracy: 0.0588\n",
            "Epoch 4/100\n",
            "744/744 [==============================] - 20s 26ms/step - loss: 5.9451 - accuracy: 0.0652\n",
            "Epoch 5/100\n",
            "744/744 [==============================] - 20s 27ms/step - loss: 5.8187 - accuracy: 0.0808\n",
            "Epoch 6/100\n",
            "744/744 [==============================] - 20s 27ms/step - loss: 5.7140 - accuracy: 0.0874\n",
            "Epoch 7/100\n",
            "744/744 [==============================] - 20s 27ms/step - loss: 5.5869 - accuracy: 0.1041\n",
            "Epoch 8/100\n",
            "744/744 [==============================] - 20s 27ms/step - loss: 5.5205 - accuracy: 0.1161\n",
            "Epoch 9/100\n",
            "744/744 [==============================] - 20s 26ms/step - loss: 5.4592 - accuracy: 0.1240\n",
            "Epoch 10/100\n",
            "744/744 [==============================] - 20s 27ms/step - loss: 5.3441 - accuracy: 0.1373\n",
            "Epoch 11/100\n",
            "744/744 [==============================] - 19s 26ms/step - loss: 5.3161 - accuracy: 0.1422\n",
            "Epoch 12/100\n",
            "744/744 [==============================] - 20s 27ms/step - loss: 5.2477 - accuracy: 0.1488\n",
            "Epoch 13/100\n",
            "744/744 [==============================] - 20s 27ms/step - loss: 5.1279 - accuracy: 0.1648\n",
            "Epoch 14/100\n",
            "744/744 [==============================] - 20s 26ms/step - loss: 5.1323 - accuracy: 0.1715\n",
            "Epoch 15/100\n",
            "744/744 [==============================] - 20s 27ms/step - loss: 5.1687 - accuracy: 0.1773\n",
            "Epoch 16/100\n",
            "744/744 [==============================] - 20s 26ms/step - loss: 5.2837 - accuracy: 0.1826\n",
            "Epoch 17/100\n",
            "744/744 [==============================] - 20s 27ms/step - loss: 5.3548 - accuracy: 0.1923\n",
            "Epoch 18/100\n",
            "744/744 [==============================] - 20s 27ms/step - loss: 5.4543 - accuracy: 0.1956\n",
            "Epoch 19/100\n",
            "744/744 [==============================] - 20s 27ms/step - loss: 5.5478 - accuracy: 0.2020\n",
            "Epoch 20/100\n",
            "744/744 [==============================] - 20s 27ms/step - loss: 5.6172 - accuracy: 0.2056\n",
            "Epoch 21/100\n",
            "744/744 [==============================] - 20s 26ms/step - loss: 5.6371 - accuracy: 0.2126\n",
            "Epoch 22/100\n",
            "744/744 [==============================] - 20s 26ms/step - loss: 5.6897 - accuracy: 0.2196\n",
            "Epoch 23/100\n",
            "744/744 [==============================] - 20s 26ms/step - loss: 5.7074 - accuracy: 0.2213\n",
            "Epoch 24/100\n",
            "744/744 [==============================] - 20s 27ms/step - loss: 5.6918 - accuracy: 0.2307\n",
            "Epoch 25/100\n",
            "744/744 [==============================] - 20s 27ms/step - loss: 5.6685 - accuracy: 0.2353\n",
            "Epoch 26/100\n",
            "744/744 [==============================] - 20s 26ms/step - loss: 5.6548 - accuracy: 0.2437\n",
            "Epoch 27/100\n",
            "744/744 [==============================] - 20s 27ms/step - loss: 5.7058 - accuracy: 0.2466\n",
            "Epoch 28/100\n",
            "744/744 [==============================] - 20s 27ms/step - loss: 5.6445 - accuracy: 0.2543\n",
            "Epoch 29/100\n",
            "744/744 [==============================] - 20s 27ms/step - loss: 5.6261 - accuracy: 0.2585\n",
            "Epoch 30/100\n",
            "744/744 [==============================] - 20s 27ms/step - loss: 5.6302 - accuracy: 0.2617\n",
            "Epoch 31/100\n",
            "744/744 [==============================] - 20s 27ms/step - loss: 5.5972 - accuracy: 0.2654\n",
            "Epoch 32/100\n",
            "744/744 [==============================] - 20s 27ms/step - loss: 5.5878 - accuracy: 0.2725\n",
            "Epoch 33/100\n",
            "744/744 [==============================] - 20s 27ms/step - loss: 5.5769 - accuracy: 0.2732\n",
            "Epoch 34/100\n",
            "744/744 [==============================] - 20s 26ms/step - loss: 5.6069 - accuracy: 0.2769\n",
            "Epoch 35/100\n",
            "744/744 [==============================] - 24s 32ms/step - loss: 5.5473 - accuracy: 0.2840\n",
            "Epoch 36/100\n",
            "744/744 [==============================] - 20s 27ms/step - loss: 5.5152 - accuracy: 0.2905\n",
            "Epoch 37/100\n",
            "744/744 [==============================] - 20s 27ms/step - loss: 5.4751 - accuracy: 0.2938\n",
            "Epoch 38/100\n",
            "744/744 [==============================] - 20s 27ms/step - loss: 5.4273 - accuracy: 0.3045\n",
            "Epoch 39/100\n",
            "744/744 [==============================] - 20s 27ms/step - loss: 5.4834 - accuracy: 0.3015\n",
            "Epoch 40/100\n",
            "744/744 [==============================] - 20s 27ms/step - loss: 5.4904 - accuracy: 0.3004\n",
            "Epoch 41/100\n",
            "744/744 [==============================] - 20s 27ms/step - loss: 5.4352 - accuracy: 0.3073\n",
            "Epoch 42/100\n",
            "744/744 [==============================] - 20s 27ms/step - loss: 5.3844 - accuracy: 0.3156\n",
            "Epoch 43/100\n",
            "744/744 [==============================] - 20s 27ms/step - loss: 5.3904 - accuracy: 0.3098\n",
            "Epoch 44/100\n",
            "744/744 [==============================] - 20s 27ms/step - loss: 5.3811 - accuracy: 0.3237\n",
            "Epoch 45/100\n",
            "744/744 [==============================] - 20s 27ms/step - loss: 5.4028 - accuracy: 0.3206\n",
            "Epoch 46/100\n",
            "744/744 [==============================] - 20s 27ms/step - loss: 5.3612 - accuracy: 0.3248\n",
            "Epoch 47/100\n",
            "744/744 [==============================] - 20s 27ms/step - loss: 5.3715 - accuracy: 0.3283\n",
            "Epoch 48/100\n",
            "744/744 [==============================] - 20s 27ms/step - loss: 5.3237 - accuracy: 0.3307\n",
            "Epoch 49/100\n",
            "744/744 [==============================] - 20s 27ms/step - loss: 5.3031 - accuracy: 0.3336\n",
            "Epoch 50/100\n",
            "744/744 [==============================] - 20s 27ms/step - loss: 5.3272 - accuracy: 0.3351\n",
            "Epoch 51/100\n",
            "744/744 [==============================] - 20s 27ms/step - loss: 5.3081 - accuracy: 0.3356\n",
            "Epoch 52/100\n",
            "744/744 [==============================] - 21s 28ms/step - loss: 5.2873 - accuracy: 0.3388\n",
            "Epoch 53/100\n",
            "744/744 [==============================] - 20s 27ms/step - loss: 5.2065 - accuracy: 0.3465\n",
            "Epoch 54/100\n",
            "744/744 [==============================] - 20s 27ms/step - loss: 5.2087 - accuracy: 0.3521\n",
            "Epoch 55/100\n",
            "744/744 [==============================] - 20s 27ms/step - loss: 5.2310 - accuracy: 0.3480\n",
            "Epoch 56/100\n",
            "744/744 [==============================] - 20s 27ms/step - loss: 5.2536 - accuracy: 0.3477\n",
            "Epoch 57/100\n",
            "744/744 [==============================] - 20s 27ms/step - loss: 5.2058 - accuracy: 0.3551\n",
            "Epoch 58/100\n",
            "744/744 [==============================] - 20s 27ms/step - loss: 5.2091 - accuracy: 0.3536\n",
            "Epoch 59/100\n",
            "744/744 [==============================] - 20s 27ms/step - loss: 5.2195 - accuracy: 0.3539\n",
            "Epoch 60/100\n",
            "744/744 [==============================] - 20s 27ms/step - loss: 5.2038 - accuracy: 0.3619\n",
            "Epoch 61/100\n",
            "744/744 [==============================] - 20s 27ms/step - loss: 5.2015 - accuracy: 0.3582\n",
            "Epoch 62/100\n",
            "744/744 [==============================] - 20s 27ms/step - loss: 5.2023 - accuracy: 0.3698\n",
            "Epoch 63/100\n",
            "744/744 [==============================] - 20s 27ms/step - loss: 5.1315 - accuracy: 0.3678\n",
            "Epoch 64/100\n",
            "744/744 [==============================] - 20s 27ms/step - loss: 5.0945 - accuracy: 0.3715\n",
            "Epoch 65/100\n",
            "744/744 [==============================] - 20s 27ms/step - loss: 5.1268 - accuracy: 0.3725\n",
            "Epoch 66/100\n",
            "744/744 [==============================] - 20s 27ms/step - loss: 5.1076 - accuracy: 0.3722\n",
            "Epoch 67/100\n",
            "744/744 [==============================] - 20s 27ms/step - loss: 5.1082 - accuracy: 0.3740\n",
            "Epoch 68/100\n",
            "744/744 [==============================] - 20s 27ms/step - loss: 5.0445 - accuracy: 0.3833\n",
            "Epoch 69/100\n",
            "744/744 [==============================] - 20s 27ms/step - loss: 5.0883 - accuracy: 0.3773\n",
            "Epoch 70/100\n",
            "744/744 [==============================] - 20s 27ms/step - loss: 5.1012 - accuracy: 0.3792\n",
            "Epoch 71/100\n",
            "744/744 [==============================] - 20s 27ms/step - loss: 5.0458 - accuracy: 0.3862\n",
            "Epoch 72/100\n",
            "744/744 [==============================] - 20s 27ms/step - loss: 5.1267 - accuracy: 0.3803\n",
            "Epoch 73/100\n",
            "744/744 [==============================] - 20s 27ms/step - loss: 5.0276 - accuracy: 0.3867\n",
            "Epoch 74/100\n",
            "744/744 [==============================] - 20s 27ms/step - loss: 5.0519 - accuracy: 0.3863\n",
            "Epoch 75/100\n",
            "744/744 [==============================] - 20s 27ms/step - loss: 4.9928 - accuracy: 0.3968\n",
            "Epoch 76/100\n",
            "744/744 [==============================] - 20s 27ms/step - loss: 5.0464 - accuracy: 0.3906\n",
            "Epoch 77/100\n",
            "744/744 [==============================] - 21s 28ms/step - loss: 5.0053 - accuracy: 0.3968\n",
            "Epoch 78/100\n",
            "744/744 [==============================] - 20s 27ms/step - loss: 5.0134 - accuracy: 0.3965\n",
            "Epoch 79/100\n",
            "744/744 [==============================] - 20s 27ms/step - loss: 4.9973 - accuracy: 0.4009\n",
            "Epoch 80/100\n",
            "744/744 [==============================] - 20s 27ms/step - loss: 4.9996 - accuracy: 0.4001\n",
            "Epoch 81/100\n",
            "744/744 [==============================] - 20s 27ms/step - loss: 5.0232 - accuracy: 0.3934\n",
            "Epoch 82/100\n",
            "744/744 [==============================] - 20s 27ms/step - loss: 4.9965 - accuracy: 0.4012\n",
            "Epoch 83/100\n",
            "744/744 [==============================] - 20s 27ms/step - loss: 4.9711 - accuracy: 0.4041\n",
            "Epoch 84/100\n",
            "744/744 [==============================] - 20s 27ms/step - loss: 4.9634 - accuracy: 0.4069\n",
            "Epoch 85/100\n",
            "744/744 [==============================] - 20s 27ms/step - loss: 4.9914 - accuracy: 0.4007\n",
            "Epoch 86/100\n",
            "744/744 [==============================] - 20s 27ms/step - loss: 4.9516 - accuracy: 0.4058\n",
            "Epoch 87/100\n",
            "744/744 [==============================] - 21s 28ms/step - loss: 4.9420 - accuracy: 0.4091\n",
            "Epoch 88/100\n",
            "744/744 [==============================] - 20s 27ms/step - loss: 4.9728 - accuracy: 0.4096\n",
            "Epoch 89/100\n",
            "744/744 [==============================] - 21s 28ms/step - loss: 4.9597 - accuracy: 0.4070\n",
            "Epoch 90/100\n",
            "744/744 [==============================] - 20s 28ms/step - loss: 4.9104 - accuracy: 0.4199\n",
            "Epoch 91/100\n",
            "744/744 [==============================] - 20s 27ms/step - loss: 4.8744 - accuracy: 0.4161\n",
            "Epoch 92/100\n",
            "744/744 [==============================] - 20s 27ms/step - loss: 4.9218 - accuracy: 0.4140\n",
            "Epoch 93/100\n",
            "744/744 [==============================] - 20s 27ms/step - loss: 4.9532 - accuracy: 0.4137\n",
            "Epoch 94/100\n",
            "744/744 [==============================] - 20s 27ms/step - loss: 4.8562 - accuracy: 0.4259\n",
            "Epoch 95/100\n",
            "744/744 [==============================] - 20s 27ms/step - loss: 4.9148 - accuracy: 0.4175\n",
            "Epoch 96/100\n",
            "744/744 [==============================] - 20s 27ms/step - loss: 4.8257 - accuracy: 0.4235\n",
            "Epoch 97/100\n",
            "744/744 [==============================] - 20s 28ms/step - loss: 4.8716 - accuracy: 0.4209\n",
            "Epoch 98/100\n",
            "744/744 [==============================] - 20s 27ms/step - loss: 4.8797 - accuracy: 0.4222\n",
            "Epoch 99/100\n",
            "744/744 [==============================] - 20s 27ms/step - loss: 4.8711 - accuracy: 0.4219\n",
            "Epoch 100/100\n",
            "744/744 [==============================] - 20s 27ms/step - loss: 4.8763 - accuracy: 0.4302\n",
            "186/186 [==============================] - 2s 10ms/step - loss: 7.1405 - accuracy: 0.1013\n",
            "744/744 [==============================] - 8s 11ms/step - loss: 4.7953 - accuracy: 0.4332\n",
            "Epoch 1/100\n",
            "744/744 [==============================] - 22s 27ms/step - loss: 6.7621 - accuracy: 0.0554\n",
            "Epoch 2/100\n",
            "744/744 [==============================] - 21s 28ms/step - loss: 6.1257 - accuracy: 0.0565\n",
            "Epoch 3/100\n",
            "744/744 [==============================] - 20s 27ms/step - loss: 6.0138 - accuracy: 0.0583\n",
            "Epoch 4/100\n",
            "744/744 [==============================] - 20s 27ms/step - loss: 5.9609 - accuracy: 0.0616\n",
            "Epoch 5/100\n",
            "744/744 [==============================] - 21s 28ms/step - loss: 5.8273 - accuracy: 0.0759\n",
            "Epoch 6/100\n",
            "744/744 [==============================] - 20s 27ms/step - loss: 5.7047 - accuracy: 0.0863\n",
            "Epoch 7/100\n",
            "744/744 [==============================] - 20s 27ms/step - loss: 5.6264 - accuracy: 0.0974\n",
            "Epoch 8/100\n",
            "744/744 [==============================] - 21s 28ms/step - loss: 5.5539 - accuracy: 0.1111\n",
            "Epoch 9/100\n",
            "744/744 [==============================] - 20s 28ms/step - loss: 5.4650 - accuracy: 0.1178\n",
            "Epoch 10/100\n",
            "744/744 [==============================] - 21s 28ms/step - loss: 5.4122 - accuracy: 0.1296\n",
            "Epoch 11/100\n",
            "744/744 [==============================] - 20s 27ms/step - loss: 5.2885 - accuracy: 0.1406\n",
            "Epoch 12/100\n",
            "744/744 [==============================] - 20s 27ms/step - loss: 5.2543 - accuracy: 0.1506\n",
            "Epoch 13/100\n",
            "744/744 [==============================] - 20s 27ms/step - loss: 5.2228 - accuracy: 0.1563\n",
            "Epoch 14/100\n",
            "744/744 [==============================] - 20s 27ms/step - loss: 5.1885 - accuracy: 0.1626\n",
            "Epoch 15/100\n",
            "744/744 [==============================] - 21s 28ms/step - loss: 5.1640 - accuracy: 0.1664\n",
            "Epoch 16/100\n",
            "744/744 [==============================] - 21s 28ms/step - loss: 5.1905 - accuracy: 0.1755\n",
            "Epoch 17/100\n",
            "744/744 [==============================] - 21s 28ms/step - loss: 5.3064 - accuracy: 0.1832\n",
            "Epoch 18/100\n",
            "744/744 [==============================] - 21s 28ms/step - loss: 5.4049 - accuracy: 0.1905\n",
            "Epoch 19/100\n",
            "744/744 [==============================] - 21s 28ms/step - loss: 5.5545 - accuracy: 0.1935\n",
            "Epoch 20/100\n",
            "744/744 [==============================] - 21s 28ms/step - loss: 5.6050 - accuracy: 0.1999\n",
            "Epoch 21/100\n",
            "744/744 [==============================] - 21s 28ms/step - loss: 5.6850 - accuracy: 0.2010\n",
            "Epoch 22/100\n",
            "744/744 [==============================] - 21s 28ms/step - loss: 5.6964 - accuracy: 0.2128\n",
            "Epoch 23/100\n",
            "744/744 [==============================] - 21s 28ms/step - loss: 5.7029 - accuracy: 0.2134\n",
            "Epoch 24/100\n",
            "744/744 [==============================] - 21s 28ms/step - loss: 5.6836 - accuracy: 0.2230\n",
            "Epoch 25/100\n",
            "744/744 [==============================] - 21s 28ms/step - loss: 5.6977 - accuracy: 0.2312\n",
            "Epoch 26/100\n",
            "744/744 [==============================] - 21s 28ms/step - loss: 5.7104 - accuracy: 0.2373\n",
            "Epoch 27/100\n",
            "744/744 [==============================] - 20s 27ms/step - loss: 5.6702 - accuracy: 0.2418\n",
            "Epoch 28/100\n",
            "744/744 [==============================] - 21s 28ms/step - loss: 5.6808 - accuracy: 0.2442\n",
            "Epoch 29/100\n",
            "744/744 [==============================] - 21s 28ms/step - loss: 5.6720 - accuracy: 0.2495\n",
            "Epoch 30/100\n",
            "744/744 [==============================] - 21s 28ms/step - loss: 5.6095 - accuracy: 0.2567\n",
            "Epoch 31/100\n",
            "744/744 [==============================] - 21s 28ms/step - loss: 5.6561 - accuracy: 0.2608\n",
            "Epoch 32/100\n",
            "744/744 [==============================] - 21s 28ms/step - loss: 5.6438 - accuracy: 0.2683\n",
            "Epoch 33/100\n",
            "744/744 [==============================] - 21s 28ms/step - loss: 5.6532 - accuracy: 0.2691\n",
            "Epoch 34/100\n",
            "744/744 [==============================] - 21s 28ms/step - loss: 5.5821 - accuracy: 0.2778\n",
            "Epoch 35/100\n",
            "744/744 [==============================] - 21s 28ms/step - loss: 5.5451 - accuracy: 0.2810\n",
            "Epoch 36/100\n",
            "744/744 [==============================] - 21s 28ms/step - loss: 5.5619 - accuracy: 0.2839\n",
            "Epoch 37/100\n",
            "744/744 [==============================] - 21s 28ms/step - loss: 5.5714 - accuracy: 0.2889\n",
            "Epoch 38/100\n",
            "744/744 [==============================] - 21s 28ms/step - loss: 5.4942 - accuracy: 0.2929\n",
            "Epoch 39/100\n",
            "744/744 [==============================] - 21s 28ms/step - loss: 5.5127 - accuracy: 0.2953\n",
            "Epoch 40/100\n",
            "744/744 [==============================] - 21s 28ms/step - loss: 5.4671 - accuracy: 0.3015\n",
            "Epoch 41/100\n",
            "744/744 [==============================] - 21s 28ms/step - loss: 5.4690 - accuracy: 0.3012\n",
            "Epoch 42/100\n",
            "744/744 [==============================] - 21s 28ms/step - loss: 5.4063 - accuracy: 0.3068\n",
            "Epoch 43/100\n",
            "744/744 [==============================] - 21s 28ms/step - loss: 5.4377 - accuracy: 0.3075\n",
            "Epoch 44/100\n",
            "744/744 [==============================] - 21s 29ms/step - loss: 5.4216 - accuracy: 0.3096\n",
            "Epoch 45/100\n",
            "744/744 [==============================] - 21s 28ms/step - loss: 5.3997 - accuracy: 0.3117\n",
            "Epoch 46/100\n",
            "447/744 [=================>............] - ETA: 8s - loss: 5.4355 - accuracy: 0.3044"
          ],
          "name": "stdout"
        }
      ]
    },
    {
      "cell_type": "code",
      "metadata": {
        "colab": {
          "base_uri": "https://localhost:8080/",
          "height": 232
        },
        "id": "4PSzuGTGzlvx",
        "outputId": "12b000ed-8d30-4882-c43c-bb5f49d8b38f"
      },
      "source": [
        "\n",
        "# summarize results\n",
        "print(\"Best: %f using %s\" % (grid_result.best_score_, grid_result.best_params_))\n",
        "means = grid_result.cv_results_['mean_test_score']\n",
        "stds = grid_result.cv_results_['std_test_score']\n",
        "params = grid_result.cv_results_['params']\n",
        "for mean, stdev, param in zip(means, stds, params):\n",
        "    print(\"%f (%f) with: %r\" % (mean, stdev, param))"
      ],
      "execution_count": 1,
      "outputs": [
        {
          "output_type": "error",
          "ename": "NameError",
          "evalue": "ignored",
          "traceback": [
            "\u001b[0;31m---------------------------------------------------------------------------\u001b[0m",
            "\u001b[0;31mNameError\u001b[0m                                 Traceback (most recent call last)",
            "\u001b[0;32m<ipython-input-1-a0228c93455c>\u001b[0m in \u001b[0;36m<module>\u001b[0;34m()\u001b[0m\n\u001b[1;32m      1\u001b[0m \u001b[0;34m\u001b[0m\u001b[0m\n\u001b[1;32m      2\u001b[0m \u001b[0;31m# summarize results\u001b[0m\u001b[0;34m\u001b[0m\u001b[0;34m\u001b[0m\u001b[0;34m\u001b[0m\u001b[0m\n\u001b[0;32m----> 3\u001b[0;31m \u001b[0mprint\u001b[0m\u001b[0;34m(\u001b[0m\u001b[0;34m\"Best: %f using %s\"\u001b[0m \u001b[0;34m%\u001b[0m \u001b[0;34m(\u001b[0m\u001b[0mgrid_result\u001b[0m\u001b[0;34m.\u001b[0m\u001b[0mbest_score_\u001b[0m\u001b[0;34m,\u001b[0m \u001b[0mgrid_result\u001b[0m\u001b[0;34m.\u001b[0m\u001b[0mbest_params_\u001b[0m\u001b[0;34m)\u001b[0m\u001b[0;34m)\u001b[0m\u001b[0;34m\u001b[0m\u001b[0;34m\u001b[0m\u001b[0m\n\u001b[0m\u001b[1;32m      4\u001b[0m \u001b[0mmeans\u001b[0m \u001b[0;34m=\u001b[0m \u001b[0mgrid_result\u001b[0m\u001b[0;34m.\u001b[0m\u001b[0mcv_results_\u001b[0m\u001b[0;34m[\u001b[0m\u001b[0;34m'mean_test_score'\u001b[0m\u001b[0;34m]\u001b[0m\u001b[0;34m\u001b[0m\u001b[0;34m\u001b[0m\u001b[0m\n\u001b[1;32m      5\u001b[0m \u001b[0mstds\u001b[0m \u001b[0;34m=\u001b[0m \u001b[0mgrid_result\u001b[0m\u001b[0;34m.\u001b[0m\u001b[0mcv_results_\u001b[0m\u001b[0;34m[\u001b[0m\u001b[0;34m'std_test_score'\u001b[0m\u001b[0;34m]\u001b[0m\u001b[0;34m\u001b[0m\u001b[0;34m\u001b[0m\u001b[0m\n",
            "\u001b[0;31mNameError\u001b[0m: name 'grid_result' is not defined"
          ]
        }
      ]
    },
    {
      "cell_type": "code",
      "metadata": {
        "colab": {
          "base_uri": "https://localhost:8080/"
        },
        "id": "hO8T3vOrzoF1",
        "outputId": "709b8221-99f3-4c69-b2f2-4f7aaba1eb88"
      },
      "source": [
        "pred= grid_result.predict(X)"
      ],
      "execution_count": 56,
      "outputs": [
        {
          "output_type": "stream",
          "text": [
            " 11/930 [..............................] - ETA: 9s"
          ],
          "name": "stdout"
        },
        {
          "output_type": "stream",
          "text": [
            "/usr/local/lib/python3.7/dist-packages/keras/engine/sequential.py:450: UserWarning: `model.predict_classes()` is deprecated and will be removed after 2021-01-01. Please use instead:* `np.argmax(model.predict(x), axis=-1)`,   if your model does multi-class classification   (e.g. if it uses a `softmax` last-layer activation).* `(model.predict(x) > 0.5).astype(\"int32\")`,   if your model does binary classification   (e.g. if it uses a `sigmoid` last-layer activation).\n",
            "  warnings.warn('`model.predict_classes()` is deprecated and '\n"
          ],
          "name": "stderr"
        },
        {
          "output_type": "stream",
          "text": [
            "930/930 [==============================] - 6s 6ms/step\n"
          ],
          "name": "stdout"
        }
      ]
    },
    {
      "cell_type": "markdown",
      "metadata": {
        "id": "ItkUVPl7T0WS"
      },
      "source": [
        "# Add layers"
      ]
    },
    {
      "cell_type": "code",
      "metadata": {
        "id": "8C-7uwcyhOWX"
      },
      "source": [
        "from tensorflow.keras.callbacks import EarlyStopping\n"
      ],
      "execution_count": 1,
      "outputs": []
    },
    {
      "cell_type": "code",
      "metadata": {
        "colab": {
          "base_uri": "https://localhost:8080/"
        },
        "id": "K-C7wO-6E_Zw",
        "outputId": "0d56daa6-0d0c-4074-fbe4-0b363a34f6ea"
      },
      "source": [
        "model = Sequential()\n",
        "model.add(LSTM(128, return_sequences=True, input_shape=(WORD_LENGTH, len(unique_words))))\n",
        "model.add(LSTM(128))\n",
        "model.add(Dense(len(unique_words), activation=\"relu\"))\n",
        "model.add(Dropout(0.2))\n",
        "model.add(Dense(len(unique_words), activation=\"relu\"))\n",
        "model.add(Dropout(0.2))\n",
        "model.add(Activation(\"softmax\"))\n",
        "\n",
        "optimizer = RMSprop(learning_rate=0.1)\n",
        "\n",
        "model.compile(optimizer=optimizer, loss=\"categorical_crossentropy\", metrics=[\"accuracy\"])\n",
        "\n",
        "\n",
        "early_stop = EarlyStopping(monitor='val_loss', min_delta=1e-4,\n",
        "                           verbose=1,\n",
        "                           mode='min', patience=5)\n",
        "\n",
        "results=model.fit(X,y, epochs=50, batch_size=64, validation_split=0.05).history"
      ],
      "execution_count": 69,
      "outputs": [
        {
          "output_type": "stream",
          "text": [
            "Epoch 1/50\n",
            "442/442 [==============================] - 88s 188ms/step - loss: 7.8295 - accuracy: 0.0463 - val_loss: 7.5339 - val_accuracy: 0.0370\n",
            "Epoch 2/50\n",
            "442/442 [==============================] - 82s 186ms/step - loss: 7.4165 - accuracy: 0.0822 - val_loss: 7.5083 - val_accuracy: 0.0665\n",
            "Epoch 3/50\n",
            "442/442 [==============================] - 83s 187ms/step - loss: 7.3768 - accuracy: 0.0901 - val_loss: 7.5212 - val_accuracy: 0.0692\n",
            "Epoch 4/50\n",
            "442/442 [==============================] - 83s 188ms/step - loss: 7.3108 - accuracy: 0.0992 - val_loss: 7.5772 - val_accuracy: 0.0544\n",
            "Epoch 5/50\n",
            "442/442 [==============================] - 83s 188ms/step - loss: 7.2364 - accuracy: 0.1109 - val_loss: 7.5975 - val_accuracy: 0.0638\n",
            "Epoch 6/50\n",
            "442/442 [==============================] - 83s 188ms/step - loss: 7.2054 - accuracy: 0.1154 - val_loss: 7.7889 - val_accuracy: 0.0578\n",
            "Epoch 7/50\n",
            "442/442 [==============================] - 83s 189ms/step - loss: 7.1795 - accuracy: 0.1182 - val_loss: 7.7510 - val_accuracy: 0.0638\n",
            "Epoch 8/50\n",
            "442/442 [==============================] - 84s 189ms/step - loss: 7.1175 - accuracy: 0.1250 - val_loss: 7.8156 - val_accuracy: 0.0578\n",
            "Epoch 9/50\n",
            "442/442 [==============================] - 83s 189ms/step - loss: 7.1205 - accuracy: 0.1238 - val_loss: 7.8849 - val_accuracy: 0.0598\n",
            "Epoch 10/50\n",
            "442/442 [==============================] - 84s 191ms/step - loss: 7.1131 - accuracy: 0.1246 - val_loss: 8.0111 - val_accuracy: 0.0504\n",
            "Epoch 11/50\n",
            "442/442 [==============================] - 82s 185ms/step - loss: 7.0829 - accuracy: 0.1270 - val_loss: 7.9579 - val_accuracy: 0.0571\n",
            "Epoch 12/50\n",
            "442/442 [==============================] - 82s 186ms/step - loss: 7.0691 - accuracy: 0.1281 - val_loss: 7.8549 - val_accuracy: 0.0531\n",
            "Epoch 13/50\n",
            "442/442 [==============================] - 82s 185ms/step - loss: 7.0536 - accuracy: 0.1303 - val_loss: 7.9956 - val_accuracy: 0.0591\n",
            "Epoch 14/50\n",
            "442/442 [==============================] - 82s 186ms/step - loss: 7.0576 - accuracy: 0.1294 - val_loss: 8.0113 - val_accuracy: 0.0558\n",
            "Epoch 15/50\n",
            "442/442 [==============================] - 82s 185ms/step - loss: 7.0344 - accuracy: 0.1316 - val_loss: 7.9707 - val_accuracy: 0.0585\n",
            "Epoch 16/50\n",
            "442/442 [==============================] - 82s 186ms/step - loss: 7.0650 - accuracy: 0.1286 - val_loss: 8.1489 - val_accuracy: 0.0558\n",
            "Epoch 17/50\n",
            "442/442 [==============================] - 82s 186ms/step - loss: 7.0459 - accuracy: 0.1308 - val_loss: 8.1835 - val_accuracy: 0.0531\n",
            "Epoch 18/50\n",
            "442/442 [==============================] - 82s 185ms/step - loss: 7.0531 - accuracy: 0.1299 - val_loss: 8.0333 - val_accuracy: 0.0524\n",
            "Epoch 19/50\n",
            "442/442 [==============================] - 82s 185ms/step - loss: 7.0076 - accuracy: 0.1349 - val_loss: 8.0683 - val_accuracy: 0.0551\n",
            "Epoch 20/50\n",
            "442/442 [==============================] - 82s 185ms/step - loss: 7.0662 - accuracy: 0.1277 - val_loss: 7.9387 - val_accuracy: 0.0504\n",
            "Epoch 21/50\n",
            "442/442 [==============================] - 82s 186ms/step - loss: 7.0865 - accuracy: 0.1256 - val_loss: 8.1028 - val_accuracy: 0.0571\n",
            "Epoch 22/50\n",
            "442/442 [==============================] - 82s 186ms/step - loss: 7.0148 - accuracy: 0.1335 - val_loss: 8.2873 - val_accuracy: 0.0551\n",
            "Epoch 23/50\n",
            "442/442 [==============================] - 82s 186ms/step - loss: 7.0415 - accuracy: 0.1301 - val_loss: 8.1655 - val_accuracy: 0.0504\n",
            "Epoch 24/50\n",
            "442/442 [==============================] - 82s 186ms/step - loss: 7.0709 - accuracy: 0.1274 - val_loss: 8.1029 - val_accuracy: 0.0531\n",
            "Epoch 25/50\n",
            "442/442 [==============================] - 82s 185ms/step - loss: 7.0474 - accuracy: 0.1291 - val_loss: 8.3912 - val_accuracy: 0.0504\n",
            "Epoch 26/50\n",
            "442/442 [==============================] - 82s 186ms/step - loss: 7.0822 - accuracy: 0.1262 - val_loss: 8.1655 - val_accuracy: 0.0524\n",
            "Epoch 27/50\n",
            "442/442 [==============================] - 82s 186ms/step - loss: 7.0629 - accuracy: 0.1273 - val_loss: 8.1990 - val_accuracy: 0.0504\n",
            "Epoch 28/50\n",
            "442/442 [==============================] - 82s 185ms/step - loss: 7.0613 - accuracy: 0.1279 - val_loss: 8.3744 - val_accuracy: 0.0538\n",
            "Epoch 29/50\n",
            "442/442 [==============================] - 82s 185ms/step - loss: 7.0587 - accuracy: 0.1282 - val_loss: 8.3408 - val_accuracy: 0.0538\n",
            "Epoch 30/50\n",
            "442/442 [==============================] - 82s 185ms/step - loss: 7.0831 - accuracy: 0.1252 - val_loss: 8.3001 - val_accuracy: 0.0544\n",
            "Epoch 31/50\n",
            "442/442 [==============================] - 82s 185ms/step - loss: 7.0619 - accuracy: 0.1290 - val_loss: 8.2030 - val_accuracy: 0.0544\n",
            "Epoch 32/50\n",
            "442/442 [==============================] - 82s 186ms/step - loss: 7.0712 - accuracy: 0.1267 - val_loss: 8.2252 - val_accuracy: 0.0531\n",
            "Epoch 33/50\n",
            "442/442 [==============================] - 82s 186ms/step - loss: 7.0632 - accuracy: 0.1282 - val_loss: 8.3010 - val_accuracy: 0.0504\n",
            "Epoch 34/50\n",
            "442/442 [==============================] - 82s 186ms/step - loss: 7.0583 - accuracy: 0.1281 - val_loss: 8.5306 - val_accuracy: 0.0571\n",
            "Epoch 35/50\n",
            "442/442 [==============================] - 82s 186ms/step - loss: 7.0394 - accuracy: 0.1298 - val_loss: 8.3186 - val_accuracy: 0.0551\n",
            "Epoch 36/50\n",
            "442/442 [==============================] - 82s 186ms/step - loss: 7.0860 - accuracy: 0.1261 - val_loss: 8.3819 - val_accuracy: 0.0551\n",
            "Epoch 37/50\n",
            "442/442 [==============================] - 82s 186ms/step - loss: 7.0778 - accuracy: 0.1264 - val_loss: 8.2384 - val_accuracy: 0.0538\n",
            "Epoch 38/50\n",
            "442/442 [==============================] - 82s 186ms/step - loss: 7.0889 - accuracy: 0.1241 - val_loss: 8.4523 - val_accuracy: 0.0464\n",
            "Epoch 39/50\n",
            "442/442 [==============================] - 83s 187ms/step - loss: 7.1006 - accuracy: 0.1255 - val_loss: 8.1981 - val_accuracy: 0.0531\n",
            "Epoch 40/50\n",
            "442/442 [==============================] - 82s 186ms/step - loss: 7.0968 - accuracy: 0.1239 - val_loss: 8.4732 - val_accuracy: 0.0477\n",
            "Epoch 41/50\n",
            "442/442 [==============================] - 82s 186ms/step - loss: 7.0875 - accuracy: 0.1248 - val_loss: 8.4165 - val_accuracy: 0.0457\n",
            "Epoch 42/50\n",
            "442/442 [==============================] - 82s 185ms/step - loss: 7.0777 - accuracy: 0.1247 - val_loss: 8.4060 - val_accuracy: 0.0517\n",
            "Epoch 43/50\n",
            "442/442 [==============================] - 82s 186ms/step - loss: 7.0867 - accuracy: 0.1257 - val_loss: 8.3943 - val_accuracy: 0.0531\n",
            "Epoch 44/50\n",
            "442/442 [==============================] - 82s 186ms/step - loss: 7.0892 - accuracy: 0.1241 - val_loss: 8.4505 - val_accuracy: 0.0450\n",
            "Epoch 45/50\n",
            "442/442 [==============================] - 82s 186ms/step - loss: 7.0743 - accuracy: 0.1258 - val_loss: 8.3860 - val_accuracy: 0.0504\n",
            "Epoch 46/50\n",
            "442/442 [==============================] - 82s 186ms/step - loss: 7.1013 - accuracy: 0.1236 - val_loss: 8.4616 - val_accuracy: 0.0551\n",
            "Epoch 47/50\n",
            "442/442 [==============================] - 82s 186ms/step - loss: 7.0934 - accuracy: 0.1260 - val_loss: 8.4679 - val_accuracy: 0.0538\n",
            "Epoch 48/50\n",
            "442/442 [==============================] - 82s 186ms/step - loss: 7.0553 - accuracy: 0.1293 - val_loss: 8.3973 - val_accuracy: 0.0524\n",
            "Epoch 49/50\n",
            "442/442 [==============================] - 82s 186ms/step - loss: 7.1010 - accuracy: 0.1241 - val_loss: 8.3778 - val_accuracy: 0.0477\n",
            "Epoch 50/50\n",
            "442/442 [==============================] - 82s 186ms/step - loss: 7.0895 - accuracy: 0.1255 - val_loss: 8.3598 - val_accuracy: 0.0511\n"
          ],
          "name": "stdout"
        }
      ]
    },
    {
      "cell_type": "code",
      "metadata": {
        "colab": {
          "base_uri": "https://localhost:8080/",
          "height": 353
        },
        "id": "WOGsLoxGUDXx",
        "outputId": "93f124c1-177b-4df9-d111-0c4640dbd708"
      },
      "source": [
        "train_loss = results['loss']\n",
        "train_acc = results['accuracy']\n",
        "val_loss =results['val_loss']\n",
        "val_acc = results['val_accuracy']\n",
        "\n",
        "fig, (ax1, ax2) = plt.subplots(1, 2, figsize=(10, 5))\n",
        "\n",
        "ax1.plot(train_loss, label='train_loss')\n",
        "ax1.plot(val_loss, label='validation_loss')\n",
        "ax1.set_title(\"Loss\")\n",
        "ax1.legend()\n",
        "\n",
        "ax2.plot(train_acc, label='train_accuracy')\n",
        "ax2.plot(val_acc, label='val_accuracy')\n",
        "ax2.set_title(\"Accuracy\")\n",
        "ax2.legend()"
      ],
      "execution_count": 70,
      "outputs": [
        {
          "output_type": "execute_result",
          "data": {
            "text/plain": [
              "<matplotlib.legend.Legend at 0x7f969379bf50>"
            ]
          },
          "metadata": {
            "tags": []
          },
          "execution_count": 70
        },
        {
          "output_type": "display_data",
          "data": {
            "image/png": "[encoded data removed]",
            "text/plain": [
              "<Figure size 720x360 with 2 Axes>"
            ]
          },
          "metadata": {
            "tags": [],
            "needs_background": "light"
          }
        }
      ]
    },
    {
      "cell_type": "markdown",
      "metadata": {
        "id": "acJAU60FoqyQ"
      },
      "source": [
        "# Generate Predictive text"
      ]
    },
    {
      "cell_type": "code",
      "metadata": {
        "colab": {
          "base_uri": "https://localhost:8080/"
        },
        "id": "GSd5Fg2ggWMS",
        "outputId": "4f162567-7ac7-4f77-fa8b-7f3a1d112648"
      },
      "source": [
        "model.output_shape"
      ],
      "execution_count": 99,
      "outputs": [
        {
          "output_type": "execute_result",
          "data": {
            "text/plain": [
              "(None, 3075)"
            ]
          },
          "metadata": {
            "tags": []
          },
          "execution_count": 99
        }
      ]
    },
    {
      "cell_type": "code",
      "metadata": {
        "colab": {
          "base_uri": "https://localhost:8080/",
          "height": 613
        },
        "id": "SPAazeEuewmo",
        "outputId": "89e9b974-c725-46f4-a4eb-f7697e1a5e94"
      },
      "source": [
        "sequence=tokenized.tokenize(\"in the rabbit hole\")\n",
        "sequence = np.array(sequence)\n",
        "        \n",
        "preds = model.predict([sequence])\n",
        "# print(preds)\n",
        "sequence"
      ],
      "execution_count": 117,
      "outputs": [
        {
          "output_type": "error",
          "ename": "ValueError",
          "evalue": "ignored",
          "traceback": [
            "\u001b[0;31m---------------------------------------------------------------------------\u001b[0m",
            "\u001b[0;31mValueError\u001b[0m                                Traceback (most recent call last)",
            "\u001b[0;32m<ipython-input-117-d417fc677ce5>\u001b[0m in \u001b[0;36m<module>\u001b[0;34m()\u001b[0m\n\u001b[1;32m      2\u001b[0m \u001b[0msequence\u001b[0m \u001b[0;34m=\u001b[0m \u001b[0mnp\u001b[0m\u001b[0;34m.\u001b[0m\u001b[0marray\u001b[0m\u001b[0;34m(\u001b[0m\u001b[0msequence\u001b[0m\u001b[0;34m)\u001b[0m\u001b[0;34m\u001b[0m\u001b[0;34m\u001b[0m\u001b[0m\n\u001b[1;32m      3\u001b[0m \u001b[0;34m\u001b[0m\u001b[0m\n\u001b[0;32m----> 4\u001b[0;31m \u001b[0mpreds\u001b[0m \u001b[0;34m=\u001b[0m \u001b[0mmodel\u001b[0m\u001b[0;34m.\u001b[0m\u001b[0mpredict\u001b[0m\u001b[0;34m(\u001b[0m\u001b[0;34m[\u001b[0m\u001b[0msequence\u001b[0m\u001b[0;34m]\u001b[0m\u001b[0;34m)\u001b[0m\u001b[0;34m\u001b[0m\u001b[0;34m\u001b[0m\u001b[0m\n\u001b[0m\u001b[1;32m      5\u001b[0m \u001b[0;31m# print(preds)\u001b[0m\u001b[0;34m\u001b[0m\u001b[0;34m\u001b[0m\u001b[0;34m\u001b[0m\u001b[0m\n\u001b[1;32m      6\u001b[0m \u001b[0msequence\u001b[0m\u001b[0;34m\u001b[0m\u001b[0;34m\u001b[0m\u001b[0m\n",
            "\u001b[0;32m/usr/local/lib/python3.7/dist-packages/keras/engine/training.py\u001b[0m in \u001b[0;36mpredict\u001b[0;34m(self, x, batch_size, verbose, steps, callbacks, max_queue_size, workers, use_multiprocessing)\u001b[0m\n\u001b[1;32m   1700\u001b[0m           \u001b[0;32mfor\u001b[0m \u001b[0mstep\u001b[0m \u001b[0;32min\u001b[0m \u001b[0mdata_handler\u001b[0m\u001b[0;34m.\u001b[0m\u001b[0msteps\u001b[0m\u001b[0;34m(\u001b[0m\u001b[0;34m)\u001b[0m\u001b[0;34m:\u001b[0m\u001b[0;34m\u001b[0m\u001b[0;34m\u001b[0m\u001b[0m\n\u001b[1;32m   1701\u001b[0m             \u001b[0mcallbacks\u001b[0m\u001b[0;34m.\u001b[0m\u001b[0mon_predict_batch_begin\u001b[0m\u001b[0;34m(\u001b[0m\u001b[0mstep\u001b[0m\u001b[0;34m)\u001b[0m\u001b[0;34m\u001b[0m\u001b[0;34m\u001b[0m\u001b[0m\n\u001b[0;32m-> 1702\u001b[0;31m             \u001b[0mtmp_batch_outputs\u001b[0m \u001b[0;34m=\u001b[0m \u001b[0mself\u001b[0m\u001b[0;34m.\u001b[0m\u001b[0mpredict_function\u001b[0m\u001b[0;34m(\u001b[0m\u001b[0miterator\u001b[0m\u001b[0;34m)\u001b[0m\u001b[0;34m\u001b[0m\u001b[0;34m\u001b[0m\u001b[0m\n\u001b[0m\u001b[1;32m   1703\u001b[0m             \u001b[0;32mif\u001b[0m \u001b[0mdata_handler\u001b[0m\u001b[0;34m.\u001b[0m\u001b[0mshould_sync\u001b[0m\u001b[0;34m:\u001b[0m\u001b[0;34m\u001b[0m\u001b[0;34m\u001b[0m\u001b[0m\n\u001b[1;32m   1704\u001b[0m               \u001b[0mcontext\u001b[0m\u001b[0;34m.\u001b[0m\u001b[0masync_wait\u001b[0m\u001b[0;34m(\u001b[0m\u001b[0;34m)\u001b[0m\u001b[0;34m\u001b[0m\u001b[0;34m\u001b[0m\u001b[0m\n",
            "\u001b[0;32m/usr/local/lib/python3.7/dist-packages/tensorflow/python/eager/def_function.py\u001b[0m in \u001b[0;36m__call__\u001b[0;34m(self, *args, **kwds)\u001b[0m\n\u001b[1;32m    887\u001b[0m \u001b[0;34m\u001b[0m\u001b[0m\n\u001b[1;32m    888\u001b[0m       \u001b[0;32mwith\u001b[0m \u001b[0mOptionalXlaContext\u001b[0m\u001b[0;34m(\u001b[0m\u001b[0mself\u001b[0m\u001b[0;34m.\u001b[0m\u001b[0m_jit_compile\u001b[0m\u001b[0;34m)\u001b[0m\u001b[0;34m:\u001b[0m\u001b[0;34m\u001b[0m\u001b[0;34m\u001b[0m\u001b[0m\n\u001b[0;32m--> 889\u001b[0;31m         \u001b[0mresult\u001b[0m \u001b[0;34m=\u001b[0m \u001b[0mself\u001b[0m\u001b[0;34m.\u001b[0m\u001b[0m_call\u001b[0m\u001b[0;34m(\u001b[0m\u001b[0;34m*\u001b[0m\u001b[0margs\u001b[0m\u001b[0;34m,\u001b[0m \u001b[0;34m**\u001b[0m\u001b[0mkwds\u001b[0m\u001b[0;34m)\u001b[0m\u001b[0;34m\u001b[0m\u001b[0;34m\u001b[0m\u001b[0m\n\u001b[0m\u001b[1;32m    890\u001b[0m \u001b[0;34m\u001b[0m\u001b[0m\n\u001b[1;32m    891\u001b[0m       \u001b[0mnew_tracing_count\u001b[0m \u001b[0;34m=\u001b[0m \u001b[0mself\u001b[0m\u001b[0;34m.\u001b[0m\u001b[0mexperimental_get_tracing_count\u001b[0m\u001b[0;34m(\u001b[0m\u001b[0;34m)\u001b[0m\u001b[0;34m\u001b[0m\u001b[0;34m\u001b[0m\u001b[0m\n",
            "\u001b[0;32m/usr/local/lib/python3.7/dist-packages/tensorflow/python/eager/def_function.py\u001b[0m in \u001b[0;36m_call\u001b[0;34m(self, *args, **kwds)\u001b[0m\n\u001b[1;32m    922\u001b[0m       \u001b[0;31m# In this case we have not created variables on the first call. So we can\u001b[0m\u001b[0;34m\u001b[0m\u001b[0;34m\u001b[0m\u001b[0;34m\u001b[0m\u001b[0m\n\u001b[1;32m    923\u001b[0m       \u001b[0;31m# run the first trace but we should fail if variables are created.\u001b[0m\u001b[0;34m\u001b[0m\u001b[0;34m\u001b[0m\u001b[0;34m\u001b[0m\u001b[0m\n\u001b[0;32m--> 924\u001b[0;31m       \u001b[0mresults\u001b[0m \u001b[0;34m=\u001b[0m \u001b[0mself\u001b[0m\u001b[0;34m.\u001b[0m\u001b[0m_stateful_fn\u001b[0m\u001b[0;34m(\u001b[0m\u001b[0;34m*\u001b[0m\u001b[0margs\u001b[0m\u001b[0;34m,\u001b[0m \u001b[0;34m**\u001b[0m\u001b[0mkwds\u001b[0m\u001b[0;34m)\u001b[0m\u001b[0;34m\u001b[0m\u001b[0;34m\u001b[0m\u001b[0m\n\u001b[0m\u001b[1;32m    925\u001b[0m       \u001b[0;32mif\u001b[0m \u001b[0mself\u001b[0m\u001b[0;34m.\u001b[0m\u001b[0m_created_variables\u001b[0m\u001b[0;34m:\u001b[0m\u001b[0;34m\u001b[0m\u001b[0;34m\u001b[0m\u001b[0m\n\u001b[1;32m    926\u001b[0m         raise ValueError(\"Creating variables on a non-first call to a function\"\n",
            "\u001b[0;32m/usr/local/lib/python3.7/dist-packages/tensorflow/python/eager/function.py\u001b[0m in \u001b[0;36m__call__\u001b[0;34m(self, *args, **kwargs)\u001b[0m\n\u001b[1;32m   3020\u001b[0m     \u001b[0;32mwith\u001b[0m \u001b[0mself\u001b[0m\u001b[0;34m.\u001b[0m\u001b[0m_lock\u001b[0m\u001b[0;34m:\u001b[0m\u001b[0;34m\u001b[0m\u001b[0;34m\u001b[0m\u001b[0m\n\u001b[1;32m   3021\u001b[0m       (graph_function,\n\u001b[0;32m-> 3022\u001b[0;31m        filtered_flat_args) = self._maybe_define_function(args, kwargs)\n\u001b[0m\u001b[1;32m   3023\u001b[0m     return graph_function._call_flat(\n\u001b[1;32m   3024\u001b[0m         filtered_flat_args, captured_inputs=graph_function.captured_inputs)  # pylint: disable=protected-access\n",
            "\u001b[0;32m/usr/local/lib/python3.7/dist-packages/tensorflow/python/eager/function.py\u001b[0m in \u001b[0;36m_maybe_define_function\u001b[0;34m(self, args, kwargs)\u001b[0m\n\u001b[1;32m   3439\u001b[0m               call_context_key in self._function_cache.missed):\n\u001b[1;32m   3440\u001b[0m             return self._define_function_with_shape_relaxation(\n\u001b[0;32m-> 3441\u001b[0;31m                 args, kwargs, flat_args, filtered_flat_args, cache_key_context)\n\u001b[0m\u001b[1;32m   3442\u001b[0m \u001b[0;34m\u001b[0m\u001b[0m\n\u001b[1;32m   3443\u001b[0m           \u001b[0mself\u001b[0m\u001b[0;34m.\u001b[0m\u001b[0m_function_cache\u001b[0m\u001b[0;34m.\u001b[0m\u001b[0mmissed\u001b[0m\u001b[0;34m.\u001b[0m\u001b[0madd\u001b[0m\u001b[0;34m(\u001b[0m\u001b[0mcall_context_key\u001b[0m\u001b[0;34m)\u001b[0m\u001b[0;34m\u001b[0m\u001b[0;34m\u001b[0m\u001b[0m\n",
            "\u001b[0;32m/usr/local/lib/python3.7/dist-packages/tensorflow/python/eager/function.py\u001b[0m in \u001b[0;36m_define_function_with_shape_relaxation\u001b[0;34m(self, args, kwargs, flat_args, filtered_flat_args, cache_key_context)\u001b[0m\n\u001b[1;32m   3361\u001b[0m \u001b[0;34m\u001b[0m\u001b[0m\n\u001b[1;32m   3362\u001b[0m     graph_function = self._create_graph_function(\n\u001b[0;32m-> 3363\u001b[0;31m         args, kwargs, override_flat_arg_shapes=relaxed_arg_shapes)\n\u001b[0m\u001b[1;32m   3364\u001b[0m     \u001b[0mself\u001b[0m\u001b[0;34m.\u001b[0m\u001b[0m_function_cache\u001b[0m\u001b[0;34m.\u001b[0m\u001b[0marg_relaxed\u001b[0m\u001b[0;34m[\u001b[0m\u001b[0mrank_only_cache_key\u001b[0m\u001b[0;34m]\u001b[0m \u001b[0;34m=\u001b[0m \u001b[0mgraph_function\u001b[0m\u001b[0;34m\u001b[0m\u001b[0;34m\u001b[0m\u001b[0m\n\u001b[1;32m   3365\u001b[0m \u001b[0;34m\u001b[0m\u001b[0m\n",
            "\u001b[0;32m/usr/local/lib/python3.7/dist-packages/tensorflow/python/eager/function.py\u001b[0m in \u001b[0;36m_create_graph_function\u001b[0;34m(self, args, kwargs, override_flat_arg_shapes)\u001b[0m\n\u001b[1;32m   3287\u001b[0m             \u001b[0marg_names\u001b[0m\u001b[0;34m=\u001b[0m\u001b[0marg_names\u001b[0m\u001b[0;34m,\u001b[0m\u001b[0;34m\u001b[0m\u001b[0;34m\u001b[0m\u001b[0m\n\u001b[1;32m   3288\u001b[0m             \u001b[0moverride_flat_arg_shapes\u001b[0m\u001b[0;34m=\u001b[0m\u001b[0moverride_flat_arg_shapes\u001b[0m\u001b[0;34m,\u001b[0m\u001b[0;34m\u001b[0m\u001b[0;34m\u001b[0m\u001b[0m\n\u001b[0;32m-> 3289\u001b[0;31m             capture_by_value=self._capture_by_value),\n\u001b[0m\u001b[1;32m   3290\u001b[0m         \u001b[0mself\u001b[0m\u001b[0;34m.\u001b[0m\u001b[0m_function_attributes\u001b[0m\u001b[0;34m,\u001b[0m\u001b[0;34m\u001b[0m\u001b[0;34m\u001b[0m\u001b[0m\n\u001b[1;32m   3291\u001b[0m         \u001b[0mfunction_spec\u001b[0m\u001b[0;34m=\u001b[0m\u001b[0mself\u001b[0m\u001b[0;34m.\u001b[0m\u001b[0mfunction_spec\u001b[0m\u001b[0;34m,\u001b[0m\u001b[0;34m\u001b[0m\u001b[0;34m\u001b[0m\u001b[0m\n",
            "\u001b[0;32m/usr/local/lib/python3.7/dist-packages/tensorflow/python/framework/func_graph.py\u001b[0m in \u001b[0;36mfunc_graph_from_py_func\u001b[0;34m(name, python_func, args, kwargs, signature, func_graph, autograph, autograph_options, add_control_dependencies, arg_names, op_return_value, collections, capture_by_value, override_flat_arg_shapes)\u001b[0m\n\u001b[1;32m    997\u001b[0m         \u001b[0m_\u001b[0m\u001b[0;34m,\u001b[0m \u001b[0moriginal_func\u001b[0m \u001b[0;34m=\u001b[0m \u001b[0mtf_decorator\u001b[0m\u001b[0;34m.\u001b[0m\u001b[0munwrap\u001b[0m\u001b[0;34m(\u001b[0m\u001b[0mpython_func\u001b[0m\u001b[0;34m)\u001b[0m\u001b[0;34m\u001b[0m\u001b[0;34m\u001b[0m\u001b[0m\n\u001b[1;32m    998\u001b[0m \u001b[0;34m\u001b[0m\u001b[0m\n\u001b[0;32m--> 999\u001b[0;31m       \u001b[0mfunc_outputs\u001b[0m \u001b[0;34m=\u001b[0m \u001b[0mpython_func\u001b[0m\u001b[0;34m(\u001b[0m\u001b[0;34m*\u001b[0m\u001b[0mfunc_args\u001b[0m\u001b[0;34m,\u001b[0m \u001b[0;34m**\u001b[0m\u001b[0mfunc_kwargs\u001b[0m\u001b[0;34m)\u001b[0m\u001b[0;34m\u001b[0m\u001b[0;34m\u001b[0m\u001b[0m\n\u001b[0m\u001b[1;32m   1000\u001b[0m \u001b[0;34m\u001b[0m\u001b[0m\n\u001b[1;32m   1001\u001b[0m       \u001b[0;31m# invariant: `func_outputs` contains only Tensors, CompositeTensors,\u001b[0m\u001b[0;34m\u001b[0m\u001b[0;34m\u001b[0m\u001b[0;34m\u001b[0m\u001b[0m\n",
            "\u001b[0;32m/usr/local/lib/python3.7/dist-packages/tensorflow/python/eager/def_function.py\u001b[0m in \u001b[0;36mwrapped_fn\u001b[0;34m(*args, **kwds)\u001b[0m\n\u001b[1;32m    670\u001b[0m         \u001b[0;31m# the function a weak reference to itself to avoid a reference cycle.\u001b[0m\u001b[0;34m\u001b[0m\u001b[0;34m\u001b[0m\u001b[0;34m\u001b[0m\u001b[0m\n\u001b[1;32m    671\u001b[0m         \u001b[0;32mwith\u001b[0m \u001b[0mOptionalXlaContext\u001b[0m\u001b[0;34m(\u001b[0m\u001b[0mcompile_with_xla\u001b[0m\u001b[0;34m)\u001b[0m\u001b[0;34m:\u001b[0m\u001b[0;34m\u001b[0m\u001b[0;34m\u001b[0m\u001b[0m\n\u001b[0;32m--> 672\u001b[0;31m           \u001b[0mout\u001b[0m \u001b[0;34m=\u001b[0m \u001b[0mweak_wrapped_fn\u001b[0m\u001b[0;34m(\u001b[0m\u001b[0;34m)\u001b[0m\u001b[0;34m.\u001b[0m\u001b[0m__wrapped__\u001b[0m\u001b[0;34m(\u001b[0m\u001b[0;34m*\u001b[0m\u001b[0margs\u001b[0m\u001b[0;34m,\u001b[0m \u001b[0;34m**\u001b[0m\u001b[0mkwds\u001b[0m\u001b[0;34m)\u001b[0m\u001b[0;34m\u001b[0m\u001b[0;34m\u001b[0m\u001b[0m\n\u001b[0m\u001b[1;32m    673\u001b[0m         \u001b[0;32mreturn\u001b[0m \u001b[0mout\u001b[0m\u001b[0;34m\u001b[0m\u001b[0;34m\u001b[0m\u001b[0m\n\u001b[1;32m    674\u001b[0m \u001b[0;34m\u001b[0m\u001b[0m\n",
            "\u001b[0;32m/usr/local/lib/python3.7/dist-packages/tensorflow/python/framework/func_graph.py\u001b[0m in \u001b[0;36mwrapper\u001b[0;34m(*args, **kwargs)\u001b[0m\n\u001b[1;32m    984\u001b[0m           \u001b[0;32mexcept\u001b[0m \u001b[0mException\u001b[0m \u001b[0;32mas\u001b[0m \u001b[0me\u001b[0m\u001b[0;34m:\u001b[0m  \u001b[0;31m# pylint:disable=broad-except\u001b[0m\u001b[0;34m\u001b[0m\u001b[0;34m\u001b[0m\u001b[0m\n\u001b[1;32m    985\u001b[0m             \u001b[0;32mif\u001b[0m \u001b[0mhasattr\u001b[0m\u001b[0;34m(\u001b[0m\u001b[0me\u001b[0m\u001b[0;34m,\u001b[0m \u001b[0;34m\"ag_error_metadata\"\u001b[0m\u001b[0;34m)\u001b[0m\u001b[0;34m:\u001b[0m\u001b[0;34m\u001b[0m\u001b[0;34m\u001b[0m\u001b[0m\n\u001b[0;32m--> 986\u001b[0;31m               \u001b[0;32mraise\u001b[0m \u001b[0me\u001b[0m\u001b[0;34m.\u001b[0m\u001b[0mag_error_metadata\u001b[0m\u001b[0;34m.\u001b[0m\u001b[0mto_exception\u001b[0m\u001b[0;34m(\u001b[0m\u001b[0me\u001b[0m\u001b[0;34m)\u001b[0m\u001b[0;34m\u001b[0m\u001b[0;34m\u001b[0m\u001b[0m\n\u001b[0m\u001b[1;32m    987\u001b[0m             \u001b[0;32melse\u001b[0m\u001b[0;34m:\u001b[0m\u001b[0;34m\u001b[0m\u001b[0;34m\u001b[0m\u001b[0m\n\u001b[1;32m    988\u001b[0m               \u001b[0;32mraise\u001b[0m\u001b[0;34m\u001b[0m\u001b[0;34m\u001b[0m\u001b[0m\n",
            "\u001b[0;31mValueError\u001b[0m: in user code:\n\n    /usr/local/lib/python3.7/dist-packages/keras/engine/training.py:1544 predict_function  *\n        return step_function(self, iterator)\n    /usr/local/lib/python3.7/dist-packages/keras/engine/training.py:1527 run_step  *\n        outputs = model.predict_step(data)\n    /usr/local/lib/python3.7/dist-packages/keras/engine/training.py:1500 predict_step  *\n        return self(x, training=False)\n    /usr/local/lib/python3.7/dist-packages/keras/engine/base_layer.py:989 __call__  *\n        input_spec.assert_input_compatibility(self.input_spec, inputs, self.name)\n    /usr/local/lib/python3.7/dist-packages/keras/engine/input_spec.py:212 assert_input_compatibility  *\n        raise ValueError('Input ' + str(input_index) + ' of layer ' +\n\n    ValueError: Input 0 of layer sequential is incompatible with the layer: expected ndim=3, found ndim=2. Full shape received: (None, 1)\n"
          ]
        }
      ]
    },
    {
      "cell_type": "code",
      "metadata": {
        "id": "fJevCUvoK5r6"
      },
      "source": [
        "def Predict_Next_Words(model, tokenizer, text):\n",
        "    \"\"\"\n",
        "        In this function we are using the tokenizer and models trained\n",
        "        and we are creating the sequence of the text entered and then\n",
        "        using our model to predict and return the the predicted word.\n",
        "    \n",
        "    \"\"\"\n",
        "    for i in range(3):\n",
        "        sequence = tokenized.tokenize(text)\n",
        "        sequence = np.array(sequence)\n",
        "        \n",
        "        preds = model.predict_classes(sequence)\n",
        "        # print(preds)\n",
        "        predicted_word = \"\"\n",
        "        \n",
        "        for key, value in tokenized:\n",
        "            if value == preds:\n",
        "                predicted_word = key\n",
        "                break\n",
        "        \n",
        "        print(predicted_word)\n",
        "        return predicted_word"
      ],
      "execution_count": 92,
      "outputs": []
    },
    {
      "cell_type": "code",
      "metadata": {
        "colab": {
          "base_uri": "https://localhost:8080/",
          "height": 599
        },
        "id": "XnHfsI2leTNT",
        "outputId": "1a4bf494-82f1-4d88-adaf-b35bf31c07f3"
      },
      "source": [
        "Predict_Next_Words(model, tokenized, \"she fell in the\")"
      ],
      "execution_count": 95,
      "outputs": [
        {
          "output_type": "stream",
          "text": [
            "/usr/local/lib/python3.7/dist-packages/keras/engine/sequential.py:450: UserWarning: `model.predict_classes()` is deprecated and will be removed after 2021-01-01. Please use instead:* `np.argmax(model.predict(x), axis=-1)`,   if your model does multi-class classification   (e.g. if it uses a `softmax` last-layer activation).* `(model.predict(x) > 0.5).astype(\"int32\")`,   if your model does binary classification   (e.g. if it uses a `sigmoid` last-layer activation).\n",
            "  warnings.warn('`model.predict_classes()` is deprecated and '\n"
          ],
          "name": "stderr"
        },
        {
          "output_type": "error",
          "ename": "ValueError",
          "evalue": "ignored",
          "traceback": [
            "\u001b[0;31m---------------------------------------------------------------------------\u001b[0m",
            "\u001b[0;31mValueError\u001b[0m                                Traceback (most recent call last)",
            "\u001b[0;32m<ipython-input-95-7378af2009f4>\u001b[0m in \u001b[0;36m<module>\u001b[0;34m()\u001b[0m\n\u001b[0;32m----> 1\u001b[0;31m \u001b[0mPredict_Next_Words\u001b[0m\u001b[0;34m(\u001b[0m\u001b[0mmodel\u001b[0m\u001b[0;34m,\u001b[0m \u001b[0mtokenized\u001b[0m\u001b[0;34m,\u001b[0m \u001b[0;34m\"she fell in the\"\u001b[0m\u001b[0;34m)\u001b[0m\u001b[0;34m\u001b[0m\u001b[0;34m\u001b[0m\u001b[0m\n\u001b[0m",
            "\u001b[0;32m<ipython-input-92-4141f50bea3c>\u001b[0m in \u001b[0;36mPredict_Next_Words\u001b[0;34m(model, tokenizer, text)\u001b[0m\n\u001b[1;32m     10\u001b[0m         \u001b[0msequence\u001b[0m \u001b[0;34m=\u001b[0m \u001b[0mnp\u001b[0m\u001b[0;34m.\u001b[0m\u001b[0marray\u001b[0m\u001b[0;34m(\u001b[0m\u001b[0msequence\u001b[0m\u001b[0;34m)\u001b[0m\u001b[0;34m\u001b[0m\u001b[0;34m\u001b[0m\u001b[0m\n\u001b[1;32m     11\u001b[0m \u001b[0;34m\u001b[0m\u001b[0m\n\u001b[0;32m---> 12\u001b[0;31m         \u001b[0mpreds\u001b[0m \u001b[0;34m=\u001b[0m \u001b[0mmodel\u001b[0m\u001b[0;34m.\u001b[0m\u001b[0mpredict_classes\u001b[0m\u001b[0;34m(\u001b[0m\u001b[0msequence\u001b[0m\u001b[0;34m)\u001b[0m\u001b[0;34m\u001b[0m\u001b[0;34m\u001b[0m\u001b[0m\n\u001b[0m\u001b[1;32m     13\u001b[0m         \u001b[0;31m# print(preds)\u001b[0m\u001b[0;34m\u001b[0m\u001b[0;34m\u001b[0m\u001b[0;34m\u001b[0m\u001b[0m\n\u001b[1;32m     14\u001b[0m         \u001b[0mpredicted_word\u001b[0m \u001b[0;34m=\u001b[0m \u001b[0;34m\"\"\u001b[0m\u001b[0;34m\u001b[0m\u001b[0;34m\u001b[0m\u001b[0m\n",
            "\u001b[0;32m/usr/local/lib/python3.7/dist-packages/keras/engine/sequential.py\u001b[0m in \u001b[0;36mpredict_classes\u001b[0;34m(self, x, batch_size, verbose)\u001b[0m\n\u001b[1;32m    457\u001b[0m                   \u001b[0;34m'  if your model does binary classification '\u001b[0m\u001b[0;34m\u001b[0m\u001b[0;34m\u001b[0m\u001b[0m\n\u001b[1;32m    458\u001b[0m                   '  (e.g. if it uses a `sigmoid` last-layer activation).')\n\u001b[0;32m--> 459\u001b[0;31m     \u001b[0mproba\u001b[0m \u001b[0;34m=\u001b[0m \u001b[0mself\u001b[0m\u001b[0;34m.\u001b[0m\u001b[0mpredict\u001b[0m\u001b[0;34m(\u001b[0m\u001b[0mx\u001b[0m\u001b[0;34m,\u001b[0m \u001b[0mbatch_size\u001b[0m\u001b[0;34m=\u001b[0m\u001b[0mbatch_size\u001b[0m\u001b[0;34m,\u001b[0m \u001b[0mverbose\u001b[0m\u001b[0;34m=\u001b[0m\u001b[0mverbose\u001b[0m\u001b[0;34m)\u001b[0m\u001b[0;34m\u001b[0m\u001b[0;34m\u001b[0m\u001b[0m\n\u001b[0m\u001b[1;32m    460\u001b[0m     \u001b[0;32mif\u001b[0m \u001b[0mproba\u001b[0m\u001b[0;34m.\u001b[0m\u001b[0mshape\u001b[0m\u001b[0;34m[\u001b[0m\u001b[0;34m-\u001b[0m\u001b[0;36m1\u001b[0m\u001b[0;34m]\u001b[0m \u001b[0;34m>\u001b[0m \u001b[0;36m1\u001b[0m\u001b[0;34m:\u001b[0m\u001b[0;34m\u001b[0m\u001b[0;34m\u001b[0m\u001b[0m\n\u001b[1;32m    461\u001b[0m       \u001b[0;32mreturn\u001b[0m \u001b[0mproba\u001b[0m\u001b[0;34m.\u001b[0m\u001b[0margmax\u001b[0m\u001b[0;34m(\u001b[0m\u001b[0maxis\u001b[0m\u001b[0;34m=\u001b[0m\u001b[0;34m-\u001b[0m\u001b[0;36m1\u001b[0m\u001b[0;34m)\u001b[0m\u001b[0;34m\u001b[0m\u001b[0;34m\u001b[0m\u001b[0m\n",
            "\u001b[0;32m/usr/local/lib/python3.7/dist-packages/keras/engine/training.py\u001b[0m in \u001b[0;36mpredict\u001b[0;34m(self, x, batch_size, verbose, steps, callbacks, max_queue_size, workers, use_multiprocessing)\u001b[0m\n\u001b[1;32m   1700\u001b[0m           \u001b[0;32mfor\u001b[0m \u001b[0mstep\u001b[0m \u001b[0;32min\u001b[0m \u001b[0mdata_handler\u001b[0m\u001b[0;34m.\u001b[0m\u001b[0msteps\u001b[0m\u001b[0;34m(\u001b[0m\u001b[0;34m)\u001b[0m\u001b[0;34m:\u001b[0m\u001b[0;34m\u001b[0m\u001b[0;34m\u001b[0m\u001b[0m\n\u001b[1;32m   1701\u001b[0m             \u001b[0mcallbacks\u001b[0m\u001b[0;34m.\u001b[0m\u001b[0mon_predict_batch_begin\u001b[0m\u001b[0;34m(\u001b[0m\u001b[0mstep\u001b[0m\u001b[0;34m)\u001b[0m\u001b[0;34m\u001b[0m\u001b[0;34m\u001b[0m\u001b[0m\n\u001b[0;32m-> 1702\u001b[0;31m             \u001b[0mtmp_batch_outputs\u001b[0m \u001b[0;34m=\u001b[0m \u001b[0mself\u001b[0m\u001b[0;34m.\u001b[0m\u001b[0mpredict_function\u001b[0m\u001b[0;34m(\u001b[0m\u001b[0miterator\u001b[0m\u001b[0;34m)\u001b[0m\u001b[0;34m\u001b[0m\u001b[0;34m\u001b[0m\u001b[0m\n\u001b[0m\u001b[1;32m   1703\u001b[0m             \u001b[0;32mif\u001b[0m \u001b[0mdata_handler\u001b[0m\u001b[0;34m.\u001b[0m\u001b[0mshould_sync\u001b[0m\u001b[0;34m:\u001b[0m\u001b[0;34m\u001b[0m\u001b[0;34m\u001b[0m\u001b[0m\n\u001b[1;32m   1704\u001b[0m               \u001b[0mcontext\u001b[0m\u001b[0;34m.\u001b[0m\u001b[0masync_wait\u001b[0m\u001b[0;34m(\u001b[0m\u001b[0;34m)\u001b[0m\u001b[0;34m\u001b[0m\u001b[0;34m\u001b[0m\u001b[0m\n",
            "\u001b[0;32m/usr/local/lib/python3.7/dist-packages/tensorflow/python/eager/def_function.py\u001b[0m in \u001b[0;36m__call__\u001b[0;34m(self, *args, **kwds)\u001b[0m\n\u001b[1;32m    887\u001b[0m \u001b[0;34m\u001b[0m\u001b[0m\n\u001b[1;32m    888\u001b[0m       \u001b[0;32mwith\u001b[0m \u001b[0mOptionalXlaContext\u001b[0m\u001b[0;34m(\u001b[0m\u001b[0mself\u001b[0m\u001b[0;34m.\u001b[0m\u001b[0m_jit_compile\u001b[0m\u001b[0;34m)\u001b[0m\u001b[0;34m:\u001b[0m\u001b[0;34m\u001b[0m\u001b[0;34m\u001b[0m\u001b[0m\n\u001b[0;32m--> 889\u001b[0;31m         \u001b[0mresult\u001b[0m \u001b[0;34m=\u001b[0m \u001b[0mself\u001b[0m\u001b[0;34m.\u001b[0m\u001b[0m_call\u001b[0m\u001b[0;34m(\u001b[0m\u001b[0;34m*\u001b[0m\u001b[0margs\u001b[0m\u001b[0;34m,\u001b[0m \u001b[0;34m**\u001b[0m\u001b[0mkwds\u001b[0m\u001b[0;34m)\u001b[0m\u001b[0;34m\u001b[0m\u001b[0;34m\u001b[0m\u001b[0m\n\u001b[0m\u001b[1;32m    890\u001b[0m \u001b[0;34m\u001b[0m\u001b[0m\n\u001b[1;32m    891\u001b[0m       \u001b[0mnew_tracing_count\u001b[0m \u001b[0;34m=\u001b[0m \u001b[0mself\u001b[0m\u001b[0;34m.\u001b[0m\u001b[0mexperimental_get_tracing_count\u001b[0m\u001b[0;34m(\u001b[0m\u001b[0;34m)\u001b[0m\u001b[0;34m\u001b[0m\u001b[0;34m\u001b[0m\u001b[0m\n",
            "\u001b[0;32m/usr/local/lib/python3.7/dist-packages/tensorflow/python/eager/def_function.py\u001b[0m in \u001b[0;36m_call\u001b[0;34m(self, *args, **kwds)\u001b[0m\n\u001b[1;32m    922\u001b[0m       \u001b[0;31m# In this case we have not created variables on the first call. So we can\u001b[0m\u001b[0;34m\u001b[0m\u001b[0;34m\u001b[0m\u001b[0;34m\u001b[0m\u001b[0m\n\u001b[1;32m    923\u001b[0m       \u001b[0;31m# run the first trace but we should fail if variables are created.\u001b[0m\u001b[0;34m\u001b[0m\u001b[0;34m\u001b[0m\u001b[0;34m\u001b[0m\u001b[0m\n\u001b[0;32m--> 924\u001b[0;31m       \u001b[0mresults\u001b[0m \u001b[0;34m=\u001b[0m \u001b[0mself\u001b[0m\u001b[0;34m.\u001b[0m\u001b[0m_stateful_fn\u001b[0m\u001b[0;34m(\u001b[0m\u001b[0;34m*\u001b[0m\u001b[0margs\u001b[0m\u001b[0;34m,\u001b[0m \u001b[0;34m**\u001b[0m\u001b[0mkwds\u001b[0m\u001b[0;34m)\u001b[0m\u001b[0;34m\u001b[0m\u001b[0;34m\u001b[0m\u001b[0m\n\u001b[0m\u001b[1;32m    925\u001b[0m       \u001b[0;32mif\u001b[0m \u001b[0mself\u001b[0m\u001b[0;34m.\u001b[0m\u001b[0m_created_variables\u001b[0m\u001b[0;34m:\u001b[0m\u001b[0;34m\u001b[0m\u001b[0;34m\u001b[0m\u001b[0m\n\u001b[1;32m    926\u001b[0m         raise ValueError(\"Creating variables on a non-first call to a function\"\n",
            "\u001b[0;32m/usr/local/lib/python3.7/dist-packages/tensorflow/python/eager/function.py\u001b[0m in \u001b[0;36m__call__\u001b[0;34m(self, *args, **kwargs)\u001b[0m\n\u001b[1;32m   3020\u001b[0m     \u001b[0;32mwith\u001b[0m \u001b[0mself\u001b[0m\u001b[0;34m.\u001b[0m\u001b[0m_lock\u001b[0m\u001b[0;34m:\u001b[0m\u001b[0;34m\u001b[0m\u001b[0;34m\u001b[0m\u001b[0m\n\u001b[1;32m   3021\u001b[0m       (graph_function,\n\u001b[0;32m-> 3022\u001b[0;31m        filtered_flat_args) = self._maybe_define_function(args, kwargs)\n\u001b[0m\u001b[1;32m   3023\u001b[0m     return graph_function._call_flat(\n\u001b[1;32m   3024\u001b[0m         filtered_flat_args, captured_inputs=graph_function.captured_inputs)  # pylint: disable=protected-access\n",
            "\u001b[0;32m/usr/local/lib/python3.7/dist-packages/tensorflow/python/eager/function.py\u001b[0m in \u001b[0;36m_maybe_define_function\u001b[0;34m(self, args, kwargs)\u001b[0m\n\u001b[1;32m   3439\u001b[0m               call_context_key in self._function_cache.missed):\n\u001b[1;32m   3440\u001b[0m             return self._define_function_with_shape_relaxation(\n\u001b[0;32m-> 3441\u001b[0;31m                 args, kwargs, flat_args, filtered_flat_args, cache_key_context)\n\u001b[0m\u001b[1;32m   3442\u001b[0m \u001b[0;34m\u001b[0m\u001b[0m\n\u001b[1;32m   3443\u001b[0m           \u001b[0mself\u001b[0m\u001b[0;34m.\u001b[0m\u001b[0m_function_cache\u001b[0m\u001b[0;34m.\u001b[0m\u001b[0mmissed\u001b[0m\u001b[0;34m.\u001b[0m\u001b[0madd\u001b[0m\u001b[0;34m(\u001b[0m\u001b[0mcall_context_key\u001b[0m\u001b[0;34m)\u001b[0m\u001b[0;34m\u001b[0m\u001b[0;34m\u001b[0m\u001b[0m\n",
            "\u001b[0;32m/usr/local/lib/python3.7/dist-packages/tensorflow/python/eager/function.py\u001b[0m in \u001b[0;36m_define_function_with_shape_relaxation\u001b[0;34m(self, args, kwargs, flat_args, filtered_flat_args, cache_key_context)\u001b[0m\n\u001b[1;32m   3361\u001b[0m \u001b[0;34m\u001b[0m\u001b[0m\n\u001b[1;32m   3362\u001b[0m     graph_function = self._create_graph_function(\n\u001b[0;32m-> 3363\u001b[0;31m         args, kwargs, override_flat_arg_shapes=relaxed_arg_shapes)\n\u001b[0m\u001b[1;32m   3364\u001b[0m     \u001b[0mself\u001b[0m\u001b[0;34m.\u001b[0m\u001b[0m_function_cache\u001b[0m\u001b[0;34m.\u001b[0m\u001b[0marg_relaxed\u001b[0m\u001b[0;34m[\u001b[0m\u001b[0mrank_only_cache_key\u001b[0m\u001b[0;34m]\u001b[0m \u001b[0;34m=\u001b[0m \u001b[0mgraph_function\u001b[0m\u001b[0;34m\u001b[0m\u001b[0;34m\u001b[0m\u001b[0m\n\u001b[1;32m   3365\u001b[0m \u001b[0;34m\u001b[0m\u001b[0m\n",
            "\u001b[0;32m/usr/local/lib/python3.7/dist-packages/tensorflow/python/eager/function.py\u001b[0m in \u001b[0;36m_create_graph_function\u001b[0;34m(self, args, kwargs, override_flat_arg_shapes)\u001b[0m\n\u001b[1;32m   3287\u001b[0m             \u001b[0marg_names\u001b[0m\u001b[0;34m=\u001b[0m\u001b[0marg_names\u001b[0m\u001b[0;34m,\u001b[0m\u001b[0;34m\u001b[0m\u001b[0;34m\u001b[0m\u001b[0m\n\u001b[1;32m   3288\u001b[0m             \u001b[0moverride_flat_arg_shapes\u001b[0m\u001b[0;34m=\u001b[0m\u001b[0moverride_flat_arg_shapes\u001b[0m\u001b[0;34m,\u001b[0m\u001b[0;34m\u001b[0m\u001b[0;34m\u001b[0m\u001b[0m\n\u001b[0;32m-> 3289\u001b[0;31m             capture_by_value=self._capture_by_value),\n\u001b[0m\u001b[1;32m   3290\u001b[0m         \u001b[0mself\u001b[0m\u001b[0;34m.\u001b[0m\u001b[0m_function_attributes\u001b[0m\u001b[0;34m,\u001b[0m\u001b[0;34m\u001b[0m\u001b[0;34m\u001b[0m\u001b[0m\n\u001b[1;32m   3291\u001b[0m         \u001b[0mfunction_spec\u001b[0m\u001b[0;34m=\u001b[0m\u001b[0mself\u001b[0m\u001b[0;34m.\u001b[0m\u001b[0mfunction_spec\u001b[0m\u001b[0;34m,\u001b[0m\u001b[0;34m\u001b[0m\u001b[0;34m\u001b[0m\u001b[0m\n",
            "\u001b[0;32m/usr/local/lib/python3.7/dist-packages/tensorflow/python/framework/func_graph.py\u001b[0m in \u001b[0;36mfunc_graph_from_py_func\u001b[0;34m(name, python_func, args, kwargs, signature, func_graph, autograph, autograph_options, add_control_dependencies, arg_names, op_return_value, collections, capture_by_value, override_flat_arg_shapes)\u001b[0m\n\u001b[1;32m    997\u001b[0m         \u001b[0m_\u001b[0m\u001b[0;34m,\u001b[0m \u001b[0moriginal_func\u001b[0m \u001b[0;34m=\u001b[0m \u001b[0mtf_decorator\u001b[0m\u001b[0;34m.\u001b[0m\u001b[0munwrap\u001b[0m\u001b[0;34m(\u001b[0m\u001b[0mpython_func\u001b[0m\u001b[0;34m)\u001b[0m\u001b[0;34m\u001b[0m\u001b[0;34m\u001b[0m\u001b[0m\n\u001b[1;32m    998\u001b[0m \u001b[0;34m\u001b[0m\u001b[0m\n\u001b[0;32m--> 999\u001b[0;31m       \u001b[0mfunc_outputs\u001b[0m \u001b[0;34m=\u001b[0m \u001b[0mpython_func\u001b[0m\u001b[0;34m(\u001b[0m\u001b[0;34m*\u001b[0m\u001b[0mfunc_args\u001b[0m\u001b[0;34m,\u001b[0m \u001b[0;34m**\u001b[0m\u001b[0mfunc_kwargs\u001b[0m\u001b[0;34m)\u001b[0m\u001b[0;34m\u001b[0m\u001b[0;34m\u001b[0m\u001b[0m\n\u001b[0m\u001b[1;32m   1000\u001b[0m \u001b[0;34m\u001b[0m\u001b[0m\n\u001b[1;32m   1001\u001b[0m       \u001b[0;31m# invariant: `func_outputs` contains only Tensors, CompositeTensors,\u001b[0m\u001b[0;34m\u001b[0m\u001b[0;34m\u001b[0m\u001b[0;34m\u001b[0m\u001b[0m\n",
            "\u001b[0;32m/usr/local/lib/python3.7/dist-packages/tensorflow/python/eager/def_function.py\u001b[0m in \u001b[0;36mwrapped_fn\u001b[0;34m(*args, **kwds)\u001b[0m\n\u001b[1;32m    670\u001b[0m         \u001b[0;31m# the function a weak reference to itself to avoid a reference cycle.\u001b[0m\u001b[0;34m\u001b[0m\u001b[0;34m\u001b[0m\u001b[0;34m\u001b[0m\u001b[0m\n\u001b[1;32m    671\u001b[0m         \u001b[0;32mwith\u001b[0m \u001b[0mOptionalXlaContext\u001b[0m\u001b[0;34m(\u001b[0m\u001b[0mcompile_with_xla\u001b[0m\u001b[0;34m)\u001b[0m\u001b[0;34m:\u001b[0m\u001b[0;34m\u001b[0m\u001b[0;34m\u001b[0m\u001b[0m\n\u001b[0;32m--> 672\u001b[0;31m           \u001b[0mout\u001b[0m \u001b[0;34m=\u001b[0m \u001b[0mweak_wrapped_fn\u001b[0m\u001b[0;34m(\u001b[0m\u001b[0;34m)\u001b[0m\u001b[0;34m.\u001b[0m\u001b[0m__wrapped__\u001b[0m\u001b[0;34m(\u001b[0m\u001b[0;34m*\u001b[0m\u001b[0margs\u001b[0m\u001b[0;34m,\u001b[0m \u001b[0;34m**\u001b[0m\u001b[0mkwds\u001b[0m\u001b[0;34m)\u001b[0m\u001b[0;34m\u001b[0m\u001b[0;34m\u001b[0m\u001b[0m\n\u001b[0m\u001b[1;32m    673\u001b[0m         \u001b[0;32mreturn\u001b[0m \u001b[0mout\u001b[0m\u001b[0;34m\u001b[0m\u001b[0;34m\u001b[0m\u001b[0m\n\u001b[1;32m    674\u001b[0m \u001b[0;34m\u001b[0m\u001b[0m\n",
            "\u001b[0;32m/usr/local/lib/python3.7/dist-packages/tensorflow/python/framework/func_graph.py\u001b[0m in \u001b[0;36mwrapper\u001b[0;34m(*args, **kwargs)\u001b[0m\n\u001b[1;32m    984\u001b[0m           \u001b[0;32mexcept\u001b[0m \u001b[0mException\u001b[0m \u001b[0;32mas\u001b[0m \u001b[0me\u001b[0m\u001b[0;34m:\u001b[0m  \u001b[0;31m# pylint:disable=broad-except\u001b[0m\u001b[0;34m\u001b[0m\u001b[0;34m\u001b[0m\u001b[0m\n\u001b[1;32m    985\u001b[0m             \u001b[0;32mif\u001b[0m \u001b[0mhasattr\u001b[0m\u001b[0;34m(\u001b[0m\u001b[0me\u001b[0m\u001b[0;34m,\u001b[0m \u001b[0;34m\"ag_error_metadata\"\u001b[0m\u001b[0;34m)\u001b[0m\u001b[0;34m:\u001b[0m\u001b[0;34m\u001b[0m\u001b[0;34m\u001b[0m\u001b[0m\n\u001b[0;32m--> 986\u001b[0;31m               \u001b[0;32mraise\u001b[0m \u001b[0me\u001b[0m\u001b[0;34m.\u001b[0m\u001b[0mag_error_metadata\u001b[0m\u001b[0;34m.\u001b[0m\u001b[0mto_exception\u001b[0m\u001b[0;34m(\u001b[0m\u001b[0me\u001b[0m\u001b[0;34m)\u001b[0m\u001b[0;34m\u001b[0m\u001b[0;34m\u001b[0m\u001b[0m\n\u001b[0m\u001b[1;32m    987\u001b[0m             \u001b[0;32melse\u001b[0m\u001b[0;34m:\u001b[0m\u001b[0;34m\u001b[0m\u001b[0;34m\u001b[0m\u001b[0m\n\u001b[1;32m    988\u001b[0m               \u001b[0;32mraise\u001b[0m\u001b[0;34m\u001b[0m\u001b[0;34m\u001b[0m\u001b[0m\n",
            "\u001b[0;31mValueError\u001b[0m: in user code:\n\n    /usr/local/lib/python3.7/dist-packages/keras/engine/training.py:1544 predict_function  *\n        return step_function(self, iterator)\n    /usr/local/lib/python3.7/dist-packages/keras/engine/training.py:1527 run_step  *\n        outputs = model.predict_step(data)\n    /usr/local/lib/python3.7/dist-packages/keras/engine/training.py:1500 predict_step  *\n        return self(x, training=False)\n    /usr/local/lib/python3.7/dist-packages/keras/engine/base_layer.py:989 __call__  *\n        input_spec.assert_input_compatibility(self.input_spec, inputs, self.name)\n    /usr/local/lib/python3.7/dist-packages/keras/engine/input_spec.py:212 assert_input_compatibility  *\n        raise ValueError('Input ' + str(input_index) + ' of layer ' +\n\n    ValueError: Input 0 of layer sequential is incompatible with the layer: expected ndim=3, found ndim=2. Full shape received: (None, 1)\n"
          ]
        }
      ]
    },
    {
      "cell_type": "code",
      "metadata": {
        "colab": {
          "base_uri": "https://localhost:8080/",
          "height": 701
        },
        "id": "EoZInP_uPTlZ",
        "outputId": "1f0b9307-f5e6-4d5a-f314-b7a35c9a1a01"
      },
      "source": [
        "while(True):\n",
        "\n",
        "    text = input(\"Enter your line: \")\n",
        "    \n",
        "    if text == \"stop the script\":\n",
        "        print(\"Ending The Program.....\")\n",
        "        break\n",
        "    \n",
        "    else:\n",
        "        # try:\n",
        "        print(\"hello\")\n",
        "        text = text.split(\" \")\n",
        "        text = text[-1]\n",
        "\n",
        "        text = ''.join(text)\n",
        "        Predict_Next_Words(model, tokenized, text)\n",
        "            \n",
        "        # except:\n",
        "        continue"
      ],
      "execution_count": 94,
      "outputs": [
        {
          "output_type": "stream",
          "text": [
            "Enter your line: fell in the\n",
            "hello\n"
          ],
          "name": "stdout"
        },
        {
          "output_type": "stream",
          "text": [
            "/usr/local/lib/python3.7/dist-packages/keras/engine/sequential.py:450: UserWarning: `model.predict_classes()` is deprecated and will be removed after 2021-01-01. Please use instead:* `np.argmax(model.predict(x), axis=-1)`,   if your model does multi-class classification   (e.g. if it uses a `softmax` last-layer activation).* `(model.predict(x) > 0.5).astype(\"int32\")`,   if your model does binary classification   (e.g. if it uses a `sigmoid` last-layer activation).\n",
            "  warnings.warn('`model.predict_classes()` is deprecated and '\n"
          ],
          "name": "stderr"
        },
        {
          "output_type": "error",
          "ename": "ValueError",
          "evalue": "ignored",
          "traceback": [
            "\u001b[0;31m---------------------------------------------------------------------------\u001b[0m",
            "\u001b[0;31mValueError\u001b[0m                                Traceback (most recent call last)",
            "\u001b[0;32m<ipython-input-94-99a0479dff10>\u001b[0m in \u001b[0;36m<module>\u001b[0;34m()\u001b[0m\n\u001b[1;32m     14\u001b[0m \u001b[0;34m\u001b[0m\u001b[0m\n\u001b[1;32m     15\u001b[0m         \u001b[0mtext\u001b[0m \u001b[0;34m=\u001b[0m \u001b[0;34m''\u001b[0m\u001b[0;34m.\u001b[0m\u001b[0mjoin\u001b[0m\u001b[0;34m(\u001b[0m\u001b[0mtext\u001b[0m\u001b[0;34m)\u001b[0m\u001b[0;34m\u001b[0m\u001b[0;34m\u001b[0m\u001b[0m\n\u001b[0;32m---> 16\u001b[0;31m         \u001b[0mPredict_Next_Words\u001b[0m\u001b[0;34m(\u001b[0m\u001b[0mmodel\u001b[0m\u001b[0;34m,\u001b[0m \u001b[0mtokenized\u001b[0m\u001b[0;34m,\u001b[0m \u001b[0mtext\u001b[0m\u001b[0;34m)\u001b[0m\u001b[0;34m\u001b[0m\u001b[0;34m\u001b[0m\u001b[0m\n\u001b[0m\u001b[1;32m     17\u001b[0m \u001b[0;34m\u001b[0m\u001b[0m\n\u001b[1;32m     18\u001b[0m         \u001b[0;31m# except:\u001b[0m\u001b[0;34m\u001b[0m\u001b[0;34m\u001b[0m\u001b[0;34m\u001b[0m\u001b[0m\n",
            "\u001b[0;32m<ipython-input-92-4141f50bea3c>\u001b[0m in \u001b[0;36mPredict_Next_Words\u001b[0;34m(model, tokenizer, text)\u001b[0m\n\u001b[1;32m     10\u001b[0m         \u001b[0msequence\u001b[0m \u001b[0;34m=\u001b[0m \u001b[0mnp\u001b[0m\u001b[0;34m.\u001b[0m\u001b[0marray\u001b[0m\u001b[0;34m(\u001b[0m\u001b[0msequence\u001b[0m\u001b[0;34m)\u001b[0m\u001b[0;34m\u001b[0m\u001b[0;34m\u001b[0m\u001b[0m\n\u001b[1;32m     11\u001b[0m \u001b[0;34m\u001b[0m\u001b[0m\n\u001b[0;32m---> 12\u001b[0;31m         \u001b[0mpreds\u001b[0m \u001b[0;34m=\u001b[0m \u001b[0mmodel\u001b[0m\u001b[0;34m.\u001b[0m\u001b[0mpredict_classes\u001b[0m\u001b[0;34m(\u001b[0m\u001b[0msequence\u001b[0m\u001b[0;34m)\u001b[0m\u001b[0;34m\u001b[0m\u001b[0;34m\u001b[0m\u001b[0m\n\u001b[0m\u001b[1;32m     13\u001b[0m         \u001b[0;31m# print(preds)\u001b[0m\u001b[0;34m\u001b[0m\u001b[0;34m\u001b[0m\u001b[0;34m\u001b[0m\u001b[0m\n\u001b[1;32m     14\u001b[0m         \u001b[0mpredicted_word\u001b[0m \u001b[0;34m=\u001b[0m \u001b[0;34m\"\"\u001b[0m\u001b[0;34m\u001b[0m\u001b[0;34m\u001b[0m\u001b[0m\n",
            "\u001b[0;32m/usr/local/lib/python3.7/dist-packages/keras/engine/sequential.py\u001b[0m in \u001b[0;36mpredict_classes\u001b[0;34m(self, x, batch_size, verbose)\u001b[0m\n\u001b[1;32m    457\u001b[0m                   \u001b[0;34m'  if your model does binary classification '\u001b[0m\u001b[0;34m\u001b[0m\u001b[0;34m\u001b[0m\u001b[0m\n\u001b[1;32m    458\u001b[0m                   '  (e.g. if it uses a `sigmoid` last-layer activation).')\n\u001b[0;32m--> 459\u001b[0;31m     \u001b[0mproba\u001b[0m \u001b[0;34m=\u001b[0m \u001b[0mself\u001b[0m\u001b[0;34m.\u001b[0m\u001b[0mpredict\u001b[0m\u001b[0;34m(\u001b[0m\u001b[0mx\u001b[0m\u001b[0;34m,\u001b[0m \u001b[0mbatch_size\u001b[0m\u001b[0;34m=\u001b[0m\u001b[0mbatch_size\u001b[0m\u001b[0;34m,\u001b[0m \u001b[0mverbose\u001b[0m\u001b[0;34m=\u001b[0m\u001b[0mverbose\u001b[0m\u001b[0;34m)\u001b[0m\u001b[0;34m\u001b[0m\u001b[0;34m\u001b[0m\u001b[0m\n\u001b[0m\u001b[1;32m    460\u001b[0m     \u001b[0;32mif\u001b[0m \u001b[0mproba\u001b[0m\u001b[0;34m.\u001b[0m\u001b[0mshape\u001b[0m\u001b[0;34m[\u001b[0m\u001b[0;34m-\u001b[0m\u001b[0;36m1\u001b[0m\u001b[0;34m]\u001b[0m \u001b[0;34m>\u001b[0m \u001b[0;36m1\u001b[0m\u001b[0;34m:\u001b[0m\u001b[0;34m\u001b[0m\u001b[0;34m\u001b[0m\u001b[0m\n\u001b[1;32m    461\u001b[0m       \u001b[0;32mreturn\u001b[0m \u001b[0mproba\u001b[0m\u001b[0;34m.\u001b[0m\u001b[0margmax\u001b[0m\u001b[0;34m(\u001b[0m\u001b[0maxis\u001b[0m\u001b[0;34m=\u001b[0m\u001b[0;34m-\u001b[0m\u001b[0;36m1\u001b[0m\u001b[0;34m)\u001b[0m\u001b[0;34m\u001b[0m\u001b[0;34m\u001b[0m\u001b[0m\n",
            "\u001b[0;32m/usr/local/lib/python3.7/dist-packages/keras/engine/training.py\u001b[0m in \u001b[0;36mpredict\u001b[0;34m(self, x, batch_size, verbose, steps, callbacks, max_queue_size, workers, use_multiprocessing)\u001b[0m\n\u001b[1;32m   1700\u001b[0m           \u001b[0;32mfor\u001b[0m \u001b[0mstep\u001b[0m \u001b[0;32min\u001b[0m \u001b[0mdata_handler\u001b[0m\u001b[0;34m.\u001b[0m\u001b[0msteps\u001b[0m\u001b[0;34m(\u001b[0m\u001b[0;34m)\u001b[0m\u001b[0;34m:\u001b[0m\u001b[0;34m\u001b[0m\u001b[0;34m\u001b[0m\u001b[0m\n\u001b[1;32m   1701\u001b[0m             \u001b[0mcallbacks\u001b[0m\u001b[0;34m.\u001b[0m\u001b[0mon_predict_batch_begin\u001b[0m\u001b[0;34m(\u001b[0m\u001b[0mstep\u001b[0m\u001b[0;34m)\u001b[0m\u001b[0;34m\u001b[0m\u001b[0;34m\u001b[0m\u001b[0m\n\u001b[0;32m-> 1702\u001b[0;31m             \u001b[0mtmp_batch_outputs\u001b[0m \u001b[0;34m=\u001b[0m \u001b[0mself\u001b[0m\u001b[0;34m.\u001b[0m\u001b[0mpredict_function\u001b[0m\u001b[0;34m(\u001b[0m\u001b[0miterator\u001b[0m\u001b[0;34m)\u001b[0m\u001b[0;34m\u001b[0m\u001b[0;34m\u001b[0m\u001b[0m\n\u001b[0m\u001b[1;32m   1703\u001b[0m             \u001b[0;32mif\u001b[0m \u001b[0mdata_handler\u001b[0m\u001b[0;34m.\u001b[0m\u001b[0mshould_sync\u001b[0m\u001b[0;34m:\u001b[0m\u001b[0;34m\u001b[0m\u001b[0;34m\u001b[0m\u001b[0m\n\u001b[1;32m   1704\u001b[0m               \u001b[0mcontext\u001b[0m\u001b[0;34m.\u001b[0m\u001b[0masync_wait\u001b[0m\u001b[0;34m(\u001b[0m\u001b[0;34m)\u001b[0m\u001b[0;34m\u001b[0m\u001b[0;34m\u001b[0m\u001b[0m\n",
            "\u001b[0;32m/usr/local/lib/python3.7/dist-packages/tensorflow/python/eager/def_function.py\u001b[0m in \u001b[0;36m__call__\u001b[0;34m(self, *args, **kwds)\u001b[0m\n\u001b[1;32m    887\u001b[0m \u001b[0;34m\u001b[0m\u001b[0m\n\u001b[1;32m    888\u001b[0m       \u001b[0;32mwith\u001b[0m \u001b[0mOptionalXlaContext\u001b[0m\u001b[0;34m(\u001b[0m\u001b[0mself\u001b[0m\u001b[0;34m.\u001b[0m\u001b[0m_jit_compile\u001b[0m\u001b[0;34m)\u001b[0m\u001b[0;34m:\u001b[0m\u001b[0;34m\u001b[0m\u001b[0;34m\u001b[0m\u001b[0m\n\u001b[0;32m--> 889\u001b[0;31m         \u001b[0mresult\u001b[0m \u001b[0;34m=\u001b[0m \u001b[0mself\u001b[0m\u001b[0;34m.\u001b[0m\u001b[0m_call\u001b[0m\u001b[0;34m(\u001b[0m\u001b[0;34m*\u001b[0m\u001b[0margs\u001b[0m\u001b[0;34m,\u001b[0m \u001b[0;34m**\u001b[0m\u001b[0mkwds\u001b[0m\u001b[0;34m)\u001b[0m\u001b[0;34m\u001b[0m\u001b[0;34m\u001b[0m\u001b[0m\n\u001b[0m\u001b[1;32m    890\u001b[0m \u001b[0;34m\u001b[0m\u001b[0m\n\u001b[1;32m    891\u001b[0m       \u001b[0mnew_tracing_count\u001b[0m \u001b[0;34m=\u001b[0m \u001b[0mself\u001b[0m\u001b[0;34m.\u001b[0m\u001b[0mexperimental_get_tracing_count\u001b[0m\u001b[0;34m(\u001b[0m\u001b[0;34m)\u001b[0m\u001b[0;34m\u001b[0m\u001b[0;34m\u001b[0m\u001b[0m\n",
            "\u001b[0;32m/usr/local/lib/python3.7/dist-packages/tensorflow/python/eager/def_function.py\u001b[0m in \u001b[0;36m_call\u001b[0;34m(self, *args, **kwds)\u001b[0m\n\u001b[1;32m    922\u001b[0m       \u001b[0;31m# In this case we have not created variables on the first call. So we can\u001b[0m\u001b[0;34m\u001b[0m\u001b[0;34m\u001b[0m\u001b[0;34m\u001b[0m\u001b[0m\n\u001b[1;32m    923\u001b[0m       \u001b[0;31m# run the first trace but we should fail if variables are created.\u001b[0m\u001b[0;34m\u001b[0m\u001b[0;34m\u001b[0m\u001b[0;34m\u001b[0m\u001b[0m\n\u001b[0;32m--> 924\u001b[0;31m       \u001b[0mresults\u001b[0m \u001b[0;34m=\u001b[0m \u001b[0mself\u001b[0m\u001b[0;34m.\u001b[0m\u001b[0m_stateful_fn\u001b[0m\u001b[0;34m(\u001b[0m\u001b[0;34m*\u001b[0m\u001b[0margs\u001b[0m\u001b[0;34m,\u001b[0m \u001b[0;34m**\u001b[0m\u001b[0mkwds\u001b[0m\u001b[0;34m)\u001b[0m\u001b[0;34m\u001b[0m\u001b[0;34m\u001b[0m\u001b[0m\n\u001b[0m\u001b[1;32m    925\u001b[0m       \u001b[0;32mif\u001b[0m \u001b[0mself\u001b[0m\u001b[0;34m.\u001b[0m\u001b[0m_created_variables\u001b[0m\u001b[0;34m:\u001b[0m\u001b[0;34m\u001b[0m\u001b[0;34m\u001b[0m\u001b[0m\n\u001b[1;32m    926\u001b[0m         raise ValueError(\"Creating variables on a non-first call to a function\"\n",
            "\u001b[0;32m/usr/local/lib/python3.7/dist-packages/tensorflow/python/eager/function.py\u001b[0m in \u001b[0;36m__call__\u001b[0;34m(self, *args, **kwargs)\u001b[0m\n\u001b[1;32m   3020\u001b[0m     \u001b[0;32mwith\u001b[0m \u001b[0mself\u001b[0m\u001b[0;34m.\u001b[0m\u001b[0m_lock\u001b[0m\u001b[0;34m:\u001b[0m\u001b[0;34m\u001b[0m\u001b[0;34m\u001b[0m\u001b[0m\n\u001b[1;32m   3021\u001b[0m       (graph_function,\n\u001b[0;32m-> 3022\u001b[0;31m        filtered_flat_args) = self._maybe_define_function(args, kwargs)\n\u001b[0m\u001b[1;32m   3023\u001b[0m     return graph_function._call_flat(\n\u001b[1;32m   3024\u001b[0m         filtered_flat_args, captured_inputs=graph_function.captured_inputs)  # pylint: disable=protected-access\n",
            "\u001b[0;32m/usr/local/lib/python3.7/dist-packages/tensorflow/python/eager/function.py\u001b[0m in \u001b[0;36m_maybe_define_function\u001b[0;34m(self, args, kwargs)\u001b[0m\n\u001b[1;32m   3439\u001b[0m               call_context_key in self._function_cache.missed):\n\u001b[1;32m   3440\u001b[0m             return self._define_function_with_shape_relaxation(\n\u001b[0;32m-> 3441\u001b[0;31m                 args, kwargs, flat_args, filtered_flat_args, cache_key_context)\n\u001b[0m\u001b[1;32m   3442\u001b[0m \u001b[0;34m\u001b[0m\u001b[0m\n\u001b[1;32m   3443\u001b[0m           \u001b[0mself\u001b[0m\u001b[0;34m.\u001b[0m\u001b[0m_function_cache\u001b[0m\u001b[0;34m.\u001b[0m\u001b[0mmissed\u001b[0m\u001b[0;34m.\u001b[0m\u001b[0madd\u001b[0m\u001b[0;34m(\u001b[0m\u001b[0mcall_context_key\u001b[0m\u001b[0;34m)\u001b[0m\u001b[0;34m\u001b[0m\u001b[0;34m\u001b[0m\u001b[0m\n",
            "\u001b[0;32m/usr/local/lib/python3.7/dist-packages/tensorflow/python/eager/function.py\u001b[0m in \u001b[0;36m_define_function_with_shape_relaxation\u001b[0;34m(self, args, kwargs, flat_args, filtered_flat_args, cache_key_context)\u001b[0m\n\u001b[1;32m   3361\u001b[0m \u001b[0;34m\u001b[0m\u001b[0m\n\u001b[1;32m   3362\u001b[0m     graph_function = self._create_graph_function(\n\u001b[0;32m-> 3363\u001b[0;31m         args, kwargs, override_flat_arg_shapes=relaxed_arg_shapes)\n\u001b[0m\u001b[1;32m   3364\u001b[0m     \u001b[0mself\u001b[0m\u001b[0;34m.\u001b[0m\u001b[0m_function_cache\u001b[0m\u001b[0;34m.\u001b[0m\u001b[0marg_relaxed\u001b[0m\u001b[0;34m[\u001b[0m\u001b[0mrank_only_cache_key\u001b[0m\u001b[0;34m]\u001b[0m \u001b[0;34m=\u001b[0m \u001b[0mgraph_function\u001b[0m\u001b[0;34m\u001b[0m\u001b[0;34m\u001b[0m\u001b[0m\n\u001b[1;32m   3365\u001b[0m \u001b[0;34m\u001b[0m\u001b[0m\n",
            "\u001b[0;32m/usr/local/lib/python3.7/dist-packages/tensorflow/python/eager/function.py\u001b[0m in \u001b[0;36m_create_graph_function\u001b[0;34m(self, args, kwargs, override_flat_arg_shapes)\u001b[0m\n\u001b[1;32m   3287\u001b[0m             \u001b[0marg_names\u001b[0m\u001b[0;34m=\u001b[0m\u001b[0marg_names\u001b[0m\u001b[0;34m,\u001b[0m\u001b[0;34m\u001b[0m\u001b[0;34m\u001b[0m\u001b[0m\n\u001b[1;32m   3288\u001b[0m             \u001b[0moverride_flat_arg_shapes\u001b[0m\u001b[0;34m=\u001b[0m\u001b[0moverride_flat_arg_shapes\u001b[0m\u001b[0;34m,\u001b[0m\u001b[0;34m\u001b[0m\u001b[0;34m\u001b[0m\u001b[0m\n\u001b[0;32m-> 3289\u001b[0;31m             capture_by_value=self._capture_by_value),\n\u001b[0m\u001b[1;32m   3290\u001b[0m         \u001b[0mself\u001b[0m\u001b[0;34m.\u001b[0m\u001b[0m_function_attributes\u001b[0m\u001b[0;34m,\u001b[0m\u001b[0;34m\u001b[0m\u001b[0;34m\u001b[0m\u001b[0m\n\u001b[1;32m   3291\u001b[0m         \u001b[0mfunction_spec\u001b[0m\u001b[0;34m=\u001b[0m\u001b[0mself\u001b[0m\u001b[0;34m.\u001b[0m\u001b[0mfunction_spec\u001b[0m\u001b[0;34m,\u001b[0m\u001b[0;34m\u001b[0m\u001b[0;34m\u001b[0m\u001b[0m\n",
            "\u001b[0;32m/usr/local/lib/python3.7/dist-packages/tensorflow/python/framework/func_graph.py\u001b[0m in \u001b[0;36mfunc_graph_from_py_func\u001b[0;34m(name, python_func, args, kwargs, signature, func_graph, autograph, autograph_options, add_control_dependencies, arg_names, op_return_value, collections, capture_by_value, override_flat_arg_shapes)\u001b[0m\n\u001b[1;32m    997\u001b[0m         \u001b[0m_\u001b[0m\u001b[0;34m,\u001b[0m \u001b[0moriginal_func\u001b[0m \u001b[0;34m=\u001b[0m \u001b[0mtf_decorator\u001b[0m\u001b[0;34m.\u001b[0m\u001b[0munwrap\u001b[0m\u001b[0;34m(\u001b[0m\u001b[0mpython_func\u001b[0m\u001b[0;34m)\u001b[0m\u001b[0;34m\u001b[0m\u001b[0;34m\u001b[0m\u001b[0m\n\u001b[1;32m    998\u001b[0m \u001b[0;34m\u001b[0m\u001b[0m\n\u001b[0;32m--> 999\u001b[0;31m       \u001b[0mfunc_outputs\u001b[0m \u001b[0;34m=\u001b[0m \u001b[0mpython_func\u001b[0m\u001b[0;34m(\u001b[0m\u001b[0;34m*\u001b[0m\u001b[0mfunc_args\u001b[0m\u001b[0;34m,\u001b[0m \u001b[0;34m**\u001b[0m\u001b[0mfunc_kwargs\u001b[0m\u001b[0;34m)\u001b[0m\u001b[0;34m\u001b[0m\u001b[0;34m\u001b[0m\u001b[0m\n\u001b[0m\u001b[1;32m   1000\u001b[0m \u001b[0;34m\u001b[0m\u001b[0m\n\u001b[1;32m   1001\u001b[0m       \u001b[0;31m# invariant: `func_outputs` contains only Tensors, CompositeTensors,\u001b[0m\u001b[0;34m\u001b[0m\u001b[0;34m\u001b[0m\u001b[0;34m\u001b[0m\u001b[0m\n",
            "\u001b[0;32m/usr/local/lib/python3.7/dist-packages/tensorflow/python/eager/def_function.py\u001b[0m in \u001b[0;36mwrapped_fn\u001b[0;34m(*args, **kwds)\u001b[0m\n\u001b[1;32m    670\u001b[0m         \u001b[0;31m# the function a weak reference to itself to avoid a reference cycle.\u001b[0m\u001b[0;34m\u001b[0m\u001b[0;34m\u001b[0m\u001b[0;34m\u001b[0m\u001b[0m\n\u001b[1;32m    671\u001b[0m         \u001b[0;32mwith\u001b[0m \u001b[0mOptionalXlaContext\u001b[0m\u001b[0;34m(\u001b[0m\u001b[0mcompile_with_xla\u001b[0m\u001b[0;34m)\u001b[0m\u001b[0;34m:\u001b[0m\u001b[0;34m\u001b[0m\u001b[0;34m\u001b[0m\u001b[0m\n\u001b[0;32m--> 672\u001b[0;31m           \u001b[0mout\u001b[0m \u001b[0;34m=\u001b[0m \u001b[0mweak_wrapped_fn\u001b[0m\u001b[0;34m(\u001b[0m\u001b[0;34m)\u001b[0m\u001b[0;34m.\u001b[0m\u001b[0m__wrapped__\u001b[0m\u001b[0;34m(\u001b[0m\u001b[0;34m*\u001b[0m\u001b[0margs\u001b[0m\u001b[0;34m,\u001b[0m \u001b[0;34m**\u001b[0m\u001b[0mkwds\u001b[0m\u001b[0;34m)\u001b[0m\u001b[0;34m\u001b[0m\u001b[0;34m\u001b[0m\u001b[0m\n\u001b[0m\u001b[1;32m    673\u001b[0m         \u001b[0;32mreturn\u001b[0m \u001b[0mout\u001b[0m\u001b[0;34m\u001b[0m\u001b[0;34m\u001b[0m\u001b[0m\n\u001b[1;32m    674\u001b[0m \u001b[0;34m\u001b[0m\u001b[0m\n",
            "\u001b[0;32m/usr/local/lib/python3.7/dist-packages/tensorflow/python/framework/func_graph.py\u001b[0m in \u001b[0;36mwrapper\u001b[0;34m(*args, **kwargs)\u001b[0m\n\u001b[1;32m    984\u001b[0m           \u001b[0;32mexcept\u001b[0m \u001b[0mException\u001b[0m \u001b[0;32mas\u001b[0m \u001b[0me\u001b[0m\u001b[0;34m:\u001b[0m  \u001b[0;31m# pylint:disable=broad-except\u001b[0m\u001b[0;34m\u001b[0m\u001b[0;34m\u001b[0m\u001b[0m\n\u001b[1;32m    985\u001b[0m             \u001b[0;32mif\u001b[0m \u001b[0mhasattr\u001b[0m\u001b[0;34m(\u001b[0m\u001b[0me\u001b[0m\u001b[0;34m,\u001b[0m \u001b[0;34m\"ag_error_metadata\"\u001b[0m\u001b[0;34m)\u001b[0m\u001b[0;34m:\u001b[0m\u001b[0;34m\u001b[0m\u001b[0;34m\u001b[0m\u001b[0m\n\u001b[0;32m--> 986\u001b[0;31m               \u001b[0;32mraise\u001b[0m \u001b[0me\u001b[0m\u001b[0;34m.\u001b[0m\u001b[0mag_error_metadata\u001b[0m\u001b[0;34m.\u001b[0m\u001b[0mto_exception\u001b[0m\u001b[0;34m(\u001b[0m\u001b[0me\u001b[0m\u001b[0;34m)\u001b[0m\u001b[0;34m\u001b[0m\u001b[0;34m\u001b[0m\u001b[0m\n\u001b[0m\u001b[1;32m    987\u001b[0m             \u001b[0;32melse\u001b[0m\u001b[0;34m:\u001b[0m\u001b[0;34m\u001b[0m\u001b[0;34m\u001b[0m\u001b[0m\n\u001b[1;32m    988\u001b[0m               \u001b[0;32mraise\u001b[0m\u001b[0;34m\u001b[0m\u001b[0;34m\u001b[0m\u001b[0m\n",
            "\u001b[0;31mValueError\u001b[0m: in user code:\n\n    /usr/local/lib/python3.7/dist-packages/keras/engine/training.py:1544 predict_function  *\n        return step_function(self, iterator)\n    /usr/local/lib/python3.7/dist-packages/keras/engine/training.py:1527 run_step  *\n        outputs = model.predict_step(data)\n    /usr/local/lib/python3.7/dist-packages/keras/engine/training.py:1500 predict_step  *\n        return self(x, training=False)\n    /usr/local/lib/python3.7/dist-packages/keras/engine/base_layer.py:989 __call__  *\n        input_spec.assert_input_compatibility(self.input_spec, inputs, self.name)\n    /usr/local/lib/python3.7/dist-packages/keras/engine/input_spec.py:212 assert_input_compatibility  *\n        raise ValueError('Input ' + str(input_index) + ' of layer ' +\n\n    ValueError: Input 0 of layer sequential is incompatible with the layer: expected ndim=3, found ndim=2. Full shape received: (None, 1)\n"
          ]
        }
      ]
    },
    {
      "cell_type": "code",
      "metadata": {
        "colab": {
          "base_uri": "https://localhost:8080/"
        },
        "id": "JHJqtowyQKcT",
        "outputId": "4d5fc464-19f5-4e69-993f-c46f43f3feb7"
      },
      "source": [
        "def prepare_input(text):\n",
        "    x = np.zeros((1, WORD_LENGTH, len(unique_words)))\n",
        "    for t, word in enumerate(text.split()):\n",
        "        print(word)\n",
        "        x[0, t, unique_word_index[word]] = 1\n",
        "    return x\n",
        "prepare_input(\"It is not\".lower())"
      ],
      "execution_count": 119,
      "outputs": [
        {
          "output_type": "stream",
          "text": [
            "it\n",
            "is\n",
            "not\n"
          ],
          "name": "stdout"
        },
        {
          "output_type": "execute_result",
          "data": {
            "text/plain": [
              "array([[[0., 0., 0., ..., 0., 0., 0.],\n",
              "        [0., 0., 0., ..., 0., 0., 0.],\n",
              "        [0., 0., 0., ..., 0., 0., 0.]]])"
            ]
          },
          "metadata": {
            "tags": []
          },
          "execution_count": 119
        }
      ]
    },
    {
      "cell_type": "code",
      "metadata": {
        "id": "ntU5JxAHk4Qr"
      },
      "source": [
        "def sample(preds, top_n=3):\n",
        "    preds = np.asarray(preds).astype('float64')\n",
        "    preds = np.log(preds)\n",
        "    exp_preds = np.exp(preds)\n",
        "    preds = exp_preds / np.sum(exp_preds)\n",
        "\n",
        "    return heapq.nlargest(top_n, range(len(preds)), preds.take)"
      ],
      "execution_count": 120,
      "outputs": []
    },
    {
      "cell_type": "code",
      "metadata": {
        "id": "7JXKNteclCuW"
      },
      "source": [
        "def predict_completions(text, n=3):\n",
        "    if text == \"\":\n",
        "        return(\"0\")\n",
        "    x = prepare_input(text)\n",
        "    preds = model.predict(x, verbose=0)[0]\n",
        "    next_indices = sample(preds, n)\n",
        "    return [unique_words[idx] for idx in next_indices]"
      ],
      "execution_count": 121,
      "outputs": []
    },
    {
      "cell_type": "code",
      "metadata": {
        "colab": {
          "base_uri": "https://localhost:8080/"
        },
        "id": "_9W8TBmMlHMI",
        "outputId": "af648660-62d6-45a8-da9d-04c11f7cafc7"
      },
      "source": [
        "q =  input(\"ENTER TEXT\")\n",
        "print(\"correct sentence: \",q)\n",
        "seq = \" \".join(tokenized.tokenize(q.lower())[0:3])\n",
        "print(\"Sequence: \",seq)\n",
        "print(\"next possible words: \", predict_completions(seq, 5))"
      ],
      "execution_count": 126,
      "outputs": [
        {
          "output_type": "stream",
          "text": [
            "ENTER TEXTFELL IN THE\n",
            "correct sentence:  FELL IN THE\n",
            "Sequence:  fell in the\n",
            "fell\n",
            "in\n",
            "the\n",
            "next possible words:  ['a', 'had', 'that', 'have', 'same']\n"
          ],
          "name": "stdout"
        }
      ]
    },
    {
      "cell_type": "code",
      "metadata": {
        "id": "cTKEQ13NlTYU"
      },
      "source": [
        ""
      ],
      "execution_count": null,
      "outputs": []
    }
  ]
}